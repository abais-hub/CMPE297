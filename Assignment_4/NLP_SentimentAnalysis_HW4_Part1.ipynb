{
  "nbformat": 4,
  "nbformat_minor": 0,
  "metadata": {
    "colab": {
      "name": "NLP_SentimentAnalysis_HW4_Part1.ipynb",
      "provenance": [],
      "toc_visible": true
    },
    "kernelspec": {
      "name": "python3",
      "display_name": "Python 3"
    },
    "language_info": {
      "name": "python"
    },
    "accelerator": "GPU"
  },
  "cells": [
    {
      "cell_type": "markdown",
      "metadata": {
        "id": "m5sbIwg5i9mh"
      },
      "source": [
        "# CMPE 297 - Assignment 4 - Part 1  \n",
        "##Deep AutoVIML - NLP Task (Sentiment Analysis) on Ex President Donald Trump's tweets from 2020 US president election cycle \n",
        "[Code Reference](https://github.com/AutoViML/deep_autoviml/blob/master/examples/Deep_Auto_ViML_NLP_Demo.ipynb)  \n",
        "\n"
      ]
    },
    {
      "cell_type": "markdown",
      "metadata": {
        "id": "ZHgA0Qtgiv-y"
      },
      "source": [
        "#1.0 Load libraries"
      ]
    },
    {
      "cell_type": "code",
      "metadata": {
        "colab": {
          "base_uri": "https://localhost:8080/",
          "height": 1000
        },
        "id": "vOhhkLP0ilV6",
        "outputId": "e6fb54f6-1979-4188-9460-68927e195206"
      },
      "source": [
        "!pip install deep_autoviml"
      ],
      "execution_count": null,
      "outputs": [
        {
          "output_type": "stream",
          "name": "stdout",
          "text": [
            "Collecting deep_autoviml\n",
            "  Downloading deep_autoviml-0.0.67-py3-none-any.whl (269 kB)\n",
            "\u001b[K     |████████████████████████████████| 269 kB 5.0 MB/s \n",
            "\u001b[?25hCollecting tensorflow-text>=2.5.0\n",
            "  Downloading tensorflow_text-2.6.0-cp37-cp37m-manylinux1_x86_64.whl (4.4 MB)\n",
            "\u001b[K     |████████████████████████████████| 4.4 MB 55.3 MB/s \n",
            "\u001b[?25hRequirement already satisfied: ipython in /usr/local/lib/python3.7/dist-packages (from deep_autoviml) (5.5.0)\n",
            "Collecting optuna\n",
            "  Downloading optuna-2.10.0-py3-none-any.whl (308 kB)\n",
            "\u001b[K     |████████████████████████████████| 308 kB 67.0 MB/s \n",
            "\u001b[?25hRequirement already satisfied: xlrd in /usr/local/lib/python3.7/dist-packages (from deep_autoviml) (1.1.0)\n",
            "Collecting emoji\n",
            "  Downloading emoji-1.6.1.tar.gz (170 kB)\n",
            "\u001b[K     |████████████████████████████████| 170 kB 80.3 MB/s \n",
            "\u001b[?25hCollecting numpy==1.19.2\n",
            "  Downloading numpy-1.19.2-cp37-cp37m-manylinux2010_x86_64.whl (14.5 MB)\n",
            "\u001b[K     |████████████████████████████████| 14.5 MB 55.8 MB/s \n",
            "\u001b[?25hRequirement already satisfied: jupyter in /usr/local/lib/python3.7/dist-packages (from deep_autoviml) (1.0.0)\n",
            "Collecting storm-tuner>=0.0.8\n",
            "  Downloading storm_tuner-0.0.9-py3-none-any.whl (14 kB)\n",
            "Requirement already satisfied: tensorflow-hub==0.12.0 in /usr/local/lib/python3.7/dist-packages (from deep_autoviml) (0.12.0)\n",
            "Requirement already satisfied: matplotlib in /usr/local/lib/python3.7/dist-packages (from deep_autoviml) (3.2.2)\n",
            "Requirement already satisfied: pandas in /usr/local/lib/python3.7/dist-packages (from deep_autoviml) (1.1.5)\n",
            "Collecting scikit-learn>=0.23.1\n",
            "  Downloading scikit_learn-1.0.1-cp37-cp37m-manylinux_2_12_x86_64.manylinux2010_x86_64.whl (23.2 MB)\n",
            "\u001b[K     |████████████████████████████████| 23.2 MB 1.4 MB/s \n",
            "\u001b[?25hRequirement already satisfied: regex in /usr/local/lib/python3.7/dist-packages (from deep_autoviml) (2019.12.20)\n",
            "Requirement already satisfied: tensorflow>=2.5.1 in /usr/local/lib/python3.7/dist-packages (from deep_autoviml) (2.6.0)\n",
            "Requirement already satisfied: protobuf>=3.8.0 in /usr/local/lib/python3.7/dist-packages (from tensorflow-hub==0.12.0->deep_autoviml) (3.17.3)\n",
            "Requirement already satisfied: six>=1.9 in /usr/local/lib/python3.7/dist-packages (from protobuf>=3.8.0->tensorflow-hub==0.12.0->deep_autoviml) (1.15.0)\n",
            "Requirement already satisfied: joblib>=0.11 in /usr/local/lib/python3.7/dist-packages (from scikit-learn>=0.23.1->deep_autoviml) (1.0.1)\n",
            "Collecting threadpoolctl>=2.0.0\n",
            "  Downloading threadpoolctl-3.0.0-py3-none-any.whl (14 kB)\n",
            "Requirement already satisfied: scipy>=1.1.0 in /usr/local/lib/python3.7/dist-packages (from scikit-learn>=0.23.1->deep_autoviml) (1.4.1)\n",
            "Requirement already satisfied: astunparse~=1.6.3 in /usr/local/lib/python3.7/dist-packages (from tensorflow>=2.5.1->deep_autoviml) (1.6.3)\n",
            "Requirement already satisfied: opt-einsum~=3.3.0 in /usr/local/lib/python3.7/dist-packages (from tensorflow>=2.5.1->deep_autoviml) (3.3.0)\n",
            "Requirement already satisfied: h5py~=3.1.0 in /usr/local/lib/python3.7/dist-packages (from tensorflow>=2.5.1->deep_autoviml) (3.1.0)\n",
            "Requirement already satisfied: tensorflow-estimator~=2.6 in /usr/local/lib/python3.7/dist-packages (from tensorflow>=2.5.1->deep_autoviml) (2.6.0)\n",
            "Requirement already satisfied: wrapt~=1.12.1 in /usr/local/lib/python3.7/dist-packages (from tensorflow>=2.5.1->deep_autoviml) (1.12.1)\n",
            "Requirement already satisfied: wheel~=0.35 in /usr/local/lib/python3.7/dist-packages (from tensorflow>=2.5.1->deep_autoviml) (0.37.0)\n",
            "Requirement already satisfied: gast==0.4.0 in /usr/local/lib/python3.7/dist-packages (from tensorflow>=2.5.1->deep_autoviml) (0.4.0)\n",
            "Requirement already satisfied: clang~=5.0 in /usr/local/lib/python3.7/dist-packages (from tensorflow>=2.5.1->deep_autoviml) (5.0)\n",
            "Requirement already satisfied: flatbuffers~=1.12.0 in /usr/local/lib/python3.7/dist-packages (from tensorflow>=2.5.1->deep_autoviml) (1.12)\n",
            "Requirement already satisfied: grpcio<2.0,>=1.37.0 in /usr/local/lib/python3.7/dist-packages (from tensorflow>=2.5.1->deep_autoviml) (1.41.0)\n",
            "Requirement already satisfied: keras~=2.6 in /usr/local/lib/python3.7/dist-packages (from tensorflow>=2.5.1->deep_autoviml) (2.6.0)\n",
            "Requirement already satisfied: typing-extensions~=3.7.4 in /usr/local/lib/python3.7/dist-packages (from tensorflow>=2.5.1->deep_autoviml) (3.7.4.3)\n",
            "Requirement already satisfied: tensorboard~=2.6 in /usr/local/lib/python3.7/dist-packages (from tensorflow>=2.5.1->deep_autoviml) (2.6.0)\n",
            "Requirement already satisfied: keras-preprocessing~=1.1.2 in /usr/local/lib/python3.7/dist-packages (from tensorflow>=2.5.1->deep_autoviml) (1.1.2)\n",
            "Requirement already satisfied: absl-py~=0.10 in /usr/local/lib/python3.7/dist-packages (from tensorflow>=2.5.1->deep_autoviml) (0.12.0)\n",
            "Requirement already satisfied: google-pasta~=0.2 in /usr/local/lib/python3.7/dist-packages (from tensorflow>=2.5.1->deep_autoviml) (0.2.0)\n",
            "Requirement already satisfied: termcolor~=1.1.0 in /usr/local/lib/python3.7/dist-packages (from tensorflow>=2.5.1->deep_autoviml) (1.1.0)\n",
            "Requirement already satisfied: cached-property in /usr/local/lib/python3.7/dist-packages (from h5py~=3.1.0->tensorflow>=2.5.1->deep_autoviml) (1.5.2)\n",
            "Requirement already satisfied: requests<3,>=2.21.0 in /usr/local/lib/python3.7/dist-packages (from tensorboard~=2.6->tensorflow>=2.5.1->deep_autoviml) (2.23.0)\n",
            "Requirement already satisfied: setuptools>=41.0.0 in /usr/local/lib/python3.7/dist-packages (from tensorboard~=2.6->tensorflow>=2.5.1->deep_autoviml) (57.4.0)\n",
            "Requirement already satisfied: tensorboard-plugin-wit>=1.6.0 in /usr/local/lib/python3.7/dist-packages (from tensorboard~=2.6->tensorflow>=2.5.1->deep_autoviml) (1.8.0)\n",
            "Requirement already satisfied: werkzeug>=0.11.15 in /usr/local/lib/python3.7/dist-packages (from tensorboard~=2.6->tensorflow>=2.5.1->deep_autoviml) (1.0.1)\n",
            "Requirement already satisfied: google-auth<2,>=1.6.3 in /usr/local/lib/python3.7/dist-packages (from tensorboard~=2.6->tensorflow>=2.5.1->deep_autoviml) (1.35.0)\n",
            "Requirement already satisfied: tensorboard-data-server<0.7.0,>=0.6.0 in /usr/local/lib/python3.7/dist-packages (from tensorboard~=2.6->tensorflow>=2.5.1->deep_autoviml) (0.6.1)\n",
            "Requirement already satisfied: google-auth-oauthlib<0.5,>=0.4.1 in /usr/local/lib/python3.7/dist-packages (from tensorboard~=2.6->tensorflow>=2.5.1->deep_autoviml) (0.4.6)\n",
            "Requirement already satisfied: markdown>=2.6.8 in /usr/local/lib/python3.7/dist-packages (from tensorboard~=2.6->tensorflow>=2.5.1->deep_autoviml) (3.3.4)\n",
            "Requirement already satisfied: rsa<5,>=3.1.4 in /usr/local/lib/python3.7/dist-packages (from google-auth<2,>=1.6.3->tensorboard~=2.6->tensorflow>=2.5.1->deep_autoviml) (4.7.2)\n",
            "Requirement already satisfied: pyasn1-modules>=0.2.1 in /usr/local/lib/python3.7/dist-packages (from google-auth<2,>=1.6.3->tensorboard~=2.6->tensorflow>=2.5.1->deep_autoviml) (0.2.8)\n",
            "Requirement already satisfied: cachetools<5.0,>=2.0.0 in /usr/local/lib/python3.7/dist-packages (from google-auth<2,>=1.6.3->tensorboard~=2.6->tensorflow>=2.5.1->deep_autoviml) (4.2.4)\n",
            "Requirement already satisfied: requests-oauthlib>=0.7.0 in /usr/local/lib/python3.7/dist-packages (from google-auth-oauthlib<0.5,>=0.4.1->tensorboard~=2.6->tensorflow>=2.5.1->deep_autoviml) (1.3.0)\n",
            "Requirement already satisfied: importlib-metadata in /usr/local/lib/python3.7/dist-packages (from markdown>=2.6.8->tensorboard~=2.6->tensorflow>=2.5.1->deep_autoviml) (4.8.1)\n",
            "Requirement already satisfied: pyasn1<0.5.0,>=0.4.6 in /usr/local/lib/python3.7/dist-packages (from pyasn1-modules>=0.2.1->google-auth<2,>=1.6.3->tensorboard~=2.6->tensorflow>=2.5.1->deep_autoviml) (0.4.8)\n",
            "Requirement already satisfied: idna<3,>=2.5 in /usr/local/lib/python3.7/dist-packages (from requests<3,>=2.21.0->tensorboard~=2.6->tensorflow>=2.5.1->deep_autoviml) (2.10)\n",
            "Requirement already satisfied: urllib3!=1.25.0,!=1.25.1,<1.26,>=1.21.1 in /usr/local/lib/python3.7/dist-packages (from requests<3,>=2.21.0->tensorboard~=2.6->tensorflow>=2.5.1->deep_autoviml) (1.24.3)\n",
            "Requirement already satisfied: certifi>=2017.4.17 in /usr/local/lib/python3.7/dist-packages (from requests<3,>=2.21.0->tensorboard~=2.6->tensorflow>=2.5.1->deep_autoviml) (2021.5.30)\n",
            "Requirement already satisfied: chardet<4,>=3.0.2 in /usr/local/lib/python3.7/dist-packages (from requests<3,>=2.21.0->tensorboard~=2.6->tensorflow>=2.5.1->deep_autoviml) (3.0.4)\n",
            "Requirement already satisfied: oauthlib>=3.0.0 in /usr/local/lib/python3.7/dist-packages (from requests-oauthlib>=0.7.0->google-auth-oauthlib<0.5,>=0.4.1->tensorboard~=2.6->tensorflow>=2.5.1->deep_autoviml) (3.1.1)\n",
            "Requirement already satisfied: zipp>=0.5 in /usr/local/lib/python3.7/dist-packages (from importlib-metadata->markdown>=2.6.8->tensorboard~=2.6->tensorflow>=2.5.1->deep_autoviml) (3.6.0)\n",
            "Requirement already satisfied: simplegeneric>0.8 in /usr/local/lib/python3.7/dist-packages (from ipython->deep_autoviml) (0.8.1)\n",
            "Requirement already satisfied: pygments in /usr/local/lib/python3.7/dist-packages (from ipython->deep_autoviml) (2.6.1)\n",
            "Requirement already satisfied: pickleshare in /usr/local/lib/python3.7/dist-packages (from ipython->deep_autoviml) (0.7.5)\n",
            "Requirement already satisfied: decorator in /usr/local/lib/python3.7/dist-packages (from ipython->deep_autoviml) (4.4.2)\n",
            "Requirement already satisfied: pexpect in /usr/local/lib/python3.7/dist-packages (from ipython->deep_autoviml) (4.8.0)\n",
            "Requirement already satisfied: traitlets>=4.2 in /usr/local/lib/python3.7/dist-packages (from ipython->deep_autoviml) (5.1.0)\n",
            "Requirement already satisfied: prompt-toolkit<2.0.0,>=1.0.4 in /usr/local/lib/python3.7/dist-packages (from ipython->deep_autoviml) (1.0.18)\n",
            "Requirement already satisfied: wcwidth in /usr/local/lib/python3.7/dist-packages (from prompt-toolkit<2.0.0,>=1.0.4->ipython->deep_autoviml) (0.2.5)\n",
            "Requirement already satisfied: qtconsole in /usr/local/lib/python3.7/dist-packages (from jupyter->deep_autoviml) (5.1.1)\n",
            "Requirement already satisfied: notebook in /usr/local/lib/python3.7/dist-packages (from jupyter->deep_autoviml) (5.3.1)\n",
            "Requirement already satisfied: nbconvert in /usr/local/lib/python3.7/dist-packages (from jupyter->deep_autoviml) (5.6.1)\n",
            "Requirement already satisfied: ipykernel in /usr/local/lib/python3.7/dist-packages (from jupyter->deep_autoviml) (4.10.1)\n",
            "Requirement already satisfied: jupyter-console in /usr/local/lib/python3.7/dist-packages (from jupyter->deep_autoviml) (5.2.0)\n",
            "Requirement already satisfied: ipywidgets in /usr/local/lib/python3.7/dist-packages (from jupyter->deep_autoviml) (7.6.5)\n",
            "Requirement already satisfied: tornado>=4.0 in /usr/local/lib/python3.7/dist-packages (from ipykernel->jupyter->deep_autoviml) (5.1.1)\n",
            "Requirement already satisfied: jupyter-client in /usr/local/lib/python3.7/dist-packages (from ipykernel->jupyter->deep_autoviml) (5.3.5)\n",
            "Requirement already satisfied: jupyterlab-widgets>=1.0.0 in /usr/local/lib/python3.7/dist-packages (from ipywidgets->jupyter->deep_autoviml) (1.0.2)\n",
            "Requirement already satisfied: ipython-genutils~=0.2.0 in /usr/local/lib/python3.7/dist-packages (from ipywidgets->jupyter->deep_autoviml) (0.2.0)\n",
            "Requirement already satisfied: widgetsnbextension~=3.5.0 in /usr/local/lib/python3.7/dist-packages (from ipywidgets->jupyter->deep_autoviml) (3.5.1)\n",
            "Requirement already satisfied: nbformat>=4.2.0 in /usr/local/lib/python3.7/dist-packages (from ipywidgets->jupyter->deep_autoviml) (5.1.3)\n",
            "Requirement already satisfied: jsonschema!=2.5.0,>=2.4 in /usr/local/lib/python3.7/dist-packages (from nbformat>=4.2.0->ipywidgets->jupyter->deep_autoviml) (2.6.0)\n",
            "Requirement already satisfied: jupyter-core in /usr/local/lib/python3.7/dist-packages (from nbformat>=4.2.0->ipywidgets->jupyter->deep_autoviml) (4.8.1)\n",
            "Requirement already satisfied: terminado>=0.8.1 in /usr/local/lib/python3.7/dist-packages (from notebook->jupyter->deep_autoviml) (0.12.1)\n",
            "Requirement already satisfied: jinja2 in /usr/local/lib/python3.7/dist-packages (from notebook->jupyter->deep_autoviml) (2.11.3)\n",
            "Requirement already satisfied: Send2Trash in /usr/local/lib/python3.7/dist-packages (from notebook->jupyter->deep_autoviml) (1.8.0)\n",
            "Requirement already satisfied: pyzmq>=13 in /usr/local/lib/python3.7/dist-packages (from jupyter-client->ipykernel->jupyter->deep_autoviml) (22.3.0)\n",
            "Requirement already satisfied: python-dateutil>=2.1 in /usr/local/lib/python3.7/dist-packages (from jupyter-client->ipykernel->jupyter->deep_autoviml) (2.8.2)\n",
            "Requirement already satisfied: ptyprocess in /usr/local/lib/python3.7/dist-packages (from terminado>=0.8.1->notebook->jupyter->deep_autoviml) (0.7.0)\n",
            "Requirement already satisfied: MarkupSafe>=0.23 in /usr/local/lib/python3.7/dist-packages (from jinja2->notebook->jupyter->deep_autoviml) (2.0.1)\n",
            "Requirement already satisfied: pyparsing!=2.0.4,!=2.1.2,!=2.1.6,>=2.0.1 in /usr/local/lib/python3.7/dist-packages (from matplotlib->deep_autoviml) (2.4.7)\n",
            "Requirement already satisfied: kiwisolver>=1.0.1 in /usr/local/lib/python3.7/dist-packages (from matplotlib->deep_autoviml) (1.3.2)\n",
            "Requirement already satisfied: cycler>=0.10 in /usr/local/lib/python3.7/dist-packages (from matplotlib->deep_autoviml) (0.10.0)\n",
            "Requirement already satisfied: pandocfilters>=1.4.1 in /usr/local/lib/python3.7/dist-packages (from nbconvert->jupyter->deep_autoviml) (1.5.0)\n",
            "Requirement already satisfied: bleach in /usr/local/lib/python3.7/dist-packages (from nbconvert->jupyter->deep_autoviml) (4.1.0)\n",
            "Requirement already satisfied: mistune<2,>=0.8.1 in /usr/local/lib/python3.7/dist-packages (from nbconvert->jupyter->deep_autoviml) (0.8.4)\n",
            "Requirement already satisfied: testpath in /usr/local/lib/python3.7/dist-packages (from nbconvert->jupyter->deep_autoviml) (0.5.0)\n",
            "Requirement already satisfied: defusedxml in /usr/local/lib/python3.7/dist-packages (from nbconvert->jupyter->deep_autoviml) (0.7.1)\n",
            "Requirement already satisfied: entrypoints>=0.2.2 in /usr/local/lib/python3.7/dist-packages (from nbconvert->jupyter->deep_autoviml) (0.3)\n",
            "Requirement already satisfied: webencodings in /usr/local/lib/python3.7/dist-packages (from bleach->nbconvert->jupyter->deep_autoviml) (0.5.1)\n",
            "Requirement already satisfied: packaging in /usr/local/lib/python3.7/dist-packages (from bleach->nbconvert->jupyter->deep_autoviml) (21.0)\n",
            "Requirement already satisfied: PyYAML in /usr/local/lib/python3.7/dist-packages (from optuna->deep_autoviml) (3.13)\n",
            "Requirement already satisfied: sqlalchemy>=1.1.0 in /usr/local/lib/python3.7/dist-packages (from optuna->deep_autoviml) (1.4.25)\n",
            "Collecting cmaes>=0.8.2\n",
            "  Downloading cmaes-0.8.2-py3-none-any.whl (15 kB)\n",
            "Collecting cliff\n",
            "  Downloading cliff-3.9.0-py3-none-any.whl (80 kB)\n",
            "\u001b[K     |████████████████████████████████| 80 kB 11.1 MB/s \n",
            "\u001b[?25hRequirement already satisfied: tqdm in /usr/local/lib/python3.7/dist-packages (from optuna->deep_autoviml) (4.62.3)\n",
            "Collecting alembic\n",
            "  Downloading alembic-1.7.4-py3-none-any.whl (209 kB)\n",
            "\u001b[K     |████████████████████████████████| 209 kB 68.2 MB/s \n",
            "\u001b[?25hCollecting colorlog\n",
            "  Downloading colorlog-6.5.0-py2.py3-none-any.whl (11 kB)\n",
            "Requirement already satisfied: greenlet!=0.4.17 in /usr/local/lib/python3.7/dist-packages (from sqlalchemy>=1.1.0->optuna->deep_autoviml) (1.1.2)\n",
            "Collecting Mako\n",
            "  Downloading Mako-1.1.5-py2.py3-none-any.whl (75 kB)\n",
            "\u001b[K     |████████████████████████████████| 75 kB 5.3 MB/s \n",
            "\u001b[?25hRequirement already satisfied: importlib-resources in /usr/local/lib/python3.7/dist-packages (from alembic->optuna->deep_autoviml) (5.2.2)\n",
            "Collecting stevedore>=2.0.1\n",
            "  Downloading stevedore-3.5.0-py3-none-any.whl (49 kB)\n",
            "\u001b[K     |████████████████████████████████| 49 kB 5.6 MB/s \n",
            "\u001b[?25hCollecting cmd2>=1.0.0\n",
            "  Downloading cmd2-2.2.0-py3-none-any.whl (144 kB)\n",
            "\u001b[K     |████████████████████████████████| 144 kB 69.4 MB/s \n",
            "\u001b[?25hCollecting autopage>=0.4.0\n",
            "  Downloading autopage-0.4.0-py3-none-any.whl (20 kB)\n",
            "Requirement already satisfied: PrettyTable>=0.7.2 in /usr/local/lib/python3.7/dist-packages (from cliff->optuna->deep_autoviml) (2.2.1)\n",
            "Collecting pbr!=2.1.0,>=2.0.0\n",
            "  Downloading pbr-5.6.0-py2.py3-none-any.whl (111 kB)\n",
            "\u001b[K     |████████████████████████████████| 111 kB 75.5 MB/s \n",
            "\u001b[?25hCollecting pyperclip>=1.6\n",
            "  Downloading pyperclip-1.8.2.tar.gz (20 kB)\n",
            "Collecting colorama>=0.3.7\n",
            "  Downloading colorama-0.4.4-py2.py3-none-any.whl (16 kB)\n",
            "Requirement already satisfied: attrs>=16.3.0 in /usr/local/lib/python3.7/dist-packages (from cmd2>=1.0.0->cliff->optuna->deep_autoviml) (21.2.0)\n",
            "Requirement already satisfied: pytz>=2017.2 in /usr/local/lib/python3.7/dist-packages (from pandas->deep_autoviml) (2018.9)\n",
            "Requirement already satisfied: qtpy in /usr/local/lib/python3.7/dist-packages (from qtconsole->jupyter->deep_autoviml) (1.11.2)\n",
            "Building wheels for collected packages: emoji, pyperclip\n",
            "  Building wheel for emoji (setup.py) ... \u001b[?25l\u001b[?25hdone\n",
            "  Created wheel for emoji: filename=emoji-1.6.1-py3-none-any.whl size=169314 sha256=bebb91df79dfdb17cce18951ad260cd0c1564721ed93a54539ba333ac253aa25\n",
            "  Stored in directory: /root/.cache/pip/wheels/ea/5f/d3/03d313ddb3c2a1a427bb4690f1621eea60fe6f2a30cc95940f\n",
            "  Building wheel for pyperclip (setup.py) ... \u001b[?25l\u001b[?25hdone\n",
            "  Created wheel for pyperclip: filename=pyperclip-1.8.2-py3-none-any.whl size=11136 sha256=42af7a3567cb905ec86b58bd86530f1c98141d3d8c5f9880c3d2d6a5b0ecb30c\n",
            "  Stored in directory: /root/.cache/pip/wheels/9f/18/84/8f69f8b08169c7bae2dde6bd7daf0c19fca8c8e500ee620a28\n",
            "Successfully built emoji pyperclip\n",
            "Installing collected packages: pyperclip, pbr, numpy, colorama, stevedore, Mako, cmd2, autopage, threadpoolctl, colorlog, cmaes, cliff, alembic, tensorflow-text, storm-tuner, scikit-learn, optuna, emoji, deep-autoviml\n",
            "  Attempting uninstall: numpy\n",
            "    Found existing installation: numpy 1.19.5\n",
            "    Uninstalling numpy-1.19.5:\n",
            "      Successfully uninstalled numpy-1.19.5\n",
            "  Attempting uninstall: scikit-learn\n",
            "    Found existing installation: scikit-learn 0.22.2.post1\n",
            "    Uninstalling scikit-learn-0.22.2.post1:\n",
            "      Successfully uninstalled scikit-learn-0.22.2.post1\n",
            "\u001b[31mERROR: pip's dependency resolver does not currently take into account all the packages that are installed. This behaviour is the source of the following dependency conflicts.\n",
            "datascience 0.10.6 requires folium==0.2.1, but you have folium 0.8.3 which is incompatible.\n",
            "albumentations 0.1.12 requires imgaug<0.2.7,>=0.2.5, but you have imgaug 0.2.9 which is incompatible.\u001b[0m\n",
            "Successfully installed Mako-1.1.5 alembic-1.7.4 autopage-0.4.0 cliff-3.9.0 cmaes-0.8.2 cmd2-2.2.0 colorama-0.4.4 colorlog-6.5.0 deep-autoviml-0.0.67 emoji-1.6.1 numpy-1.19.2 optuna-2.10.0 pbr-5.6.0 pyperclip-1.8.2 scikit-learn-1.0.1 stevedore-3.5.0 storm-tuner-0.0.9 tensorflow-text-2.6.0 threadpoolctl-3.0.0\n"
          ]
        },
        {
          "output_type": "display_data",
          "data": {
            "application/vnd.colab-display-data+json": {
              "pip_warning": {
                "packages": [
                  "numpy"
                ]
              }
            }
          },
          "metadata": {}
        }
      ]
    },
    {
      "cell_type": "code",
      "metadata": {
        "colab": {
          "base_uri": "https://localhost:8080/"
        },
        "id": "JCGitZmUir83",
        "outputId": "311ecea3-27b6-474b-dafb-cd104b21697b"
      },
      "source": [
        "from deep_autoviml import deep_autoviml as deepauto\n",
        "import pandas as pd\n",
        "import numpy as np"
      ],
      "execution_count": null,
      "outputs": [
        {
          "output_type": "stream",
          "name": "stdout",
          "text": [
            "\n",
            "Imported deep_auto_viml. version=0.0.67\n",
            "from deep_autoviml import deep_autoviml as deepauto\n",
            "-------------------\n",
            "model, cat_vocab_dict = deepauto.fit(train, target, keras_model_type=\"fast\",\n",
            "\t\tproject_name=\"deep_autoviml\", keras_options=keras_options,  \n",
            "\t\tmodel_options=model_options, save_model_flag=True, use_my_model='',\n",
            "\t\tmodel_use_case='', verbose=0)\n",
            "\n",
            "predictions = deepauto.predict(model, project_name, test_dataset=test,\n",
            "                                 keras_model_type=keras_model_type, \n",
            "                                 cat_vocab_dict=cat_vocab_dict)\n",
            "                                \n"
          ]
        }
      ]
    },
    {
      "cell_type": "markdown",
      "metadata": {
        "id": "auiCSvdDqotf"
      },
      "source": [
        "#2.0 Read President Trump's tweets"
      ]
    },
    {
      "cell_type": "code",
      "metadata": {
        "colab": {
          "base_uri": "https://localhost:8080/"
        },
        "id": "JiKvHlgrnJdr",
        "outputId": "56be8d81-56d4-4682-9643-62ee894f38e2"
      },
      "source": [
        "# Mount Google Drive\n",
        "from google.colab import drive\n",
        "import pandas as pd\n",
        "drive.mount('/content/drive')"
      ],
      "execution_count": null,
      "outputs": [
        {
          "output_type": "stream",
          "name": "stdout",
          "text": [
            "Mounted at /content/drive\n"
          ]
        }
      ]
    },
    {
      "cell_type": "code",
      "metadata": {
        "id": "nhg0yCb8nKTU"
      },
      "source": [
        "# Read in tweets referencing Donald Trump\n",
        "df_trump = pd.read_csv('/content/drive/My Drive/255/datasets/hashtag_donaldtrump.csv', lineterminator='\\n', parse_dates=True)\n",
        "df = df_trump.sample(frac=.05)"
      ],
      "execution_count": null,
      "outputs": []
    },
    {
      "cell_type": "markdown",
      "metadata": {
        "id": "lPEPOeYisBEO"
      },
      "source": [
        "##2.1 Perform Vader Sentiment Analysis"
      ]
    },
    {
      "cell_type": "code",
      "metadata": {
        "id": "i3GjA1nToBl6"
      },
      "source": [
        "# Function to capture sentiments by polarity\n",
        "def sentiment(data):\n",
        "    temp=[]\n",
        "    for row in data:\n",
        "        tmp=sid.polarity_scores(row)\n",
        "        temp.append(tmp)\n",
        "    return temp"
      ],
      "execution_count": null,
      "outputs": []
    },
    {
      "cell_type": "code",
      "metadata": {
        "colab": {
          "base_uri": "https://localhost:8080/"
        },
        "id": "OhIYtQ_upLmg",
        "outputId": "38a5cd62-8ee3-4e02-cc31-ea62c055ac33"
      },
      "source": [
        "import nltk\n",
        "nltk.download('vader_lexicon')\n",
        "from nltk.sentiment.vader import SentimentIntensityAnalyzer"
      ],
      "execution_count": null,
      "outputs": [
        {
          "output_type": "stream",
          "name": "stdout",
          "text": [
            "[nltk_data] Downloading package vader_lexicon to /root/nltk_data...\n",
            "[nltk_data]   Package vader_lexicon is already up-to-date!\n"
          ]
        }
      ]
    },
    {
      "cell_type": "code",
      "metadata": {
        "id": "f_G7R7YLoGFW"
      },
      "source": [
        "# Obtain sentiment scores for both Biden and Trump tweets\n",
        "sid = SentimentIntensityAnalyzer()\n",
        "df['VADAR']=sentiment(df['tweet'])\n",
        "df['compound']  = df['VADAR'].apply(lambda score_dict: score_dict['compound'])\n",
        "df['sentiment']  = df['compound'].apply(lambda x: '3' if x > 0.05 else ('1' if x < -0.05 else '2'))"
      ],
      "execution_count": 33,
      "outputs": []
    },
    {
      "cell_type": "markdown",
      "metadata": {
        "id": "90Oy374ZN-Ge"
      },
      "source": [
        "#3.0 Train/ Test Split"
      ]
    },
    {
      "cell_type": "code",
      "metadata": {
        "colab": {
          "base_uri": "https://localhost:8080/",
          "height": 202
        },
        "id": "dRi9CpTEN79F",
        "outputId": "6a3835bb-48f3-4934-c7b6-58f694064355"
      },
      "source": [
        "df_train = df[['tweet','sentiment']]\n",
        "df_train.head(5)"
      ],
      "execution_count": 34,
      "outputs": [
        {
          "output_type": "execute_result",
          "data": {
            "text/html": [
              "<div>\n",
              "<style scoped>\n",
              "    .dataframe tbody tr th:only-of-type {\n",
              "        vertical-align: middle;\n",
              "    }\n",
              "\n",
              "    .dataframe tbody tr th {\n",
              "        vertical-align: top;\n",
              "    }\n",
              "\n",
              "    .dataframe thead th {\n",
              "        text-align: right;\n",
              "    }\n",
              "</style>\n",
              "<table border=\"1\" class=\"dataframe\">\n",
              "  <thead>\n",
              "    <tr style=\"text-align: right;\">\n",
              "      <th></th>\n",
              "      <th>tweet</th>\n",
              "      <th>sentiment</th>\n",
              "    </tr>\n",
              "  </thead>\n",
              "  <tbody>\n",
              "    <tr>\n",
              "      <th>247819</th>\n",
              "      <td>@evie_stocker @realDonaldTrump @SecPompeo @WHN...</td>\n",
              "      <td>1</td>\n",
              "    </tr>\n",
              "    <tr>\n",
              "      <th>171516</th>\n",
              "      <td>Hey #prolife people, #trump lost people kids ,...</td>\n",
              "      <td>1</td>\n",
              "    </tr>\n",
              "    <tr>\n",
              "      <th>100875</th>\n",
              "      <td>How Republican Voters Took QAnon Mainstream ht...</td>\n",
              "      <td>3</td>\n",
              "    </tr>\n",
              "    <tr>\n",
              "      <th>720615</th>\n",
              "      <td>#DonaldTrumpIsALoser\\nWe know it.\\n#Trump know...</td>\n",
              "      <td>3</td>\n",
              "    </tr>\n",
              "    <tr>\n",
              "      <th>172747</th>\n",
              "      <td>#trump must have never heard of #TylerPerry #T...</td>\n",
              "      <td>2</td>\n",
              "    </tr>\n",
              "  </tbody>\n",
              "</table>\n",
              "</div>"
            ],
            "text/plain": [
              "                                                    tweet sentiment\n",
              "247819  @evie_stocker @realDonaldTrump @SecPompeo @WHN...         1\n",
              "171516  Hey #prolife people, #trump lost people kids ,...         1\n",
              "100875  How Republican Voters Took QAnon Mainstream ht...         3\n",
              "720615  #DonaldTrumpIsALoser\\nWe know it.\\n#Trump know...         3\n",
              "172747  #trump must have never heard of #TylerPerry #T...         2"
            ]
          },
          "metadata": {},
          "execution_count": 34
        }
      ]
    },
    {
      "cell_type": "code",
      "metadata": {
        "colab": {
          "base_uri": "https://localhost:8080/"
        },
        "id": "5kWO0VsBAfF7",
        "outputId": "e5c833ab-5b89-49e1-9ed8-6ca90a46c6b7"
      },
      "source": [
        "target = 'sentiment'\n",
        "df_train[target].value_counts()"
      ],
      "execution_count": 35,
      "outputs": [
        {
          "output_type": "execute_result",
          "data": {
            "text/plain": [
              "2    21186\n",
              "1    14022\n",
              "3    13338\n",
              "Name: sentiment, dtype: int64"
            ]
          },
          "metadata": {},
          "execution_count": 35
        }
      ]
    },
    {
      "cell_type": "code",
      "metadata": {
        "colab": {
          "base_uri": "https://localhost:8080/",
          "height": 202
        },
        "id": "c1IReDb0N0On",
        "outputId": "bf642e4e-e162-4c22-e596-212cda221876"
      },
      "source": [
        "df_test = df_trump.sample(frac=.005)\n",
        "df_test = df_test[['tweet']]\n",
        "df_test.head(5)"
      ],
      "execution_count": 36,
      "outputs": [
        {
          "output_type": "execute_result",
          "data": {
            "text/html": [
              "<div>\n",
              "<style scoped>\n",
              "    .dataframe tbody tr th:only-of-type {\n",
              "        vertical-align: middle;\n",
              "    }\n",
              "\n",
              "    .dataframe tbody tr th {\n",
              "        vertical-align: top;\n",
              "    }\n",
              "\n",
              "    .dataframe thead th {\n",
              "        text-align: right;\n",
              "    }\n",
              "</style>\n",
              "<table border=\"1\" class=\"dataframe\">\n",
              "  <thead>\n",
              "    <tr style=\"text-align: right;\">\n",
              "      <th></th>\n",
              "      <th>tweet</th>\n",
              "    </tr>\n",
              "  </thead>\n",
              "  <tbody>\n",
              "    <tr>\n",
              "      <th>135491</th>\n",
              "      <td>Bei @jensspahn taucht die gleiche Frage auf wi...</td>\n",
              "    </tr>\n",
              "    <tr>\n",
              "      <th>483052</th>\n",
              "      <td>du politique #trump \\net célébrités\\nhttps://t...</td>\n",
              "    </tr>\n",
              "    <tr>\n",
              "      <th>92935</th>\n",
              "      <td>Quem (ou o quê) você acredita que motivará no ...</td>\n",
              "    </tr>\n",
              "    <tr>\n",
              "      <th>58001</th>\n",
              "      <td>@GeorgeTakei People don't die from covid19 say...</td>\n",
              "    </tr>\n",
              "    <tr>\n",
              "      <th>833026</th>\n",
              "      <td>Çocuktan da mı şüpheleniyorlar.?\\n#BTC #btctur...</td>\n",
              "    </tr>\n",
              "  </tbody>\n",
              "</table>\n",
              "</div>"
            ],
            "text/plain": [
              "                                                    tweet\n",
              "135491  Bei @jensspahn taucht die gleiche Frage auf wi...\n",
              "483052  du politique #trump \\net célébrités\\nhttps://t...\n",
              "92935   Quem (ou o quê) você acredita que motivará no ...\n",
              "58001   @GeorgeTakei People don't die from covid19 say...\n",
              "833026  Çocuktan da mı şüpheleniyorlar.?\\n#BTC #btctur..."
            ]
          },
          "metadata": {},
          "execution_count": 36
        }
      ]
    },
    {
      "cell_type": "code",
      "metadata": {
        "colab": {
          "base_uri": "https://localhost:8080/"
        },
        "id": "3YYGgtcmN4gJ",
        "outputId": "b2a0c1d0-ba37-43e9-f8e5-fb6f6226c7b8"
      },
      "source": [
        "df_test['tweet'].value_counts()"
      ],
      "execution_count": 37,
      "outputs": [
        {
          "output_type": "execute_result",
          "data": {
            "text/plain": [
              "#Trump                                                                                                                                                                                                                                                                                                                                                                                                                                                                                                                                                                     4\n",
              "It's OK to be White. #BlackLivesMatter #Feminism #CNN #Trump #Islam #HillaryClinton #BernieSanders #ItsOkToBeWhite #AllLivesMatter                                                                                                                                                                                                                                                                                                                                                                                                                                         2\n",
              "#votefruad #Trump2020 #Trump #SayNoToCommunistChina https://t.co/ye9VS8kmiw                                                                                                                                                                                                                                                                                                                                                                                                                                                                                                1\n",
              "Attention #Trump voters.  Donald is lying to you. (Again.)\\n\\ncc: @GOPChairwoman @LindseyGrahamSC @GOPLeader https://t.co/znyYnp1FgD                                                                                                                                                                                                                                                                                                                                                                                                                                       1\n",
              "@1strongrobin @3SidecarsPlz @Fix8d2020 @NotAnAppleFan @Lebam_in_LA @dwiesen @KimBrideau6 @tbmurphski @DeanChiles @1966_happy @SestraResista @plawler610 @Realmrssepia1 @dk1821dk @deeame @evolv67 @BAAMeansNo @ejirish @LahueEric @La_Bete_humaine @Nathan_Brinlee Saturday Smack of #DopeyDon\\n\\n-Got 1B from Deutsche Bank&amp;Retired Justice Kennedy’s Son \\n-#Trump&amp;#GOP got 100M+ from Oil Industry \\n-350M in loans from China Bank to drop sanctions against ZTE \\n-Foreign Entities own Trump \\n-#COVID19 234K+Dead 9M+Infected\\n\\n#UNMAGA\\n#HumptyTrumpty    1\n",
              "                                                                                                                                                                                                                                                                                                                                                                                                                                                                                                                                                                          ..\n",
              "@Whateva691 We should've been planning for school re-opening moment we closed them, planning on getting broadband access &amp; food out in February &amp; ramping up PPE manufacturing. \"President\" should have used the pandemic plan. \\n Unfortunately, #Trump was in office &amp; pigs don't fly. 😥#COVID https://t.co/5uMnsEpnip                                                                                                                                                                                                                                       1\n",
              "#PresidentialElections2020 En difficulté dans les urnes, #Trump  peut-il gagner devant les tribunaux face #Biden ?\\n\\n#sondage #ElectionDay2020 #ElectionNight #ElectionDay  #4Novembre16h16                                                                                                                                                                                                                                                                                                                                                                               1\n",
              "Trump to visit Levant orchard after landing in Bangor - Bangor Daily News #Trump #POTUS #PoliticalParties https://t.co/Pz1tvQt1fs                                                                                                                                                                                                                                                                                                                                                                                                                                          1\n",
              "does this idiot not know that #Trump hates him, hates women, doesn't believe in Jesus, and pretty much hates anyone that's not rich? https://t.co/MZrg7bUhyr                                                                                                                                                                                                                                                                                                                                                                                                               1\n",
              "#Election2020 #trump #Democrat #biden https://t.co/bYuJoPnQHq                                                                                                                                                                                                                                                                                                                                                                                                                                                                                                              1\n",
              "Name: tweet, Length: 4851, dtype: int64"
            ]
          },
          "metadata": {},
          "execution_count": 37
        }
      ]
    },
    {
      "cell_type": "markdown",
      "metadata": {
        "id": "yJv9mp7osG5t"
      },
      "source": [
        "#4.0 Deep Auto Vimil"
      ]
    },
    {
      "cell_type": "markdown",
      "metadata": {
        "id": "DrDKNylIseoc"
      },
      "source": [
        "##4.1. Model Config"
      ]
    },
    {
      "cell_type": "code",
      "metadata": {
        "id": "vxydm4ZtnTuW"
      },
      "source": [
        "target = 'sentiment'\n",
        "project_name = 'Tweet Sentiments'\n",
        "\n",
        "keras_model_type =  \"USE\" ## always try \"auto\" first, then \"basic\", \"deep\", \"BERT\", \"USE\", cnn1\", \"LSTM\" etc.\n",
        "keras_options = {\"early_stopping\": True, 'epochs': 10, 'steps_per_epoch': 15, 'class_weight': True}\n",
        "model_options = {'tuner':\"storm\", \"max_trials\":10}"
      ],
      "execution_count": null,
      "outputs": []
    },
    {
      "cell_type": "markdown",
      "metadata": {
        "id": "udTo4rdrshL3"
      },
      "source": [
        "##4.2. Model Train"
      ]
    },
    {
      "cell_type": "code",
      "metadata": {
        "colab": {
          "base_uri": "https://localhost:8080/",
          "height": 1000
        },
        "id": "8EdnZbirnXps",
        "outputId": "2287f91a-5ae3-44ea-c0e7-7b7551a6aa0c"
      },
      "source": [
        "model, dicti = deepauto.fit(df_train, target, keras_model_type=keras_model_type, \n",
        "                            project_name=project_name, save_model_flag=False, \n",
        "                            model_options=model_options,\n",
        "                            keras_options=keras_options, use_my_model='', verbose=2)"
      ],
      "execution_count": null,
      "outputs": [
        {
          "output_type": "stream",
          "name": "stdout",
          "text": [
            "Num GPUs Available:  1\n",
            "1 Physical GPUs, 1 Logical GPU\n",
            "Physical devices cannot be modified after being initialized\n",
            "Setting Mirrored GPU strategy using 1 devices\n",
            "Using following keras_options given as input:\n",
            "    epochs : 10\n",
            "    steps_per_epoch : 15\n",
            "    class_weight : True\n",
            "    early_stopping : True\n",
            "Using following model_options given as input:\n",
            "    max_trials : 10\n",
            "    tuner : storm\n",
            "Max Trials : 10. Please increase max_trials if you want to better accuracy...\n",
            "\n",
            "#################################################################################\n",
            "###########     L O A D I N G    D A T A    I N T O   TF.DATA.DATASET H E R E  #\n",
            "#################################################################################\n",
            "        \n",
            "Alert! Modified column names to satisfy rules for column names in Tensorflow...\n",
            "    Model type is Multi_Classification and Single_Label problem\n",
            "    Classifying variables using data sample in pandas...\n",
            "############## C L A S S I F Y I N G  V A R I A B L E S  ####################\n",
            "Classifying variables in data set...\n",
            "Data Set Shape: 48546 rows, 1 cols\n",
            "Data Set columns info:\n",
            "* tweet: 0 nulls, 48434 unique vals, most common: {'#Trump': 12, '#trump': 8}\n",
            "--------------------------------------------------------------------\n",
            "    1 Predictors classified...\n",
            "    possible latitude columns in dataset: []\n",
            "        after further analysis, no latitude columns found\n",
            "    possible longitude columns in dataset: []\n",
            "        after further analysis, no longitude columns found\n",
            "        No variables removed since no ID or low-information variables found in data set\n",
            "Data Set Shape: 48546 rows, 2 cols\n",
            "   Columns to delete:\n",
            "'   []'\n",
            "   Categorical variables: \n",
            "'   []'\n",
            "   Continuous variables:\n",
            "'   []'\n",
            "   Discrete string variables: \n",
            "'   []'\n",
            "   NLP string variables: \n",
            "\"   ['tweet']\"\n",
            "   Date and time variables: \n",
            "'   []'\n",
            "   ID variables %s \n",
            "'   []'\n",
            "   Target variable %s \n",
            "'   sentiment'\n",
            "Distribution of string columns in datatset:\n",
            "    number of binary = 0, cats = 1, high cats = 0, very high cats = 1\n",
            "Distribution of integer columns in datatset:\n",
            "    number of binary = 0, cats = 0, high cats = 0, very high cats = 0\n",
            "Distribution of floats:\n",
            "    number float variables = 0\n",
            "No data transformations needed in this dataset\n",
            "printing first five values of sentiment: ['1' '1' '3' '3' '2']\n",
            "printing features and their max, min, datatypes in one batch \n",
            "tweet is detected and will be treated as an NLP variable\n",
            "  '    sample words from vocab': tweet\n",
            "  '    size of vocab'      : 1122146\n",
            "  '    max'                : defaultdict(<function nested_dictionary at 0x7f8c54b6fcb0>, {})\n",
            "  '    min'                : defaultdict(<function nested_dictionary at 0x7f8c54b6fcb0>, {})\n",
            "  '    dtype'              : string\n",
            "    after data cleaning, number of predictors used in modeling = 1\n",
            "Not performing feature crossing for categorical nor integer variables\n",
            "Transforming sentiment target labels...\n",
            "    Original labels dtype is object \n",
            "sentiment transformed as follows: {'1': 0, '2': 1, '3': 2}\n",
            "    transformed target labels data type to numeric or ordered from 0\n",
            "Boolean column successfully processed\n",
            "    combined NLP or text vars: ['tweet'] into a single feature successfully\n",
            "Printing one batch from the dataset:\n",
            "tweet                                   : [b'@evie_stocker @realDonaldTrump @SecPompeo @WHNSC Hate to break it to you, but neither is Middle East Transcaucasia (aka South Caucasus) nor is ceasefire peace. No wonder #Trump loves you. \\xf0\\x9f\\xa4\\xa6\\xf0\\x9f\\x8f\\xbb\\xe2\\x80\\x8d\\xe2\\x99\\x80\\xef\\xb8\\x8f https://t.co/D852OWSXOS'\n",
            " b'Hey #prolife people, #trump lost people kids , literally \\n\\n#PresidentialDebate2020'\n",
            " b'How Republican Voters Took QAnon Mainstream https://t.co/8xszOdglo7 \\n\\nThey honestly and seriously believe that #DonaldTrump is their #Jesus Christ.\\xf0\\x9f\\x98\\x90'\n",
            " b'#DonaldTrumpIsALoser\\nWe know it.\\n#Trump knows he lost.\\nWe are getting ready to celebrate. https://t.co/UFjRQWV0Bs']\n",
            "combined_nlp_text                       : [b'@evie_stocker @realDonaldTrump @SecPompeo @WHNSC Hate to break it to you, but neither is Middle East Transcaucasia (aka South Caucasus) nor is ceasefire peace. No wonder #Trump loves you. \\xf0\\x9f\\xa4\\xa6\\xf0\\x9f\\x8f\\xbb\\xe2\\x80\\x8d\\xe2\\x99\\x80\\xef\\xb8\\x8f https://t.co/D852OWSXOS'\n",
            " b'Hey #prolife people, #trump lost people kids , literally \\n\\n#PresidentialDebate2020'\n",
            " b'How Republican Voters Took QAnon Mainstream https://t.co/8xszOdglo7 \\n\\nThey honestly and seriously believe that #DonaldTrump is their #Jesus Christ.\\xf0\\x9f\\x98\\x90'\n",
            " b'#DonaldTrumpIsALoser\\nWe know it.\\n#Trump knows he lost.\\nWe are getting ready to celebrate. https://t.co/UFjRQWV0Bs']\n",
            "       Class  -> Counts -> Percent\n",
            "           0:   14022  ->   28.9%\n",
            "           1:   21186  ->   43.6%\n",
            "           2:   13338  ->   27.5%\n",
            "    Class weights calculated: {0: 1.1540436456996148, 1: 1.0, 2: 1.213225371120108}\n",
            "\n",
            "#################################################################################\n",
            "###########     K E R A S     F E A T U R E    P R E P R O C E S S I N G  #######\n",
            "#################################################################################\n",
            "        \n",
            "Starting NLP string column layer preprocessing...\n",
            "For nlp column = tweet\n",
            "    size of vocabulary = 1122146\n",
            "    sequence length = 968\n",
            "    recommended embedding_size = 256\n",
            "Max vocab size = 152137\n",
            "Loading USE model this will take time...\n",
            "    Universal Sentence Encoder4 selected: https://tfhub.dev/google/universal-sentence-encoder/4\n",
            "    NLP Preprocessing completed.\n",
            "Preprocessing non-NLP layers for USE Keras model...\n",
            "    Non-NLP vars is zero in this dataset. No tabular preprocesing needed...\n",
            "There is no numeric or cat or int variables in this data set.\n",
            "    (None, 512) vector dimensions from NLP variable\n",
            "\n",
            "Creating a new Functional model here...\n",
            "\n",
            "#################################################################################\n",
            "###########     C R E A T I N G    A    K E R A S       M O D E L    ############\n",
            "#################################################################################\n",
            "        \n",
            "Creating a keras Function model...\n",
            "    number of outputs = 1, output_activation = softmax\n",
            "    loss function: SparseCategoricalCrossentropy\n",
            "    initial learning rate = 0.05\n",
            "    initial optimizer = SGD\n",
            "    Recommended hidden layers (with units in each Dense Layer)  = (300, 200, 100)\n",
            "\n",
            "    USE model loaded and compiled successfully...\n",
            "Model: \"model\"\n",
            "_________________________________________________________________\n",
            "Layer (type)                 Output Shape              Param #   \n",
            "=================================================================\n",
            "tweet (InputLayer)           [(None,)]                 0         \n",
            "_________________________________________________________________\n",
            "USE4_encoder (KerasLayer)    (None, 512)               256797824 \n",
            "_________________________________________________________________\n",
            "dense_11 (Dense)             (None, 100)               51300     \n",
            "_________________________________________________________________\n",
            "sentiment (Dense)            (None, 3)                 303       \n",
            "=================================================================\n",
            "Total params: 256,849,427\n",
            "Trainable params: 256,849,427\n",
            "Non-trainable params: 0\n",
            "_________________________________________________________________\n",
            "None\n"
          ]
        },
        {
          "output_type": "display_data",
          "data": {
            "image/png": "[encoded data removed]",
            "text/plain": [
              "<IPython.core.display.Image object>"
            ]
          },
          "metadata": {
            "image/png": {
              "width": 383,
              "height": 39
            }
          }
        },
        {
          "output_type": "stream",
          "name": "stdout",
          "text": [
            "Model plot saved in file: deep_autoviml_Tweet Sentiments_USE_model_before.png\n",
            "\n",
            "#################################################################################\n",
            "###########     T R A I N I N G    K E R A S   M O D E L   H E R E      #########\n",
            "#################################################################################\n",
            "    \n",
            "Training a USE model option...\n",
            "    class_weights: {0: 1.1540436456996148, 1: 1.0, 2: 1.213225371120108}\n",
            "    original datasize = 48546, initial batchsize = 48\n",
            "    recommended steps per epoch = 505\n",
            "    recommended OneCycle steps = 10120\n",
            "    default initializer = lecun_normal, default activation = selu\n",
            "    Recommended: Increase patience for \"onecycle\" scheduler\n",
            "Tensorboard log directory can be found at: deep_autoviml/mylogs\n",
            "    chosen keras LR scheduler = default\n",
            "    val mode = max, val monitor = val_balanced_sparse_categorical_accuracy, patience = 10.0\n",
            "    number of epochs = 10, steps per epoch = 15\n",
            "\n",
            "Splitting train into 80+20 percent: train and validation data\n",
            "    Splitting validation 20 into 10+10 percent: valid and heldout data\n",
            "    shuffle size = 48546\n",
            "Model training with best hyperparameters for 10 epochs\n",
            "    Callback added: LearningRateScheduler object at 0x7f8b85314750>\n",
            "    Callback added: TensorBoard object at 0x7f8c5f3e7350>\n",
            "    Callback added: EarlyStopping object at 0x7f8b85314d50>\n",
            "Epoch 1/10\n",
            "505/505 [==============================] - 18s 27ms/step - loss: 0.8489 - balanced_sparse_categorical_accuracy: 0.6405 - val_loss: 0.6566 - val_balanced_sparse_categorical_accuracy: 0.7005\n",
            "Epoch 2/10\n",
            "505/505 [==============================] - 13s 26ms/step - loss: 0.7083 - balanced_sparse_categorical_accuracy: 0.7224 - val_loss: 0.6154 - val_balanced_sparse_categorical_accuracy: 0.7252\n",
            "Epoch 3/10\n",
            "505/505 [==============================] - 13s 25ms/step - loss: 0.6248 - balanced_sparse_categorical_accuracy: 0.7644 - val_loss: 0.5914 - val_balanced_sparse_categorical_accuracy: 0.7379\n",
            "Epoch 4/10\n",
            "505/505 [==============================] - 12s 25ms/step - loss: 0.5503 - balanced_sparse_categorical_accuracy: 0.7995 - val_loss: 0.5812 - val_balanced_sparse_categorical_accuracy: 0.7488\n",
            "Epoch 5/10\n",
            "505/505 [==============================] - 13s 26ms/step - loss: 0.4759 - balanced_sparse_categorical_accuracy: 0.8325 - val_loss: 0.5923 - val_balanced_sparse_categorical_accuracy: 0.7497\n",
            "Epoch 6/10\n",
            "505/505 [==============================] - 14s 27ms/step - loss: 0.4008 - balanced_sparse_categorical_accuracy: 0.8653 - val_loss: 0.6256 - val_balanced_sparse_categorical_accuracy: 0.7517\n",
            "Epoch 7/10\n",
            "505/505 [==============================] - 13s 25ms/step - loss: 0.3248 - balanced_sparse_categorical_accuracy: 0.8977 - val_loss: 0.6867 - val_balanced_sparse_categorical_accuracy: 0.7572\n",
            "Epoch 8/10\n",
            "505/505 [==============================] - 13s 26ms/step - loss: 0.2516 - balanced_sparse_categorical_accuracy: 0.9241 - val_loss: 0.7976 - val_balanced_sparse_categorical_accuracy: 0.7562\n",
            "Epoch 9/10\n",
            "505/505 [==============================] - 14s 27ms/step - loss: 0.1870 - balanced_sparse_categorical_accuracy: 0.9462 - val_loss: 0.9142 - val_balanced_sparse_categorical_accuracy: 0.7581\n",
            "Epoch 10/10\n",
            "505/505 [==============================] - 13s 25ms/step - loss: 0.1382 - balanced_sparse_categorical_accuracy: 0.9603 - val_loss: 1.0831 - val_balanced_sparse_categorical_accuracy: 0.7447\n",
            "    Model training completed. Following metrics available: dict_keys(['loss', 'balanced_sparse_categorical_accuracy', 'val_loss', 'val_balanced_sparse_categorical_accuracy', 'lr'])\n",
            "Time taken to train model (in mins) = 6\n",
            "    Stopped epoch = 0\n",
            "\n",
            "Model not being saved since save_model_flag set to False...\n",
            "\n",
            "Saving vocab dictionary using pickle in Tweet Sentiments/USE/model_2021_10_30-02_31_59/artifacts/cat_vocab_dict.pickle...will take time...\n",
            "    Saved pickle file in Tweet Sentiments/USE/model_2021_10_30-02_31_59/artifacts/cat_vocab_dict.pickle\n",
            "\n",
            "Saving variable definitions file using pickle in Tweet Sentiments/USE/model_2021_10_30-02_31_59/artifacts/var_df.pickle...will take time...\n",
            "    Saved pickle file in Tweet Sentiments/USE/model_2021_10_30-02_31_59/artifacts/var_df.pickle\n",
            "Single-Label: Heldout data shape: (4896,)\n",
            "    samples from label: [0, 0, 2, 2, 1, 1, 2, 1, 0, 2]\n",
            "\n",
            "Held out predictions shape:(4896,)\n",
            "    Sample predictions: [2 0 1 2 1 1 2 1 0 2]\n"
          ]
        },
        {
          "output_type": "display_data",
          "data": {
            "image/png": "[encoded data removed]",
            "text/plain": [
              "<Figure size 1080x432 with 2 Axes>"
            ]
          },
          "metadata": {
            "needs_background": "light"
          }
        },
        {
          "output_type": "stream",
          "name": "stdout",
          "text": [
            "\n",
            "###########################################################\n",
            "         Held-out test data set Results:\n",
            "Single Label (single-output), Multi-Class Report: sentiment\n",
            "#################################################################\n"
          ]
        },
        {
          "output_type": "display_data",
          "data": {
            "text/html": [
              "<style>.container { width:95% !important; }</style>"
            ],
            "text/plain": [
              "<IPython.core.display.HTML object>"
            ]
          },
          "metadata": {}
        },
        {
          "output_type": "stream",
          "name": "stdout",
          "text": [
            "    Accuracy          = 77.0%\n",
            "    Balanced Accuracy (average recall) = 74.5%\n",
            "    Average Precision (macro) = 76.2%\n",
            "    Precisions by class:\n",
            "    76.3%      79.1%      73.3%  \n",
            "    Recall Scores by class:\n",
            "    66.8%      89.1%      67.6%  \n",
            "    F1 Scores by class:\n",
            "    71.2%      83.8%      70.3%  \n",
            "#####################################################\n",
            "\n",
            "Training on full train dataset for 0 epochs. This will take time...\n",
            "    completed. Time taken (in mins) = 0\n"
          ]
        },
        {
          "output_type": "display_data",
          "data": {
            "image/png": "[encoded data removed]",
            "text/plain": [
              "<IPython.core.display.Image object>"
            ]
          },
          "metadata": {
            "image/png": {
              "width": 383,
              "height": 39
            }
          }
        },
        {
          "output_type": "stream",
          "name": "stdout",
          "text": [
            "Model plot saved in file: deep_autoviml_Tweet Sentiments_USE_model_after.png\n"
          ]
        },
        {
          "output_type": "display_data",
          "data": {
            "image/png": "[encoded data removed]",
            "text/plain": [
              "<Figure size 1080x432 with 4 Axes>"
            ]
          },
          "metadata": {
            "needs_background": "light"
          }
        }
      ]
    },
    {
      "cell_type": "markdown",
      "metadata": {
        "id": "PTDbnEk9sls_"
      },
      "source": [
        "## 4.3. Model Predict"
      ]
    },
    {
      "cell_type": "code",
      "metadata": {
        "colab": {
          "base_uri": "https://localhost:8080/"
        },
        "id": "ZvxaiB_oncBD",
        "outputId": "fdf8b357-e869-4e36-f17d-c05f4ce08cb8"
      },
      "source": [
        "predictions = deepauto.predict(model, \n",
        "                               project_name=project_name, \n",
        "                               test_dataset=df_test,\n",
        "                               keras_model_type=keras_model_type, \n",
        "                               cat_vocab_dict=dicti)\n",
        "print(predictions)"
      ],
      "execution_count": null,
      "outputs": [
        {
          "output_type": "stream",
          "name": "stdout",
          "text": [
            "\n",
            "Loading deep_autoviml model from <keras.engine.functional.Functional object at 0x7f8b70fa23d0> folder. This will take time...\n",
            "\n",
            "Using <keras.engine.functional.Functional object at 0x7f8b70fa23d0> model provided as input...\n",
            "Time taken to load saved model = 0 seconds\n",
            "Loaded test data size: 4855\n",
            "Alert! Modified column names to satisfy rules for column names in Tensorflow...\n",
            "############## C L A S S I F Y I N G  V A R I A B L E S  ####################\n",
            "Classifying variables in data set...\n",
            "    1 Predictors classified...\n",
            "    possible latitude columns in dataset: []\n",
            "        after further analysis, no latitude columns found\n",
            "    possible longitude columns in dataset: []\n",
            "        after further analysis, no longitude columns found\n",
            "        No variables removed since no ID or low-information variables found in data set\n",
            "Distribution of string columns in datatset:\n",
            "    number of binary = 0, cats = 0, high cats = 0, very high cats = 1\n",
            "Distribution of integer columns in datatset:\n",
            "    number of binary = 0, cats = 0, high cats = 0, very high cats = 0\n",
            "Distribution of floats:\n",
            "    number float variables = 0\n",
            "No data transformations needed in this dataset\n",
            "tweet is detected and will be treated as an NLP variable\n",
            "    after data cleaning, number of predictors used in modeling = 1\n",
            "Not performing feature crossing for categorical nor integer variables\n",
            "    test data loaded successfully.\n",
            "test data size =  4855 , batch_size =  48\n",
            "    combined NLP or text vars: ['tweet'] into a single combined_nlp_text successfully\n",
            "Boolean column successfully processed\n",
            "Batch size = 48\n",
            "    number of steps needed to predict: 102\n",
            "    Sample predictions before inverse_transform: [2 1 0 1 2]\n",
            "    Sample predictions after inverse_transform: ['3' '2' '1' '2' '3']\n",
            "Returning model predictions in form of a list...of length 2\n",
            "Time taken in mins for predictions = 0\n",
            "[array([[0.034, 0.027, 0.939],\n",
            "       [0.   , 1.   , 0.   ],\n",
            "       [1.   , 0.   , 0.   ],\n",
            "       ...,\n",
            "       [0.   , 0.946, 0.054],\n",
            "       [0.   , 1.   , 0.   ],\n",
            "       [0.003, 0.977, 0.021]], dtype=float32), array(['3', '2', '1', ..., '2', '2', '2'], dtype=object)]\n"
          ]
        }
      ]
    }
  ]
}