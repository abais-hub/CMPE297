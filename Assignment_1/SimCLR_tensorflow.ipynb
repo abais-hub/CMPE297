{
  "nbformat": 4,
  "nbformat_minor": 0,
  "metadata": {
    "accelerator": "GPU",
    "colab": {
      "name": "SimCLR_tensorflow.ipynb",
      "provenance": [],
      "collapsed_sections": [],
      "toc_visible": true
    },
    "kernelspec": {
      "display_name": "Python 3",
      "language": "python",
      "name": "python3"
    },
    "language_info": {
      "codemirror_mode": {
        "name": "ipython",
        "version": 3
      },
      "file_extension": ".py",
      "mimetype": "text/x-python",
      "name": "python",
      "nbconvert_exporter": "python",
      "pygments_lexer": "ipython3",
      "version": "3.7.1"
    }
  },
  "cells": [
    {
      "cell_type": "markdown",
      "metadata": {
        "id": "r7PQv4dP93E4"
      },
      "source": [
        "# CMPE 297 HW1 - simCLR in tensorflow\n",
        "## Abhishek Bais  \n",
        "### Acknowledgements: [Towards Self-Supervised Image Understanding with SimCLR](https://github.com/sayakpaul/SimCLR-in-TensorFlow-2)"
      ]
    },
    {
      "cell_type": "markdown",
      "metadata": {
        "id": "LMp5lKNjgBXq"
      },
      "source": [
        "# 1.0 Initial setup"
      ]
    },
    {
      "cell_type": "code",
      "metadata": {
        "id": "lIYdn1woOS1n",
        "colab": {
          "base_uri": "https://localhost:8080/"
        },
        "outputId": "d26ca5ee-aaf9-497c-9408-de331db29112"
      },
      "source": [
        "import tensorflow as tf\n",
        "print(tf.__version__)"
      ],
      "execution_count": null,
      "outputs": [
        {
          "output_type": "stream",
          "name": "stdout",
          "text": [
            "2.6.0\n"
          ]
        }
      ]
    },
    {
      "cell_type": "code",
      "metadata": {
        "id": "dZowsDvOYK37",
        "colab": {
          "base_uri": "https://localhost:8080/"
        },
        "outputId": "13780e2c-d1e8-4e2e-8cde-db3caf1f9ccf"
      },
      "source": [
        "!nvidia-smi"
      ],
      "execution_count": null,
      "outputs": [
        {
          "output_type": "stream",
          "name": "stdout",
          "text": [
            "Sun Sep 19 23:54:29 2021       \n",
            "+-----------------------------------------------------------------------------+\n",
            "| NVIDIA-SMI 470.63.01    Driver Version: 460.32.03    CUDA Version: 11.2     |\n",
            "|-------------------------------+----------------------+----------------------+\n",
            "| GPU  Name        Persistence-M| Bus-Id        Disp.A | Volatile Uncorr. ECC |\n",
            "| Fan  Temp  Perf  Pwr:Usage/Cap|         Memory-Usage | GPU-Util  Compute M. |\n",
            "|                               |                      |               MIG M. |\n",
            "|===============================+======================+======================|\n",
            "|   0  Tesla T4            Off  | 00000000:00:04.0 Off |                    0 |\n",
            "| N/A   49C    P8    10W /  70W |      0MiB / 15109MiB |      0%      Default |\n",
            "|                               |                      |                  N/A |\n",
            "+-------------------------------+----------------------+----------------------+\n",
            "                                                                               \n",
            "+-----------------------------------------------------------------------------+\n",
            "| Processes:                                                                  |\n",
            "|  GPU   GI   CI        PID   Type   Process name                  GPU Memory |\n",
            "|        ID   ID                                                   Usage      |\n",
            "|=============================================================================|\n",
            "|  No running processes found                                                 |\n",
            "+-----------------------------------------------------------------------------+\n"
          ]
        }
      ]
    },
    {
      "cell_type": "markdown",
      "metadata": {
        "id": "aRe33Ifg-ZN3"
      },
      "source": [
        "# 2.0 Setup weights and bias"
      ]
    },
    {
      "cell_type": "code",
      "metadata": {
        "id": "I2MOoF9zgMHp",
        "colab": {
          "base_uri": "https://localhost:8080/"
        },
        "outputId": "224a94cc-5ba3-4a82-b4e4-c9ec77fa27ca"
      },
      "source": [
        "# Install wandb for experiment tracking\n",
        "!pip install --upgrade https://github.com/wandb/client/archive/feature/code-save.zip"
      ],
      "execution_count": null,
      "outputs": [
        {
          "output_type": "stream",
          "name": "stdout",
          "text": [
            "Collecting https://github.com/wandb/client/archive/feature/code-save.zip\n",
            "  Downloading https://github.com/wandb/client/archive/feature/code-save.zip\n",
            "\u001b[K     \\ 10.4 MB 3.9 MB/s\n",
            "\u001b[?25hRequirement already satisfied: Click>=7.0 in /usr/local/lib/python3.7/dist-packages (from wandb==0.8.36) (7.1.2)\n",
            "Collecting GitPython>=1.0.0\n",
            "  Downloading GitPython-3.1.24-py3-none-any.whl (180 kB)\n",
            "\u001b[K     |████████████████████████████████| 180 kB 9.1 MB/s \n",
            "\u001b[?25hCollecting gql==0.2.0\n",
            "  Downloading gql-0.2.0.tar.gz (18 kB)\n",
            "Requirement already satisfied: nvidia-ml-py3>=7.352.0 in /usr/local/lib/python3.7/dist-packages (from wandb==0.8.36) (7.352.0)\n",
            "Requirement already satisfied: python-dateutil>=2.6.1 in /usr/local/lib/python3.7/dist-packages (from wandb==0.8.36) (2.8.2)\n",
            "Requirement already satisfied: requests>=2.0.0 in /usr/local/lib/python3.7/dist-packages (from wandb==0.8.36) (2.23.0)\n",
            "Collecting shortuuid>=0.5.0\n",
            "  Downloading shortuuid-1.0.1-py3-none-any.whl (7.5 kB)\n",
            "Requirement already satisfied: six>=1.10.0 in /usr/local/lib/python3.7/dist-packages (from wandb==0.8.36) (1.15.0)\n",
            "Collecting watchdog>=0.8.3\n",
            "  Downloading watchdog-2.1.5-py3-none-manylinux2014_x86_64.whl (75 kB)\n",
            "\u001b[K     |████████████████████████████████| 75 kB 5.5 MB/s \n",
            "\u001b[?25hRequirement already satisfied: PyYAML>=3.10 in /usr/local/lib/python3.7/dist-packages (from wandb==0.8.36) (3.13)\n",
            "Requirement already satisfied: psutil>=5.0.0 in /usr/local/lib/python3.7/dist-packages (from wandb==0.8.36) (5.4.8)\n",
            "Collecting sentry-sdk>=0.4.0\n",
            "  Downloading sentry_sdk-1.3.1-py2.py3-none-any.whl (133 kB)\n",
            "\u001b[K     |████████████████████████████████| 133 kB 71.5 MB/s \n",
            "\u001b[?25hCollecting subprocess32>=3.5.3\n",
            "  Downloading subprocess32-3.5.4.tar.gz (97 kB)\n",
            "\u001b[K     |████████████████████████████████| 97 kB 9.1 MB/s \n",
            "\u001b[?25hCollecting docker-pycreds>=0.4.0\n",
            "  Downloading docker_pycreds-0.4.0-py2.py3-none-any.whl (9.0 kB)\n",
            "Collecting configparser>=3.8.1\n",
            "  Downloading configparser-5.0.2-py3-none-any.whl (19 kB)\n",
            "Collecting graphql-core<2,>=0.5.0\n",
            "  Downloading graphql-core-1.1.tar.gz (70 kB)\n",
            "\u001b[K     |████████████████████████████████| 70 kB 10.7 MB/s \n",
            "\u001b[?25hRequirement already satisfied: promise<3,>=2.0 in /usr/local/lib/python3.7/dist-packages (from gql==0.2.0->wandb==0.8.36) (2.3)\n",
            "Collecting gitdb<5,>=4.0.1\n",
            "  Downloading gitdb-4.0.7-py3-none-any.whl (63 kB)\n",
            "\u001b[K     |████████████████████████████████| 63 kB 2.4 MB/s \n",
            "\u001b[?25hRequirement already satisfied: typing-extensions>=3.7.4.3 in /usr/local/lib/python3.7/dist-packages (from GitPython>=1.0.0->wandb==0.8.36) (3.7.4.3)\n",
            "Collecting smmap<5,>=3.0.1\n",
            "  Downloading smmap-4.0.0-py2.py3-none-any.whl (24 kB)\n",
            "Requirement already satisfied: chardet<4,>=3.0.2 in /usr/local/lib/python3.7/dist-packages (from requests>=2.0.0->wandb==0.8.36) (3.0.4)\n",
            "Requirement already satisfied: urllib3!=1.25.0,!=1.25.1,<1.26,>=1.21.1 in /usr/local/lib/python3.7/dist-packages (from requests>=2.0.0->wandb==0.8.36) (1.24.3)\n",
            "Requirement already satisfied: certifi>=2017.4.17 in /usr/local/lib/python3.7/dist-packages (from requests>=2.0.0->wandb==0.8.36) (2021.5.30)\n",
            "Requirement already satisfied: idna<3,>=2.5 in /usr/local/lib/python3.7/dist-packages (from requests>=2.0.0->wandb==0.8.36) (2.10)\n",
            "Building wheels for collected packages: wandb, gql, graphql-core, subprocess32\n",
            "  Building wheel for wandb (setup.py) ... \u001b[?25l\u001b[?25hdone\n",
            "  Created wheel for wandb: filename=wandb-0.8.36-py2.py3-none-any.whl size=1385054 sha256=08473995ba13603a5beac9c92fb40f65602d6d5d137d3b287ff4c86cf8a98bb9\n",
            "  Stored in directory: /root/.cache/pip/wheels/08/1e/c2/b01dd11de70589ef2c6305c9b94da5bdfa22fd99b08da54fcf\n",
            "  Building wheel for gql (setup.py) ... \u001b[?25l\u001b[?25hdone\n",
            "  Created wheel for gql: filename=gql-0.2.0-py3-none-any.whl size=7639 sha256=16d28ecf89f15c4ec553ef08253c05913b17689a68da2a5d68322519a7d524df\n",
            "  Stored in directory: /root/.cache/pip/wheels/b6/9a/56/5456fd32264a8fc53eefcb2f74e24e99a7ef4eb40a9af5c905\n",
            "  Building wheel for graphql-core (setup.py) ... \u001b[?25l\u001b[?25hdone\n",
            "  Created wheel for graphql-core: filename=graphql_core-1.1-py3-none-any.whl size=104649 sha256=75bfba17c237165fc9579d3ec2f2c16049571eb8903f8d305e1eba1e3b4581d1\n",
            "  Stored in directory: /root/.cache/pip/wheels/6b/fd/8c/a20dd591c1a554070cc33fb58042867e6ac1c85395abe2e57a\n",
            "  Building wheel for subprocess32 (setup.py) ... \u001b[?25l\u001b[?25hdone\n",
            "  Created wheel for subprocess32: filename=subprocess32-3.5.4-py3-none-any.whl size=6502 sha256=a7d2052b653ba6948f0f302a9055f994e32a7278dae5f1ff54771f104cbc0e6f\n",
            "  Stored in directory: /root/.cache/pip/wheels/50/ca/fa/8fca8d246e64f19488d07567547ddec8eb084e8c0d7a59226a\n",
            "Successfully built wandb gql graphql-core subprocess32\n",
            "Installing collected packages: smmap, graphql-core, gitdb, watchdog, subprocess32, shortuuid, sentry-sdk, gql, GitPython, docker-pycreds, configparser, wandb\n",
            "Successfully installed GitPython-3.1.24 configparser-5.0.2 docker-pycreds-0.4.0 gitdb-4.0.7 gql-0.2.0 graphql-core-1.1 sentry-sdk-1.3.1 shortuuid-1.0.1 smmap-4.0.0 subprocess32-3.5.4 wandb-0.8.36 watchdog-2.1.5\n"
          ]
        }
      ]
    },
    {
      "cell_type": "code",
      "metadata": {
        "id": "EXx0RnrigMwd",
        "colab": {
          "base_uri": "https://localhost:8080/",
          "height": 105
        },
        "outputId": "8a8d8c77-c0f9-475b-fc24-f36bbde4dc0b"
      },
      "source": [
        "import wandb\n",
        "wandb.login()"
      ],
      "execution_count": null,
      "outputs": [
        {
          "output_type": "display_data",
          "data": {
            "application/javascript": [
              "\n",
              "        window._wandbApiKey = new Promise((resolve, reject) => {\n",
              "            function loadScript(url) {\n",
              "            return new Promise(function(resolve, reject) {\n",
              "                let newScript = document.createElement(\"script\");\n",
              "                newScript.onerror = reject;\n",
              "                newScript.onload = resolve;\n",
              "                document.body.appendChild(newScript);\n",
              "                newScript.src = url;\n",
              "            });\n",
              "            }\n",
              "            loadScript(\"https://cdn.jsdelivr.net/npm/postmate/build/postmate.min.js\").then(() => {\n",
              "            const iframe = document.createElement('iframe')\n",
              "            iframe.style.cssText = \"width:0;height:0;border:none\"\n",
              "            document.body.appendChild(iframe)\n",
              "            const handshake = new Postmate({\n",
              "                container: iframe,\n",
              "                url: 'https://app.wandb.ai/authorize'\n",
              "            });\n",
              "            const timeout = setTimeout(() => reject(\"Couldn't auto authenticate\"), 5000)\n",
              "            handshake.then(function(child) {\n",
              "                child.on('authorize', data => {\n",
              "                    clearTimeout(timeout)\n",
              "                    resolve(data)\n",
              "                });\n",
              "            });\n",
              "            })\n",
              "        });\n",
              "    "
            ],
            "text/plain": [
              "<IPython.core.display.Javascript object>"
            ]
          },
          "metadata": {}
        },
        {
          "output_type": "stream",
          "name": "stderr",
          "text": [
            "\u001b[34m\u001b[1mwandb\u001b[0m: \u001b[32m\u001b[41mERROR\u001b[0m Not authenticated.  Copy a key from https://app.wandb.ai/authorize\n"
          ]
        },
        {
          "name": "stdout",
          "output_type": "stream",
          "text": [
            "API Key: ··········\n"
          ]
        },
        {
          "output_type": "stream",
          "name": "stderr",
          "text": [
            "\u001b[34m\u001b[1mwandb\u001b[0m: Appending key for api.wandb.ai to your netrc file: /root/.netrc\n"
          ]
        },
        {
          "output_type": "execute_result",
          "data": {
            "text/plain": [
              "True"
            ]
          },
          "metadata": {},
          "execution_count": 4
        }
      ]
    },
    {
      "cell_type": "markdown",
      "metadata": {
        "id": "Wm_COxUI-XA6"
      },
      "source": [
        "# 3.0 Import libraries"
      ]
    },
    {
      "cell_type": "code",
      "metadata": {
        "id": "421MrJNMYQD7"
      },
      "source": [
        "# Other imports\n",
        "from tensorflow.keras.layers import *\n",
        "from tensorflow.keras.models import *\n",
        "import matplotlib.pyplot as plt\n",
        "from imutils import paths\n",
        "from tqdm import tqdm\n",
        "import tensorflow as tf\n",
        "import numpy as np\n",
        "import cv2\n",
        "\n",
        "# Random seed fixation\n",
        "tf.random.set_seed(666)\n",
        "np.random.seed(666)"
      ],
      "execution_count": null,
      "outputs": []
    },
    {
      "cell_type": "markdown",
      "metadata": {
        "id": "UUFlGxuJgBX9"
      },
      "source": [
        "# 4.0 Load the imagenet images"
      ]
    },
    {
      "cell_type": "code",
      "metadata": {
        "id": "cq8xwssDYNTq",
        "colab": {
          "base_uri": "https://localhost:8080/"
        },
        "outputId": "8540a865-3355-4be4-b523-6c8646f65e18"
      },
      "source": [
        "# Gather dataset\n",
        "!git clone https://github.com/thunderInfy/imagenet-5-categories"
      ],
      "execution_count": null,
      "outputs": [
        {
          "output_type": "stream",
          "name": "stdout",
          "text": [
            "Cloning into 'imagenet-5-categories'...\n",
            "remote: Enumerating objects: 1532, done.\u001b[K\n",
            "remote: Total 1532 (delta 0), reused 0 (delta 0), pack-reused 1532\u001b[K\n",
            "Receiving objects: 100% (1532/1532), 88.56 MiB | 32.92 MiB/s, done.\n",
            "Resolving deltas: 100% (1/1), done.\n"
          ]
        }
      ]
    },
    {
      "cell_type": "code",
      "metadata": {
        "id": "Z0atoQ0MYT4b",
        "colab": {
          "base_uri": "https://localhost:8080/"
        },
        "outputId": "c571dc2b-6859-4f3f-b866-ab00fbd77d46"
      },
      "source": [
        "# How many training images for SimCLR?\n",
        "train_images = list(paths.list_images(\"imagenet-5-categories/train\"))\n",
        "print(len(train_images))"
      ],
      "execution_count": null,
      "outputs": [
        {
          "output_type": "stream",
          "name": "stdout",
          "text": [
            "1250\n"
          ]
        }
      ]
    },
    {
      "cell_type": "markdown",
      "metadata": {
        "id": "DMDOPcWK-UiJ"
      },
      "source": [
        "# 5.0 Augment images (random color jitter, color drop, resize)"
      ]
    },
    {
      "cell_type": "code",
      "metadata": {
        "id": "Ad9dX7ONYV9Y"
      },
      "source": [
        "# Augmentation utilities (differs from the original implementation)\n",
        "# Referred from: https://arxiv.org/pdf/2002.05709.pdf (Appendxi A \n",
        "# corresponding GitHub: https://github.com/google-research/simclr/)\n",
        "\n",
        "class CustomAugment(object):\n",
        "    def __call__(self, sample):        \n",
        "        # Random flips\n",
        "        sample = self._random_apply(tf.image.flip_left_right, sample, p=0.5)\n",
        "        \n",
        "        # Randomly apply transformation (color distortions) with probability p.\n",
        "        sample = self._random_apply(self._color_jitter, sample, p=0.8)\n",
        "        sample = self._random_apply(self._color_drop, sample, p=0.2)\n",
        "\n",
        "        return sample\n",
        "\n",
        "    def _color_jitter(self, x, s=1):\n",
        "        # one can also shuffle the order of following augmentations\n",
        "        # each time they are applied.\n",
        "        x = tf.image.random_brightness(x, max_delta=0.8*s)\n",
        "        x = tf.image.random_contrast(x, lower=1-0.8*s, upper=1+0.8*s)\n",
        "        x = tf.image.random_saturation(x, lower=1-0.8*s, upper=1+0.8*s)\n",
        "        x = tf.image.random_hue(x, max_delta=0.2*s)\n",
        "        x = tf.clip_by_value(x, 0, 1)\n",
        "        return x\n",
        "    \n",
        "    def _color_drop(self, x):\n",
        "        x = tf.image.rgb_to_grayscale(x)\n",
        "        x = tf.tile(x, [1, 1, 1, 3])\n",
        "        return x\n",
        "    \n",
        "    def _random_apply(self, func, x, p):\n",
        "        return tf.cond(\n",
        "          tf.less(tf.random.uniform([], minval=0, maxval=1, dtype=tf.float32),\n",
        "                  tf.cast(p, tf.float32)),\n",
        "          lambda: func(x),\n",
        "          lambda: x)"
      ],
      "execution_count": null,
      "outputs": []
    },
    {
      "cell_type": "code",
      "metadata": {
        "id": "XKYH6UxnYa7g"
      },
      "source": [
        "# Build the augmentation pipeline\n",
        "data_augmentation = Sequential([Lambda(CustomAugment())])"
      ],
      "execution_count": null,
      "outputs": []
    },
    {
      "cell_type": "code",
      "metadata": {
        "id": "4eDTVhuHYdwi"
      },
      "source": [
        "# Image preprocessing utils\n",
        "@tf.function\n",
        "def parse_images(image_path):\n",
        "    image_string = tf.io.read_file(image_path)\n",
        "    image = tf.image.decode_jpeg(image_string, channels=3)\n",
        "    image = tf.image.convert_image_dtype(image, tf.float32)\n",
        "    image = tf.image.resize(image, size=[224, 224])\n",
        "\n",
        "    return image"
      ],
      "execution_count": null,
      "outputs": []
    },
    {
      "cell_type": "markdown",
      "metadata": {
        "id": "f1_3BSpYTwxB"
      },
      "source": [
        "# 6.0 Create training and test datasets"
      ]
    },
    {
      "cell_type": "code",
      "metadata": {
        "id": "otqf-I5FZLqd"
      },
      "source": [
        "# Create TensorFlow dataset\n",
        "BATCH_SIZE = 64\n",
        "\n",
        "train_ds = tf.data.Dataset.from_tensor_slices(train_images)\n",
        "train_ds = (\n",
        "    train_ds\n",
        "    .map(parse_images, num_parallel_calls=tf.data.experimental.AUTOTUNE)\n",
        "    .shuffle(1024)\n",
        "    .batch(BATCH_SIZE, drop_remainder=True)\n",
        "    .prefetch(tf.data.experimental.AUTOTUNE)\n",
        ")"
      ],
      "execution_count": null,
      "outputs": []
    },
    {
      "cell_type": "markdown",
      "metadata": {
        "id": "2avjHJzRgBYS"
      },
      "source": [
        "# 7.0 Build the DNN model using resNet50, dense layer, relu projection head"
      ]
    },
    {
      "cell_type": "code",
      "metadata": {
        "id": "F1_Wl0DzZQ5F"
      },
      "source": [
        "# Architecture utils\n",
        "def get_resnet_simclr(hidden_1, hidden_2, hidden_3):\n",
        "    base_model = tf.keras.applications.ResNet50(include_top=False, weights=None, input_shape=(224, 224, 3))\n",
        "    base_model.trainable = True\n",
        "    inputs = Input((224, 224, 3))\n",
        "    h = base_model(inputs, training=True)\n",
        "    h = GlobalAveragePooling2D()(h)\n",
        "\n",
        "    projection_1 = Dense(hidden_1)(h)\n",
        "    projection_1 = Activation(\"relu\")(projection_1)\n",
        "    projection_2 = Dense(hidden_2)(projection_1)\n",
        "    projection_2 = Activation(\"relu\")(projection_2)\n",
        "    projection_3 = Dense(hidden_3)(projection_2)\n",
        "\n",
        "    resnet_simclr = Model(inputs, projection_3)\n",
        "\n",
        "    return resnet_simclr"
      ],
      "execution_count": null,
      "outputs": []
    },
    {
      "cell_type": "markdown",
      "metadata": {
        "id": "Ao6R9YWJ-jwa"
      },
      "source": [
        "# 8.0 Contrastive similarity helper utilities  \n",
        "1. Ensure only distinct pair of images get their similarity score passed as -ve egs.    \n",
        "2. Similarity calculators"
      ]
    },
    {
      "cell_type": "code",
      "metadata": {
        "id": "7-hwmH_LZc7K",
        "colab": {
          "base_uri": "https://localhost:8080/"
        },
        "outputId": "9cd62f3a-fdcc-49bb-ef3f-ec526f6ff5ef"
      },
      "source": [
        "!wget https://raw.githubusercontent.com/sthalles/SimCLR-tensorflow/master/utils/helpers.py\n",
        "!wget https://raw.githubusercontent.com/sthalles/SimCLR-tensorflow/master/utils/losses.py"
      ],
      "execution_count": null,
      "outputs": [
        {
          "output_type": "stream",
          "name": "stdout",
          "text": [
            "--2021-09-19 23:57:34--  https://raw.githubusercontent.com/sthalles/SimCLR-tensorflow/master/utils/helpers.py\n",
            "Resolving raw.githubusercontent.com (raw.githubusercontent.com)... 185.199.111.133, 185.199.109.133, 185.199.110.133, ...\n",
            "Connecting to raw.githubusercontent.com (raw.githubusercontent.com)|185.199.111.133|:443... connected.\n",
            "HTTP request sent, awaiting response... 200 OK\n",
            "Length: 891 [text/plain]\n",
            "Saving to: ‘helpers.py’\n",
            "\n",
            "\rhelpers.py            0%[                    ]       0  --.-KB/s               \rhelpers.py          100%[===================>]     891  --.-KB/s    in 0s      \n",
            "\n",
            "2021-09-19 23:57:34 (34.7 MB/s) - ‘helpers.py’ saved [891/891]\n",
            "\n",
            "--2021-09-19 23:57:34--  https://raw.githubusercontent.com/sthalles/SimCLR-tensorflow/master/utils/losses.py\n",
            "Resolving raw.githubusercontent.com (raw.githubusercontent.com)... 185.199.108.133, 185.199.109.133, 185.199.110.133, ...\n",
            "Connecting to raw.githubusercontent.com (raw.githubusercontent.com)|185.199.108.133|:443... connected.\n",
            "HTTP request sent, awaiting response... 200 OK\n",
            "Length: 891 [text/plain]\n",
            "Saving to: ‘losses.py’\n",
            "\n",
            "losses.py           100%[===================>]     891  --.-KB/s    in 0s      \n",
            "\n",
            "2021-09-19 23:57:35 (46.7 MB/s) - ‘losses.py’ saved [891/891]\n",
            "\n"
          ]
        }
      ]
    },
    {
      "cell_type": "code",
      "metadata": {
        "id": "2OUhSNfTZgY6"
      },
      "source": [
        "from losses import _dot_simililarity_dim1 as sim_func_dim1, _dot_simililarity_dim2 as sim_func_dim2\n",
        "import helpers"
      ],
      "execution_count": null,
      "outputs": []
    },
    {
      "cell_type": "code",
      "metadata": {
        "id": "Y0Ae5dMLZney"
      },
      "source": [
        "# Mask to remove positive examples from the batch of negative samples\n",
        "negative_mask = helpers.get_negative_mask(BATCH_SIZE)"
      ],
      "execution_count": null,
      "outputs": []
    },
    {
      "cell_type": "markdown",
      "metadata": {
        "id": "vGNAKQDG_LIR"
      },
      "source": [
        "#9.0 Train the model using sparecategoricalcrossentropy loss function "
      ]
    },
    {
      "cell_type": "code",
      "metadata": {
        "id": "K6qPdhPrZpFA"
      },
      "source": [
        "@tf.function\n",
        "def train_step(xis, xjs, model, optimizer, criterion, temperature):\n",
        "    with tf.GradientTape() as tape:\n",
        "        zis = model(xis)\n",
        "        zjs = model(xjs)\n",
        "\n",
        "        # normalize projection feature vectors\n",
        "        zis = tf.math.l2_normalize(zis, axis=1)\n",
        "        zjs = tf.math.l2_normalize(zjs, axis=1)\n",
        "\n",
        "        l_pos = sim_func_dim1(zis, zjs)\n",
        "        l_pos = tf.reshape(l_pos, (BATCH_SIZE, 1))\n",
        "        l_pos /= temperature\n",
        "\n",
        "        negatives = tf.concat([zjs, zis], axis=0)\n",
        "\n",
        "        loss = 0\n",
        "\n",
        "        for positives in [zis, zjs]:\n",
        "            l_neg = sim_func_dim2(positives, negatives)\n",
        "\n",
        "            labels = tf.zeros(BATCH_SIZE, dtype=tf.int32)\n",
        "\n",
        "            l_neg = tf.boolean_mask(l_neg, negative_mask)\n",
        "            l_neg = tf.reshape(l_neg, (BATCH_SIZE, -1))\n",
        "            l_neg /= temperature\n",
        "\n",
        "            logits = tf.concat([l_pos, l_neg], axis=1) \n",
        "            loss += criterion(y_pred=logits, y_true=labels)\n",
        "\n",
        "        loss = loss / (2 * BATCH_SIZE)\n",
        "\n",
        "    gradients = tape.gradient(loss, model.trainable_variables)\n",
        "    optimizer.apply_gradients(zip(gradients, model.trainable_variables))\n",
        "\n",
        "    return loss"
      ],
      "execution_count": null,
      "outputs": []
    },
    {
      "cell_type": "code",
      "metadata": {
        "id": "nSs5WYn7g5v_",
        "colab": {
          "base_uri": "https://localhost:8080/",
          "height": 121
        },
        "outputId": "d8d3d188-a0a5-48d9-d424-294fc6f8f820"
      },
      "source": [
        "wandb.init(project=\"simclr\")"
      ],
      "execution_count": null,
      "outputs": [
        {
          "output_type": "display_data",
          "data": {
            "text/html": [
              "\n",
              "                Logging results to <a href=\"https://wandb.com\" target=\"_blank\">Weights & Biases</a> <a href=\"https://docs.wandb.com/integrations/jupyter.html\" target=\"_blank\">(Documentation)</a>.<br/>\n",
              "                Project page: <a href=\"https://app.wandb.ai/akbais/simclr\" target=\"_blank\">https://app.wandb.ai/akbais/simclr</a><br/>\n",
              "                Run page: <a href=\"https://app.wandb.ai/akbais/simclr/runs/5z2o8d3q\" target=\"_blank\">https://app.wandb.ai/akbais/simclr/runs/5z2o8d3q</a><br/>\n",
              "            "
            ],
            "text/plain": [
              "<IPython.core.display.HTML object>"
            ]
          },
          "metadata": {}
        },
        {
          "output_type": "stream",
          "name": "stderr",
          "text": [
            "\u001b[34m\u001b[1mwandb\u001b[0m: Wandb version 0.12.2 is available!  To upgrade, please run:\n",
            "\u001b[34m\u001b[1mwandb\u001b[0m:  $ pip install wandb --upgrade\n"
          ]
        },
        {
          "output_type": "execute_result",
          "data": {
            "text/plain": [
              "W&B Run: https://app.wandb.ai/akbais/simclr/runs/5z2o8d3q"
            ]
          },
          "metadata": {},
          "execution_count": 21
        }
      ]
    },
    {
      "cell_type": "code",
      "metadata": {
        "id": "zfp8gT4ZZtif"
      },
      "source": [
        "def train_simclr(model, dataset, optimizer, criterion,\n",
        "                 temperature=0.1, epochs=100):\n",
        "    step_wise_loss = []\n",
        "    epoch_wise_loss = []\n",
        "\n",
        "    for epoch in tqdm(range(epochs)):\n",
        "        for image_batch in dataset:\n",
        "            a = data_augmentation(image_batch)\n",
        "            b = data_augmentation(image_batch)\n",
        "\n",
        "            loss = train_step(a, b, model, optimizer, criterion, temperature)\n",
        "            step_wise_loss.append(loss)\n",
        "\n",
        "        epoch_wise_loss.append(np.mean(step_wise_loss))\n",
        "        wandb.log({\"nt_xentloss\": np.mean(step_wise_loss)})\n",
        "        \n",
        "        if epoch % 10 == 0:\n",
        "            print(\"epoch: {} loss: {:.3f}\".format(epoch + 1, np.mean(step_wise_loss)))\n",
        "\n",
        "    return epoch_wise_loss, model"
      ],
      "execution_count": null,
      "outputs": []
    },
    {
      "cell_type": "code",
      "metadata": {
        "id": "QKAoeXwJZ5S1",
        "colab": {
          "base_uri": "https://localhost:8080/"
        },
        "outputId": "29c2a660-8e43-4db6-a917-35e18736bf87"
      },
      "source": [
        "criterion = tf.keras.losses.SparseCategoricalCrossentropy(from_logits=True, \n",
        "                                                          reduction=tf.keras.losses.Reduction.SUM)\n",
        "decay_steps = 1000\n",
        "lr_decayed_fn = tf.keras.experimental.CosineDecay(\n",
        "    initial_learning_rate=0.1, decay_steps=decay_steps)\n",
        "optimizer = tf.keras.optimizers.SGD(lr_decayed_fn)\n",
        "\n",
        "resnet_simclr_2 = get_resnet_simclr(256, 128, 50)\n",
        "\n",
        "epoch_wise_loss, resnet_simclr  = train_simclr(resnet_simclr_2, train_ds, optimizer, criterion,\n",
        "                 temperature=0.1, epochs=200)\n",
        "\n",
        "with plt.xkcd():\n",
        "    plt.plot(epoch_wise_loss)\n",
        "    plt.title(\"tau = 0.1, h1 = 256, h2 = 128, h3 = 50\")\n",
        "    plt.show()"
      ],
      "execution_count": null,
      "outputs": [
        {
          "metadata": {
            "tags": null
          },
          "name": "stderr",
          "output_type": "stream",
          "text": [
            "  0%|          | 0/200 [00:00<?, ?it/s]\u001b[34m\u001b[1mwandb\u001b[0m: Wandb version 0.12.2 is available!  To upgrade, please run:\n",
            "\u001b[34m\u001b[1mwandb\u001b[0m:  $ pip install wandb --upgrade\n",
            "  0%|          | 1/200 [00:52<2:53:19, 52.26s/it]"
          ]
        },
        {
          "metadata": {
            "tags": null
          },
          "name": "stdout",
          "output_type": "stream",
          "text": [
            "epoch: 1 loss: 4.766\n"
          ]
        },
        {
          "metadata": {
            "tags": null
          },
          "name": "stderr",
          "output_type": "stream",
          "text": [
            "  6%|▌         | 11/200 [05:07<1:22:25, 26.17s/it]"
          ]
        },
        {
          "metadata": {
            "tags": null
          },
          "name": "stdout",
          "output_type": "stream",
          "text": [
            "epoch: 11 loss: 4.005\n"
          ]
        },
        {
          "metadata": {
            "tags": null
          },
          "name": "stderr",
          "output_type": "stream",
          "text": [
            " 10%|█         | 21/200 [09:31<1:18:55, 26.46s/it]"
          ]
        },
        {
          "metadata": {
            "tags": null
          },
          "name": "stdout",
          "output_type": "stream",
          "text": [
            "epoch: 21 loss: 3.541\n"
          ]
        },
        {
          "metadata": {
            "tags": null
          },
          "name": "stderr",
          "output_type": "stream",
          "text": [
            " 16%|█▌        | 31/200 [13:57<1:14:55, 26.60s/it]"
          ]
        },
        {
          "metadata": {
            "tags": null
          },
          "name": "stdout",
          "output_type": "stream",
          "text": [
            "epoch: 31 loss: 3.138\n"
          ]
        },
        {
          "metadata": {
            "tags": null
          },
          "name": "stderr",
          "output_type": "stream",
          "text": [
            " 20%|██        | 41/200 [18:22<1:10:11, 26.49s/it]"
          ]
        },
        {
          "metadata": {
            "tags": null
          },
          "name": "stdout",
          "output_type": "stream",
          "text": [
            "epoch: 41 loss: 2.802\n"
          ]
        },
        {
          "metadata": {
            "tags": null
          },
          "name": "stderr",
          "output_type": "stream",
          "text": [
            " 26%|██▌       | 51/200 [23:00<1:07:22, 27.13s/it]"
          ]
        },
        {
          "metadata": {
            "tags": null
          },
          "name": "stdout",
          "output_type": "stream",
          "text": [
            "epoch: 51 loss: 2.535\n"
          ]
        },
        {
          "metadata": {
            "tags": null
          },
          "name": "stderr",
          "output_type": "stream",
          "text": [
            " 30%|███       | 61/200 [27:25<1:01:16, 26.45s/it]"
          ]
        },
        {
          "metadata": {
            "tags": null
          },
          "name": "stdout",
          "output_type": "stream",
          "text": [
            "epoch: 61 loss: 2.392\n"
          ]
        },
        {
          "metadata": {
            "tags": null
          },
          "name": "stderr",
          "output_type": "stream",
          "text": [
            " 36%|███▌      | 71/200 [31:49<56:53, 26.46s/it]"
          ]
        },
        {
          "metadata": {
            "tags": null
          },
          "name": "stdout",
          "output_type": "stream",
          "text": [
            "epoch: 71 loss: 2.245\n"
          ]
        },
        {
          "metadata": {
            "tags": null
          },
          "name": "stderr",
          "output_type": "stream",
          "text": [
            " 40%|████      | 81/200 [36:14<52:29, 26.46s/it]"
          ]
        },
        {
          "metadata": {
            "tags": null
          },
          "name": "stdout",
          "output_type": "stream",
          "text": [
            "epoch: 81 loss: 2.160\n"
          ]
        },
        {
          "metadata": {
            "tags": null
          },
          "name": "stderr",
          "output_type": "stream",
          "text": [
            " 46%|████▌     | 91/200 [40:53<56:01, 30.84s/it]"
          ]
        },
        {
          "metadata": {
            "tags": null
          },
          "name": "stdout",
          "output_type": "stream",
          "text": [
            "epoch: 91 loss: 2.090\n"
          ]
        },
        {
          "metadata": {
            "tags": null
          },
          "name": "stderr",
          "output_type": "stream",
          "text": [
            " 50%|█████     | 101/200 [45:17<43:49, 26.56s/it]"
          ]
        },
        {
          "metadata": {
            "tags": null
          },
          "name": "stdout",
          "output_type": "stream",
          "text": [
            "epoch: 101 loss: 2.022\n"
          ]
        },
        {
          "metadata": {
            "tags": null
          },
          "name": "stderr",
          "output_type": "stream",
          "text": [
            " 56%|█████▌    | 111/200 [49:41<39:15, 26.47s/it]"
          ]
        },
        {
          "metadata": {
            "tags": null
          },
          "name": "stdout",
          "output_type": "stream",
          "text": [
            "epoch: 111 loss: 1.970\n"
          ]
        },
        {
          "metadata": {
            "tags": null
          },
          "name": "stderr",
          "output_type": "stream",
          "text": [
            " 60%|██████    | 121/200 [54:06<34:49, 26.45s/it]"
          ]
        },
        {
          "metadata": {
            "tags": null
          },
          "name": "stdout",
          "output_type": "stream",
          "text": [
            "epoch: 121 loss: 1.920\n"
          ]
        },
        {
          "metadata": {
            "tags": null
          },
          "name": "stderr",
          "output_type": "stream",
          "text": [
            " 66%|██████▌   | 131/200 [58:30<30:26, 26.48s/it]"
          ]
        },
        {
          "metadata": {
            "tags": null
          },
          "name": "stdout",
          "output_type": "stream",
          "text": [
            "epoch: 131 loss: 1.878\n"
          ]
        },
        {
          "metadata": {
            "tags": null
          },
          "name": "stderr",
          "output_type": "stream",
          "text": [
            " 70%|███████   | 141/200 [1:02:55<25:59, 26.44s/it]"
          ]
        },
        {
          "metadata": {
            "tags": null
          },
          "name": "stdout",
          "output_type": "stream",
          "text": [
            "epoch: 141 loss: 1.846\n"
          ]
        },
        {
          "output_type": "stream",
          "name": "stderr",
          "text": [
            " 76%|███████▌  | 151/200 [1:07:19<21:34, 26.42s/it]"
          ]
        },
        {
          "output_type": "stream",
          "name": "stdout",
          "text": [
            "epoch: 151 loss: 1.813\n"
          ]
        },
        {
          "output_type": "stream",
          "name": "stderr",
          "text": [
            " 80%|████████  | 161/200 [1:11:44<17:10, 26.43s/it]"
          ]
        },
        {
          "output_type": "stream",
          "name": "stdout",
          "text": [
            "epoch: 161 loss: 1.791\n"
          ]
        },
        {
          "output_type": "stream",
          "name": "stderr",
          "text": [
            " 86%|████████▌ | 171/200 [1:16:08<12:46, 26.43s/it]"
          ]
        },
        {
          "output_type": "stream",
          "name": "stdout",
          "text": [
            "epoch: 171 loss: 1.777\n"
          ]
        },
        {
          "output_type": "stream",
          "name": "stderr",
          "text": [
            " 90%|█████████ | 181/200 [1:20:32<08:22, 26.44s/it]"
          ]
        },
        {
          "output_type": "stream",
          "name": "stdout",
          "text": [
            "epoch: 181 loss: 1.765\n"
          ]
        },
        {
          "output_type": "stream",
          "name": "stderr",
          "text": [
            " 94%|█████████▎| 187/200 [1:23:11<05:43, 26.41s/it]"
          ]
        }
      ]
    },
    {
      "cell_type": "markdown",
      "metadata": {
        "id": "HXCy84vvgBYo"
      },
      "source": [
        "#10.0 Save trained weights on weights and bias account  "
      ]
    },
    {
      "cell_type": "code",
      "metadata": {
        "id": "_OyIyB-kkHuN",
        "colab": {
          "base_uri": "https://localhost:8080/",
          "height": 36
        },
        "outputId": "761feb40-af68-4974-aac0-c6ed69940209"
      },
      "source": [
        "import datetime\n",
        "filename = datetime.datetime.now().strftime(\"%Y%m%d-%H%M%S\") + \"resnet_simclr.h5\"\n",
        "filename"
      ],
      "execution_count": null,
      "outputs": [
        {
          "output_type": "execute_result",
          "data": {
            "application/vnd.google.colaboratory.intrinsic+json": {
              "type": "string"
            },
            "text/plain": [
              "'20210920-013456resnet_simclr.h5'"
            ]
          },
          "metadata": {},
          "execution_count": 25
        }
      ]
    },
    {
      "cell_type": "code",
      "metadata": {
        "id": "CdkBEeB5sMU4",
        "colab": {
          "base_uri": "https://localhost:8080/"
        },
        "outputId": "c6af35e3-e63b-4360-ef7c-1b16dad725f8"
      },
      "source": [
        "resnet_simclr.save_weights(filename)\n",
        "wandb.save(filename)"
      ],
      "execution_count": null,
      "outputs": [
        {
          "output_type": "stream",
          "name": "stderr",
          "text": [
            "\u001b[34m\u001b[1mwandb\u001b[0m: Wandb version 0.12.2 is available!  To upgrade, please run:\n",
            "\u001b[34m\u001b[1mwandb\u001b[0m:  $ pip install wandb --upgrade\n"
          ]
        },
        {
          "output_type": "execute_result",
          "data": {
            "text/plain": [
              "['/content/wandb/run-20210920_000140-5z2o8d3q/20210920-013456resnet_simclr.h5']"
            ]
          },
          "metadata": {},
          "execution_count": 26
        }
      ]
    },
    {
      "cell_type": "markdown",
      "metadata": {
        "id": "FZEFaFW0641L"
      },
      "source": [
        "#11.0 Restore weights from weights and bias account"
      ]
    },
    {
      "cell_type": "code",
      "metadata": {
        "id": "E3A3dmcM25rG"
      },
      "source": [
        "#simclr_weights = resnet_simclr.load_weights(\"/content/wandb/run-20210920_000140-5z2o8d3q/20210920-013456resnet_simclr.h5\")"
      ],
      "execution_count": null,
      "outputs": []
    },
    {
      "cell_type": "code",
      "metadata": {
        "id": "uR2LyyrT3AhU"
      },
      "source": [
        "simclr_weights = wandb.restore(\"20210920-013456resnet_simclr.h5\", run_path=\"akbais/simclr/runs/5z2o8d3q\")"
      ],
      "execution_count": null,
      "outputs": []
    },
    {
      "cell_type": "markdown",
      "metadata": {
        "id": "dXWyzw-GVAM3"
      },
      "source": [
        "# 12.0 Add a linear classifier projection head, train, test, evaluate"
      ]
    },
    {
      "cell_type": "markdown",
      "metadata": {
        "id": "N4ajU-s36cv6"
      },
      "source": [
        "## 12.1 Load test image paths\n"
      ]
    },
    {
      "cell_type": "code",
      "metadata": {
        "colab": {
          "base_uri": "https://localhost:8080/"
        },
        "id": "ViaQhOsx5u13",
        "outputId": "3a10e241-dda8-4fa2-c896-bce3095f537c"
      },
      "source": [
        "# Other imports\n",
        "from sklearn.preprocessing import LabelEncoder\n",
        "from sklearn.manifold import TSNE\n",
        "from tensorflow.keras.layers import *\n",
        "from tensorflow.keras.models import *\n",
        "from wandb.keras import WandbCallback\n",
        "import matplotlib.pyplot as plt\n",
        "from imutils import paths\n",
        "from tqdm import tqdm\n",
        "import tensorflow as tf\n",
        "import seaborn as sns\n",
        "import numpy as np\n",
        "import cv2\n",
        "\n",
        "# Random seed fixation\n",
        "tf.random.set_seed(666)\n",
        "np.random.seed(666)\n",
        "test_images = list(paths.list_images(\"imagenet-5-categories/test\"))\n",
        "print(len(test_images))"
      ],
      "execution_count": null,
      "outputs": [
        {
          "output_type": "stream",
          "name": "stdout",
          "text": [
            "250\n"
          ]
        }
      ]
    },
    {
      "cell_type": "code",
      "metadata": {
        "colab": {
          "base_uri": "https://localhost:8080/"
        },
        "id": "Udbf9kBw6lUR",
        "outputId": "f2b376c8-99b6-4e0f-c3d6-e1a839455a74"
      },
      "source": [
        "# 10% of the dataset\n",
        "train_images_10 = np.random.choice(train_images, len(train_images)//10)\n",
        "len(train_images_10)"
      ],
      "execution_count": null,
      "outputs": [
        {
          "output_type": "execute_result",
          "data": {
            "text/plain": [
              "125"
            ]
          },
          "metadata": {},
          "execution_count": 40
        }
      ]
    },
    {
      "cell_type": "markdown",
      "metadata": {
        "id": "bPptoTkU6-Nn"
      },
      "source": [
        "## 12.2 Train, test split. Train with 10% of imagenet"
      ]
    },
    {
      "cell_type": "code",
      "metadata": {
        "id": "X6brY8A66omf"
      },
      "source": [
        "def prepare_images(image_paths):\n",
        "    images = []\n",
        "    labels = []\n",
        "\n",
        "    for image in tqdm(image_paths):\n",
        "        image_pixels = plt.imread(image)\n",
        "        image_pixels = cv2.resize(image_pixels, (224, 224))\n",
        "        image_pixels = image_pixels/255.\n",
        "\n",
        "        label = image.split(\"/\")[2].split(\"_\")[0]\n",
        "\n",
        "        images.append(image_pixels)\n",
        "        labels.append(label)\n",
        "\n",
        "    images = np.array(images)\n",
        "    labels = np.array(labels)\n",
        "\n",
        "    print(images.shape, labels.shape)\n",
        "\n",
        "    return images, labels"
      ],
      "execution_count": null,
      "outputs": []
    },
    {
      "cell_type": "code",
      "metadata": {
        "colab": {
          "base_uri": "https://localhost:8080/"
        },
        "id": "IiCo2qIP6rnj",
        "outputId": "cc80a6cc-5ef2-47ce-ded5-fd988cbdcb1f"
      },
      "source": [
        "X_train, y_train = prepare_images(train_images_10)\n",
        "X_test, y_test = prepare_images(test_images)"
      ],
      "execution_count": null,
      "outputs": [
        {
          "output_type": "stream",
          "name": "stderr",
          "text": [
            "100%|██████████| 125/125 [00:00<00:00, 222.69it/s]\n"
          ]
        },
        {
          "output_type": "stream",
          "name": "stdout",
          "text": [
            "(125, 224, 224, 3) (125,)\n"
          ]
        },
        {
          "output_type": "stream",
          "name": "stderr",
          "text": [
            "100%|██████████| 250/250 [00:01<00:00, 228.23it/s]\n"
          ]
        },
        {
          "output_type": "stream",
          "name": "stdout",
          "text": [
            "(250, 224, 224, 3) (250,)\n"
          ]
        }
      ]
    },
    {
      "cell_type": "code",
      "metadata": {
        "id": "SV3fL2HC6t7b"
      },
      "source": [
        "le = LabelEncoder()\n",
        "y_train_enc = le.fit_transform(y_train)\n",
        "y_test_enc = le.transform(y_test)"
      ],
      "execution_count": null,
      "outputs": []
    },
    {
      "cell_type": "markdown",
      "metadata": {
        "id": "ejb-FKOQ_s5T"
      },
      "source": [
        "## 12.3 Apply the weights from previously trained resNet_simclr in 7.0"
      ]
    },
    {
      "cell_type": "code",
      "metadata": {
        "colab": {
          "base_uri": "https://localhost:8080/"
        },
        "id": "04H_jda37OSt",
        "outputId": "a4c5e79c-27be-41e2-bb2e-368dee923d0d"
      },
      "source": [
        "resnet_simclr = get_resnet_simclr(256, 128, 50)\n",
        "resnet_simclr.load_weights(simclr_weights.name)\n",
        "resnet_simclr.summary()"
      ],
      "execution_count": null,
      "outputs": [
        {
          "output_type": "stream",
          "name": "stdout",
          "text": [
            "Model: \"model_1\"\n",
            "_________________________________________________________________\n",
            "Layer (type)                 Output Shape              Param #   \n",
            "=================================================================\n",
            "input_4 (InputLayer)         [(None, 224, 224, 3)]     0         \n",
            "_________________________________________________________________\n",
            "resnet50 (Functional)        (None, 7, 7, 2048)        23587712  \n",
            "_________________________________________________________________\n",
            "global_average_pooling2d_1 ( (None, 2048)              0         \n",
            "_________________________________________________________________\n",
            "dense_3 (Dense)              (None, 256)               524544    \n",
            "_________________________________________________________________\n",
            "activation_2 (Activation)    (None, 256)               0         \n",
            "_________________________________________________________________\n",
            "dense_4 (Dense)              (None, 128)               32896     \n",
            "_________________________________________________________________\n",
            "activation_3 (Activation)    (None, 128)               0         \n",
            "_________________________________________________________________\n",
            "dense_5 (Dense)              (None, 50)                6450      \n",
            "=================================================================\n",
            "Total params: 24,151,602\n",
            "Trainable params: 24,098,482\n",
            "Non-trainable params: 53,120\n",
            "_________________________________________________________________\n"
          ]
        }
      ]
    },
    {
      "cell_type": "markdown",
      "metadata": {
        "id": "vfwZmGCuABBu"
      },
      "source": [
        "#13.0 Visualization helpers for loss, acccuracy"
      ]
    },
    {
      "cell_type": "markdown",
      "metadata": {
        "id": "k-YpAFz9Wh4F"
      },
      "source": [
        "## 13.1. Plot training loss, accuracy"
      ]
    },
    {
      "cell_type": "code",
      "metadata": {
        "id": "Glj8X0Vs7UX9"
      },
      "source": [
        "def plot_training(H):\n",
        "\twith plt.xkcd():\n",
        "\t\tplt.plot(H.history[\"loss\"], label=\"train_loss\")\n",
        "\t\tplt.plot(H.history[\"val_loss\"], label=\"val_loss\")\n",
        "\t\tplt.plot(H.history[\"accuracy\"], label=\"train_acc\")\n",
        "\t\tplt.plot(H.history[\"val_accuracy\"], label=\"val_acc\")\n",
        "\t\tplt.title(\"Training Loss and Accuracy\")\n",
        "\t\tplt.xlabel(\"Epoch #\")\n",
        "\t\tplt.ylabel(\"Loss/Accuracy\")\n",
        "\t\tplt.legend(loc=\"lower left\")\n",
        "\t\tplt.show()"
      ],
      "execution_count": null,
      "outputs": []
    },
    {
      "cell_type": "markdown",
      "metadata": {
        "id": "9DSE9UwP7a0l"
      },
      "source": [
        "# 14.0 Evaluate model with different projections"
      ]
    },
    {
      "cell_type": "code",
      "metadata": {
        "id": "5kGJMDhkWqAm"
      },
      "source": [
        "def get_linear_model(features):\n",
        "    linear_model = Sequential([Dense(5, input_shape=(features, ), activation=\"softmax\")])\n",
        "    return linear_model"
      ],
      "execution_count": null,
      "outputs": []
    },
    {
      "cell_type": "code",
      "metadata": {
        "colab": {
          "base_uri": "https://localhost:8080/"
        },
        "id": "X25MzjmC7cjk",
        "outputId": "9c2ed3ec-d13e-4046-f7dc-436f8bb644b7"
      },
      "source": [
        "resnet_simclr.layers[1].trainable = False\n",
        "resnet_simclr.summary()"
      ],
      "execution_count": null,
      "outputs": [
        {
          "output_type": "stream",
          "name": "stdout",
          "text": [
            "Model: \"model_1\"\n",
            "_________________________________________________________________\n",
            "Layer (type)                 Output Shape              Param #   \n",
            "=================================================================\n",
            "input_4 (InputLayer)         [(None, 224, 224, 3)]     0         \n",
            "_________________________________________________________________\n",
            "resnet50 (Functional)        (None, 7, 7, 2048)        23587712  \n",
            "_________________________________________________________________\n",
            "global_average_pooling2d_1 ( (None, 2048)              0         \n",
            "_________________________________________________________________\n",
            "dense_3 (Dense)              (None, 256)               524544    \n",
            "_________________________________________________________________\n",
            "activation_2 (Activation)    (None, 256)               0         \n",
            "_________________________________________________________________\n",
            "dense_4 (Dense)              (None, 128)               32896     \n",
            "_________________________________________________________________\n",
            "activation_3 (Activation)    (None, 128)               0         \n",
            "_________________________________________________________________\n",
            "dense_5 (Dense)              (None, 50)                6450      \n",
            "=================================================================\n",
            "Total params: 24,151,602\n",
            "Trainable params: 563,890\n",
            "Non-trainable params: 23,587,712\n",
            "_________________________________________________________________\n"
          ]
        }
      ]
    },
    {
      "cell_type": "markdown",
      "metadata": {
        "id": "UYuE10E09WAb"
      },
      "source": [
        "## 14.1 Evaluate simclr with non-linear projections"
      ]
    },
    {
      "cell_type": "code",
      "metadata": {
        "colab": {
          "base_uri": "https://localhost:8080/"
        },
        "id": "_lFkqsK27fZf",
        "outputId": "efef89d4-6b58-4322-cff9-efa008862a66"
      },
      "source": [
        "# Encoder model with non-linear projections\n",
        "projection = Model(resnet_simclr.input, resnet_simclr.layers[-2].output)\n",
        "\n",
        "# Extract train and test features\n",
        "train_features = projection.predict(X_train)\n",
        "test_features = projection.predict(X_test)\n",
        "\n",
        "print(train_features.shape, test_features.shape)"
      ],
      "execution_count": null,
      "outputs": [
        {
          "output_type": "stream",
          "name": "stdout",
          "text": [
            "(125, 128) (250, 128)\n"
          ]
        }
      ]
    },
    {
      "cell_type": "code",
      "metadata": {
        "id": "emuZhtan7i2L"
      },
      "source": [
        "# Early Stopping to prevent overfitting\n",
        "es = tf.keras.callbacks.EarlyStopping(monitor=\"val_loss\", patience=2, verbose=2, restore_best_weights=True)"
      ],
      "execution_count": null,
      "outputs": []
    },
    {
      "cell_type": "code",
      "metadata": {
        "colab": {
          "base_uri": "https://localhost:8080/",
          "height": 1000
        },
        "id": "bFJyBzyM7lbB",
        "outputId": "1147319e-e284-4f2b-e30c-e85e156f0993"
      },
      "source": [
        "# Linear model\n",
        "wandb.init(project=\"simclr\", id=\"linear-eval-relu-last\")\n",
        "\n",
        "linear_model = get_linear_model(128)\n",
        "linear_model.compile(loss=\"sparse_categorical_crossentropy\", metrics=[\"accuracy\"],\n",
        "                     optimizer=\"adam\")\n",
        "history = linear_model.fit(train_features, y_train_enc,\n",
        "                 validation_data=(test_features, y_test_enc),\n",
        "                 batch_size=64,\n",
        "                 epochs=35,\n",
        "                 callbacks=[es, WandbCallback()])\n",
        "plot_training(history)"
      ],
      "execution_count": null,
      "outputs": [
        {
          "output_type": "display_data",
          "data": {
            "text/html": [
              "\n",
              "                Logging results to <a href=\"https://wandb.com\" target=\"_blank\">Weights & Biases</a> <a href=\"https://docs.wandb.com/integrations/jupyter.html\" target=\"_blank\">(Documentation)</a>.<br/>\n",
              "                Project page: <a href=\"https://app.wandb.ai/akbais/simclr\" target=\"_blank\">https://app.wandb.ai/akbais/simclr</a><br/>\n",
              "                Run page: <a href=\"https://app.wandb.ai/akbais/simclr/runs/linear-eval-relu-last\" target=\"_blank\">https://app.wandb.ai/akbais/simclr/runs/linear-eval-relu-last</a><br/>\n",
              "            "
            ],
            "text/plain": [
              "<IPython.core.display.HTML object>"
            ]
          },
          "metadata": {}
        },
        {
          "output_type": "stream",
          "name": "stderr",
          "text": [
            "\u001b[34m\u001b[1mwandb\u001b[0m: Wandb version 0.12.2 is available!  To upgrade, please run:\n",
            "\u001b[34m\u001b[1mwandb\u001b[0m:  $ pip install wandb --upgrade\n"
          ]
        },
        {
          "output_type": "stream",
          "name": "stdout",
          "text": [
            "Epoch 1/35\n",
            "2/2 [==============================] - 0s 164ms/step - loss: 3.0239 - accuracy: 0.2320 - val_loss: 2.9618 - val_accuracy: 0.2280\n",
            "Epoch 2/35\n",
            "1/2 [==============>...............] - ETA: 0s - loss: 3.1654 - accuracy: 0.2031WARNING:tensorflow:Callback method `on_train_batch_end` is slow compared to the batch time (batch time: 0.0020s vs `on_train_batch_end` time: 0.0026s). Check your callbacks.\n",
            "2/2 [==============================] - 0s 26ms/step - loss: 2.8780 - accuracy: 0.2640 - val_loss: 2.8542 - val_accuracy: 0.2320\n",
            "Epoch 3/35\n",
            "2/2 [==============================] - 0s 32ms/step - loss: 2.7477 - accuracy: 0.2880 - val_loss: 2.7577 - val_accuracy: 0.2640\n",
            "Epoch 4/35\n",
            "2/2 [==============================] - 0s 24ms/step - loss: 2.6302 - accuracy: 0.2960 - val_loss: 2.6718 - val_accuracy: 0.2800\n",
            "Epoch 5/35\n",
            "2/2 [==============================] - 0s 32ms/step - loss: 2.5293 - accuracy: 0.3040 - val_loss: 2.5930 - val_accuracy: 0.2920\n",
            "Epoch 6/35\n",
            "2/2 [==============================] - 0s 23ms/step - loss: 2.4404 - accuracy: 0.2880 - val_loss: 2.5189 - val_accuracy: 0.2920\n",
            "Epoch 7/35\n",
            "2/2 [==============================] - 0s 24ms/step - loss: 2.3604 - accuracy: 0.3040 - val_loss: 2.4493 - val_accuracy: 0.2880\n",
            "Epoch 8/35\n",
            "2/2 [==============================] - 0s 23ms/step - loss: 2.2857 - accuracy: 0.3280 - val_loss: 2.3836 - val_accuracy: 0.3000\n",
            "Epoch 9/35\n",
            "2/2 [==============================] - 0s 24ms/step - loss: 2.2124 - accuracy: 0.3280 - val_loss: 2.3213 - val_accuracy: 0.3000\n",
            "Epoch 10/35\n",
            "2/2 [==============================] - 0s 26ms/step - loss: 2.1452 - accuracy: 0.3360 - val_loss: 2.2612 - val_accuracy: 0.3000\n",
            "Epoch 11/35\n",
            "2/2 [==============================] - 0s 22ms/step - loss: 2.0767 - accuracy: 0.3040 - val_loss: 2.2040 - val_accuracy: 0.3120\n",
            "Epoch 12/35\n",
            "2/2 [==============================] - 0s 27ms/step - loss: 2.0140 - accuracy: 0.3360 - val_loss: 2.1514 - val_accuracy: 0.3240\n",
            "Epoch 13/35\n",
            "2/2 [==============================] - 0s 23ms/step - loss: 1.9558 - accuracy: 0.3360 - val_loss: 2.0995 - val_accuracy: 0.3280\n",
            "Epoch 14/35\n",
            "2/2 [==============================] - 0s 27ms/step - loss: 1.8947 - accuracy: 0.3680 - val_loss: 2.0533 - val_accuracy: 0.3280\n",
            "Epoch 15/35\n",
            "2/2 [==============================] - 0s 27ms/step - loss: 1.8406 - accuracy: 0.3760 - val_loss: 2.0088 - val_accuracy: 0.3360\n",
            "Epoch 16/35\n",
            "2/2 [==============================] - 0s 28ms/step - loss: 1.7867 - accuracy: 0.3680 - val_loss: 1.9689 - val_accuracy: 0.3360\n",
            "Epoch 17/35\n",
            "2/2 [==============================] - 0s 23ms/step - loss: 1.7407 - accuracy: 0.3680 - val_loss: 1.9313 - val_accuracy: 0.3440\n",
            "Epoch 18/35\n",
            "2/2 [==============================] - 0s 37ms/step - loss: 1.6926 - accuracy: 0.4000 - val_loss: 1.8982 - val_accuracy: 0.3520\n",
            "Epoch 19/35\n",
            "2/2 [==============================] - 0s 29ms/step - loss: 1.6484 - accuracy: 0.4080 - val_loss: 1.8674 - val_accuracy: 0.3520\n",
            "Epoch 20/35\n",
            "2/2 [==============================] - 0s 27ms/step - loss: 1.6063 - accuracy: 0.4080 - val_loss: 1.8405 - val_accuracy: 0.3640\n",
            "Epoch 21/35\n",
            "2/2 [==============================] - 0s 28ms/step - loss: 1.5656 - accuracy: 0.4080 - val_loss: 1.8161 - val_accuracy: 0.3600\n",
            "Epoch 22/35\n",
            "2/2 [==============================] - 0s 27ms/step - loss: 1.5270 - accuracy: 0.4240 - val_loss: 1.7944 - val_accuracy: 0.3600\n",
            "Epoch 23/35\n",
            "2/2 [==============================] - 0s 25ms/step - loss: 1.4945 - accuracy: 0.4240 - val_loss: 1.7741 - val_accuracy: 0.3640\n",
            "Epoch 24/35\n",
            "2/2 [==============================] - 0s 22ms/step - loss: 1.4581 - accuracy: 0.4400 - val_loss: 1.7549 - val_accuracy: 0.3720\n",
            "Epoch 25/35\n",
            "2/2 [==============================] - 0s 23ms/step - loss: 1.4254 - accuracy: 0.4400 - val_loss: 1.7380 - val_accuracy: 0.3720\n",
            "Epoch 26/35\n",
            "2/2 [==============================] - 0s 23ms/step - loss: 1.3945 - accuracy: 0.4560 - val_loss: 1.7225 - val_accuracy: 0.3840\n",
            "Epoch 27/35\n",
            "2/2 [==============================] - 0s 43ms/step - loss: 1.3693 - accuracy: 0.4560 - val_loss: 1.7099 - val_accuracy: 0.3840\n",
            "Epoch 28/35\n",
            "2/2 [==============================] - 0s 24ms/step - loss: 1.3442 - accuracy: 0.4560 - val_loss: 1.6978 - val_accuracy: 0.3880\n",
            "Epoch 29/35\n",
            "2/2 [==============================] - 0s 40ms/step - loss: 1.3185 - accuracy: 0.4480 - val_loss: 1.6879 - val_accuracy: 0.3880\n",
            "Epoch 30/35\n",
            "2/2 [==============================] - 0s 38ms/step - loss: 1.2951 - accuracy: 0.4400 - val_loss: 1.6782 - val_accuracy: 0.4040\n",
            "Epoch 31/35\n",
            "2/2 [==============================] - 0s 25ms/step - loss: 1.2741 - accuracy: 0.4720 - val_loss: 1.6699 - val_accuracy: 0.4040\n",
            "Epoch 32/35\n",
            "2/2 [==============================] - 0s 26ms/step - loss: 1.2542 - accuracy: 0.4720 - val_loss: 1.6624 - val_accuracy: 0.4080\n",
            "Epoch 33/35\n",
            "2/2 [==============================] - 0s 30ms/step - loss: 1.2362 - accuracy: 0.4720 - val_loss: 1.6554 - val_accuracy: 0.4040\n",
            "Epoch 34/35\n",
            "2/2 [==============================] - 0s 23ms/step - loss: 1.2183 - accuracy: 0.4800 - val_loss: 1.6492 - val_accuracy: 0.4040\n",
            "Epoch 35/35\n",
            "2/2 [==============================] - 0s 27ms/step - loss: 1.2005 - accuracy: 0.4880 - val_loss: 1.6430 - val_accuracy: 0.4040\n"
          ]
        },
        {
          "output_type": "display_data",
          "data": {
            "image/png": "[encoded data removed]",
            "text/plain": [
              "<Figure size 432x288 with 1 Axes>"
            ]
          },
          "metadata": {}
        }
      ]
    },
    {
      "cell_type": "markdown",
      "metadata": {
        "id": "ApmZIm1H9A88"
      },
      "source": [
        "## 14.2 Evaluate simclr with less non-linearity"
      ]
    },
    {
      "cell_type": "code",
      "metadata": {
        "colab": {
          "base_uri": "https://localhost:8080/"
        },
        "id": "2COIn3eR7qBD",
        "outputId": "cd6d3e4b-de51-488a-b3ad-920326c6dfa1"
      },
      "source": [
        "# Encoder model with less non-linearity\n",
        "projection = Model(resnet_simclr.input, resnet_simclr.layers[-4].output)\n",
        "\n",
        "# Extract train and test features\n",
        "train_features = projection.predict(X_train)\n",
        "test_features = projection.predict(X_test)\n",
        "\n",
        "print(train_features.shape, test_features.shape)"
      ],
      "execution_count": null,
      "outputs": [
        {
          "output_type": "stream",
          "name": "stdout",
          "text": [
            "(125, 256) (250, 256)\n"
          ]
        }
      ]
    },
    {
      "cell_type": "code",
      "metadata": {
        "colab": {
          "base_uri": "https://localhost:8080/",
          "height": 1000
        },
        "id": "TVQpCQ707tLq",
        "outputId": "fc5c1fbc-7552-4940-eb8b-f89a5099646b"
      },
      "source": [
        "wandb.init(project=\"simclr\", id=\"linear-eval-relu-second-last\")\n",
        "\n",
        "linear_model = get_linear_model(256)\n",
        "linear_model.compile(loss=\"sparse_categorical_crossentropy\", metrics=[\"accuracy\"],\n",
        "                     optimizer=\"adam\")\n",
        "history = linear_model.fit(train_features, y_train_enc,\n",
        "                 validation_data=(test_features, y_test_enc),\n",
        "                 batch_size=64,\n",
        "                 epochs=35,\n",
        "                 callbacks=[es, WandbCallback()])\n",
        "plot_training(history)"
      ],
      "execution_count": null,
      "outputs": [
        {
          "output_type": "display_data",
          "data": {
            "text/html": [
              "\n",
              "                Logging results to <a href=\"https://wandb.com\" target=\"_blank\">Weights & Biases</a> <a href=\"https://docs.wandb.com/integrations/jupyter.html\" target=\"_blank\">(Documentation)</a>.<br/>\n",
              "                Project page: <a href=\"https://app.wandb.ai/akbais/simclr\" target=\"_blank\">https://app.wandb.ai/akbais/simclr</a><br/>\n",
              "                Run page: <a href=\"https://app.wandb.ai/akbais/simclr/runs/linear-eval-relu-second-last\" target=\"_blank\">https://app.wandb.ai/akbais/simclr/runs/linear-eval-relu-second-last</a><br/>\n",
              "            "
            ],
            "text/plain": [
              "<IPython.core.display.HTML object>"
            ]
          },
          "metadata": {}
        },
        {
          "output_type": "stream",
          "name": "stderr",
          "text": [
            "\u001b[34m\u001b[1mwandb\u001b[0m: Wandb version 0.12.2 is available!  To upgrade, please run:\n",
            "\u001b[34m\u001b[1mwandb\u001b[0m:  $ pip install wandb --upgrade\n"
          ]
        },
        {
          "output_type": "stream",
          "name": "stdout",
          "text": [
            "Epoch 1/35\n",
            "2/2 [==============================] - 0s 137ms/step - loss: 3.7653 - accuracy: 0.2240 - val_loss: 3.3849 - val_accuracy: 0.2600\n",
            "Epoch 2/35\n",
            "1/2 [==============>...............] - ETA: 0s - loss: 3.7167 - accuracy: 0.2344WARNING:tensorflow:Callback method `on_train_batch_end` is slow compared to the batch time (batch time: 0.0018s vs `on_train_batch_end` time: 0.0027s). Check your callbacks.\n",
            "2/2 [==============================] - 0s 30ms/step - loss: 3.4220 - accuracy: 0.2480 - val_loss: 3.0935 - val_accuracy: 0.2680\n",
            "Epoch 3/35\n",
            "2/2 [==============================] - 0s 40ms/step - loss: 3.1054 - accuracy: 0.2400 - val_loss: 2.8524 - val_accuracy: 0.2880\n",
            "Epoch 4/35\n",
            "2/2 [==============================] - 0s 24ms/step - loss: 2.8587 - accuracy: 0.2880 - val_loss: 2.6565 - val_accuracy: 0.3040\n",
            "Epoch 5/35\n",
            "2/2 [==============================] - 0s 22ms/step - loss: 2.6335 - accuracy: 0.3120 - val_loss: 2.5038 - val_accuracy: 0.3160\n",
            "Epoch 6/35\n",
            "2/2 [==============================] - 0s 28ms/step - loss: 2.4721 - accuracy: 0.2880 - val_loss: 2.3807 - val_accuracy: 0.3000\n",
            "Epoch 7/35\n",
            "2/2 [==============================] - 0s 35ms/step - loss: 2.3512 - accuracy: 0.3040 - val_loss: 2.2682 - val_accuracy: 0.2920\n",
            "Epoch 8/35\n",
            "2/2 [==============================] - 0s 40ms/step - loss: 2.2152 - accuracy: 0.3440 - val_loss: 2.1509 - val_accuracy: 0.3080\n",
            "Epoch 9/35\n",
            "2/2 [==============================] - 0s 23ms/step - loss: 2.0749 - accuracy: 0.3680 - val_loss: 2.0269 - val_accuracy: 0.3160\n",
            "Epoch 10/35\n",
            "2/2 [==============================] - 0s 24ms/step - loss: 1.9508 - accuracy: 0.3840 - val_loss: 1.8990 - val_accuracy: 0.3160\n",
            "Epoch 11/35\n",
            "2/2 [==============================] - 0s 22ms/step - loss: 1.8288 - accuracy: 0.3760 - val_loss: 1.7799 - val_accuracy: 0.3280\n",
            "Epoch 12/35\n",
            "2/2 [==============================] - 0s 32ms/step - loss: 1.7008 - accuracy: 0.3520 - val_loss: 1.6811 - val_accuracy: 0.3400\n",
            "Epoch 13/35\n",
            "2/2 [==============================] - 0s 30ms/step - loss: 1.6062 - accuracy: 0.3600 - val_loss: 1.6012 - val_accuracy: 0.3520\n",
            "Epoch 14/35\n",
            "2/2 [==============================] - 0s 25ms/step - loss: 1.5309 - accuracy: 0.3680 - val_loss: 1.5395 - val_accuracy: 0.3640\n",
            "Epoch 15/35\n",
            "2/2 [==============================] - 0s 24ms/step - loss: 1.4735 - accuracy: 0.4160 - val_loss: 1.4927 - val_accuracy: 0.3720\n",
            "Epoch 16/35\n",
            "2/2 [==============================] - 0s 26ms/step - loss: 1.4251 - accuracy: 0.4160 - val_loss: 1.4576 - val_accuracy: 0.4080\n",
            "Epoch 17/35\n",
            "2/2 [==============================] - 0s 31ms/step - loss: 1.3856 - accuracy: 0.4080 - val_loss: 1.4293 - val_accuracy: 0.4240\n",
            "Epoch 18/35\n",
            "2/2 [==============================] - 0s 24ms/step - loss: 1.3479 - accuracy: 0.4160 - val_loss: 1.4089 - val_accuracy: 0.4280\n",
            "Epoch 19/35\n",
            "2/2 [==============================] - 0s 25ms/step - loss: 1.3176 - accuracy: 0.4560 - val_loss: 1.3913 - val_accuracy: 0.4400\n",
            "Epoch 20/35\n",
            "2/2 [==============================] - 0s 25ms/step - loss: 1.2908 - accuracy: 0.4480 - val_loss: 1.3778 - val_accuracy: 0.4360\n",
            "Epoch 21/35\n",
            "2/2 [==============================] - 0s 27ms/step - loss: 1.2702 - accuracy: 0.4640 - val_loss: 1.3672 - val_accuracy: 0.4360\n",
            "Epoch 22/35\n",
            "2/2 [==============================] - 0s 24ms/step - loss: 1.2524 - accuracy: 0.4800 - val_loss: 1.3583 - val_accuracy: 0.4360\n",
            "Epoch 23/35\n",
            "2/2 [==============================] - 0s 29ms/step - loss: 1.2394 - accuracy: 0.4800 - val_loss: 1.3517 - val_accuracy: 0.4320\n",
            "Epoch 24/35\n",
            "2/2 [==============================] - 0s 27ms/step - loss: 1.2235 - accuracy: 0.4880 - val_loss: 1.3434 - val_accuracy: 0.4320\n",
            "Epoch 25/35\n",
            "2/2 [==============================] - 0s 23ms/step - loss: 1.2144 - accuracy: 0.4960 - val_loss: 1.3361 - val_accuracy: 0.4280\n",
            "Epoch 26/35\n",
            "2/2 [==============================] - 0s 37ms/step - loss: 1.1988 - accuracy: 0.4800 - val_loss: 1.3321 - val_accuracy: 0.4320\n",
            "Epoch 27/35\n",
            "2/2 [==============================] - 0s 25ms/step - loss: 1.1846 - accuracy: 0.4880 - val_loss: 1.3330 - val_accuracy: 0.4320\n",
            "Epoch 28/35\n",
            "2/2 [==============================] - 0s 23ms/step - loss: 1.1726 - accuracy: 0.4800 - val_loss: 1.3331 - val_accuracy: 0.4320\n",
            "Restoring model weights from the end of the best epoch.\n",
            "Epoch 00028: early stopping\n"
          ]
        },
        {
          "output_type": "display_data",
          "data": {
            "image/png": "[encoded data removed]",
            "text/plain": [
              "<Figure size 432x288 with 1 Axes>"
            ]
          },
          "metadata": {}
        }
      ]
    },
    {
      "cell_type": "markdown",
      "metadata": {
        "id": "9zgAFCZ_9LW_"
      },
      "source": [
        "## 14.3 Evaluate simclr with no non-linear projections\n"
      ]
    },
    {
      "cell_type": "code",
      "metadata": {
        "colab": {
          "base_uri": "https://localhost:8080/"
        },
        "id": "a2LzriUr7xhn",
        "outputId": "7ec9253d-cdde-4cd3-be92-afe4760f13b9"
      },
      "source": [
        "# Encoder model with no projection\n",
        "projection = Model(resnet_simclr.input, resnet_simclr.layers[-6].output)\n",
        "\n",
        "# Extract train and test features\n",
        "train_features = projection.predict(X_train)\n",
        "test_features = projection.predict(X_test)\n",
        "\n",
        "print(train_features.shape, test_features.shape)"
      ],
      "execution_count": null,
      "outputs": [
        {
          "output_type": "stream",
          "name": "stdout",
          "text": [
            "(125, 2048) (250, 2048)\n"
          ]
        }
      ]
    },
    {
      "cell_type": "code",
      "metadata": {
        "colab": {
          "base_uri": "https://localhost:8080/",
          "height": 747
        },
        "id": "AQNDw0q073vr",
        "outputId": "c36c9366-24ee-4887-c47c-87d74d3f47a9"
      },
      "source": [
        "wandb.init(project=\"simclr\", id=\"linear-eval-no-projections\")\n",
        "\n",
        "linear_model = get_linear_model(2048)\n",
        "linear_model.compile(loss=\"sparse_categorical_crossentropy\", metrics=[\"accuracy\"],\n",
        "                     optimizer=\"adam\")\n",
        "history = linear_model.fit(train_features, y_train_enc,\n",
        "                 validation_data=(test_features, y_test_enc),\n",
        "                 batch_size=64,\n",
        "                 epochs=35,\n",
        "                 callbacks=[es, WandbCallback()])\n",
        "plot_training(history)"
      ],
      "execution_count": null,
      "outputs": [
        {
          "output_type": "display_data",
          "data": {
            "text/html": [
              "\n",
              "                Logging results to <a href=\"https://wandb.com\" target=\"_blank\">Weights & Biases</a> <a href=\"https://docs.wandb.com/integrations/jupyter.html\" target=\"_blank\">(Documentation)</a>.<br/>\n",
              "                Project page: <a href=\"https://app.wandb.ai/akbais/simclr\" target=\"_blank\">https://app.wandb.ai/akbais/simclr</a><br/>\n",
              "                Run page: <a href=\"https://app.wandb.ai/akbais/simclr/runs/linear-eval-no-projections\" target=\"_blank\">https://app.wandb.ai/akbais/simclr/runs/linear-eval-no-projections</a><br/>\n",
              "            "
            ],
            "text/plain": [
              "<IPython.core.display.HTML object>"
            ]
          },
          "metadata": {}
        },
        {
          "output_type": "stream",
          "name": "stderr",
          "text": [
            "\u001b[34m\u001b[1mwandb\u001b[0m: Wandb version 0.12.2 is available!  To upgrade, please run:\n",
            "\u001b[34m\u001b[1mwandb\u001b[0m:  $ pip install wandb --upgrade\n"
          ]
        },
        {
          "output_type": "stream",
          "name": "stdout",
          "text": [
            "Epoch 1/35\n",
            "2/2 [==============================] - 0s 145ms/step - loss: 2.4916 - accuracy: 0.1840 - val_loss: 2.3340 - val_accuracy: 0.2200\n",
            "Epoch 2/35\n",
            "1/2 [==============>...............] - ETA: 0s - loss: 2.3944 - accuracy: 0.1719WARNING:tensorflow:Callback method `on_train_batch_end` is slow compared to the batch time (batch time: 0.0018s vs `on_train_batch_end` time: 0.0034s). Check your callbacks.\n",
            "2/2 [==============================] - 0s 31ms/step - loss: 2.3462 - accuracy: 0.1840 - val_loss: 1.6811 - val_accuracy: 0.3200\n",
            "Epoch 3/35\n",
            "2/2 [==============================] - 0s 26ms/step - loss: 1.7648 - accuracy: 0.2080 - val_loss: 1.7288 - val_accuracy: 0.2400\n",
            "Epoch 4/35\n",
            "2/2 [==============================] - 0s 25ms/step - loss: 1.6701 - accuracy: 0.3120 - val_loss: 1.6057 - val_accuracy: 0.2600\n",
            "Epoch 5/35\n",
            "2/2 [==============================] - 0s 25ms/step - loss: 1.5070 - accuracy: 0.3520 - val_loss: 1.3448 - val_accuracy: 0.4320\n",
            "Epoch 6/35\n",
            "2/2 [==============================] - 0s 30ms/step - loss: 1.3365 - accuracy: 0.4080 - val_loss: 1.2586 - val_accuracy: 0.5080\n",
            "Epoch 7/35\n",
            "2/2 [==============================] - 0s 26ms/step - loss: 1.3267 - accuracy: 0.4320 - val_loss: 1.2994 - val_accuracy: 0.4520\n",
            "Epoch 8/35\n",
            "2/2 [==============================] - 0s 27ms/step - loss: 1.2882 - accuracy: 0.4880 - val_loss: 1.2604 - val_accuracy: 0.4760\n",
            "Restoring model weights from the end of the best epoch.\n",
            "Epoch 00008: early stopping\n"
          ]
        },
        {
          "output_type": "display_data",
          "data": {
            "image/png": "[encoded data removed]",
            "text/plain": [
              "<Figure size 432x288 with 1 Axes>"
            ]
          },
          "metadata": {}
        }
      ]
    },
    {
      "cell_type": "markdown",
      "metadata": {
        "id": "EhvsN-d277r2"
      },
      "source": [
        "# 15.0 Visualization helpers for TSNE"
      ]
    },
    {
      "cell_type": "code",
      "metadata": {
        "colab": {
          "base_uri": "https://localhost:8080/",
          "height": 121
        },
        "id": "-fZpWIdZ78rA",
        "outputId": "a3b1858c-775c-40de-de8a-9723888f103d"
      },
      "source": [
        "wandb.init(project=\"simclr\", id=\"visualization\")"
      ],
      "execution_count": null,
      "outputs": [
        {
          "output_type": "display_data",
          "data": {
            "text/html": [
              "\n",
              "                Logging results to <a href=\"https://wandb.com\" target=\"_blank\">Weights & Biases</a> <a href=\"https://docs.wandb.com/integrations/jupyter.html\" target=\"_blank\">(Documentation)</a>.<br/>\n",
              "                Project page: <a href=\"https://app.wandb.ai/akbais/simclr\" target=\"_blank\">https://app.wandb.ai/akbais/simclr</a><br/>\n",
              "                Run page: <a href=\"https://app.wandb.ai/akbais/simclr/runs/visualization\" target=\"_blank\">https://app.wandb.ai/akbais/simclr/runs/visualization</a><br/>\n",
              "            "
            ],
            "text/plain": [
              "<IPython.core.display.HTML object>"
            ]
          },
          "metadata": {}
        },
        {
          "output_type": "stream",
          "name": "stderr",
          "text": [
            "\u001b[34m\u001b[1mwandb\u001b[0m: Wandb version 0.12.2 is available!  To upgrade, please run:\n",
            "\u001b[34m\u001b[1mwandb\u001b[0m:  $ pip install wandb --upgrade\n"
          ]
        },
        {
          "output_type": "execute_result",
          "data": {
            "text/plain": [
              "W&B Run: https://app.wandb.ai/akbais/simclr/runs/visualization"
            ]
          },
          "metadata": {},
          "execution_count": 59
        }
      ]
    },
    {
      "cell_type": "code",
      "metadata": {
        "id": "VWyG-C_Z8Btr"
      },
      "source": [
        "# Visualization of the representations\n",
        "def plot_vecs_n_labels(v, labels):\n",
        "    fig = plt.figure(figsize = (10, 10))\n",
        "    sns.set_style(\"darkgrid\")\n",
        "    sns.scatterplot(v[:,0], v[:,1], hue=labels, legend='full', palette=sns.color_palette(\"bright\", 5))\n",
        "    plt.show()\n",
        "\n",
        "    return fig"
      ],
      "execution_count": null,
      "outputs": []
    },
    {
      "cell_type": "markdown",
      "metadata": {
        "id": "nJmB_AyBARqL"
      },
      "source": [
        "## 15.1 TSNE visualization with no non-linear projections"
      ]
    },
    {
      "cell_type": "code",
      "metadata": {
        "colab": {
          "base_uri": "https://localhost:8080/",
          "height": 914
        },
        "id": "TpRfwan78FVI",
        "outputId": "07db93d1-30e4-4fe5-8ca5-3c8322dde556"
      },
      "source": [
        "# Representations with no nonlinear projections\n",
        "tsne = TSNE()\n",
        "low_vectors = tsne.fit_transform(train_features)\n",
        "fig = plot_vecs_n_labels(low_vectors, y_train_enc)\n",
        "wandb.log({\"no_no_linear_projection\": fig})"
      ],
      "execution_count": null,
      "outputs": [
        {
          "output_type": "stream",
          "name": "stderr",
          "text": [
            "/usr/local/lib/python3.7/dist-packages/seaborn/_decorators.py:43: FutureWarning: Pass the following variables as keyword args: x, y. From version 0.12, the only valid positional argument will be `data`, and passing other arguments without an explicit keyword will result in an error or misinterpretation.\n",
            "  FutureWarning\n"
          ]
        },
        {
          "output_type": "display_data",
          "data": {
            "image/png": "[encoded data removed]",
            "text/plain": [
              "<Figure size 720x720 with 1 Axes>"
            ]
          },
          "metadata": {
            "needs_background": "light"
          }
        },
        {
          "output_type": "stream",
          "name": "stderr",
          "text": [
            "\u001b[34m\u001b[1mwandb\u001b[0m: Wandb version 0.12.2 is available!  To upgrade, please run:\n",
            "\u001b[34m\u001b[1mwandb\u001b[0m:  $ pip install wandb --upgrade\n",
            "/usr/local/lib/python3.7/dist-packages/plotly/matplotlylib/mpltools.py:368: MatplotlibDeprecationWarning:\n",
            "\n",
            "\n",
            "The is_frame_like function was deprecated in Matplotlib 3.1 and will be removed in 3.3.\n",
            "\n",
            "/usr/local/lib/python3.7/dist-packages/plotly/matplotlylib/renderer.py:474: UserWarning:\n",
            "\n",
            "Dang! That path collection is out of this world. I totally don't know what to do with it yet! Plotly can only import path collections linked to 'data' coordinates\n",
            "\n",
            "/usr/local/lib/python3.7/dist-packages/plotly/matplotlylib/renderer.py:512: UserWarning:\n",
            "\n",
            "I found a path object that I don't think is part of a bar chart. Ignoring.\n",
            "\n"
          ]
        }
      ]
    },
    {
      "cell_type": "markdown",
      "metadata": {
        "id": "PCFa1LObAYvO"
      },
      "source": [
        "## 15.2 TSNE visualization with less non-linearity"
      ]
    },
    {
      "cell_type": "code",
      "metadata": {
        "colab": {
          "base_uri": "https://localhost:8080/",
          "height": 950
        },
        "id": "WRMEIrrd8Jjb",
        "outputId": "2ffb9d08-7d8d-4703-f0f5-97c11d5168aa"
      },
      "source": [
        "# Representations with second last ReLU\n",
        "tsne = TSNE()\n",
        "projection = Model(resnet_simclr.input, resnet_simclr.layers[-4].output)\n",
        "train_features = projection.predict(X_train)\n",
        "low_vectors = tsne.fit_transform(train_features)\n",
        "fig = plot_vecs_n_labels(low_vectors, y_train_enc)\n",
        "wandb.log({\"second_last_relu\": fig})"
      ],
      "execution_count": null,
      "outputs": [
        {
          "output_type": "stream",
          "name": "stderr",
          "text": [
            "/usr/local/lib/python3.7/dist-packages/seaborn/_decorators.py:43: FutureWarning:\n",
            "\n",
            "Pass the following variables as keyword args: x, y. From version 0.12, the only valid positional argument will be `data`, and passing other arguments without an explicit keyword will result in an error or misinterpretation.\n",
            "\n"
          ]
        },
        {
          "output_type": "display_data",
          "data": {
            "image/png": "[encoded data removed]",
            "text/plain": [
              "<Figure size 720x720 with 1 Axes>"
            ]
          },
          "metadata": {}
        },
        {
          "output_type": "stream",
          "name": "stderr",
          "text": [
            "\u001b[34m\u001b[1mwandb\u001b[0m: Wandb version 0.12.2 is available!  To upgrade, please run:\n",
            "\u001b[34m\u001b[1mwandb\u001b[0m:  $ pip install wandb --upgrade\n",
            "/usr/local/lib/python3.7/dist-packages/plotly/matplotlylib/mpltools.py:368: MatplotlibDeprecationWarning:\n",
            "\n",
            "\n",
            "The is_frame_like function was deprecated in Matplotlib 3.1 and will be removed in 3.3.\n",
            "\n",
            "/usr/local/lib/python3.7/dist-packages/plotly/matplotlylib/renderer.py:474: UserWarning:\n",
            "\n",
            "Dang! That path collection is out of this world. I totally don't know what to do with it yet! Plotly can only import path collections linked to 'data' coordinates\n",
            "\n",
            "/usr/local/lib/python3.7/dist-packages/plotly/matplotlylib/renderer.py:512: UserWarning:\n",
            "\n",
            "I found a path object that I don't think is part of a bar chart. Ignoring.\n",
            "\n"
          ]
        }
      ]
    },
    {
      "cell_type": "markdown",
      "metadata": {
        "id": "md6BLKcbA3ta"
      },
      "source": [
        "## 15.3 TSNE visualization with non-linear projections"
      ]
    },
    {
      "cell_type": "code",
      "metadata": {
        "colab": {
          "base_uri": "https://localhost:8080/",
          "height": 950
        },
        "id": "K26nYBRH8N_b",
        "outputId": "794260a6-3bbb-48dd-cec2-d35f0b5b2ceb"
      },
      "source": [
        "# Representations with the last ReLU\n",
        "tsne = TSNE()\n",
        "projection = Model(resnet_simclr.input, resnet_simclr.layers[-2].output)\n",
        "train_features = projection.predict(X_train)\n",
        "low_vectors = tsne.fit_transform(train_features)\n",
        "fig = plot_vecs_n_labels(low_vectors, y_train_enc)\n",
        "wandb.log({\"last_relu\": fig})"
      ],
      "execution_count": null,
      "outputs": [
        {
          "output_type": "stream",
          "name": "stderr",
          "text": [
            "/usr/local/lib/python3.7/dist-packages/seaborn/_decorators.py:43: FutureWarning:\n",
            "\n",
            "Pass the following variables as keyword args: x, y. From version 0.12, the only valid positional argument will be `data`, and passing other arguments without an explicit keyword will result in an error or misinterpretation.\n",
            "\n"
          ]
        },
        {
          "output_type": "display_data",
          "data": {
            "image/png": "[encoded data removed]",
            "text/plain": [
              "<Figure size 720x720 with 1 Axes>"
            ]
          },
          "metadata": {}
        },
        {
          "output_type": "stream",
          "name": "stderr",
          "text": [
            "\u001b[34m\u001b[1mwandb\u001b[0m: Wandb version 0.12.2 is available!  To upgrade, please run:\n",
            "\u001b[34m\u001b[1mwandb\u001b[0m:  $ pip install wandb --upgrade\n",
            "/usr/local/lib/python3.7/dist-packages/plotly/matplotlylib/mpltools.py:368: MatplotlibDeprecationWarning:\n",
            "\n",
            "\n",
            "The is_frame_like function was deprecated in Matplotlib 3.1 and will be removed in 3.3.\n",
            "\n",
            "/usr/local/lib/python3.7/dist-packages/plotly/matplotlylib/renderer.py:474: UserWarning:\n",
            "\n",
            "Dang! That path collection is out of this world. I totally don't know what to do with it yet! Plotly can only import path collections linked to 'data' coordinates\n",
            "\n",
            "/usr/local/lib/python3.7/dist-packages/plotly/matplotlylib/renderer.py:512: UserWarning:\n",
            "\n",
            "I found a path object that I don't think is part of a bar chart. Ignoring.\n",
            "\n"
          ]
        }
      ]
    }
  ]
}