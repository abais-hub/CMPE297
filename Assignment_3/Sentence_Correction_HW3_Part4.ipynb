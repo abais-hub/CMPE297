{
  "nbformat": 4,
  "nbformat_minor": 0,
  "metadata": {
    "colab": {
      "name": "Sentence_Correction_HW3_Part4.ipynb",
      "provenance": [],
      "collapsed_sections": [],
      "toc_visible": true
    },
    "kernelspec": {
      "name": "python3",
      "display_name": "Python 3"
    },
    "language_info": {
      "name": "python"
    },
    "accelerator": "GPU",
    "widgets": {
      "application/vnd.jupyter.widget-state+json": {
        "b99796a2bfdf415f811752f8cc88d79d": {
          "model_module": "@jupyter-widgets/controls",
          "model_name": "VBoxModel",
          "model_module_version": "1.5.0",
          "state": {
            "_view_name": "VBoxView",
            "_dom_classes": [],
            "_model_name": "VBoxModel",
            "_view_module": "@jupyter-widgets/controls",
            "_model_module_version": "1.5.0",
            "_view_count": null,
            "_view_module_version": "1.5.0",
            "box_style": "",
            "layout": "IPY_MODEL_39291803782340e2b9ed3bc23d2ddf3a",
            "_model_module": "@jupyter-widgets/controls",
            "children": [
              "IPY_MODEL_0477be02c8404555a141194af3d606ed",
              "IPY_MODEL_1be51eb55ed14539821ec1ee074e75b5"
            ]
          }
        },
        "39291803782340e2b9ed3bc23d2ddf3a": {
          "model_module": "@jupyter-widgets/base",
          "model_name": "LayoutModel",
          "model_module_version": "1.2.0",
          "state": {
            "_view_name": "LayoutView",
            "grid_template_rows": null,
            "right": null,
            "justify_content": null,
            "_view_module": "@jupyter-widgets/base",
            "overflow": null,
            "_model_module_version": "1.2.0",
            "_view_count": null,
            "flex_flow": null,
            "width": null,
            "min_width": null,
            "border": null,
            "align_items": null,
            "bottom": null,
            "_model_module": "@jupyter-widgets/base",
            "top": null,
            "grid_column": null,
            "overflow_y": null,
            "overflow_x": null,
            "grid_auto_flow": null,
            "grid_area": null,
            "grid_template_columns": null,
            "flex": null,
            "_model_name": "LayoutModel",
            "justify_items": null,
            "grid_row": null,
            "max_height": null,
            "align_content": null,
            "visibility": null,
            "align_self": null,
            "height": null,
            "min_height": null,
            "padding": null,
            "grid_auto_rows": null,
            "grid_gap": null,
            "max_width": null,
            "order": null,
            "_view_module_version": "1.2.0",
            "grid_template_areas": null,
            "object_position": null,
            "object_fit": null,
            "grid_auto_columns": null,
            "margin": null,
            "display": null,
            "left": null
          }
        },
        "0477be02c8404555a141194af3d606ed": {
          "model_module": "@jupyter-widgets/controls",
          "model_name": "LabelModel",
          "model_module_version": "1.5.0",
          "state": {
            "_view_name": "LabelView",
            "style": "IPY_MODEL_56d67131ad1744b7a1f630b922002d96",
            "_dom_classes": [],
            "description": "",
            "_model_name": "LabelModel",
            "placeholder": "​",
            "_view_module": "@jupyter-widgets/controls",
            "_model_module_version": "1.5.0",
            "value": " 0.01MB of 0.01MB uploaded (0.00MB deduped)\r",
            "_view_count": null,
            "_view_module_version": "1.5.0",
            "description_tooltip": null,
            "_model_module": "@jupyter-widgets/controls",
            "layout": "IPY_MODEL_aaa90507380849c1b005cf8dafa1196c"
          }
        },
        "1be51eb55ed14539821ec1ee074e75b5": {
          "model_module": "@jupyter-widgets/controls",
          "model_name": "FloatProgressModel",
          "model_module_version": "1.5.0",
          "state": {
            "_view_name": "ProgressView",
            "style": "IPY_MODEL_6491dc1c7278437ca8bf177c309aefb6",
            "_dom_classes": [],
            "description": "",
            "_model_name": "FloatProgressModel",
            "bar_style": "",
            "max": 1,
            "_view_module": "@jupyter-widgets/controls",
            "_model_module_version": "1.5.0",
            "value": 1,
            "_view_count": null,
            "_view_module_version": "1.5.0",
            "orientation": "horizontal",
            "min": 0,
            "description_tooltip": null,
            "_model_module": "@jupyter-widgets/controls",
            "layout": "IPY_MODEL_d65ddae94e60443682abf94024aa757c"
          }
        },
        "56d67131ad1744b7a1f630b922002d96": {
          "model_module": "@jupyter-widgets/controls",
          "model_name": "DescriptionStyleModel",
          "model_module_version": "1.5.0",
          "state": {
            "_view_name": "StyleView",
            "_model_name": "DescriptionStyleModel",
            "description_width": "",
            "_view_module": "@jupyter-widgets/base",
            "_model_module_version": "1.5.0",
            "_view_count": null,
            "_view_module_version": "1.2.0",
            "_model_module": "@jupyter-widgets/controls"
          }
        },
        "aaa90507380849c1b005cf8dafa1196c": {
          "model_module": "@jupyter-widgets/base",
          "model_name": "LayoutModel",
          "model_module_version": "1.2.0",
          "state": {
            "_view_name": "LayoutView",
            "grid_template_rows": null,
            "right": null,
            "justify_content": null,
            "_view_module": "@jupyter-widgets/base",
            "overflow": null,
            "_model_module_version": "1.2.0",
            "_view_count": null,
            "flex_flow": null,
            "width": null,
            "min_width": null,
            "border": null,
            "align_items": null,
            "bottom": null,
            "_model_module": "@jupyter-widgets/base",
            "top": null,
            "grid_column": null,
            "overflow_y": null,
            "overflow_x": null,
            "grid_auto_flow": null,
            "grid_area": null,
            "grid_template_columns": null,
            "flex": null,
            "_model_name": "LayoutModel",
            "justify_items": null,
            "grid_row": null,
            "max_height": null,
            "align_content": null,
            "visibility": null,
            "align_self": null,
            "height": null,
            "min_height": null,
            "padding": null,
            "grid_auto_rows": null,
            "grid_gap": null,
            "max_width": null,
            "order": null,
            "_view_module_version": "1.2.0",
            "grid_template_areas": null,
            "object_position": null,
            "object_fit": null,
            "grid_auto_columns": null,
            "margin": null,
            "display": null,
            "left": null
          }
        },
        "6491dc1c7278437ca8bf177c309aefb6": {
          "model_module": "@jupyter-widgets/controls",
          "model_name": "ProgressStyleModel",
          "model_module_version": "1.5.0",
          "state": {
            "_view_name": "StyleView",
            "_model_name": "ProgressStyleModel",
            "description_width": "",
            "_view_module": "@jupyter-widgets/base",
            "_model_module_version": "1.5.0",
            "_view_count": null,
            "_view_module_version": "1.2.0",
            "bar_color": null,
            "_model_module": "@jupyter-widgets/controls"
          }
        },
        "d65ddae94e60443682abf94024aa757c": {
          "model_module": "@jupyter-widgets/base",
          "model_name": "LayoutModel",
          "model_module_version": "1.2.0",
          "state": {
            "_view_name": "LayoutView",
            "grid_template_rows": null,
            "right": null,
            "justify_content": null,
            "_view_module": "@jupyter-widgets/base",
            "overflow": null,
            "_model_module_version": "1.2.0",
            "_view_count": null,
            "flex_flow": null,
            "width": null,
            "min_width": null,
            "border": null,
            "align_items": null,
            "bottom": null,
            "_model_module": "@jupyter-widgets/base",
            "top": null,
            "grid_column": null,
            "overflow_y": null,
            "overflow_x": null,
            "grid_auto_flow": null,
            "grid_area": null,
            "grid_template_columns": null,
            "flex": null,
            "_model_name": "LayoutModel",
            "justify_items": null,
            "grid_row": null,
            "max_height": null,
            "align_content": null,
            "visibility": null,
            "align_self": null,
            "height": null,
            "min_height": null,
            "padding": null,
            "grid_auto_rows": null,
            "grid_gap": null,
            "max_width": null,
            "order": null,
            "_view_module_version": "1.2.0",
            "grid_template_areas": null,
            "object_position": null,
            "object_fit": null,
            "grid_auto_columns": null,
            "margin": null,
            "display": null,
            "left": null
          }
        }
      }
    }
  },
  "cells": [
    {
      "cell_type": "markdown",
      "metadata": {
        "id": "qs0ZQ36o-Ay4"
      },
      "source": [
        "## CMPE 297 - Assignment 3 - Part 4\n",
        "## Sentence Correction"
      ]
    },
    {
      "cell_type": "markdown",
      "metadata": {
        "id": "rEWYz40i35Qq"
      },
      "source": [
        "#1.0 Load libraries"
      ]
    },
    {
      "cell_type": "code",
      "metadata": {
        "id": "N8tViacd97OK"
      },
      "source": [
        "import numpy as np\n",
        "import pandas as pd \n",
        "import tensorflow as tf\n",
        "import tensorflow_hub as hub\n",
        "import tensorflow_datasets as tfds\n",
        "from tensorboard import notebook"
      ],
      "execution_count": 10,
      "outputs": []
    },
    {
      "cell_type": "markdown",
      "metadata": {
        "id": "JroWMkBv38Zg"
      },
      "source": [
        "# 2.0 Read in the Cola dataset"
      ]
    },
    {
      "cell_type": "code",
      "metadata": {
        "colab": {
          "base_uri": "https://localhost:8080/"
        },
        "id": "ee3YeQvSpM_N",
        "outputId": "be071f7a-bbd7-49dd-85dd-328a64ae4096"
      },
      "source": [
        "!mkdir -p data/raw\n",
        "!curl https://dl.fbaipublicfiles.com/glue/data/CoLA.zip -L -o data/raw/raw.zip\n",
        "!unzip data/raw/raw.zip -d data/raw"
      ],
      "execution_count": 11,
      "outputs": [
        {
          "output_type": "stream",
          "name": "stdout",
          "text": [
            "  % Total    % Received % Xferd  Average Speed   Time    Time     Time  Current\n",
            "                                 Dload  Upload   Total   Spent    Left  Speed\n",
            "100  368k  100  368k    0     0   237k      0  0:00:01  0:00:01 --:--:--  237k\n",
            "Archive:  data/raw/raw.zip\n",
            "replace data/raw/CoLA/dev.tsv? [y]es, [n]o, [A]ll, [N]one, [r]ename: n\n",
            "replace data/raw/CoLA/original/raw/in_domain_dev.tsv? [y]es, [n]o, [A]ll, [N]one, [r]ename: n\n",
            "replace data/raw/CoLA/original/raw/in_domain_train.tsv? [y]es, [n]o, [A]ll, [N]one, [r]ename: n\n",
            "replace data/raw/CoLA/original/raw/out_of_domain_dev.tsv? [y]es, [n]o, [A]ll, [N]one, [r]ename: n\n",
            "replace data/raw/CoLA/original/tokenized/in_domain_dev.tsv? [y]es, [n]o, [A]ll, [N]one, [r]ename: n\n",
            "replace data/raw/CoLA/original/tokenized/in_domain_train.tsv? [y]es, [n]o, [A]ll, [N]one, [r]ename: n\n",
            "replace data/raw/CoLA/original/tokenized/out_of_domain_dev.tsv? [y]es, [n]o, [A]ll, [N]one, [r]ename: n\n",
            "replace data/raw/CoLA/test.tsv? [y]es, [n]o, [A]ll, [N]one, [r]ename: n\n",
            "replace data/raw/CoLA/train.tsv? [y]es, [n]o, [A]ll, [N]one, [r]ename: n\n"
          ]
        }
      ]
    },
    {
      "cell_type": "markdown",
      "metadata": {
        "id": "5U0-UTSI9Uv8"
      },
      "source": [
        "#3.0 Prepare the train, test set"
      ]
    },
    {
      "cell_type": "code",
      "metadata": {
        "colab": {
          "base_uri": "https://localhost:8080/",
          "height": 202
        },
        "id": "8pPVYlKSrU3D",
        "outputId": "def5f7e9-96d1-4e4b-a315-209c5aef609e"
      },
      "source": [
        "train_df = pd.read_csv(\"./data/raw/CoLA/train.tsv\", names=[\"id\", \"label\", \"etc\", \"text\"], sep='\\t')\n",
        "train_X = tf.constant(train_df.text)\n",
        "train_y = tf.constant(train_df.label)\n",
        "train_df.head()"
      ],
      "execution_count": 12,
      "outputs": [
        {
          "output_type": "execute_result",
          "data": {
            "text/html": [
              "<div>\n",
              "<style scoped>\n",
              "    .dataframe tbody tr th:only-of-type {\n",
              "        vertical-align: middle;\n",
              "    }\n",
              "\n",
              "    .dataframe tbody tr th {\n",
              "        vertical-align: top;\n",
              "    }\n",
              "\n",
              "    .dataframe thead th {\n",
              "        text-align: right;\n",
              "    }\n",
              "</style>\n",
              "<table border=\"1\" class=\"dataframe\">\n",
              "  <thead>\n",
              "    <tr style=\"text-align: right;\">\n",
              "      <th></th>\n",
              "      <th>id</th>\n",
              "      <th>label</th>\n",
              "      <th>etc</th>\n",
              "      <th>text</th>\n",
              "    </tr>\n",
              "  </thead>\n",
              "  <tbody>\n",
              "    <tr>\n",
              "      <th>0</th>\n",
              "      <td>gj04</td>\n",
              "      <td>1</td>\n",
              "      <td>NaN</td>\n",
              "      <td>Our friends won't buy this analysis, let alone...</td>\n",
              "    </tr>\n",
              "    <tr>\n",
              "      <th>1</th>\n",
              "      <td>gj04</td>\n",
              "      <td>1</td>\n",
              "      <td>NaN</td>\n",
              "      <td>One more pseudo generalization and I'm giving up.</td>\n",
              "    </tr>\n",
              "    <tr>\n",
              "      <th>2</th>\n",
              "      <td>gj04</td>\n",
              "      <td>1</td>\n",
              "      <td>NaN</td>\n",
              "      <td>One more pseudo generalization or I'm giving up.</td>\n",
              "    </tr>\n",
              "    <tr>\n",
              "      <th>3</th>\n",
              "      <td>gj04</td>\n",
              "      <td>1</td>\n",
              "      <td>NaN</td>\n",
              "      <td>The more we study verbs, the crazier they get.</td>\n",
              "    </tr>\n",
              "    <tr>\n",
              "      <th>4</th>\n",
              "      <td>gj04</td>\n",
              "      <td>1</td>\n",
              "      <td>NaN</td>\n",
              "      <td>Day by day the facts are getting murkier.</td>\n",
              "    </tr>\n",
              "  </tbody>\n",
              "</table>\n",
              "</div>"
            ],
            "text/plain": [
              "     id  label  etc                                               text\n",
              "0  gj04      1  NaN  Our friends won't buy this analysis, let alone...\n",
              "1  gj04      1  NaN  One more pseudo generalization and I'm giving up.\n",
              "2  gj04      1  NaN   One more pseudo generalization or I'm giving up.\n",
              "3  gj04      1  NaN     The more we study verbs, the crazier they get.\n",
              "4  gj04      1  NaN          Day by day the facts are getting murkier."
            ]
          },
          "metadata": {},
          "execution_count": 12
        }
      ]
    },
    {
      "cell_type": "code",
      "metadata": {
        "colab": {
          "base_uri": "https://localhost:8080/",
          "height": 202
        },
        "id": "3-F_UJbzCFss",
        "outputId": "f38be89f-5246-4eb5-da5e-275d09573729"
      },
      "source": [
        "test_df = pd.read_csv(\"./data/raw/CoLA/test.tsv\", names=[\"id\", \"label\", \"etc\", \"text\"], sep='\\t')\n",
        "test_X = tf.constant(test_df.text)\n",
        "test_y = tf.constant(test_df.label)\n",
        "test_df.head()"
      ],
      "execution_count": 19,
      "outputs": [
        {
          "output_type": "execute_result",
          "data": {
            "text/html": [
              "<div>\n",
              "<style scoped>\n",
              "    .dataframe tbody tr th:only-of-type {\n",
              "        vertical-align: middle;\n",
              "    }\n",
              "\n",
              "    .dataframe tbody tr th {\n",
              "        vertical-align: top;\n",
              "    }\n",
              "\n",
              "    .dataframe thead th {\n",
              "        text-align: right;\n",
              "    }\n",
              "</style>\n",
              "<table border=\"1\" class=\"dataframe\">\n",
              "  <thead>\n",
              "    <tr style=\"text-align: right;\">\n",
              "      <th></th>\n",
              "      <th>id</th>\n",
              "      <th>label</th>\n",
              "      <th>etc</th>\n",
              "      <th>text</th>\n",
              "    </tr>\n",
              "  </thead>\n",
              "  <tbody>\n",
              "    <tr>\n",
              "      <th>0</th>\n",
              "      <td>index</td>\n",
              "      <td>sentence</td>\n",
              "      <td>NaN</td>\n",
              "      <td>NaN</td>\n",
              "    </tr>\n",
              "    <tr>\n",
              "      <th>1</th>\n",
              "      <td>0</td>\n",
              "      <td>Bill whistled past the house.</td>\n",
              "      <td>NaN</td>\n",
              "      <td>NaN</td>\n",
              "    </tr>\n",
              "    <tr>\n",
              "      <th>2</th>\n",
              "      <td>1</td>\n",
              "      <td>The car honked its way down the road.</td>\n",
              "      <td>NaN</td>\n",
              "      <td>NaN</td>\n",
              "    </tr>\n",
              "    <tr>\n",
              "      <th>3</th>\n",
              "      <td>2</td>\n",
              "      <td>Bill pushed Harry off the sofa.</td>\n",
              "      <td>NaN</td>\n",
              "      <td>NaN</td>\n",
              "    </tr>\n",
              "    <tr>\n",
              "      <th>4</th>\n",
              "      <td>3</td>\n",
              "      <td>the kittens yawned awake and played.</td>\n",
              "      <td>NaN</td>\n",
              "      <td>NaN</td>\n",
              "    </tr>\n",
              "  </tbody>\n",
              "</table>\n",
              "</div>"
            ],
            "text/plain": [
              "      id                                  label  etc  text\n",
              "0  index                               sentence  NaN   NaN\n",
              "1      0          Bill whistled past the house.  NaN   NaN\n",
              "2      1  The car honked its way down the road.  NaN   NaN\n",
              "3      2        Bill pushed Harry off the sofa.  NaN   NaN\n",
              "4      3   the kittens yawned awake and played.  NaN   NaN"
            ]
          },
          "metadata": {},
          "execution_count": 19
        }
      ]
    },
    {
      "cell_type": "markdown",
      "metadata": {
        "id": "SNstjzYu4A3y"
      },
      "source": [
        "#4.0 Load pre-trained nnlm embeddings"
      ]
    },
    {
      "cell_type": "code",
      "metadata": {
        "colab": {
          "base_uri": "https://localhost:8080/"
        },
        "id": "W9eDjfIk0NlK",
        "outputId": "14066d1d-7c2b-4bfc-f6ea-649545fd6a8b"
      },
      "source": [
        "embedding = \"https://tfhub.dev/google/nnlm-en-dim50/2\"\n",
        "hub_layer = hub.KerasLayer(embedding, input_shape=[], \n",
        "                           dtype=tf.string, trainable=True)\n",
        "hub_layer(train_X[:3])"
      ],
      "execution_count": 13,
      "outputs": [
        {
          "output_type": "execute_result",
          "data": {
            "text/plain": [
              "<tf.Tensor: shape=(3, 50), dtype=float32, numpy=\n",
              "array([[ 0.3174644 ,  0.21877529, -0.11859256,  0.21564397, -0.03717417,\n",
              "        -0.08188752,  0.128495  ,  0.15144543, -0.15268897,  0.16399409,\n",
              "        -0.01233621,  0.18260562,  0.23977268,  0.20133935,  0.17345858,\n",
              "        -0.05107261, -0.11782473,  0.05793202, -0.00600127, -0.05251225,\n",
              "        -0.10689204, -0.25679952,  0.14195757, -0.29401127,  0.07582158,\n",
              "         0.23679148, -0.50280464,  0.15188406, -0.01288533, -0.09701494,\n",
              "         0.05093776,  0.04176186,  0.2709011 , -0.23006576,  0.01572436,\n",
              "         0.21390316,  0.1978745 , -0.10836355, -0.06744416, -0.00777094,\n",
              "         0.13987754, -0.0267532 , -0.16538641, -0.00503848, -0.07102694,\n",
              "         0.15057778, -0.18263315, -0.0398521 ,  0.10929692, -0.0725039 ],\n",
              "       [-0.09138185,  0.16842113,  0.00289669,  0.09841394, -0.06016617,\n",
              "        -0.1270382 ,  0.07416186, -0.12718596, -0.13069929,  0.2525887 ,\n",
              "         0.06409024,  0.13146687, -0.09484915,  0.05056581, -0.00921336,\n",
              "        -0.07648718,  0.14294334, -0.02063679,  0.10114274, -0.316708  ,\n",
              "        -0.19577663, -0.01597435,  0.35650468, -0.05374138, -0.30821937,\n",
              "        -0.23325953, -0.12347095, -0.0173676 ,  0.17482658, -0.1486958 ,\n",
              "         0.0098187 ,  0.02525249,  0.22336157, -0.01649554,  0.04375749,\n",
              "        -0.04814505, -0.05493595, -0.01857217,  0.18377966, -0.26719028,\n",
              "         0.31743073, -0.09850307, -0.00074266, -0.03153118,  0.176653  ,\n",
              "        -0.3746836 , -0.03351077, -0.08222078,  0.11308126,  0.100979  ],\n",
              "       [-0.14028499,  0.09068105,  0.02669625,  0.09321174,  0.03728023,\n",
              "        -0.0826484 ,  0.14828734, -0.13211459, -0.1525803 ,  0.27191067,\n",
              "         0.0912457 ,  0.17364548, -0.04935893, -0.06442083, -0.02047774,\n",
              "        -0.09855554,  0.11470389,  0.05184035,  0.04403462, -0.36595014,\n",
              "        -0.21444438, -0.00749815,  0.3120313 , -0.04875051, -0.26395938,\n",
              "        -0.17065081, -0.14882009, -0.01509396,  0.12607647, -0.18496941,\n",
              "        -0.03147   ,  0.02648436,  0.23262735, -0.07690813,  0.01095733,\n",
              "        -0.03926799, -0.08022411,  0.00099639,  0.20426938, -0.26692513,\n",
              "         0.3894563 , -0.08581641, -0.00282516, -0.01917791,  0.09235339,\n",
              "        -0.3814136 , -0.11071219, -0.04495629,  0.2646381 ,  0.09549842]],\n",
              "      dtype=float32)>"
            ]
          },
          "metadata": {},
          "execution_count": 13
        }
      ]
    },
    {
      "cell_type": "markdown",
      "metadata": {
        "id": "WCigni7b91XL"
      },
      "source": [
        "#5.0 Build the model with w&b settings"
      ]
    },
    {
      "cell_type": "code",
      "metadata": {
        "colab": {
          "base_uri": "https://localhost:8080/"
        },
        "id": "ZZCifaMVBfYu",
        "outputId": "83c86da1-2626-4b36-b560-7cca5d4b3898"
      },
      "source": [
        "# Installing wandb library for experiment tracking and hyper parameter optimization\n",
        "!pip install -q wandb\n",
        "\n",
        "# login to wandb\n",
        "!wandb login"
      ],
      "execution_count": 16,
      "outputs": [
        {
          "output_type": "stream",
          "name": "stdout",
          "text": [
            "\u001b[34m\u001b[1mwandb\u001b[0m: Currently logged in as: \u001b[33mabais\u001b[0m (use `wandb login --relogin` to force relogin)\n"
          ]
        }
      ]
    },
    {
      "cell_type": "code",
      "metadata": {
        "colab": {
          "base_uri": "https://localhost:8080/",
          "height": 437,
          "referenced_widgets": [
            "b99796a2bfdf415f811752f8cc88d79d",
            "39291803782340e2b9ed3bc23d2ddf3a",
            "0477be02c8404555a141194af3d606ed",
            "1be51eb55ed14539821ec1ee074e75b5",
            "56d67131ad1744b7a1f630b922002d96",
            "aaa90507380849c1b005cf8dafa1196c",
            "6491dc1c7278437ca8bf177c309aefb6",
            "d65ddae94e60443682abf94024aa757c"
          ]
        },
        "id": "dN-4MvBcBMq6",
        "outputId": "acc1fec0-3f96-4ceb-fd2d-c46bae60118d"
      },
      "source": [
        "# libs for w&b hyper param tuning and callback\n",
        "import wandb\n",
        "from wandb.keras import WandbCallback\n",
        "from tensorflow.keras.optimizers import SGD\n",
        "\n",
        "# define hyperparameters for w&b\n",
        "defaults=dict(\n",
        "    batch_size = 32,\n",
        "    dropout = 0.2,\n",
        "    hidden_layer_size = 128,\n",
        "    layer_1_size = 16,\n",
        "    layer_2_size = 32,\n",
        "    learn_rate = 0.01,\n",
        "    decay = 1e-6,\n",
        "    momentum = 0.9,\n",
        "    epochs = 5,\n",
        "    )\n",
        "\n",
        "# init w&b\n",
        "wandb.init(project=\"sentence_correction\", config=defaults)\n",
        "config = wandb.config\n",
        "\n",
        "# build the model\n",
        "model = tf.keras.Sequential()\n",
        "model.add(hub_layer)\n",
        "model.add(tf.keras.layers.Dense(16, activation='relu'))\n",
        "model.add(tf.keras.layers.Dense(1))\n",
        "\n",
        "# setup optimizer\n",
        "sgd = SGD(lr=config.learn_rate, decay=config.decay, momentum=config.momentum,\n",
        "                            nesterov=True)\n",
        "model.compile(optimizer=sgd,\n",
        "              loss=tf.keras.losses.BinaryCrossentropy(from_logits=True),\n",
        "              metrics=['accuracy'])\n",
        "model.summary()"
      ],
      "execution_count": 22,
      "outputs": [
        {
          "output_type": "display_data",
          "data": {
            "text/html": [
              "Finishing last run (ID:2tt75tld) before initializing another..."
            ],
            "text/plain": [
              "<IPython.core.display.HTML object>"
            ]
          },
          "metadata": {}
        },
        {
          "output_type": "display_data",
          "data": {
            "text/html": [
              "<br/>Waiting for W&B process to finish, PID 206... <strong style=\"color:green\">(success).</strong>"
            ],
            "text/plain": [
              "<IPython.core.display.HTML object>"
            ]
          },
          "metadata": {}
        },
        {
          "output_type": "display_data",
          "data": {
            "application/vnd.jupyter.widget-view+json": {
              "model_id": "b99796a2bfdf415f811752f8cc88d79d",
              "version_minor": 0,
              "version_major": 2
            },
            "text/plain": [
              "VBox(children=(Label(value=' 0.00MB of 0.00MB uploaded (0.00MB deduped)\\r'), FloatProgress(value=1.0, max=1.0)…"
            ]
          },
          "metadata": {}
        },
        {
          "output_type": "display_data",
          "data": {
            "text/html": [
              "<style>\n",
              "    table.wandb td:nth-child(1) { padding: 0 10px; text-align: right }\n",
              "    .wandb-row { display: flex; flex-direction: row; flex-wrap: wrap; width: 100% }\n",
              "    .wandb-col { display: flex; flex-direction: column; flex-basis: 100%; flex: 1; padding: 10px; }\n",
              "    </style>\n",
              "<div class=\"wandb-row\"><div class=\"wandb-col\">\n",
              "</div><div class=\"wandb-col\">\n",
              "</div></div>\n",
              "Synced 5 W&B file(s), 0 media file(s), 0 artifact file(s) and 0 other file(s)\n",
              "<br/>Synced <strong style=\"color:#cdcd00\">valiant-waterfall-1</strong>: <a href=\"https://wandb.ai/abais/sentence_correction/runs/2tt75tld\" target=\"_blank\">https://wandb.ai/abais/sentence_correction/runs/2tt75tld</a><br/>\n",
              "Find logs at: <code>./wandb/run-20211020_000217-2tt75tld/logs</code><br/>\n"
            ],
            "text/plain": [
              "<IPython.core.display.HTML object>"
            ]
          },
          "metadata": {}
        },
        {
          "output_type": "display_data",
          "data": {
            "text/html": [
              "Successfully finished last run (ID:2tt75tld). Initializing new run:<br/>"
            ],
            "text/plain": [
              "<IPython.core.display.HTML object>"
            ]
          },
          "metadata": {}
        },
        {
          "output_type": "display_data",
          "data": {
            "text/html": [
              "\n",
              "                    Syncing run <strong><a href=\"https://wandb.ai/abais/sentence_correction/runs/8wnt18ik\" target=\"_blank\">worldly-monkey-2</a></strong> to <a href=\"https://wandb.ai/abais/sentence_correction\" target=\"_blank\">Weights & Biases</a> (<a href=\"https://docs.wandb.com/integrations/jupyter.html\" target=\"_blank\">docs</a>).<br/>\n",
              "\n",
              "                "
            ],
            "text/plain": [
              "<IPython.core.display.HTML object>"
            ]
          },
          "metadata": {}
        },
        {
          "output_type": "stream",
          "name": "stdout",
          "text": [
            "Model: \"sequential_1\"\n",
            "_________________________________________________________________\n",
            "Layer (type)                 Output Shape              Param #   \n",
            "=================================================================\n",
            "keras_layer (KerasLayer)     (None, 50)                48190600  \n",
            "_________________________________________________________________\n",
            "dense_2 (Dense)              (None, 16)                816       \n",
            "_________________________________________________________________\n",
            "dense_3 (Dense)              (None, 1)                 17        \n",
            "=================================================================\n",
            "Total params: 48,191,433\n",
            "Trainable params: 48,191,433\n",
            "Non-trainable params: 0\n",
            "_________________________________________________________________\n"
          ]
        },
        {
          "output_type": "stream",
          "name": "stderr",
          "text": [
            "/usr/local/lib/python3.7/dist-packages/keras/optimizer_v2/optimizer_v2.py:356: UserWarning: The `lr` argument is deprecated, use `learning_rate` instead.\n",
            "  \"The `lr` argument is deprecated, use `learning_rate` instead.\")\n"
          ]
        }
      ]
    },
    {
      "cell_type": "markdown",
      "metadata": {
        "id": "d6Xe9mQqEpXW"
      },
      "source": [
        "# 6.0 Fine Tune the model using w&b"
      ]
    },
    {
      "cell_type": "code",
      "metadata": {
        "colab": {
          "base_uri": "https://localhost:8080/"
        },
        "id": "D9wOCuNVBzcz",
        "outputId": "1eca3805-6b42-4ce0-96f1-5b5f8431017f"
      },
      "source": [
        "history = model.fit(x=train_X, \n",
        "                    y=train_y,  \n",
        "                    validation_split=0.2,\n",
        "                    epochs=config.epochs,\n",
        "                    callbacks=[WandbCallback(data_type=\"text\")],\n",
        "                    verbose=1)"
      ],
      "execution_count": 23,
      "outputs": [
        {
          "output_type": "stream",
          "name": "stdout",
          "text": [
            "Epoch 1/5\n",
            "214/214 [==============================] - 3s 5ms/step - loss: 0.6233 - accuracy: 0.6365 - val_loss: 0.5909 - val_accuracy: 0.7241\n",
            "Epoch 2/5\n",
            "214/214 [==============================] - 2s 8ms/step - loss: 0.6120 - accuracy: 0.6949 - val_loss: 0.5928 - val_accuracy: 0.7236\n",
            "Epoch 3/5\n",
            "214/214 [==============================] - 1s 5ms/step - loss: 0.6095 - accuracy: 0.6988 - val_loss: 0.5926 - val_accuracy: 0.7230\n",
            "Epoch 4/5\n",
            "214/214 [==============================] - 1s 5ms/step - loss: 0.6076 - accuracy: 0.6955 - val_loss: 0.5899 - val_accuracy: 0.7253\n",
            "Epoch 5/5\n",
            "214/214 [==============================] - 1s 5ms/step - loss: 0.6060 - accuracy: 0.6962 - val_loss: 0.5910 - val_accuracy: 0.7247\n"
          ]
        }
      ]
    },
    {
      "cell_type": "markdown",
      "metadata": {
        "id": "auN7a2Gc4FQn"
      },
      "source": [
        "#6.0 Show weights and bias train, test loss, accuracy curves"
      ]
    },
    {
      "cell_type": "markdown",
      "metadata": {
        "id": "kg-Aw3bkFUc3"
      },
      "source": [
        "1. [Weights and Bias Train/Test Report](https://wandb.ai/abais/sentence_correction/reports/Sentence-Correction--VmlldzoxMTM1NjUx?accessToken=8e73nzui0h2h0xutew3vl36qkb9yn3wlo8engflowa3n87qxunmlv51if264pip3)\n",
        "\n",
        "2. Image from the report is captured below\n",
        "\n",
        "![sentence_correction.JPG](data:image/jpeg;base64,/9j/4AAQSkZJRgABAQEAkACQAAD/4RD0RXhpZgAATU0AKgAAAAgABAE7AAIAAAAOAAAISodpAAQAAAABAAAIWJydAAEAAAAcAAAQ0OocAAcAAAgMAAAAPgAAAAAc6gAAAAgAAAAAAAAAAAAAAAAAAAAAAAAAAAAAAAAAAAAAAAAAAAAAAAAAAAAAAAAAAAAAAAAAAAAAAAAAAAAAAAAAAAAAAAAAAAAAAAAAAAAAAAAAAAAAAAAAAAAAAAAAAAAAAAAAAAAAAAAAAAAAAAAAAAAAAAAAAAAAAAAAAAAAAAAAAAAAAAAAAAAAAAAAAAAAAAAAAAAAAAAAAAAAAAAAAAAAAAAAAAAAAAAAAAAAAAAAAAAAAAAAAAAAAAAAAAAAAAAAAAAAAAAAAAAAAAAAAAAAAAAAAAAAAAAAAAAAAAAAAAAAAAAAAAAAAAAAAAAAAAAAAAAAAAAAAAAAAAAAAAAAAAAAAAAAAAAAAAAAAAAAAAAAAAAAAAAAAAAAAAAAAAAAAAAAAAAAAAAAAAAAAAAAAAAAAAAAAAAAAAAAAAAAAAAAAAAAAAAAAAAAAAAAAAAAAAAAAAAAAAAAAAAAAAAAAAAAAAAAAAAAAAAAAAAAAAAAAAAAAAAAAAAAAAAAAAAAAAAAAAAAAAAAAAAAAAAAAAAAAAAAAAAAAAAAAAAAAAAAAAAAAAAAAAAAAAAAAAAAAAAAAAAAAAAAAAAAAAAAAAAAAAAAAAAAAAAAAAAAAAAAAAAAAAAAAAAAAAAAAAAAAAAAAAAAAAAAAAAAAAAAAAAAAAAAAAAAAAAAAAAAAAAAAAAAAAAAAAAAAAAAAAAAAAAAAAAAAAAAAAAAAAAAAAAAAAAAAAAAAAAAAAAAAAAAAAAAAAAAAAAAAAAAAAAAAAAAAAAAAAAAAAAAAAAAAAAAAAAAAAAAAAAAAAAAAAAAAAAAAAAAAAAAAAAAAAAAAAAAAAAAAAAAAAAAAAAAAAAAAAAAAAAAAAAAAAAAAAAAAAAAAAAAAAAAAAAAAAAAAAAAAAAAAAAAAAAAAAAAAAAAAAAAAAAAAAAAAAAAAAAAAAAAAAAAAAAAAAAAAAAAAAAAAAAAAAAAAAAAAAAAAAAAAAAAAAAAAAAAAAAAAAAAAAAAAAAAAAAAAAAAAAAAAAAAAAAAAAAAAAAAAAAAAAAAAAAAAAAAAAAAAAAAAAAAAAAAAAAAAAAAAAAAAAAAAAAAAAAAAAAAAAAAAAAAAAAAAAAAAAAAAAAAAAAAAAAAAAAAAAAAAAAAAAAAAAAAAAAAAAAAAAAAAAAAAAAAAAAAAAAAAAAAAAAAAAAAAAAAAAAAAAAAAAAAAAAAAAAAAAAAAAAAAAAAAAAAAAAAAAAAAAAAAAAAAAAAAAAAAAAAAAAAAAAAAAAAAAAAAAAAAAAAAAAAAAAAAAAAAAAAAAAAAAAAAAAAAAAAAAAAAAAAAAAAAAAAAAAAAAAAAAAAAAAAAAAAAAAAAAAAAAAAAAAAAAAAAAAAAAAAAAAAAAAAAAAAAAAAAAAAAAAAAAAAAAAAAAAAAAAAAAAAAAAAAAAAAAAAAAAAAAAAAAAAAAAAAAAAAAAAAAAAAAAAAAAAAAAAAAAAAAAAAAAAAAAAAAAAAAAAAAAAAAAAAAAAAAAAAAAAAAAAAAAAAAAAAAAAAAAAAAAAAAAAAAAAAAAAAAAAAAAAAAAAAAAAAAAAAAAAAAAAAAAAAAAAAAAAAAAAAAAAAAAAAAAAAAAAAAAAAAAAAAAAAAAAAAAAAAAAAAAAAAAAAAAAAAAAAAAAAAAAAAAAAAAAAAAAAAAAAAAAAAAAAAAAAAAAAAAAAAAAAAAAAAAAAAAAAAAAAAAAAAAAAAAAAAAAAAAAAAAAAAAAAAAAAAAAAAAAAAAAAAAAAAAAAAAAAAAAAAAAAAAAAAAAAAAAAAAAAAAAAAAAAAAAAAAAAAAAAAAAAAAAAAAAAAAAAAAAAAAAAAAAAAAAAAAAAAAAAAAAAAAAAAAAAAAAAAAAAAAAAAAAAAAAAAAAAAAAAAAAAAAAAAAAAAAAAAAAAAAAAAAAAAAAAAAAAAAAAAAAAAAAAAAAAAAAAAAAAAAAAAAAAAAAAAAAAAAAAAAAAAAAAAAAAAAAAAAAAAAAAAAAAAAAAAAAAAAAAAAAAAAAAAAAAAAAAAAAAAAAAAAAAAAAAAAAAAAAAAAAAAAAAAAAAAAAAAAAAAAAAAAAAAAAAAAAAAAAAAAAAAAAAAAAAAAAAAAAAAAAAAAAAAAAAAAAAAAAAAAAAAAAAAAAAAAAAAAAAAAAAAAAAAAAAAAAAAAAAAAAAAAAAAAAAAAAAAAAAAAAAAAAAAAAAAAAAAAAAAAAAAAAAAAAAAAAAAAAAAAAAAAAAAAAAAAAAAAAAAAAAAAAAAAAAAAAAAAAAAAAAAAAAAAAAAAAAAAAAAAAAAAAAAAAAAAAAAAAAAAAAAAAAAAAAAAAAAAAAAAAAAAAAAAAAAAAAAAAAAAAAAAAAAAAAAAAAAAAAAAAAAAAAAAAAAAAAAAAAAAAAAAAAAAAAAAAAAAAAAAAAAAAAAAAAAAAAAAAAAAAAAAAAAAAAAAAAAAAAAAAAAAAAAAAAAAAAAAAAAAAAAAAAAAAAAAAAAAAAAAAAAAAAAAAAAAAAAAAAAAAAAAAAAAAAAAAAAAAAAAAAAAAAAAAAAAAAAAAAAAAAAAAAAAAAAAAAAAAAAAAAAAAAAAAAAAAAAAAAAAAAAAAAAAAAAAAAAAAAAAAAAAAAAAAAAAAAAAAAAAAAAAAAAAAAAAAAAAAAAAAAAAAAAAAAAAAAAAAAAAAAAAAAAAAAAAAAAAAAAAAAAAAAAAAAAAAAAAAAAAAAAAAAAAAAAAAAEFiaGlzaGVrIEJhaXMAAAWQAwACAAAAFAAAEKaQBAACAAAAFAAAELqSkQACAAAAAzU3AACSkgACAAAAAzU3AADqHAAHAAAIDAAACJoAAAAAHOoAAAAIAAAAAAAAAAAAAAAAAAAAAAAAAAAAAAAAAAAAAAAAAAAAAAAAAAAAAAAAAAAAAAAAAAAAAAAAAAAAAAAAAAAAAAAAAAAAAAAAAAAAAAAAAAAAAAAAAAAAAAAAAAAAAAAAAAAAAAAAAAAAAAAAAAAAAAAAAAAAAAAAAAAAAAAAAAAAAAAAAAAAAAAAAAAAAAAAAAAAAAAAAAAAAAAAAAAAAAAAAAAAAAAAAAAAAAAAAAAAAAAAAAAAAAAAAAAAAAAAAAAAAAAAAAAAAAAAAAAAAAAAAAAAAAAAAAAAAAAAAAAAAAAAAAAAAAAAAAAAAAAAAAAAAAAAAAAAAAAAAAAAAAAAAAAAAAAAAAAAAAAAAAAAAAAAAAAAAAAAAAAAAAAAAAAAAAAAAAAAAAAAAAAAAAAAAAAAAAAAAAAAAAAAAAAAAAAAAAAAAAAAAAAAAAAAAAAAAAAAAAAAAAAAAAAAAAAAAAAAAAAAAAAAAAAAAAAAAAAAAAAAAAAAAAAAAAAAAAAAAAAAAAAAAAAAAAAAAAAAAAAAAAAAAAAAAAAAAAAAAAAAAAAAAAAAAAAAAAAAAAAAAAAAAAAAAAAAAAAAAAAAAAAAAAAAAAAAAAAAAAAAAAAAAAAAAAAAAAAAAAAAAAAAAAAAAAAAAAAAAAAAAAAAAAAAAAAAAAAAAAAAAAAAAAAAAAAAAAAAAAAAAAAAAAAAAAAAAAAAAAAAAAAAAAAAAAAAAAAAAAAAAAAAAAAAAAAAAAAAAAAAAAAAAAAAAAAAAAAAAAAAAAAAAAAAAAAAAAAAAAAAAAAAAAAAAAAAAAAAAAAAAAAAAAAAAAAAAAAAAAAAAAAAAAAAAAAAAAAAAAAAAAAAAAAAAAAAAAAAAAAAAAAAAAAAAAAAAAAAAAAAAAAAAAAAAAAAAAAAAAAAAAAAAAAAAAAAAAAAAAAAAAAAAAAAAAAAAAAAAAAAAAAAAAAAAAAAAAAAAAAAAAAAAAAAAAAAAAAAAAAAAAAAAAAAAAAAAAAAAAAAAAAAAAAAAAAAAAAAAAAAAAAAAAAAAAAAAAAAAAAAAAAAAAAAAAAAAAAAAAAAAAAAAAAAAAAAAAAAAAAAAAAAAAAAAAAAAAAAAAAAAAAAAAAAAAAAAAAAAAAAAAAAAAAAAAAAAAAAAAAAAAAAAAAAAAAAAAAAAAAAAAAAAAAAAAAAAAAAAAAAAAAAAAAAAAAAAAAAAAAAAAAAAAAAAAAAAAAAAAAAAAAAAAAAAAAAAAAAAAAAAAAAAAAAAAAAAAAAAAAAAAAAAAAAAAAAAAAAAAAAAAAAAAAAAAAAAAAAAAAAAAAAAAAAAAAAAAAAAAAAAAAAAAAAAAAAAAAAAAAAAAAAAAAAAAAAAAAAAAAAAAAAAAAAAAAAAAAAAAAAAAAAAAAAAAAAAAAAAAAAAAAAAAAAAAAAAAAAAAAAAAAAAAAAAAAAAAAAAAAAAAAAAAAAAAAAAAAAAAAAAAAAAAAAAAAAAAAAAAAAAAAAAAAAAAAAAAAAAAAAAAAAAAAAAAAAAAAAAAAAAAAAAAAAAAAAAAAAAAAAAAAAAAAAAAAAAAAAAAAAAAAAAAAAAAAAAAAAAAAAAAAAAAAAAAAAAAAAAAAAAAAAAAAAAAAAAAAAAAAAAAAAAAAAAAAAAAAAAAAAAAAAAAAAAAAAAAAAAAAAAAAAAAAAAAAAAAAAAAAAAAAAAAAAAAAAAAAAAAAAAAAAAAAAAAAAAAAAAAAAAAAAAAAAAAAAAAAAAAAAAAAAAAAAAAAAAAAAAAAAAAAAAAAAAAAAAAAAAAAAAAAAAAAAAAAAAAAAAAAAAAAAAAAAAAAAAAAAAAAAAAAAAAAAAAAAAAAAAAAAAAAAAAAAAAAAAAAAAAAAAAAAAAAAAAAAAAAAAAAAAAAAAAAAAAAAAAAAAAAAAAAAAAAAAAAAAAAAAAAAAAAAAAAAAAAAAAAAAAAAAAAAAAAAAAAAAAAAAAAAAAAAAAAAAAAAAAAAAAAAAAAAAAAAAAAAAAAAAAAAAAAAAAAAAAAAAAAAAAAAAAAAAAAAAAAAAAAAAAAAAAAAAAAAAAAAAAAAAAAAAAAAAAAAAAAAAAAAAAAAAAAAAAAAAAAAAAAAAAAAAAAAAAAAAAAAAAAAAAAAAAAAAAAAAAAAAAAAAAAAAAAAAAAAAAAAAAAAAAAAAAAAAAAAAAAAAAAAAAAAAAAAAAAAAAAAAAAAAAAAAAAAAAAAAAAAAAAAAAAAAAAAAAAAAAAAAAAAAAAAAAAAAAAAAAAAAAAAAAAAAAAAAAAAAAAAAAAAAAAAAAAAAAAAAAAAAAAAAAAAAAAAAAAAAAAAAAAAAAAAAAAAAAAAAAAAAAAAAAAAAAAAAAAAAAAAAAAAAAAAAAAAAAAAAAAAAAAAAAAAAAAAAAAAAAAAAAAAAAAAAAAAAAAAAAAAAAAAAAAAAAAAAAAAAAAAAAAAAAAAAAAAAAAAAAAAAAAAAAAAAAAAAAAAAAAAAAAAAAAAAAAAAAAAAAAAAAAAAAAAAAAAAAAAAAAAAAAAAAAAAAAAAAAAAAAAAAAAAAAAAAAAAAAAAAAAAAAAAAAAAAAAAAAAAAAAAAAAAAAAAAAAAAAAAAAAAAAAAAAAAAAAAAAAAAAAAAAAAAAAAAAAAAAAAAAAAAAAAAAAAAAAAAAAAAAAAAAAAAAAAAAAAAAAAAAAAAAAAAAAAAAAAAAAAAAAAAAAAAAAAAAAAAAAAAAAAAAAAAAyMDIxOjEwOjE5IDE3OjI4OjUyADIwMjE6MTA6MTkgMTc6Mjg6NTIAAABBAGIAaABpAHMAaABlAGsAIABCAGEAaQBzAAAA/+ELIGh0dHA6Ly9ucy5hZG9iZS5jb20veGFwLzEuMC8APD94cGFja2V0IGJlZ2luPSfvu78nIGlkPSdXNU0wTXBDZWhpSHpyZVN6TlRjemtjOWQnPz4NCjx4OnhtcG1ldGEgeG1sbnM6eD0iYWRvYmU6bnM6bWV0YS8iPjxyZGY6UkRGIHhtbG5zOnJkZj0iaHR0cDovL3d3dy53My5vcmcvMTk5OS8wMi8yMi1yZGYtc3ludGF4LW5zIyI+PHJkZjpEZXNjcmlwdGlvbiByZGY6YWJvdXQ9InV1aWQ6ZmFmNWJkZDUtYmEzZC0xMWRhLWFkMzEtZDMzZDc1MTgyZjFiIiB4bWxuczpkYz0iaHR0cDovL3B1cmwub3JnL2RjL2VsZW1lbnRzLzEuMS8iLz48cmRmOkRlc2NyaXB0aW9uIHJkZjphYm91dD0idXVpZDpmYWY1YmRkNS1iYTNkLTExZGEtYWQzMS1kMzNkNzUxODJmMWIiIHhtbG5zOnhtcD0iaHR0cDovL25zLmFkb2JlLmNvbS94YXAvMS4wLyI+PHhtcDpDcmVhdGVEYXRlPjIwMjEtMTAtMTlUMTc6Mjg6NTIuNTY2PC94bXA6Q3JlYXRlRGF0ZT48L3JkZjpEZXNjcmlwdGlvbj48cmRmOkRlc2NyaXB0aW9uIHJkZjphYm91dD0idXVpZDpmYWY1YmRkNS1iYTNkLTExZGEtYWQzMS1kMzNkNzUxODJmMWIiIHhtbG5zOmRjPSJodHRwOi8vcHVybC5vcmcvZGMvZWxlbWVudHMvMS4xLyI+PGRjOmNyZWF0b3I+PHJkZjpTZXEgeG1sbnM6cmRmPSJodHRwOi8vd3d3LnczLm9yZy8xOTk5LzAyLzIyLXJkZi1zeW50YXgtbnMjIj48cmRmOmxpPkFiaGlzaGVrIEJhaXM8L3JkZjpsaT48L3JkZjpTZXE+DQoJCQk8L2RjOmNyZWF0b3I+PC9yZGY6RGVzY3JpcHRpb24+PC9yZGY6UkRGPjwveDp4bXBtZXRhPg0KICAgICAgICAgICAgICAgICAgICAgICAgICAgICAgICAgICAgICAgICAgICAgICAgICAgICAgICAgICAgICAgICAgICAgICAgICAgICAgICAgICAgICAgICAgICAgICAgICAgIAogICAgICAgICAgICAgICAgICAgICAgICAgICAgICAgICAgICAgICAgICAgICAgICAgICAgICAgICAgICAgICAgICAgICAgICAgICAgICAgICAgICAgICAgICAgICAgICAgICAgCiAgICAgICAgICAgICAgICAgICAgICAgICAgICAgICAgICAgICAgICAgICAgICAgICAgICAgICAgICAgICAgICAgICAgICAgICAgICAgICAgICAgICAgICAgICAgICAgICAgICAKICAgICAgICAgICAgICAgICAgICAgICAgICAgICAgICAgICAgICAgICAgICAgICAgICAgICAgICAgICAgICAgICAgICAgICAgICAgICAgICAgICAgICAgICAgICAgICAgICAgIAogICAgICAgICAgICAgICAgICAgICAgICAgICAgICAgICAgICAgICAgICAgICAgICAgICAgICAgICAgICAgICAgICAgICAgICAgICAgICAgICAgICAgICAgICAgICAgICAgICAgCiAgICAgICAgICAgICAgICAgICAgICAgICAgICAgICAgICAgICAgICAgICAgICAgICAgICAgICAgICAgICAgICAgICAgICAgICAgICAgICAgICAgICAgICAgICAgICAgICAgICAKICAgICAgICAgICAgICAgICAgICAgICAgICAgICAgICAgICAgICAgICAgICAgICAgICAgICAgICAgICAgICAgICAgICAgICAgICAgICAgICAgICAgICAgICAgICAgICAgICAgIAogICAgICAgICAgICAgICAgICAgICAgICAgICAgICAgICAgICAgICAgICAgICAgICAgICAgICAgICAgICAgICAgICAgICAgICAgICAgICAgICAgICAgICAgICAgICAgICAgICAgCiAgICAgICAgICAgICAgICAgICAgICAgICAgICAgICAgICAgICAgICAgICAgICAgICAgICAgICAgICAgICAgICAgICAgICAgICAgICAgICAgICAgICAgICAgICAgICAgICAgICAKICAgICAgICAgICAgICAgICAgICAgICAgICAgICAgICAgICAgICAgICAgICAgICAgICAgICAgICAgICAgICAgICAgICAgICAgICAgICAgICAgICAgICAgICAgICAgICAgICAgIAogICAgICAgICAgICAgICAgICAgICAgICAgICAgICAgICAgICAgICAgICAgICAgICAgICAgICAgICAgICAgICAgICAgICAgICAgICAgICAgICAgICAgICAgICAgICAgICAgICAgCiAgICAgICAgICAgICAgICAgICAgICAgICAgICAgICAgICAgICAgICAgICAgICAgICAgICAgICAgICAgICAgICAgICAgICAgICAgICAgICAgICAgICAgICAgICAgICAgICAgICAKICAgICAgICAgICAgICAgICAgICAgICAgICAgICAgICAgICAgICAgICAgICAgICAgICAgICAgICAgICAgICAgICAgICAgICAgICAgICAgICAgICAgICAgICAgICAgICAgICAgIAogICAgICAgICAgICAgICAgICAgICAgICAgICAgICAgICAgICAgICAgICAgICAgICAgICAgICAgICAgICAgICAgICAgICAgICAgICAgICAgICAgICAgICAgICAgICAgICAgICAgCiAgICAgICAgICAgICAgICAgICAgICAgICAgICAgICAgICAgICAgICAgICAgICAgICAgICAgICAgICAgICAgICAgICAgICAgICAgICAgICAgICAgICAgICAgICAgICAgICAgICAKICAgICAgICAgICAgICAgICAgICAgICAgICAgICAgICAgICAgICAgICAgICAgICAgICAgICAgICAgICAgICAgICAgICAgICAgICAgICAgICAgICAgICAgICAgICAgICAgICAgIAogICAgICAgICAgICAgICAgICAgICAgICAgICAgICAgICAgICAgICAgICAgICAgICAgICAgICAgICAgICAgICAgICAgICAgICAgICAgICAgICAgICAgICAgICAgICAgICAgICAgCiAgICAgICAgICAgICAgICAgICAgICAgICAgICAgICAgICAgICAgICAgICAgICAgICAgICAgICAgICAgICAgICAgICAgICAgICAgICAgICAgICAgICAgICAgICAgICAgICAgICAKICAgICAgICAgICAgICAgICAgICAgICAgICAgICAgICAgICAgICAgICAgICAgICAgICAgICAgICAgICAgICAgICAgICAgICAgICAgICAgICAgICAgICAgICAgICAgICAgICAgIAogICAgICAgICAgICAgICAgICAgICAgICAgICAgICAgICAgICAgICAgICAgICAgICAgICAgICAgICAgICAgICAgICAgICAgICAgICAgICAgICAgICAgICAgICAgICAgICAgICAgCiAgICAgICAgICAgICAgICAgICAgICAgICAgICA8P3hwYWNrZXQgZW5kPSd3Jz8+/9sAQwAHBQUGBQQHBgUGCAcHCAoRCwoJCQoVDxAMERgVGhkYFRgXGx4nIRsdJR0XGCIuIiUoKSssKxogLzMvKjInKisq/9sAQwEHCAgKCQoUCwsUKhwYHCoqKioqKioqKioqKioqKioqKioqKioqKioqKioqKioqKioqKioqKioqKioqKioqKioq/8AAEQgCpwN1AwEiAAIRAQMRAf/EAB8AAAEFAQEBAQEBAAAAAAAAAAABAgMEBQYHCAkKC//EALUQAAIBAwMCBAMFBQQEAAABfQECAwAEEQUSITFBBhNRYQcicRQygZGhCCNCscEVUtHwJDNicoIJChYXGBkaJSYnKCkqNDU2Nzg5OkNERUZHSElKU1RVVldYWVpjZGVmZ2hpanN0dXZ3eHl6g4SFhoeIiYqSk5SVlpeYmZqio6Slpqeoqaqys7S1tre4ubrCw8TFxsfIycrS09TV1tfY2drh4uPk5ebn6Onq8fLz9PX29/j5+v/EAB8BAAMBAQEBAQEBAQEAAAAAAAABAgMEBQYHCAkKC//EALURAAIBAgQEAwQHBQQEAAECdwABAgMRBAUhMQYSQVEHYXETIjKBCBRCkaGxwQkjM1LwFWJy0QoWJDThJfEXGBkaJicoKSo1Njc4OTpDREVGR0hJSlNUVVZXWFlaY2RlZmdoaWpzdHV2d3h5eoKDhIWGh4iJipKTlJWWl5iZmqKjpKWmp6ipqrKztLW2t7i5usLDxMXGx8jJytLT1NXW19jZ2uLj5OXm5+jp6vLz9PX29/j5+v/aAAwDAQACEQMRAD8A+kaKKKACiiigAooooAKKKKACiiigAooooAKKKKACiiigAooooAKKKKACiiigAooooAKKKKACiiigAooooAKKKKACiiigAooooAKKKKACiiigAooooAKKKKACiiigAooooAKKKKACiiigAooooAKKKKACiiigAooooAKKKKACiiigAooooAKKKKACiiigAooooAKKKKACiiigAooooAKKKKACiiigAooooAKKKKACiiigAooooAKKKKACiiigAooooAKKKKACiiigAooooAKKKKACiiigAooooAKKKKACiiigAooooAKKKKACiiigAooooAKKKKACiiigAooooAKKKKACiiigAooooAKKKKACiiigAooooAKKKKACiiigAooooAKKKKACiiigAooooAKKKKACiiigAooooAKKKKACiiigAooooAKKKKACiiigAooooAKKKKACiiigAooooAKKKKACiiigAooooAKKKKACiiigAooooAKKKKACiiigAooooAKKKKACiiigAooooAKKKKACiiigAooooAKKKKACiiigAooooAKKKKACiiigAooooAKKKKACiiigAooooAKKKKACiiigAooooAKKKKACiiigAooooAKKKKACiiigAooooAKKKKACiiigAooooAKKKKACobq8trG3ae9uIraFfvSTOEUfieKmryqZdP8AEPxwv9M8YCOWCztk/suzuT+6kLAFm2nhm6/l7UAekadrOmaurNpOo2l8qfeNtOsgX67Sau1w9/8AD+C38a6BrPhmzs9Nis5JBepboIfNQrwMKMHn1rpNf8R6X4Z0/wC2azdCCMtsRQCzyN2VVHJNAGpRXI6Z8SNKv9Vg0+9sNW0ae5O22/tSzMC3B9FOSPzxV3xT450HwdCra3eeXLIpaO3jUvJIPYDp9TgUAdDRXJat8R9J0uNpILLVNUjjGZ5NOszLHBxk73yFBHcZJFakHiiwvfCq6/piXN/aPHvSO1hLytzgqE65B7UAbNFeReF/iZdy+JPEM0+h+JtQt5LtVggt7My/ZAq4Ksu7CEnkgV6PrvibS/DWmpeaxceQkhCxx7S0kjHoqqOSaANaiuS0r4jaVqOrQ6bd2Oq6Nc3JxbLqloYBcf7hyQfxxVrxL488P+FJ4rbVr3F3NjZbRLukIJwCR0A9yR0oA6OiuQ1n4laRo+90stU1G2hJWe7sLMyQQkdd0hwvHfBOK6XTdRtdX0y31DT5RNbXCCSNx3BoAtUVyus/EPSNK1R9MtrbUNY1CIZltdKtTO8Q/wBrkAfTOa1PD/iXTvEtpJNpsjh4X8ue3mQxywP/AHXQ8g0Aa1FcrrPxC0nSdTk022ttR1i/hAM1tpVqZ3hH+10A+mc1peHPFOmeKbOSfS5H3Qv5c8EyFJYW/usp6H9KANikd1jQs7BVUZJJwBS15DD53xa8e6ja3txKnhfRpPL+zROVF1JkjLEduCfYYx1zQB6VB4n0G6u/strremzXGceTHdxs+fTAOa1K5TU/hz4XudCubO18PabFK0LLFIlsiurY4O/Gc575q34QtrrQvAenW+vuIriztsXDyShgmM9WzjAFAHQUVw7fFfRTumtdN1u705Cd+p2+ns1soHU7uuB9K6i213S7vQxrNvfQtp3lmU3O7CBR1JJ6Y756UAaFFclZ/Ezw3qNnf3VhcTXMVk6ofKgYtMxBIEa/eb7p7Y4z05p+n/Efw9feEz4innl0+wWUxE3ke1iw7ADO4/TNAHVUVxlz8U/D1v4Xi11ReXFvKW2xwQbpAqttLsM4Vc92I/Piti68XaPYeGYNe1C5NrZTxq8fmoQ7bhkKE6lvYUAbdFcdYfEzSbrUoLK+sNW0c3TbLaXU7Iwxzt2Ctk9ffFdPqWp2ej6fLfancx21rCu55ZDgD/6/tQBaoriYPipoksiPPY6xZ6fIwWPVLqxZLVyTgfP2B9SBVL4seM5dA8LXVtp9tqa3FxEvlajbREQw7m/56g8NgHGOeRQB6HXNeGPHuj+LdS1Gx0n7R5unttkM0e0OMkZXk8ZHfB9qreHfHEN9p7tqelazpEVnbLJNeata+TE3QHDljk96n8IeIfDPiC41KTwrDF+7kX7TcR2wiEznPOcAseOpFAHT0Vz/AIi8aaT4buIbS5+0Xd/ON0NjZQmaeQeoUdB9cVDoPjzSdd1L+zTDfaXqW3eLLU7cwSsvqAeD+BoA6aiuc8RePfD/AIXvIbPVL3F5MVCW0S7nwxwCeyj3JFUtZ+Jmj6PvkFnqt/axMVmvbKzMlvEQcHMhwpx7ZoA7Ciq+n39tqmnQX1hKJra4QSRyL/EpqxQAUUUUAFFFFABRRRQAUUUUAFFFFABRRRQAUUUUAFFFFABRRRQAUUUUAFFFFABRRRQAUUUUAFFFFABRRRQAUUUUAFFFFABRRRQAUUUUAFFFFABRRRQAUUUUAFFFFABRRRQAUUUUAFFFFABRRRQAUUUUAFFFFABRRRQAUUUUAFFFFABRRRQAUUUUAFFFFABRRRQAVx3iHwx4U+Ikl1aXeXvtNcQyTwZSWBiMgZIwR37iuxrhLjwj4l0bxJqms+DtUsHOqOJJ7TVIXKKwGMq6HP4YoA5yQeJfhTrOmLPrUmueHb+5W1MdyCZbct0wST09jg4PApPGd7qrfHLSorHR/wC2TY2JntrNrpYAWJbL7m4yMDjrxXSxeDde1/WrHUfHepWU0enyedb6dpsTLD5g6OzP8xx6f/Xze8Y+C5PEF5Y6to+oHTNa04n7Pc7Nysp6o47j/E9aYjkfGv8Awn/jDQk06PwKthIlwk6XB1aCUoVOeBxj65rV+Men20vwwu7u7tIJL2FYgs7RguhLrna3Ud+ladrpnjzUcW/iLVdJs7QEeY2kRy+fKv8Ad3ucJn1UZ9MUnxH8O+IfFOgto2htpkdrOB58l5JIJAQwI27VI7dTQBuaNbwweC7KGGJI4hYoAiKAvKDPFcl8D/8AknCjst5MAPQbq3LS18X23gtbMpoh1aJRDGfNm8gxhQMn5d2726e9Zvw08MeJPCGmyaXrL6VLZb2ljktJJDJvYjIO5QMUDKHwo/5DfjX/ALDDf+zVkeK77Vm+PFkljo39tPp+n+bbWbXSQAFs7pAzcZHp149q3bHwZ4r0DxRq0/hzVNMTTNWuPtEpu4XeaBjnOwDCnr3OPatXxd4Kn1y/sda0XUjpuuaeCsVyU3JIp6o6+nX8zxQI5PxkPH3i/S7ayTwMunvDdR3C3J1aCUoVPYcY+tXPjdp9q/gNLya0t2vVuYU88xguBk5Abrj2rdtNM8daiyweJNV0mztFYF/7HjlE0wH8Jdz8gPcqM+hFVfiV4Y8S+LtOj0rRm0qKx3JK8l3JKJd6k8AKpGP1oA6TUbeGLwXdwRxIkK2DqsaqAoHlnjFcr8K55YvgzaTQ5aWOGdox6kMxArYvLXxfc+DPsaJog1aVWhlJlm8gRkEZX5d272PFVfhx4d8QeFtAGja6dMltoAfIks3kZzuYkh9ygd+1AzO+CUcb/D8X7Ye7vbuaS5lP3nbcRyfp/OugTwvZaFq2ueI9N8/7dfwFpIi48ssoyCBjqT6k1z8PgjxN4U1S7m8A6np/2C8kMr6dqiOY4nPUoyc/hx+NdRoOl6xFNLfeJdRiu7yVAiwWqFLeBepCgkliT1Y89uKBHl3wt1nxTZ+FZbrSPBn9sfbbqSaa/OqxQtK+cEFWGRiun8I6d4pk+Jup6/regrotne2axmJbuObc6kYJKnk4zzgU+HwV4n8KajdyeAtT0/8As+8lMzadqqOUhc9SjJz+HH411GhabrMVxJfeI9Tjubp0CLb2iNHbwjqcAkliT/E30GKANphlSPUV5J8FD/ZmteKtCuyUvYbzzCrdWXJGfft+Yr1yuO8T+ABqutxeINA1GTRddhG37TGgdJV/uuh6+n+PFIZ2DMEQsxwqjJPpXl/xd1+HUvhQl3otz5tjfXSRPMgK5TJz1HTK4rWl0/4mX1vJZXWo+G7aCRCjXVvBM02CMEhWIXNaVt4B01Ph4nhG8kkubRYihlICtu3btw9CDyOtMDe0y1t7TR7W1to1S3jhVERRwFxXm/wqjQa1400URpJpcOoN5cTAMg3FgVx0xgDitS20L4i6ZYppFhrmjTWMaeVHfXNvJ9qROg+UHYSB61t+GfCaeD/Dk9ppUgur6YtNJc3RI8+Yjq2MkDP149aAOP8Ah1pdnb/FTxmbeBIUtZ0SCKNQqRhs5wo4B4/nXo2tWFnqOk3EOoWsF1EEZgk8Ydc4POD3rhvCvhbxtonjLUdXvm0B4NWmWS7SGWbcgGf9Xlcd+9drr6avLo8sfh8WRvH+UfbmcRhT1PygnNIDh/gTaRRfDmO5UEyz3Egdic8KxAA9B1OPUk96zfiHd6k/xg8OW1npX9ri1t2uYLJrlYVkky2W3NxkbQfwrofhp4Y8TeD9L/sjWH0mWwjLPHJaySmXexzg7lAx1rS8Z+DP+EmaxvtPvm03WNNcvaXaruAz1Vh3B/znpTEch41fx74v8My6SPAS2bO6Os51eCQxlTnIHHPvmpviKJ7jUfAukarzbXN4hvFJ+V3UL8p9Rkmt62034gX6/ZNe1bR7S0OA82lxS/aJF7gFztQn1AJHatLxh4OtfF2gpYTTyW09u4ltbpDl4ZB0b39+fxoAv+INAsvEmgXGj6iHFtcKFJiIDLg5BXIIBBHpXC/F+wi0r4Mmwt2kaK1e3iRpG3MQrADJ7mtS00z4lGMWN7rehrbAbDfw28jXRHrtOEDfnWj4u8Gr4k8CSeHobt4mCp5U8xLkshBBY9TnHJ96QG7Dbw3WjxQXUUc0MkKh45FDKwwOCD1rz74UwQ2vibxrBbRJDDHqe1I41CqoG7gAcAV0Wh2nja10yUaxd6NPcxQeXaw26SLGzDo8jnn8FXFY3gfwt4v8PeJNTvNVbRJLXVZzcXItpZt8bc42BlAxk9z+NMCl8OD9v+JnjXUL0bryK5W3jLdUjBYAD0Hyil+NX+h2vh7VLX5NQttTRYXXhiCCSv04FbWr+C9StvFMviXwZf29lqFygS7tbyMtb3OOhO3lT7j/ABzDb+C9b13X7HV/Hl/ZT/2e2+10/To2ECv/AH2L/Mx6cUAZfxv0+zk8IW17JZ25uzewxmcxLv2nOV3Yzj2rttegij8EajBHEiwrYSKsaqAoGw8Y9K5z4leF/E/i61i07R20mKxSRJjJdSSiUupPGFUjb+v0rS1S08X33gw2UaaIuqzq0NwWlm8hUIIyny7ienB4+tAFX4RMW+FmjZOfkcc/77V2lch8OdB8QeGPD6aPrp02SC2GLeSykkZmyxJ37lA78Yrr6QwooooAKKKKACiiigAooooAKKKKACiiigAooooAKKKKACiiigAooooAKKKKACiiigAooooAKKKKACiiigAooooAKKKKACiiigAooooAKKKKACiiigAooooAKKKKACiiigAooooAKKKKACiiigAooooAKKKKACiiigAooooAKKKKACiiigAooooAKKKKACiiigAooooAKKKKACiiigAooooAKKKKACiiigAooooAKKKKACiiigAooooAKKKKACiiigAooooAKKKKACiiigAooooAKKKKACiiigAooooAKKKKACiiigAooooAKKKKACiiigAooooAKKKKACiiigAooooAKKKKACiiigAooooAKKKKACiiigAooooAKKKKACiiigAooooAKKKKACiiigAooooAKKKKACiiigAooooAKKKKACiiigAooooAKKKKACiiigAooooAKKKKACiiigAooooAKKKKACiiigAooooAKKKKACiiuc1S5lj1ePUFgmMNnIImlDLs2tw+RnOcle38NAHQJPFLJJHHKjvGQHVWBKZ9R2ojnilkkSKVHeM4dVYEqfQ+lc3d+ZZ3+t3Vlcra+THHKVWNSJGwT82R36cYPPWmSNcW82r3lpJ9k2LFK0SRr87FQTuJB9+mD70AdOs8TzPEkqNJHjegYErnpkdqGniSZIXlRZXBKIWAZsdcDvWHcXuo/bNRhgnQlDD5K/KhAbOVUtkFjjjPGar5e9v9MdJ3S5WWeF5pIUEqgA/KcfLkeoyO+KAOnpgniNwYBKhmC7jHuG4D1x6Vzi6pqE32S2Rp2dzNvlgWLe+x9oHz4X3OBmq1zeXMF1HdtH5NxJZD7TPAEbywJAC56hsAdBn9KAOvorF8Rwo/hWfzCLkogZZJFUknI54GB17CqMTpplzfx7o9NkaGN1S3TzY1ydu4AYyxJxjaO3WgDpZp4rdQ08qRKWCguwAJPQc96fXM/wBpailjKTM6NDfxxHz40MhRtvB2/KD83UCrlre3Q1ry7uZvKleRYQgR4nC9gR8ysOchsjg0AbVFFFABRRRQAUUUUAFFFFABRRRQAUUUUAFFFFABRRRQAUUUUAFFFFABRRRQAUUUUAFFFFABRRRQAUUUUAFFFFABRRRQAUUUUAFFFFABRRRQAUUUyaaOCF5ZnWOONSzMxwAB3oAZc3ltZRrJeXEVujMFDSuFBJ6DJ71NXN3oubjy70ErdzEx2VpIuUMZ+8ZFPqOSeoAA9Q27Y2osrCG2VtwiQLnGP07D2oAnJwMngVRt9b0q7uja2mp2c9wvWGK4RnH4A5qtqcKahrFpp13hrRopJ5Ij0mKlQFPqo3ZI78VfutPtL2z+y3VvHJBjhCvC46EehHYjpQBYorO0KWSXS9sshmMMskIlbq4RyoJ9Tgcn1qfU77+ztPkufL8wqVCpnG4swUc9uSKAJ0nikmkiSVGkjxvQMCUz0yO1PrjYLc6Hqup6v/ZMKSfuzcMlw2drDLEMV/eHPY4x7V2VABRWNqsaX2tWOnXRP2SSKWV49xAmZdoCn1GGJx3x7UxPC9v9pdZ5nm00DMNg5JjibuevI4GFPC847YANyiszQyyR3dt5jyxWty0UTuxY7cKcEnk4JIz7Vp0AFFZOo3LxeINJhW/kgWYy7rZbbes+Fzy/8GOvvWtQAUUUUAFFFFABRRRQAUUUUAFFFFABRRRQAUUUUAFFFFABRRRQAUUUUAFFFFABRRRQAUUUUAFFFFABRRRQAUUUUAFFFFABRRRQAUUUUAFFFFABRRRQAUUUUAHXrWMPDUAgMIuH8pm3GP7Nb7SfXHlda2aKAMRfC9srq6zsGUgqwtbbII6f8sqc/hqCRpGkuXdpDly1tbnefU/uua2aKAMYeGoAHAuHAkAVx9mt/mA7H91z0FL/AMI5D+7/ANKk/dDEf+j2/wAn0/dcVsUUAYv/AAjNv9n8j7Q/k7t3l/Zrfbu9ceV1p/8Awj0fnCX7XL5gXYH+z2+duMYz5XTHGK16KAMh/D8b2q2z3krQIcrEYLcqv0HlYpI/DsUUEkMV3KkUn341t7cK31Hlc1sUUAYf/CK2m3HmnGQcfZbbt/2yq1a6KlrfG7W5keVs7yYYVL/UrGD+vatKigAooooAKKKKACiiigAooooAKKKKACiiigAooooAKKKKACiiigAooooAKKKKACiiigAooooAKKKKACiiigAooooAKKKKACiiigAooooAKKKKACszXrS5vdPSKz3b/ORztcJ0ORyQR1A7H6GtOigDO0yyuoybrVZI5b51CnyQfLjX+6ueevJPf8BWjRRQBT1HTk1CNMyyW80Tb4Z4SA8bdOMgggjgggg1k6jaeKjp88dpqGnzs6FFxA9vIv8Atb97jPttH1FdFRQBBZQJa2MMEcQhWNABGpyF46Z7/WodYs5L/SpbeAqspKsm8kKSrBgDjoDjFXaKAMG+g17U7GWyntNNgimG15EvJHZRnkhTEMn8RW9RRQBU1HTotRgVZGeKSNvMhmjOHicfxD+WDwQSDxVDy/ENx/okz2lvGOGvoCTJIP8AZjIwje5LAeh7bVFAEFlZwafaJbWqbIkHAySSepJJ5JJ5JPU1PRRQBVuLOSfULW5S8nhS33boEI2TZGPmyO3UYq1RRQAUUUUAFFFFABRRRQAUUUUAFFFFABRRRQAUUUUAFFFFABRRRQAUUUUAFFFFABRRRQAUUUUAFFFFABRRRQAUUUUAFFFFABRRRQAUUUUAFFFFABRRRQAUUUUAFFFFABRRRQAUUUUAFFFFABRRRQAUUUUAFFFFABRRRQAUUUUAFFFFABRRRQAUUUUAFFFFABRRRQAUUUUAFFFFABRRRQAUUUUAFFFFABRRRQAUUUUAFFFFABRRRQAUUUUAFFFFABRRRQAUUUUAFFFFABRRRQAUUUUAFFFFABRRRQAUUUUAFFFFABRRRQAUUUUAFFFFABRRRQAUUUUAFFFFABRRRQAUUUUAFFFFABRRRQAUUUUAFFFFABRRRQAUUUUAFFFFABRRRQAUUUUAFFFFABRRRQAUUUUAFFFFABRRRQAUUUUAFFFFABRRRQAUUUUAFFFFABRRRQAUUUUAFFFFABRRRQAUUUUAFFFFABRRRQAUUUUAFFFFABRRRQAUUUUAFFFFABRRRQAUUUUAFFFFABRRRQAUUUUAFFFFABRRRQAUUUUAFFFFABRRRQAUUUUAFFFFABRRRQAUUUUAFFFFABRRRQAUUUUAFFFFABRRRQAUUUUAFFFFABRRRQAUUUUAFFFFABRRRQAUUUUAFFFFABRRRQAUUUUAFFFFABRRRQAUUUUAFFFFABRRRQAUUUUAFFFFABRRRQAUUUUAFFFc54n0nVbtorjRb24ifISSJJ2RSP73XHHegDo6yLzxHBBqMmn2VpdanexKHlgtAn7oHpuZ2VQT2Gc+1XdNtHsdPigluJbmRR88srlix79e1ee6jca94A8Zatq8ejTa1oerOk0rWg3TWzquDle44+nuKAO10TxHa65Pe20UNxbXdg4jube4QBoyRkcqSpyPQmteuX8LeJPDOvWl/rmhuquwDX29SsilV43j2A6jjjrVLQL7XPGOiNrsGqtpFvMzmxtooI3BRSQGlLqSc4zhSuBQB2tFcLH8RG/4VvHr7W0cl+832NIEYhJLjfsGD12k8/Sruo23i/TrGC+06/Or3vmp9osGihigKE/P5ZwHBHbc56d6AOiuNTs7XULSxnm23N4W8iPaTv2jLcgYGB61i+MNa1/R20seHdH/ALTFzdCO54Y+Unrx0/3jwMVzniKzvZvi/wCHoV1q+gEtrcyIUSAmDgZC5jIIP+1uPoa0PF+r6/4cuNAis72GW0ur6G0nlniBuJCx5PygIAQMcL9MUAdxRXMeJPEN1beINJ8O6QY477Ui7vPIu4QQoMswXux6DPHrmqmsavqPgzUNLe/1CTVNMv7kWkr3EcaywO33GBjVQVyMEEZ75oA7KiuJ8U674i0rxtoNlYvYmw1KZogjo2/cEzlm54HXAAJxjPNSatqeq+HvGWgwy6k97ZavM9vLBLDGohcLlWQqoOM8YYt9aAOyrG1fxf4f0GXytW1e0tpuP3LSAyc9PkGW/StmuE+MMaD4d3ThFDG5t8tjk/vVoA7sHIBHQ0U2P/VJ/uinUAFFFFABRRRQAUUUUAFFFFABRRRQAUUUUAFFFFABRRRQAUUUUAFFFFABRRRQAUUUUAFFFFABRRRQAUUUUAFFFFABRRRQAUUUUAFFFFABRRRQAUUUUAFFFFABRRRQAUUUUAFFFFABRRRQAUUUUAFFFFABRRRQAUUUUAFFFFABRRRQAUUUUAFFFFABRRRQAUUUUAFFFFABRRRQAUUUUAFFFFABRRRQAUUUUAFFFFABRRRQAUUUUAFFFFABRRRQAUUUUAFcpYeIdR0/UdVg8SWWoeWLtjYy21hJOrwYGOYlbBzn72DXV0UAcRovhx7zxV4g1ySzfTrTVLZbVIXULJLwd0rKPuk5wAefXFY3hjw9o2g6YujeK/B8VxeWrMkd9Fo32pLtMnaxdEYg44IbFeoUUAcT4j8Lyax4DW10HS4NJuLa5W8tLMKkalkfIDBflUsPyJ5rVtvFb3NqqpomqrqBADWstnIiq3fMxHl49wx46A9K6GigDiPE1vdWvxG8O641ncz2NvBPBO9rA87RswG3KoC2PcCqvxDuJb9fDn2TTtTlMOpw3cqx6fM/lxDOS21SAf8AZ6+1eg0UAcZ4i0q6PizQ/F2mW0t0lpG8NzbBCspicfeVWwcqTyvX8ar+JrWbx3d6RYWNndw6fa3qXd5dXds9vwmcIqyAMxJPUDAHeu7ooA4HxvLI3jjwrLDY6hPFp908lzJBYTSpGrJgHcqEHn0zik8dyyS+K/CkkFjqM8djfGe4eCwmkWNCmAcqhB+g5Fd/RQAisHQMM4IyMgg/ka4D4q3Laj4UudI0+x1O6vfPgfbBps7oQHViQ4TaePQ16BRQBR0rVbfU4WNvHdx+XgMLqymtz+AkVc/hV6iigAooooAKKKKACiiigAooooAKKKKACiiigAooooAKKKKACiiigAooooAKKKKACiiigAooooAKKKKACiiigAooooAKKKKACiiigAooooAKKKKACiiigAooooAKKKKACiiigAooooAKKKKACiiigAooooAKKKKACiiigAooooAKKKKACiiigAooooAKKKKACiiigAooooAKKKKACiiigAooooAKKrsnnXjo7OFWNSArleSW9PoKd9kj/vTf9/n/AMaAJqKh+yR/3pv+/wA/+NH2SP8AvTf9/n/xoAmoqH7JH/em/wC/z/40fZI/703/AH+f/GgCaiofskf96b/v8/8AjR9kj/vTf9/n/wAaAJqKh+yR/wB6b/v8/wDjR9kj/vTf9/n/AMaAJqKh+yR/3pv+/wA/+NH2SP8AvTf9/n/xoAmoqH7JH/em/wC/z/40fZI/703/AH+f/GgCaiofskf96b/v8/8AjR9kj/vTf9/n/wAaAJqKh+yR/wB6b/v8/wDjR9kj/vTf9/n/AMaAJqKh+yR/3pv+/wA/+NH2SP8AvTf9/n/xoAmoqH7JH/em/wC/z/40fZI/703/AH+f/GgCaiofskf96b/v8/8AjR9kj/vTf9/n/wAaAJqKh+yR/wB6b/v8/wDjR9kj/vTf9/n/AMaAJqKh+yR/3pv+/wA/+NH2SP8AvTf9/n/xoAmoqH7JH/em/wC/z/40fZI/703/AH+f/GgCaiofskf96b/v8/8AjR9kj/vTf9/n/wAaAJqKh+yR/wB6b/v8/wDjUVxAsVtI6PKGVcg+ax/maALdFQ/ZI/703/f5/wDGj7JH/em/7/P/AI0ATUVD9kj/AL03/f5/8aPskf8Aem/7/P8A40ATUVD9kj/vTf8Af5/8aPskf96b/v8AP/jQBNRUP2SP+9N/3+f/ABo+yR/3pv8Av8/+NAE1FQ/ZI/703/f5/wDGj7JH/em/7/P/AI0ATUVD9kj/AL03/f5/8aPskf8Aem/7/P8A40ATUVD9kj/vTf8Af5/8aPskf96b/v8AP/jQBNRUP2SP+9N/3+f/ABo+yR/3pv8Av8/+NAE1FQ/ZI/703/f5/wDGj7JH/em/7/P/AI0ATUVD9kj/AL03/f5/8aPskf8Aem/7/P8A40ATUVD9kj/vTf8Af5/8aPskf96b/v8AP/jQBNRUP2SP+9N/3+f/ABo+yR/3pv8Av8/+NAE1FQ/ZI/703/f5/wDGj7JH/em/7/P/AI0ATUVD9kj/AL03/f5/8aPskf8Aem/7/P8A40ATUVD9kj/vTf8Af5/8aYIrcyGMTOXHVRcNkfhmgCzRVZIreRiqTOxXqBcMcfrT/skf96b/AL/P/jQBNRUP2SP+9N/3+f8AxqJIA11LGXl2qqkDzW759/agC3RUP2SP+9N/3+f/ABo+yR/3pv8Av8/+NAE1FQ/ZI/703/f5/wDGj7JH/em/7/P/AI0ATUVD9kj/AL03/f5/8aPskf8Aem/7/P8A40ATUVD9kj/vTf8Af5/8aPskf96b/v8AP/jQBNRUP2SP+9N/3+f/ABo+yR/3pv8Av8/+NAE1FQ/ZI/703/f5/wDGj7JH/em/7/P/AI0ATUVD9kj/AL03/f5/8aPskf8Aem/7/P8A40ATUVD9kj/vTf8Af5/8aPskf96b/v8AP/jQBNRUP2SP+9N/3+f/ABo+yR/3pv8Av8/+NAE1FQ/ZI/703/f5/wDGj7JH/em/7/P/AI0ATUVD9kj/AL03/f5/8aPskf8Aem/7/P8A40ATUVD9kj/vTf8Af5/8aPskf96b/v8AP/jQBNRUP2SP+9N/3+f/ABo+yR/3pv8Av8/+NAE1FQ/ZI/703/f5/wDGj7JH/em/7/P/AI0ATUVD9kj/AL03/f5/8aPskf8Aem/7/P8A40ATUVD9kj/vTf8Af5/8aPskf96b/v8AP/jQBNRVWeEQwmSN5Qy4xmVj39CatUAFFFFABRRRQAUUUUAFFFFABRRRQBCv/H/L/wBck/m1TVCv/H/L/wBck/m1TUAFFFFABRRRQAUUUUAFFFFABRRRQAUUUUAFFQ3l7a6favdX9zDa28f35Z5AiL25J4FVm13SES0d9VslW9OLVjcIBP8A7nPzdR0zQBfoqjBrmk3N09tbapZTTpIY3ijuEZlcAkqQDkHCk49j6UkmvaPEqNLqtiiyJ5iFrlAGXBO4c8jAJz6A0AX6KzT4j0RdPjv21nTxZyv5cdwbpPLdv7obOCeDxVqLULKfyvIu4JPOLCPZKDvK/eAwecd/SgCxRRRQAUUUUAFFFFABRRRQAUUUUAFFFFABUN5/x5y/7pqaobz/AI85f900ATUUUUAFFFFABRRRQAUUUUAFFFFABRRRQAUUUUAFFFUr7UfsV3ZQ+Vv+1SmPduxs+UnPTnpQBdorO/4SLRRBcTf2xYeVbNsnk+1Jtibphjn5T7GpYdY025vBaW+o2ktyYxKIUnVnKHo20HOPegC5RRRQAUUUUAFFFFABRRRQAUUUUAFQ26RJ5vlPu3SEtz0buKmqKO2jikd4wwLks3znBJ74zigBpji+3CTf+98vG3PbPWoLoRyahFFd4MDIdiv913z0PqcdB9asJaxpcGYb2cjGWcnA9BUjxpKhSRFdT1VhkGgCnFHFBqYis1CL5ZMqIMKpyNpx0BPNTx/8f0/+4n/s1EFnb20jvbxLEXxuC8A49ulEf/H9P/uJ/wCzUAT0UUUAFFFFABRRRQAUUUUAFFFFABRRRQAUUUyaeK2haW4lSKNRlndgoH1JoAfRVC617R7Fgt7qtjbFiABNcomSenU96XT9SF/PdxrGFFtL5YYNnfxnPtQBeorKbxDZ2898NRmgsYLR1QzzzBFYsM9TgD86sPrWlR3EcD6nZrNLH5scZnUM6f3gM5I96ALtFV7LULPUrcXGnXcF3CSQJIJA65HbI4qxQAUUUUAFFFFABRRRQAUUUUAFFFFABRRRQBDef8er/h/OpqhvP+PV/wAP51NQAUUUUAFFFFABRRRQAUUUUAFFFFAEK/8AH/L/ANck/m1TVCv/AB/y/wDXJP5tU1ABRRRQAUUUUAFFFFABRRRQAUUVl6jqGqWtyEsNFa+i2g+aLlI+fTDc1UYuTsv8iZSUVd/5mpRVKG8ujpL3V3Ym2nRGY25lDdOnzDjms4eJ1mLta22+KNS7s8m07RtzgYOT8wIGeR6VSpTlsS6sFuXNe0241bSXtbO9NlKWVhMFY4API+VlYZHGVZT71i6T4Ou9DaBtP1WNjsaK4NzbPKZEMrSfKfNBVvnI3EtngkVrPfXdxps9wqC1WOQrGySB2ba5U5BXABx7/hUV3qVzJqH2eA+REBKvmKwLllQH7pXAHPvTVKT0E6sVqZ8XhPU4LPT7eLV7QLpcmbNjYNkJsZCsn73DHa33ht5GcdqdZ+DHsdLmtrbUts72ENmlz5HKGMsQ+N3fd0BBGODnkayaoy3NravFvknjV1bdjcMEscY7YH/fQqG/12ezkiQaecurOwlmClQP90MD+dCpzbsgdSCV2ZGneCr7SZIrqx1iNr1ZJWaS6t5J0ZZAm4YabfnMYwS544OetX9E0m4h1/Ub+4ieCF3K20LlSRuwZXG1jgOyggE545xmpf8AhIJmCCOzQtLtaIGfAKtu5Y7eD8vTnr1qGDxKWF2zQs4QJIinI4dUwowDuwW5IyRkdc4p+wqdhe2p9zoqKyYtakee2gms2iluPuqzEdC244Kg8AA8gfeHSn31zcGCF4vOtZmlCJAQjGQ5HXG7gDJ4INT7OV7Mr2kbXRp0VznjnxfH4K0BNSks2vDJOsCxK+zkhjknBxwp7Vs6Xfpqmj2eoRIyJdwJOqt1UMoYA/nWCnFyceo1Ui5uCeqLVFFFWWFFFFABRRRQAUUUUAFQ3n/HnL/umpqhvP8Ajzl/3TQBNRRRQAUUUUAFFFFABRRRQAUUUUAFFRXUksNrJJbQG4lVcpEGC7z6ZPArNstS1ee7SO70F7WFs7pjdxvt49ByatQbV1+aIc0nZ/kzXorK1HXY9Ou/s7ws7soKYPBz/L/69Rxa3cTyxQx2UfmyEHBuDtClSwOdvXjpj8apUptXsL2sE7XNms3V9JOqNalZ/J8iUucpu3AqVI6jBwevP0pkt9PavcKP37GRViV2CquR0yF6fgahs9RuvspuJmMx+z+YYvlABzzggUeyla4vaxvYxz4GvTbBDq1sZIolgt5BZyIY41OQSUmVi/T5gQOvHNaGleGbzT9aS9m1RJY1i2tEkLoZW2gb3zIyE+4QN2JNaaao0tkLqK1keNgxV1dduB0Jyc8+wNZ0PiaeVCWsI1YJ5hH2jI298Hb19v1oVKb2B1YLc6GiuduvEksY3fZyiLIMFG3s6hwpBG3jr71ZGuytPIkVkZFjTLOjMVzt3dduMe+c+1P2M7XsL20L2ubNFUbTUDewpLFbyGKQnbKrLgAdzkg/kDRpkksgn8yZ541k2xyOqgtjr0AGM1Dg1e/QtTTtYvUVyPhnx9D4l8U6rosdhJbtp5b960m4SbW2njHHP1rrqxhOM1eIU6kai5ou6CiiirLCiiigAooooAKKKKACoI/+P6f/AHE/9mqeoI/+P6f/AHE/9moAnooooAKKKKACiiigAooooAKKKKACism/1HVre7aOy0N7yEAYmF1GmfwPNWfts0ekfa7u0MEqrueAyBtvP94cHjmr9nKyffzRHtFdrt5Mu1Fc28d3ay28wzHKhRh7EVjx+JROxaC13QrjczSYbGccDHP51YF7d3FglztFqDINoRw5YZxzlePwqnSmtyVVg9jBuvAVzcaYtomtNESzedIsTqZFxhVykingepIPcVoWtrd+GVkW2srrV0nKnFqsMZjwoHJklXOcdqmn1S6mvHjhPkRKjFWVgzEg9wV4/Wri6owvkszCWkKBwQ33hjOfz4odOSQKpFsyLnw1eX182qW12tlcSMJEhubYS+Wdu0hgsgDceh496gHgm5jlh+zanAkUcWxka2kPnH/bAmCsOePlyOzCtS+8QTWdwqHTzt2b38yYBlH0UMD+dI3iGZVAFlGXPzAefxtxnOdvX2/Wn7GbV7fkL20L2uWPD+k3Gj6cbe7vftjlywfa4Cjso3u7YHuxrUrnoPEj+XcFoWkZJAFByCc9AAFJIHqAauQ6y8lzFbvZvHLIu8IWwcd+oH64pOjNboarQezNWis26uLgvbGJpoJHfH2dgh3DuSRnjHoayPHXjeLwRp9rcy2T3n2iXywqybNuBknOD+VY1GqceaT0CVWMIuUtEjqaKitZxdWcNwoKrLGrgHqMjNS0zXcKKKKACiiigAooooAKKKKAIbz/AI9X/D+dTVDef8er/h/OpqACiiigAooooAKKKKACiiigAooooAhX/j/l/wCuSfzapqhX/j/l/wCuSfzapqACiiigApgmiZnCyITG21wGHynAOD6HBB+hFPqnbtuu7obt224Axuzt/dKcfeOOucYXrnHO5mluJvYtebH/AH1/OjzY/wC+v506ikMb5sf99fzo82P++v506igBvmx/31/OjzY/76/nSqytnaQcHBwaQyxjOXUYODz0NACGSMgguhB6gkVX+x6d8n+jWv7tgyfu1+U4AyPQ4A/IVYaaJM75EXHXLAYp4ORkdKd2hWTK0tvZTQeRNFbyRE7vLdVK5znOPqaY1jpjuWe1tGYrsJMaklemPpx0q5TQ6FygZSyjJXPIpqUujFyx6oqxWlrDcxyxMiLFGY44lCqkYJBOMDPOB3qWSO0mYNMkMjAYBYA8elSiRGfYHUtjO0HnFOobdwSRWS2sY2Yxw26ln3sVRRlvU+/J596Q2tgU2mC2K4IxsXGCACPyAH0Aq1SZG7GRnGcUcz7j5V2KiWlrFcxyxsiLChSKJQoRM9SMDPOPWpJ4LK6ZGuYreZozlDIqsV+menSrFFHM73Fyq1iteW1jqNubfUIbe6hJBMc6K6kjpweKnQIsarEFCAYUL0Ap1Zk15qcE7iDShdQBjteO5VWPrlWAA5z3pRjzPQJNR1Zp0Vkf286cT6LqkbeghWT9UYij+32P3dH1Q/8AbAD+bVp7KZPtYGvRWT/bdwfu6DqZ/CEfzkpf7W1Bvu+H77/gU0A/9qUvZS8vvQe0j5/czVorK/tHVD00OUf71zGP5E0v27Vz00dB/vXYH8lNHs5eX3r/ADD2kfP7n/kalFZE13r3kSGDSrPzAp2Br08nHHGz+o+tO8Oz6tcaSH1+3S3u95G1O69ieT70Om1HmbX3oFUTly2f3GrUN5/x5y/7pqaobz/jzl/3TWZoTUUUUAFFFFADXcRxs7ZwoycVlaD4ksvENrJPYrMqxuUIkTnP4ZrXrL0i1jheWeIjE7NuAbIyrEZ+83bA69ug6DSPLyO+/Qzlzc6tt1NLzB6N/wB8mjzB6N/3yacTjrTQ6McKyk+xrM0DzB6N/wB8mjzB6N/3yaa1xCkyQvKiyyZ2IWAZvoO9SEgAknAHUmgBvmD0b/vk0eYPRv8Avk1Ha3ttfQ+bZzxzxg4LRtkZqudc0teuoW4+fy/9YPvelVyybtYnmile5PJFbyyB5YFd16M0WSO/XFNht7S3x5FtHFglhshxgnqeBUTa1pib919bjY/ltmQcN6VepvmS1BcrehTax09jIWsYSZf9Zm3Hz/XjmmnT7IAmC3S3k27BLFAAyj0BK1eqNJ43mkiVsyR4Lrjpnp/I0uaXcOWPYZFHDDapbqhMaqFClD0/Ko2srBgoaziIUgrmDofyqWK7gmk2RSBm2h8D+6ehqai8kwtFor+RaltxtkyDnPk++fT1qNrK05aGBYJduwSxwAMo9ASKuU3zU84xbh5gXcV746ZoUpA4xIoI4re2SCNW8tF2gFDyPypLeC1tEKWlukCk5KxQ7QfyFWKjluIYCgnmjjMh2oHYDcfQZ60rtjskQQWdja3EtxbWcUM05zLJHBtaT/eIGT+NWgQwyOlLTU+7+JpWsCSWw6iiigYUUUUAFFFFABRRRQAVBH/x/T/7if8As1T1BH/x/T/7if8As1AE9FFFABRRRQAUxZ4m3bZUO1irYYcEdR9afVO0bdJL827Ezj72cdOPvHH04+gp20FfUtebH/fX86PNj/vr+dOopDG+bH/fX86PNj/vr+dOooAb5sf99fzprNC6FXKMpGCCQQaerKwypBGccGmiaI5xIhwcHDDg+lPUWhB9k0/cjfZ7bchyh2L8p9vSllt7GaFYpobeSNTlUdVIB9hU5lQZy6jBweehp1PmkLliU3sNMkZme0tGZxhiY1JYe9LDa20Nz5yOowmxEG0Ki+gwKt00OjOyqyll+8AeRRzStuHLHsRPFaSvvlSF2xjcwBNMS1sI1IjgtlBJJCooyT1NWFkRmKq6lgMkA8gU6ldodkyq1rYOpV4LZlIwQUUjFJFa20V0JkdRtTYiDaFQe2BVukyN2MjOM4p8zFyorywWU8ySzxW8kifcd1UlfoT0pLu1sNQjWO/gtrpFbcqzIrgH1we9WqKl6qzHZDBJEqgKyADgAEcU4EMMqQR7UtNTv9TQMdRRRQAUUUUAFFFFABRRRQBDef8AHq/4fzqaobz/AI9X/D+dTUAFFFFABRRRQAUUUUAFFFFABRRRQBCv/H/L/wBck/m1TVCv/H/L/wBck/m1TUAFFYtvpVzb6teXKR2yfaCQZkciRwTkFvl6p0Aycg9RWTZ+E76D7AHNsv2W4Mm9XUlV+XoPJGSdpyQVPPJfnLA7Cqdu267uhu3bbgDG7O390px94465xheucc7muVTgJa6u8EvsuANofO390vbccdc4wvXOOdzNbMl7ouVlr4es1uBMJr7eH34N9MVznPTdjHtWlvP/ADzb8x/jRvP/ADzb8x/jRGUo7MJRjLdGbqWmz3mpWc8TRhISC24kMvzA5HHcAjt/MVfjSTyWWQ4YlsHduwCTjnA7f5NP3n/nm35j/Gjef+ebfmP8aHJtJdgUUm33Oe8M6Lf6HFOJvJlM0q5CyYAUDBf7vU8cfrVBvC2oCy1C3K28v2mXcru43A5Y7slD6gY69cEV1V3exWNpJc3W6OGJdzt1wPoOT9KlEhKgiN+fXA/rW/1ipdztv+hh9Xp2UO36nHS+E9QaW7Y+TN5kvmITLtJbnB+4eBnG0k5rpbm2vX0qKG2uFjulCgyAYU8YPGPrgfSru8/882/Mf40bz/zzb8x/jUzryna/QqFGML26mPHp2q5cy3gy8e0ssrdcL0GMDBDcjk5qWfTrn7RI1o6qhgWJWaZ95w2TlsE8gkZzkVp7z/zzb8x/jRvP/PNvzH+NT7WRXs4mPDpt1bKhZlGy3ljLo7M4ZnDAjI5xip1tL+XTV8y7kiuWjYsildu5s98FhjPGCOlaO8/882/Mf40bz/zzb8x/jQ6jY1TSMKHStXik5vtyhsoTO5KjvkEfNnpz06inQ6TqcV5BMbtXWMYcPIxLghMjcRkfMrH8h0PG3vP/ADzb8x/jRvP/ADzb8x/jT9tIn2MTGSz1OHyUa4dneXMrCQsuz+IjI+U5AwOgycVZv9NlubUwl1ud8m7dcbQYl/2Nq9ewJ5GetaG8/wDPNvzH+NG8/wDPNvzH+NL2jvcr2atYdTY/un/eP86N5/55t+Y/xpEU7ecgkk4z71kaD6KTb7n86NvufzoAWik2+5/Ojb7n86AFopNvufzo2+5/OgBaKTb7n86WgAqG8/485f8AdNTVDef8ecv+6aAJqKKKACioI761mkmSG5hkeA4lVZATH/ven41HHqunymERX9q5uM+TtmU+Zjrt55/CgC3VTT2326ndu+aQZ3bv4z33N/P8B0FuqdizPaq6sH+eQZL5/jPfc3p6/gOgr7JP2izLFHPC8U6LJG6lWRhkMD2Iqna6FpNjcCey021gmUECSOFVYZ9wKlvbw2No9xLEXROW2HJA9foKnV2dQyBGVhkEN1H5U05KOj0YmouWq1RSudLNzq0F5521YguY9uckEkHOePvHsasG236e1tIw+dChZQR1+pP86mzJ/dX/AL6/+tRmT+6v/fX/ANak5ydvIfJFX8zG0LQZtFszAt0kvmSbpWMZyRt2jHzcHgev0qhH4UvbaxNpb38RgaUM6SRsQyDt97jPfGM11GZP7q/99f8A1qMyf3V/76/+tWv1ipdu+5l7CnZK2xz114au7o3u69hX7WybgI34Vc4/j689Pu8dK1tS0+S+tUiiuWt3RgwkUZPQj1HrVvMn91f++v8A61GZP7q/99f/AFql1Zu1+hSpQV7dTIi8PhDIHnDpJgMDHy4DBsMc/NwNo9AT1qafR/Nkm2SRJFIsSiHycqAhJwRnkHOMcVo5k/ur/wB9f/WozJ/dX/vr/wCtS9rPuP2ULWsZI0eWC2KxzCQraLbqAm05ByGzn1PSpm0hZbFYZZZDJ5YR23sUbnLEpnByc9RWhmT+6v8A31/9ajMn91f++v8A61HtZ9w9nHsYMfhYxx7Fvf4GQMIvmXIYYB3cD5skd8VNH4eMN4J4bsoq5AjWPCgHPv15yD2NbGZP7q/99f8A1qMyf3V/76/+tVOtUe7JVGmtkZEGivbSWqI67I3LylFKh+hAxk87lBz9fWrc2m74UhimYQ+ZvkWVmlL98bi2QMjpVzMn91f++v8A61GZP7q/99f/AFql1JN3KVOKVh1NT7v4mjMn91f++v8A61KgIXB6+1ZmgtFFFABRRRQAUUUUAFFFFABUEf8Ax/T/AO4n/s1T1BH/AMf0/wDuJ/7NQBPWVbavcXEdyVs0LxqWhRZ/9YOnJIAU5+tatVG0nTmEgawtSJG3ODCvzn1PHJoAyIfE10WtludK8hpcrIPOLCNx/DuCbfzI9galGvX220k/syJ4JpCks8d4CsYzgMMqC2fYVoro+mKUK6daAxoY0xAvyqeqjjge1Nh0TSrdo2t9Ms4miJMZS3VShPcYHFPQC9VO0ffJL827bM4+9nHTj7xx9OPoKuVTtWLNMQS+2dxw2cdOPvHH04+gprZkvdFwjIxWXD4es4J1lSa+LKcgNfTMPxBbBrS3n/nm35j/ABo3n/nm35j/ABojKUdmDjGW6M2+02e51i0ukaMRw4zkkMuDk447jg9Pxq8I5GtHjdtrsGGQ27Gc45wKk3n/AJ5t+Y/xqC4vorUxicMplcIgAyWP0FPmlKy7C5Yxu+5jeGNGv9DtJI5/JkM0wLbZMBVC43D5eSSOn61mT+Eb6W2mhiEUatNujBmD7c53MSY+evA6jsa7Pef+ebfmP8aN5/55t+Y/xrZYmak5dWZPDwcVHojhpfBWos14TLE7SyZjYuOclvmYFDkgN9fQ9K6y8tb1tPii0+4WOePaC79GAGDng/Wru8/882/Mf40bz/zzb8x/jUzxE5tc3QcKEIJ8vUx003U97eZeEhlClhM2TyvQY+XAD8jk55qWbT7rz7g2zKqSRRRqxmbedrEkFsZGQcZyTWnvP/PNvzH+NG8/882/Mf41PtZFeziY0Gm3drHlmUFbQxb43ZnDbiQRxzVkWd9Lp6eZeSRztGd8asAu4nJ+bG4YzgYI6CtDef8Anm35j/Gjef8Anm35j/Gh1GxqmloYKaTrKRhTf5ZVIVjO529c5GPmzkdemOKfHpOpRXsUy3askeVId2ZmUkHGSM8EE/kOnTVjvY5biWCMMZYcb1IxjPT61NvP/PNvzH+NU6s+qJVKPRmPBZ6lC1tG9w7EyZmbzWcbcAnBIGMkYx6McVPe6bLcQpGXW5Hm7y8+0NGPRNq/qefetHef+ebfmP8AGjef+ebfmP8AGo9o73K9mrWHUxWAz16ntS7z/wA82/Mf40JnByMc9KzNBdw9/wAjRuHv+RpaKAE3D3/I0bh7/kaWigBNw9/yNG4e/wCRpaKACiiigCG8/wCPV/w/nU1Q3n/Hq/4fzqagAooooAKKKKACiiigAooooAKKKKAIV/4/5f8Arkn82qaoV/4/5f8Arkn82qagAoqjDq0U15PAYpYxCGIlfbtkCnDbcEng8HIHtmsyLxpp0rWISOY/bpjDHtaNsEbeu1z/AHhwMkc5AwaAOhqtatuub0bt22cDG7O392hx94465xheucc7ms1VtZAbm9BfO2cDG7O392hxjccdc4wvXOOdzUtmS90WqKTcPUfnRuHqPzqShaKTcPUfnRuX1H50AY2r/wDEw1ew0ocxhvtdyP8AYQ/Ip+r4P/ATW1WJ4fIvGu9Yf/l9kxDntCnyp+fzN/wKtrcPUfnWtTRqHb8+v+XyMqet59/y6f5i0Um4eo/OjcPUfnWRqLRSbh6j86Nw9R+dAC0Um4eo/OjcPUfnQAtFJuHqPzo3D1H50ALRSbh6j86Nw9R+dAC0Um4eo/OjcPUfnQAtFJuHqPzo3D1H50ALRSbh6j86Nw9R+dAC0Um4eo/OjcPUfnQAtFJuHqPzpaACobz/AI85f901NUN5/wAecv8AumgCaiiigDHGiTf6SjXaGKYMgAhIZVYkkZ3cnJ68cdu9Q2mgX1o9pjUoZIoWLSo9szGT0wzSFhjtkn+lb1FO4BVXT8SWYYnf87jO7d/Ge+5v5/gOgtVW09t9mDu3fO4zu3fxnvub+f4DoH9kn7RM0SOhV1BVhgg96y9JxZXMukzf8shvtif4oien/ATx9MVr1naxbSPDHd2gzdWreZGP74/iU/UVUHf3X1Jmre8uhobF9KNi+lRWl1He2kVxAcpIoYZHI9j71NUNNOzLTuroTYvpRsX0paKQxNi+lGxfSlooATYvpRsX0paKAE2L6UbF9KWigBNi+lGxfSlooATYvpRsX0paKAE2L6UbF9KWigBNi+lGxfSlooATYvpRsX0paKAE2L6UbF9KWigBAoHQUtFFABUEf/H9P/uJ/wCzVPUEf/H9P/uJ/wCzUAT0UVl65qMunW8TRS28Jd8F7hSV/wB0YYcnoKANSiuc1HX7iC/tks7nTDGyHzoZJD5ytjsAQAB3J6VBZ+KZZ/sAuLqwhe4lK7WH+uA7oRIyj65bNOwHVVWsm3faPm3YnYfezj2+8cfTj6CrNVbNy32jB34mYfezj2+8cfTj6CmtmS90WqKTJ/u/rRk/3f1qShaxrEf2rrEmotzb2+YbYdif4n/pT9buZTFHp9pkXN4dgI/gT+JvyrQtYEtLWO3hTEcahVGa1XuQv1f5GT96VuiJqKTJ/u/rRk/3f1rI1FopMn+7+tGT/d/WgBaKTJ/u/rRk/wB39aAFopMn+7+tGT/d/WgDKvv9C1y0vRxHP/o8v48qfzrWqnqdqb7TZrfbhmXKH0Ycg/nSaXem+02GYqd5G1x6MOD+tay96CfbT/Izj7s2u+pdopMn+7+tGT/d/WsjQWikyf7v60ZP939aAFopMn+7+tGT/d/WgBaKTJ/u/rRk/wB39aAFopMn+7+tGT/d/WgBaKKKAIbz/j1f8P51NUN5/wAer/h/OpqACiiigAooooAKKKKACiiigAooooAhX/j/AJf+uSfzapqhX/j/AJf+uSfzapqAKa6VaJdSXCpIJJW3N++fH025wAe4Awe+agTw9p0fl7Y5v3b7xm5kOTxwct8yjaMKcgY6Vp0UAFVbVt1zejdu2zgY3Z2/u0OPvHHXOML1zjnc1qq1q265vRu3bZwMbs7f3aHH3jjrnGF65xzualsyXuizgelGB6UUVJQYHpWR4jlf+zVsbZttxqEgtoyOqhvvt+CBj9cVr1i23/Ex8U3Fz1g05Ps8XoZWw0h/AbV/OtaWj5n01/r5mVTVcq6/1+RrQQR29vHDCoWONQiqOwAwBUmB6UUVka7BgelGB6UUUAGB6UYHpRRQAYHpRgelFFABgelGB6UUUAGB6UYHpRRQAYHpRgelFFABgelGB6UUUAGB6UYHpRRQAYHpRgelFFABgelFFFABUN5/x5y/7pqaobz/AI85f900ATUUUUAFFFFABVbT232YO7d87jO7d/Ge+5v5/gOgs1W09t9mDu3fO4zu3fxnvub+f4DoK+yT9os0UUVJRkW//Er1hrQ8W14TJCeyydWX8ev51r1U1Oy+3WTRo2yVSHicdUccg0aZem+sVkddkqkpMn9xx1H+exFay95c33mcfdfL9xbooorI0CiiigAooooAKKKKACiiigAooooAKKKKACiiigAooooAKKKKACiiigAqCP8A4/p/9xP/AGap6gj/AOP6f/cT/wBmoAnooooAKKKKACq1k277R827E7D72ce33jj6cfQVZqtZNu+0fNuxOw+9nHt944+nH0FUtmS90Waa7rHGzyEKqgliewp1Y2ss1/dQ6RCSBL+8uWH8MY7fieKcI8zsKcuVXF0aNr24m1icYM/yW6n+CIdPz61sUiqqIqIMKowAOwpaJy5nccI8qsFFFFQUFFFFABRRRQAUUUUAFZNn/oOu3VoeIrkfaIvr0Yf1rWrL11Gihh1CIZks5A5x3Q8MPyrSnq+XuZ1NFzdjUopEdZEV0OVYZBHcUtZmgUUUUAFFFFABRRRQAUUUUAFFFFAEN5/x6v8Ah/OpqhvP+PV/w/nU1ABRRRQAUUUUAFFFFABRRRQAUUUUAQr/AMf8v/XJP5tU1Qr/AMf8v/XJP5tU1AGLb607ateW80tsyxEqkKfLIjA4VWJY5LjkcDgd6paXrmp6pa2ssUtmrPc+TKnkbsjAY4ZZSAQM9c84yF6V09FMAqravm5vRkttnAxuzt/docY3HHXOML1zjnc1qq1q265vRu3bZwMbs7f3aHH3jjrnGF65xzuZrZkvdFjcf7po3H+6aWipKKep6gNN0u4vHQt5SEqv95ugX8TgfjUei2T6dpMME2XnOZJ34+aRjuY/mTVbUv8AiYa/Y6cOYoP9NuPwOI1/Fsn/AIBWzWsvdgl31/yMo+9Nvtp/mJuP900bj/dNLRWRqJuP900bj/dNLRQAm4/3TRuP900tFACbj/dNG4/3TS0UAJuP900bj/dNLRQAm4/3TRuP900tFACbj/dNG4/3TS0UAJuP900bj/dNLRQAm4/3TRuP900tFACbj/dNG4/3TS0UAJuP900tFFABUN5/x5y/7pqaobz/AI85f900ATVWvdQttPRGumZQ7bRsjZ/0UHA9+lWap6hpyagsYeaWHYScxbcsCMFTkHg+3PvQA6bUrWC6W3lkIkK7+EYqo9SwGB+J5qt/wkWlefZQi6y9+CbYCNj5gHvjA/GmS+HrebUor5p5RPEpVWCR5A7DOzIxnsee+adDonlJbo+o3k0cLbtj+WA5zkE7UB4PpinoBqVV0999mDv3fO4zu3fxnvub+f4DoLVVdPIezDEh/ncZ3bv4z33N/P8AAdA/sk/aLWRRkUm0eg/KjaPQflUlC5FZFx/xLNYW7BxbXZEc/wDsv/C/9D+HpWttHoPyqK6tIry1kt5kBSRSp4q4SSeuxE43Wm5NkUZFZ2kTu8L2l3811anY5PVx/C/4j9Qa0No9B+VKUeV2HGXMri5FGRSbR6D8qNo9B+VSULkUZFJtHoPyo2j0H5UALkUZFJtHoPyo2j0H5UALkUZFJtHoPyo2j0H5UALkUZFJtHoPyo2j0H5UALkUZFJtHoPyo2j0H5UALkUZFJtHoPyo2j0H5UALkUZFJtHoPyo2j0H5UALkUZFJtHoPyo2j0H5UALmigADoMUUAFQR/8f0/+4n/ALNU9QR/8f0/+4n/ALNQBPXPwXt8Ir0XEt4rHIRjYlvKb/ZAQbhjnJz9a6CigDk7S811Z7FZZ7i4Uq3mu9kY9w/vlfL4P+zuU+xqSO+1WcaayXV4r+YRPEdMZRMM92Zf3fH511FFO4BVWzYt9owwbE7D72ce33jj6cfQVaqtZNu+0fNuxOw+9nHt944+nH0FNbMl7odd3S2VnLczkBI1LGqGh2sywyX12B9qvG8xwf4F/hX8BUV7/wATbW47Feba0IluD2Zv4V/rW3Vv3IW6she/K/RCfN7UfN7UtFZGonze1Hze1LRQAnze1Hze1LRQAnze1Hze1LRQAnze1Hze1LRQAnze1Nkj82Jo5ApVwVI9QafRQBlaFJItrJZSkGSzcxnPdeqn8v5VqfN7VlXX+g+ILe5ziK7XyJP94cqf6VrVpU1fN3M6ei5ewnze1Hze1LRWZoJ83tR83tS0UAJ83tR83tS0UAJ83tR83tS0UAFFFFAEN5/x6v8Ah/OpqhvP+PV/w/nU1ABRRRQAUUUUAFFFFABRRRQAUUUUAQr/AMf8v/XJP5tU1Qr/AMf8v/XJP5tU1ABRWLbxahFq15IYrkpISqu84aM5PyMqFvlCjg8Ak9jWRaWPiNBYed9oIiuCZA0xyR8vzN++PH3+PmH+wOzA7Gq1q265vRu3bZwMbs7f3aHH3jjrnGF65xzuazVW1Ytc3oDg7ZwMZzt/docfeOOucYXrnHO5mtmS90WqRmCqWYgKBkknpRhvUflWR4ieSSzi02F8S6jJ5GVHKpjMjfgoP4kUQjzSSCcuWLYeHVNxDcarIMPqEnmJntEOIx+Xzf8AAjWxTI4/KjWOPaqIAqgDoBTsN6j8qc5c0rhCPLGwtFJhvUflRhvUflUFC0UmG9R+VGG9R+VAC0UmG9R+VGG9R+VAC0UmG9R+VGG9R+VAC0UmG9R+VGG9R+VAC0UmG9R+VGG9R+VAC0UmG9R+VGG9R+VAC0UmG9R+VGG9R+VAC0UmG9R+VGG9R+VAC0UmG9R+VGG9R+VAC0UmG9R+VLQAVDef8ecv+6amqG8/485f900ATUUUUAFFFFABVbT232YO7d87jO7d/Ge+5v5/gOgs1W09t9mDu3fO4zu3fxnvub+f4DoK+yT9os0UUVJQUUUUAZWqqbO4i1WIE+UNlwo/iiPU49R1/P1rUVg6hlIKkZBHcUModSrDIIwR61laZKun3LaTO4Xb81ruON8f90f7vT6YrX4o+a/Iz+GXk/zNaiiisjQKKKKACiiigAooooAKKKKACiiigAooooAKKKKACiiigAooooAKgj/4/p/9xP8A2ap6gj/4/p/9xP8A2agCeiisvXNNk1K3iSOK3m2PkpcEhf8AeHB5HUUAalFc5qOgTahf21xJa2pkt0KJcG6ffjHTbs28+vOPemafoF7YJYAJbt5ErOw+0FRGD2ULGFb8lpgdNWVcaiLDT7yfPmOJmSNN2cseAv3mx9OPoK1GYIhZzhVGST2Fc1ps0eva288c3mWlo2+Mc/M7ZweWPAA9uvQVrTjdNvZGNSVmkt2a+j2DWFgBMd1xKTJM/wDec9f8Kv0mD/eP5UYP94/lWcpOTuzWMVFWQtFJg/3j+VGD/eP5VIxaKTB/vH8qMH+8fyoAWikwf7x/KjB/vH8qAFopMH+8fyowf7x/KgBaKTB/vH8qMH+8fyoAWikwf7x/KjB/vH8qAKmrWhvNMljT/WAb4z6MORT9OuxfafDcDq6/MPQ9x+dWMH+8fyrJ08Gy1e7sSxCSf6RD9D94fnWi96DXbUzek0++hr0UmD/eP5UYP94/lWZoLRSYP94/lRg/3j+VAC0UmD/eP5UYP94/lQAtFJg/3j+VZmvao2kaVJPFiW5b5YISMmRz0AA5qoxcpKKJlJRi5M1KKztButQvNHin1i1FrdNndGBjA7cdq0aJRcZNMIy5kmiG8/49X/D+dTVDef8AHq/4fzqapKCiiigAooooAKKKKACiiigAooooAhX/AI/5f+uSfzapqhX/AI/5f+uSfzapqACioY7y2muZbeG4iknhx5sSuC0eemR1H41CusaY/lbdRtG85zHFidfnYdVHPJ9hQBcqtatuub0bt22cDG7O392hx94465xheucc7ms1WtW3XN6N27bOBjdnb+7Q4+8cdc4wvXOOdzUtmS90Wax7LN/4ju7w8w2a/ZIf97hpD+e1f+AmrmrX39m6VPdBd7ouI0/vueFX8SQKNJsP7N0qC1J3Oi5kf++5OWb8SSauPuwcu+n+f9eZEvemo9tf8v68i5RRRWRqFFFFABRRRQAUUUUAFFFFABRRRQAUUUUAFFFFABRRRQAUUUUAFFFFABRRRQAVDef8ecv+6amqG8/485f900ATUUUUAFFZya3A32oyRTRJbqW3vtxIoOCVwSeDxzimWOv21+toYY5sXRYIRtdV2jJyykr+RNAGpVbT232YO7d87jO7d/Ge+5v5/gOgs1V0+QNZgmQN87jO/d/Ge+5v5/gOgr7JP2i1RSb1/vD86N6/3h+dSULRSb1/vD86N6/3h+dAC1BdWVtfReXeQRzp6OoOKm3r/eH50b1/vD86abTuhNJqzMv+yrqz50rUJEUf8sLrMyfgSdw/PHtR/bE9pxq9hJAP+e8GZo/xwNw/EY961N6/3h+dG9f7w/Or57/Er/n/AF6kclvhdv6/rYjtru3vIRLaTxzxn+KNgw/SpazrnR7C4mM6qbe4P/Le3fy3P1I6/Q5qH/ib2P3JYdTiH8L4im/MfK35LRyxfwv7/wCv8g5pL4l939f5mvRWZB4gsnlWG6L2U7cCK6XYSfY/db8Ca0t6/wB4fnUyjKO6KjJS2FopN6/3h+dG9f7w/OpKFopN6/3h+dG9f7w/OgBaKTev94fnRvX+8PzoAWik3r/eH50b1/vD86AFopN6/wB4fnRvX+8PzoAWik3r/eH50b1/vD86AFopAwPQg0tABUEf/H9P/uJ/7NU9QR/8f0/+4n/s1AE9FFV01CzkExju4GFucTFZQfLP+1zx+NAFiiqcer6bKYxFqFq5lUtHtmU71HUjnkULrGmP5WzUbRvOJWLE6nzCOoXnn8KALhAIIIyD1BqhpVtb2y3C20aIPOYEJ7dvvH8uPoKv1Wsm3faPm3YnYfezj2+8cfTj6CrTfK0S0uZMs0UUVBQUUUUAFFFFABRRRQAUUUUAFFFFABRRRQAVla2Dbm21JAc2snz47o3BrVpk8KXFvJDIMpIpUj2NXCXLK5M480bDlIZQynIIyDS1m6FM5sTbTnM1o5hb3A6H8q0qUo8srBGXMrhRRRUlBRRVTUdRh02182bLMx2xxqMtI3YAU0nJ2Qm0ldialqUOl2vmzZZmO2OJBlpG7KBVPTNMnkuv7U1jDXjDEcQ5W3X+6Pf1NLpumzSXX9p6vhrxhiOMcrbr6D39TWvWrkoLljv1f6GSTm+aW3RBRRRWJsQ3n/Hq/wCH86mqG8/49X/D+dTUAFFFFABRRRQAUUUUAFFFFABRRRQBCv8Ax/y/9ck/m1TVCv8Ax/y/9ck/m1TUAZcekzJezy/akMUhYKnkkMqucuC27k56HAx6GqFt4Vkgjto5buCZbeYSK72zPIgG3AR2kYp93nqOcAAV0dFO4BVW1Ie5vQW3bZwMb87f3aHGNxx1zjC9c453NaqpBMqS37SSDZHL8xLZ2Dy0P9449cYXrnHO5nHZky3RRvFF/wCIrSzHMNmv2ubn+LlYx+e5v+AitjaP8msrw+jSWcuoygiXUJDPhuqp0jX/AL5AP1JrWq6mj5e39Mmnqubv/SE2j/Jo2j/JpaKyNBNo/wAmjaP8mlooATaP8mjaP8mlooATaP8AJo2j/JpaKAE2j/Jo2j/JpaKAE2j/ACaNo/yaWigBNo/yaNo/yaWigBNo/wAmjaP8mlooATaP8mjaP8mlooATaP8AJo2j/JpaKAE2j/Jo2j/JpaKAE2j/ACaWiigAqG8/485f901NUN5/x5y/7poAmooooAoro9kskrqkmZTlx5z4PtjOAOeg4zzTY9DsYWgaMXAMDF0JupTye7Zb5vTnNaFFABVbT232YO7d87jO7d/Ge+5v5/gOgs1W09t9mDu3fO4zu3fxnvub+f4DoK+yT9os0UUVJQUUUUAFFFFABRRRQAUUUUAMmgiuYmiuIkljbqjqCD+BrM/sM2vOj3s1jj/lif3kJ/4A3T/gJFa1FXGco7EyhGW5lfa9Ztf+PqwivEH8dnJtb/vh8f8AoRp0XiHTmkEc8rWcpOBHdoYiT7buD+BNadNkijmjKTIsiHqrDIP4U+aL3X3E8sls/vFDBlBUgg9CO9LWU3h2yRi1g02nv62khRf++OV/Sm+Vr1p/qp7XUUH8MymGT/vpcqf++RRyRfwv79P+AHNJfEvuNeisf/hIBb8arYXdj6yGPzI/++kzj8cVoWl/aX8fmWVzDcL6xuGx+VKVOUVdocakZOyZYoooqCwooooAKKKKACiiigAqCP8A4/p/9xP/AGap6gj/AOP6f/cT/wBmoAnrHj0a5iSdVurdxICoWW1LKF64Yb/mPvx9K2KKAOcXwoR5A+1RxpEpykELRqT2AUPtCj0IJ96lXw7KZLd57i1kaKTeZBZ4cH/YYudnv1zW9RTuAVVsyH+0fMWxMw+/nHt944+nH0FWqrWTbvtHzbsTsPvZx7feOPpx9BTWzJe6LG0e/wCZo2j3/M0tFSUJtHv+Zo2j3/M0tFACbR7/AJmjaPf8zS0UAJtHv+Zo2j3/ADNLRQAm0e/5mjaPf8zS0UAJtHv+Zo2j3/M0tFACbR7/AJmjaPf8zS0UAJtHv+Zo2j3/ADNLRQBjyqLHxHHIBiK+Ty3Of416fmOK19o9/wAzVHWrVrrS5PK/10WJYyP7y81Ysbpb2xhuU6SIDj0PcVrLWKl8jOOknH5k20e/5mjaPf8AM0tVb+/h06382bLMx2xxry0jdgBWaTbsi20ldjdQvoNNtvNm3MzHbHGpJaRuwAqpp2mSyXP9o6r812wxHGDlbdfQe/qafp+nzPc/2jqmGu2GI4xysC+g9/U1qVo2oLlj82ZpOb5pfJCbR7/maNo9/wAzS0VkahRRRQBDef8AHq/4fzqaobz/AI9X/D+dTUAFFFFABRRRQAUUUUAFFFFABRRRQBCv/H/L/wBck/m1TVCv/H/L/wBck/m1TUAUYdWimvJ4DFLGIQxEr7dsgU4bbgk8Hg5A9s1WsfEtlqFvBLbrIfOl8tVBRyOnzEqxAHI75GcYzVtdKtEupLhUkEkrbm/fPj6bc4APcAYPfNV18N6QPL32MczRv5kbz5ldDxjDMSQPlHAOOKegGpXP6rKbl5tKjky17diJ8NnZEI0aT+I4446LywODnc3QVy3hjU7bxBr2pajCJx5IWFEmUjYDndj5j12L029Omck7UU0pT7fn0MKrTcYd/wCmdOCiqFXAAGAAOlLvHrS0Vgbibx60bx60tFACbx60bx60tNYkFcdzQAu8etG8etLRQAm8etG8etLRQAm8etG8etLRQAm8etG8etIhJU59SP1p1ACbx60bx60tFACbx60bx60tFACbx60bx60jEhlA7nn8qdQAm8etG8etLRQBS1TVItKsTdTI8iBgpCMq4z3JcqoH1NUn8W6RAVF3NJal5xboJoHXe+AeOOnPXpWleWUV/B5U5mC5zmGZ4m/76Qg/rVVPD+nRurRRzRlWBXy7mRcYAGOG6EAZHQ4Gc09AJrPVbS/klS2dy0R+bfE6Z5IyNwG4cHkZHFXKoaZpMGlq5jLvLIcvI7s2eSQACTtAyeBgVdQkoCetIB1Q3n/HnL/umpqhvP8Ajzl/3TQBNRRRQAUUUUAFVtPbfZg7t3zuM7t38Z77m/n+A6CzVexDra4lDBt7/eOTjccfxN29/wAB0FfZJ+0WKKKKkoKKKKACiim5PmAdsUAOooooAKKKKACiimyErGSOtADqKKKACiiigArPvNB0y+k82ezjE3/PaPKSD/gS4NaFFVGUou6diZRUlZoxv7H1C2/5B2t3AHaO7RZ1/Phv1o+16/a/8fGm216v960n2N/3y/H/AI9WuhJzn1p1X7Rv4kn/AF5WI9ml8La/rzMceJ7KLjUIrrTz/wBPUDKv/fYyv61pW15bXsfmWdxFcJ/eicMP0qas258PaTdyeZLYQrL/AM9Yh5b/APfS4P60fu33X4/5fmH7xdn+H+f5EJ8TWiXktvJBcq0coiJWMPye5CklR/vAe1EPivRrmNpLa7aZVkMTGKCRtrDrnC8D36e9UrnwarymW11a/RuMLPM0yjBzgZIYDPo3NV30LUYWiE1tHfW8TFtkF7NExz22sxG3/Z3bfajki/hf6fn/AJj52viT/M63r0orBXxRH/a8OnT6fe200mBiRFwMnA5UkH863qmUJQ+IcZxn8IVBH/x/T/7if+zVPUEf/H9P/uJ/7NUFk9FFFAFNNVs5JbiNZG3W4JkzEwGB1wSMN+GarWniXSr6OF7S4eRJyQjCCTHBxydvy/jipE0cRXEssV7co0h4A2YQHqBlfX1zVf8A4Rq2e4gnuLia4khkMm6VIss3rkICP+A4p6AbNVbN932j592J2H3s49vvHH04+gq1Va0Vv33mhuZWK7uePb5jx+X0FNbMl7os5HrRketJtHoPyo2j0H5VJQuR60ZHrSbR6D8qNo9B+VAC5HrRketJtHoPypox5hGBjHpQA/I9aMj1pNo9B+VG0eg/KgBcj1oyPWk2j0H5UbR6D8qAFyPWjI9aTaPQflTWADqMDn2oAfketGR60m0eg/KjaPQflQAuR60ZHrSbR6D8qNo9B+VAC5HrWRpTCz1K801m+UN58Iz/AAt1H4GtbaPQflWRrcctvNa6jaQtLJC2x40XJZG/+vWtPW8e5nU0tLsXr7UIdPt/MlJZidqRryzt2AFVbCxke5/tDUyrXRGI4wcrAvoPf1NLY6fI9x9v1IK1ywwkY5WBfQe/qa0to9B+VDaiuWIJOTvIXI9ao6nqsWlQJLNG8iu4T5GQYz6lmA/r6Vd2j0H5VWvdOt9QjEdyJdoOcRTPHn67SMj2NZGhn/8ACW6QrxJcTyW8k0hjjSaF1LEfh0960LLUrXUA5tWc+WcMJImjP4BgMj3HFVh4e09G3QpNGwJIK3EgA46Y3YI9ulS6bpVvpduyQ7mduXeR2csf+BE4Ht0p6AXqKRDlATS0gIbz/j1f8P51NUN5/wAer/h/OpqACiiigAooooAKKKKACiiigAooooAhX/j/AJf+uSfzapqhX/j/AJf+uSfzapqACiiigApqRpHu2KBuYscDqadWToc17MLg3rTthhjz4fL2tzuVflG5Rxhuc5PJoA1qKKKACiiigApCM49jmlrN1a6ntZrHyDLse4CyrHatLuTB6lQdgyQcn0oA0qKKKACiiigAoopGOFJHXHpn9KABRtGB6k0tZXh66mu7GR7h7xm80hfttt5MgHHbaAR1IIzwcE5FatABRRRQAUUUUAIRkg+lLWTqtxdxapp8dq9wEeQeasVuWVlzzubaQP8AvpfX5ula1ABRRRQAUUUUAFIo2rgU2d3jt5HhjMsiqSsYIG444GTwKpaJPez6eW1OCWG4EjArKqAkZ4wFYjHYc5479aANCobz/jzl/wB01NUN5/x5y/7poAmooooAKKKKACkA2jihyRGxTlscfWszQprua3lN687nfwZ4fLYHuANoyoPQ9/U0AalFFFABRRRQAUmPm3d8YpazXup18Rx2+ZTbtATtFq20PkYJkxjpnjigDSooooAKKKKACkZdykHvS1m69cy2ultJbm7D7gB9jt/Ok6/3cEY9Tg0AaVFR2zM9rEzksxQElkKknHoeR9KkoAKKKKACiig8A0AIF25x3OaWsnRLi6nkvPtT3DosuIzNB5fHoMqpI/P/AHj21qACiiigAooooAaUUuGI5XoadWXd3WoprdrFBaTNZn/WSp5ZXOD1y24Aew/wrUoAKgj/AOP6f/cT/wBmqeoI/wDj+n/3E/8AZqAJ6KKKACiiigApANuceuaGyFO3k44rL0Oa8mWc3j3DgP8AKZ4fLIPcAbRkeh5+tAGrRRRQAUUUUAFJj5ifWlrNgupz4guLeQymARqUH2VlQHv+8xhj+NAGlRRRQAUUUUAFIRlgfSlrJv7ueLXLKGN7xY35cRWu+Ij0d9pwfTke9AGtRRRQAUUUUAFIy7hg0tZmvT3Nvp26zedJSwwYIDIx9sBGx+X4jrQBp0UyEs0EZfO4qM7hg5x6U+gAooooAKDzRUN3JNFaSPawmaYL8kYIG4/iQP1oAlA2jApao6PNdz6bG+oRSxXHIZZQoPX0UkfrV6gCG8/49X/D+dTVDef8er/h/OpqACiiigAooooAKKKKACiiigAooooAhX/j/l/65J/NqmqrI8qXreRGJSY13Attxy2P60edef8APon/AH+/+tQBaoqr515/z6J/3+/+tR515/z6J/3+/wDrUAWqKq+def8APon/AH+/+tR515/z6J/3+/8ArUAWqKq+def8+if9/v8A61HnXn/Pon/f7/61AFqiqvnXn/Pon/f7/wCtR515/wA+if8Af7/61AFqiqvnXn/Pon/f7/61HnXn/Pon/f7/AOtQBaoqr515/wA+if8Af7/61HnXn/Pon/f7/wCtQBaoqr515/z6J/3+/wDrUedef8+if9/v/rUAWqKq+def8+if9/v/AK1HnXn/AD6J/wB/v/rUAWqKq+def8+if9/v/rUedef8+if9/v8A61AFqiqvnXn/AD6J/wB/v/rUedef8+if9/v/AK1AFqiqvnXn/Pon/f7/AOtR515/z6J/3+/+tQBaoqr515/z6J/3+/8ArUedef8APon/AH+/+tQBaoqr515/z6J/3+/+tR515/z6J/3+/wDrUAWqKq+def8APon/AH+/+tR515/z6J/3+/8ArUAWqKq+def8+if9/v8A61HnXn/Pon/f7/61AFqobz/jzl/3TUfnXn/Pon/f7/61RXMt0bWQPbKqleWEucfhigC/RVXzrz/n0T/v9/8AWo868/59E/7/AH/1qALVFVfOvP8An0T/AL/f/Wo868/59E/7/f8A1qALVFVfOvP+fRP+/wB/9ajzrz/n0T/v9/8AWoAtUVV868/59E/7/f8A1qPOvP8An0T/AL/f/WoAtUVV868/59E/7/f/AFqPOvP+fRP+/wB/9agC1RVXzrz/AJ9E/wC/3/1qPOvP+fRP+/3/ANagC1RVXzrz/n0T/v8Af/Wo868/59E/7/f/AFqALVFVfOvP+fRP+/3/ANajzrz/AJ9E/wC/3/1qALVFVfOvP+fRP+/3/wBajzrz/n0T/v8Af/WoAtUVV868/wCfRP8Av9/9ajzrz/n0T/v9/wDWoAtUVV868/59E/7/AH/1qPOvP+fRP+/3/wBagC1RVXzrz/n0T/v9/wDWo868/wCfRP8Av9/9agC1RVXzrz/n0T/v9/8AWo868/59E/7/AH/1qALVFVfOvP8An0T/AL/f/Wo868/59E/7/f8A1qALVFVfOvP+fRP+/wB/9ajzrz/n0T/v9/8AWoAtUVV868/59E/7/f8A1qPOvP8An0T/AL/f/WoAtVBH/wAf0/8AuJ/7NTPOvP8An0T/AL/f/WpkTXJupW8mMMVUFTIeOuOcUAXaKh33X/PGH/v6f/iaN91/zxh/7+n/AOJoAmoqHfdf88Yf+/p/+Jo33X/PGH/v6f8A4mgCaiod91/zxh/7+n/4mjfdf88Yf+/p/wDiaAJqKh33X/PGH/v6f/iaN91/zxh/7+n/AOJoAmoqHfdf88Yf+/p/+Jo33X/PGH/v6f8A4mgCaiod91/zxh/7+n/4mjfdf88Yf+/p/wDiaAJqKh33X/PGH/v6f/iaN91/zxh/7+n/AOJoAmoqHfdf88Yf+/p/+Jo33X/PGH/v6f8A4mgCaiod91/zxh/7+n/4mjfdf88Yf+/p/wDiaAJqKh33X/PGH/v6f/iaN91/zxh/7+n/AOJoAmoqHfdf88Yf+/p/+Jo33X/PGH/v6f8A4mgCaiod91/zxh/7+n/4mjfdf88Yf+/p/wDiaAJqKh33X/PGH/v6f/iaN91/zxh/7+n/AOJoAmoqHfdf88Yf+/p/+Jo33X/PGH/v6f8A4mgCaiod91/zxh/7+n/4mjfdf88Yf+/p/wDiaAJqKh33X/PGH/v6f/iaN91/zxh/7+n/AOJoALz/AI9X/D+dTVWkW4mQoyRIp6kSE/ptFWaACiiigAooooAKKKKACiiigAooooAhX/j/AJf+uSfzapqhX/j/AJf+uSfzapqACiiigAooooAKKKKACiiigAooooAKKKKACiiigAooooAKKarqzMqspZThgD0+tOoAKKKKACiiigAooooAKKKKACiiigAooooAKhvP+POX/dNTVDef8ecv+6aAJqKKKACiiigAooooAKKKKACiiigAooooAKKKKACikDqXKBgWAyVzyKWgAooooAKKKKACiiigAooooAKKKKACiiigAooooAKKKKACoY/+Pyb/AHU/rU1Qx/8AH5N/up/WgCaiiigAooooAKKKKACiiigAooooAKKKKACiiigAooooAKKKKACiiigAooooAKKKKACiiigAooooAKKKKACiiigAooooAKKKKACiiigAooooAKKKKACiiigCFf8Aj/l/65J/NqmqFf8Aj/l/65J/NqmoAKKKKACiiigAooooAKKKKACiiigAopCQqksQAOST2prTxIwV5UVicAFgCTQA+uT8b63q+j/Y/wCykVY5N5kmZQQGGNqnIOM5PPtXSTX0EMTvu8wIQGEfzFcnHIptzqNvayCN2LSFWbYnLYAyeKpRb6EuSXU4uLxVrMuqXCWjpdywyzo1gsBARUjLK3md8ttXHvSxeJtWNjIwuvMtvOhV9R+yEeRuVi42fxbSFGf9v2rtLVbWKMm2CRiZvNYZwSzc5PualknhhYCWVELdAzAZpWY7o4uyuNTi1yW8tLrz7S4vbaOXNtjz1aFQXH93H+NdxURuoArEzxgKcMS44PpTY7yCRpQJFHlNtbJx2Bz9MMKLMLonopizRNjbIhzjGGHOelRXd5HZhTKshVjgsq5C9OT6daEm3YG0lcsUUyaeK3j8y4lSJBxudgo/M08EMoKnIPII70hhRRRQAUUUUAFFFFABRRRQAVDef8ecv+6amqG8/wCPOX/dNAE1FFFABRRRQAUUUUAFFFFABRRRQAUUUUAMlDmFxE219p2kjODXD3fiXW49GmuDuhkgZbditvndLk5bngLjH513JkRc7mUY65PSmfarfbu8+PbnGd46+lOzFdHLeE727v8AU2udSiaK5msY9wKEAlXYH29PzpnifxFqum+IrS101HkjbYZI/KBDKWwfm68e1b99Dp2qwSw6jGTFAwLb2KDOOCCCKNKlsIbZbawRooETeu4nGCfUn1p8r3sLmXc5ZvE2o7GMuofZ3a4Mc6fYy32JASAenz5wPzqc+J79b8Wccnns08XluLcjfCy8t6Dn8q7Peu0ncMDqc9KiF3bMAVuIiCcAhx1pWY7o4PV/EniLT9Lsp4naW5uVaTyVtgAADjbk9/1q83iDUzLeyG6EMtsd408233oxglt/uM11kl9bxEAyqSXCYU5wScc+lMvI7G/gNvdmOSNgGKF8ZHrwelOzC6ItEup77S0u7g/68mSNduNqH7v6c/jWhTVKCPEeNqjGF7Y7VFa3iXW/YroyHDK64IpWe4XWxPRUcdxDLI8cU0bun31VgSv1HapKQwooooAKKKKACiiigAooooAKhj/4/Jv91P61NUMf/H5N/up/WgCaiiigAooooAKKKKACiiigAooooAKKKKACiiigAooooAKKKKACiiigAooooAKKKKACiiigAooooAKKKKACiiigAooooAKKKKACiiigAooooAKKKKACiiigCFf+P+X/AK5J/NqmqFf+P+X/AK5J/NqmoATepcqGG4DJGeQKWs2y0ua11i7vHu/NS4A/dmMArgnHPcAHFW76RodPuJIzh0iZlOOhANNK7sJuyuT0VGAxZsMRg4/Sl2N/fP5Uhj6KZsb++fyo2N/fP5UAPopmxv75/KjY398/lQA+svUfDml6rci4v7dpJQoXImdOPopArR2N/fP5UbG/vn8qqMpRd4uxMoxkrSVyrDpVta6U+n2iGOFlZQC5bG7ryST3rJj8N3KqfMuY5XcFWd1OVB2nK++QcfWug2N/fP5UbG/vn8quNWcb67kSpQlbTYzjpUkely29t5ImlkZ2dlPILlu3PeoJNHumv2uVe3yQ5BKnOWUDGfQYrY2N/fP5UbG/vn8qFVkgdKLMmPT5jqtm0o4ggxKVHyOwyEx9AzUmoeHkupYzDsRERlAYE8nvWvsb++fyo2N/fP5Ue1kndB7KLVmYkfh5wyea8LKjLwF++Bv5b1b5v0qJPDU6RTKLpSZo0Vsg8bQmMemSpz7EeldBsb++fyoUElgWPBx+lP28+4vYQ7GNBpLRajZqAQkKM0xH3XOSVwfYsxq3dadI0cENn5aW6yb5Uck78cgfnz+FaG33NG33NJ1ZN3KVOKVjmfH/AITl8ZeHE023uxaOlws29gSGwGGDj/ez+FbmlWR03RrKxaQym1t44TI3V9qgZ/HFWtvuaNvua51CKk59QVOKm5rdi0Um33NG33NWaC0Um33NG33NAC0Um33NNcrGheSTaqjJZjgCgB9FYdxe3OrxyW2i7ljdSjXr8Kvb5R3NWfD+l3GkaULa8vGvJd5YyN79q1dPljdvXsZqpzSslp3NOobz/jzl/wB01NUN5/x5y/7prI0JqKKKACiiigAooqC7keJIyhwWlRTx2LAGmld2E3ZXJ6KYu5hndjk9qXa39/8ASkMdRTdrf3/0o2t/f/SgBl1bRXlrJb3KlopF2uoYjI+o5rNsvC2kafdpc2ls6TJnaxnkbGRjoWIrV2t/f/Sja39/9KtTnFWT0IcISd2tTJ1PRZb++WaO48tNoDpj72D/AIE0200IxTwyXBhYRn7ir8pwpUHnvzWxtb+/+lG1v7/6VXtZ8vKT7KHNzGXc6ZdXEk5LW+1nVkUgkHHZqhTS7i3tDHL5ckQt/K2xKd2evAra2t/f/Sja39/9KPaytYPZRvczrfSwdKjjuObjYcuc8M3JrOj8MSRLiOSDlNhBQ4HX5h710W1v7/6UbW/v/pQq01ewOjB2uYM3hlpcgThNzEsyjDH5w3X8KU6I6TS3FwRMGjxtjByDtxwPSt3a39/9KNrf3/0p+3n3F7GBQ07T/JsYDcDdcqCxYk/eNS6baz20cpu2jeWRyzMmefzq1tb+/wDpRtb+/wDpUObd79S1BK1uhx/hXwNN4d8W6xrEuofaE1Atsiwfky27n6dK7Km7W/v/AKUh3LglsjPpWMIRgrRFTpxpx5Yj6KxI77U5zLeWixzWqysiwYwzqOMg+uQa0bHUbe/QmFiHX78bDDIfQit5U5RVwjUUnYtUUUVmaBRRRQAUUUUAFQx/8fk3+6n9amqGP/j8m/3U/rQBNRRRQAUUUUAFFFFABRRRQAUUUUAFFFFABRRRQAUUUUAFFFFABRRRQAUUUUAFFFFABRRRQAUUUUAFFFFABRRRQAUUUUAFFFFABRRRQAUUUUAFFFFABRRRQBCv/H/L/wBck/m1TVCv/H/L/wBck/m1TUAFVtS/5BN3/wBcH/8AQTVmq2pf8gm7/wCuD/8AoJqo/EiZfCydPvP/AL39BUN7cy2sAkgs5rxt2PLhKgj3+YgVMn3n/wB7+gp1JOzG9UVLC9nvA/2jT7iy24x57Id302sf1qG11cXF9cweQwEJIDKdxbDbTxjjn68Vo1D9jtt0jfZ4t0pBkOwZfHTPrV3jrdE2lpZlPXtWOjab9pWLzXaRY1UkgZP0BNPh1aJtDh1OdWijkjV2XqVzj/GrVzawXkDQXcKTRN1R1yDSmCEwCExIYgABGVG0AdBii8OVJrW/4CtPmbvpb8Sgmv2j7iiymMKx8zaMEhS2Ouc7Rnpj3zTn1QwzA3ELRRG3eYq2N42sBjgkc7qtLYWinK2sAOzZkRj7vp9PanPa28sm+SCJ32FNzICdp6jPp7U7076IVqltWUINVklmiDQFFfzgUPLqYzjHBx/nrU6atbPAsyCZo2ztZYWYHAyeQMD8cVKLC1Tb5dvFGyA7GSMApnrjjinwW0VvarbxoBGARtPfPX86G4PoNKa6mbD4jtZ22iG4UhsPuVfkGQMnB6ZYDjJpq+JLd7i3jEciic4XeACSQCuOcc5746VojT7MOrC0gDK24HyxkH16daPsFmRg2sGMbceWOnp+lPmpdieWr3Kv9uWwV3aOZUDbVcrw556c/wCyRzg9PUVLc6h5VvPJDEWaA4YTK8QP+6Sp3enGakfTrVyD5KL+8EjBVA3sDkE+vPNSzQQ3ChbiJJVByA6hgD681N4X2KtO249GLRqxUqSASp7e1In3n/3v6CnAAAADAHQU1PvP/vf0FZmg6iiigAooooAKKKKACiobq7gsoDNdSrFGvUsay/O1DWeLUNYWZ4Mzj96/+6Ow9zVxg2r9CJTSdupavtXhtJRbwq1zdsMrBFyfxPYfWoE0qe/kE2tyB1H3bWM/u1+v941estOttPjKW0e0scs55Zj6k96s1XOo6Q+/+tieRy+P7v63EVQihUAVR0AGMUtFFZGoVDef8ecv+6amqG8/485f900ATUUUUAFFYtmb0X92LkXZjY7Rn7oJPBT2x1qns1C0ms0LanMGlZmcEMEXPAb1yB+tMDpqrX3+ri/67x/+hCqPh5LyO3nF7LdSgykxtdKFcD0wOwq7f/6qLH/PeP8A9CFOPxEy2LEf3PxP86rX97PZhPs+n3F7uznyGQbfruYfpVmP7n4n+dOpJpO7Q2m1oVLW9kntXmuLKe0KZ/dylCSAOvysRUWmap/aMHmGAxnft+U7h90MDnA4wa0Khis7aFVWG3ijCNuUIgG04xke+OKq8bPQm0rrUytf8Q/2JPaxi387zyS3JGFBAOODzz3x0q3rN9Pp9is9rHHK5dUCSMRuLHAAwOvNWbiytbto2ureOYxNujLqDtPqKPsNr2t4/wDW+d90ff8A73196tSp2jptv5kuNS8td9vIwdR8WnSUvTewQ5gwsflzZDOc/ISQMHAyevWtTS9UbUJrhWjjVYwjI0cm8OrLkHoP61LFpGnwtcNFZxIbnPnYX/WZ65qxHbxQuzRRqjPgMQOuBgU5SpONox1/4b/gkxjVUryen/DlGXXbSO5e2AkknRgvlqoySTgDJIHp370Nq4ktZZLOJ28uDzt7gBRxkA85zx2FW3srWRnaS2hdn+8WjBLdOvr0H5CnfZbfymi8iPy2UKybBggdBj0qb0+xVp9yi2rFriOCGI72X5nP3VbZvx1z0x7c9akt9VjlS1Eiss1xCsoVRngqScfTH6j1qx9htNwb7LDuC7AfLGQuMY+mKSOxt4pkkjjVPLQxxqoAVFOMgAdOg/KhunbYEp33KVx4is7V1EsdwqMoYu0RXbkkcq2G7elB1+AMEME6vnDKwX92cgDPPfcvTPX61oSWtvM+6aCORuOWQE8dKathaIoVLWBVHQCMADnP8wDRenbYLVL7lG11+C5s7WZY5HacciMZ24xuPXOATj19qsRarbzLlFmI3iM7YWbDeh2g4x3J4qX7BZ8f6LB8pBH7scEAAH8gB+FPt7aO1jZYh95i7E9WYnkmhun0QJVOrIra6kmuriF4lUQkAOj7gc54PAwcYJHPUUam0i6bOYBmXYQg/wBo9P1qaK3hgLGCGOMuctsUDcfU4p0gyo+oqLrmui7PlsyKytlsrGG2TkRIFz6+9V77SortxNEzW90v3Zo+D9D6ir3ze1Hze1ClJO6BxTVjJh1Wa0mW21pBE7HCXC/6t/8AA1rg5GRyKimhW4haKeNJI2GCrDINZP2a/wBGJawzdWmebdj80Y/2T3+lXaM9tH+BF5Q31X4m3RVSx1CHUIfMtnBwcMp4ZT6EdqtfN7Vm007M0TTV0LRSDPfFLSGFQx/8fk3+6n9amqGP/j8m/wB1P60ATUUUUAFFFFABRRRQAUUUUAFFFFABRRRQAUUUUAFFFFABRRRQAUUUUAFFFFABRRRQAUUUUAFFFFABRRRQAUUUUAFFFFABRRRQAUUUUAFFFFABRRRQAUUUUAQr/wAf8v8A1yT+bVNUK/8AH/L/ANck/m1TUAFVtS/5BN3/ANcH/wDQTVLT2uzr195wufs+B5fmjCZz/DV3Uv8AkE3f/XB//QTVR+JEy+Fk5RSckcmjy19P1pfm9qPm9qkoTy19P1o8tfT9aX5vaj5vagBPLX0/Wjy19P1pfm9qPm9qAE8tfT9aPLX0/Wl+b2o+b2oATy19P1o8tfT9aX5vaj5vagBPLX0/Wjy19P1pfm9qPm9qAE8tfT9aPLX0/Wl+b2o+b2oATy19P1pVUL0GKPm9qPm9qAFopPm9qPm9qAFopPm9qp3+qQadGDcON7fciQZdz7Cmk5OyE2krsu1k3GtGSZrXR4vtdwOGfOI4/wDeb+gqH7LqWs835NlaH/l2jb53H+03b6Cta3to7SEQ20SRRr0VRitLRhvq/wADO8p7aL8Sja6KPPF1qkv2y6H3Swwkfsq/1rUpPm9qPm9qiUnJ6lxiorQWik+b2o+b2qShaKT5valoAKhvP+POX/dNTVDef8ecv+6aAJqKKKACiiigAqtff6uL/rvH/wChCrNVr7/Vxf8AXeP/ANCFVH4kTLYn8tfSjy19P1p1FSUN8tfT9aPLX0/WnUUAN8tfT9aPLX0/WnUUAN8tfT9aPLX0/WnUUAN8tfT9aPLX0/WnUUAN8tfT9aPLX0/WnUUAN8tfT9aPLX0/WnUUAN8tfT9aPLX0/WnUUAMdY0QswwFGTzVDRXkurI3c5J86QvEv91M4X9Bn8aTXpGNitpCcS3jiFcdgfvH8Bk1oxRrDEkcYwiKFUegFabQ9TO95+g6iiiszQKKKKAM6+0hLib7TaSG1vAMCVO/sw7io7fVnhnFrq8Yt5icJIP8AVy/Q9j7GtWori2hu4WiuI1kRuoYVop3VpGbhZ3iS0VzS22vaf4htrexcTaORlzKctH6jPX6V0tE4KNrO9whNyvdWsFQx/wDH5N/up/Wpqhj/AOPyb/dT+tZmhNRRRQAUUUUAFFFFABRRRQAUUUUAFFFFABRRRQAUUUUAFFFFABRRRQAUUUUAFFFFABRRRQAUUUUAFFFFABRRRQAUUUUAFFFFABRRRQAUUUUAFFFFABRRRQBCv/H/AC/9ck/m1TVCv/H/AC/9ck/m1TUAFVtS/wCQTd/9cH/9BNWaral/yCbv/rg//oJqo/EiZfCyzRRRUlBRRRQAUUUUAFFFFABRRRQAUUUUAFFFFABRRRQAU2SRIoy8jBEUZLMcAVRvdXitpvs8CNdXbDKwRcke5PYVXTSZ7+RZtbkEgHK2sZ/dr9f7xrRQ0vLRGbnraOrEbU7rU2MWiJiLkNeSj5R/uj+L+VWrDSLeykMzFri5b708pyx+noPYVeVQihVAVR0AGMUtDnpaOiBQ1vLVhRRRWZoFFFFABRRRQAUUUUAFQ3n/AB5y/wC6amqG8/485f8AdNAE1QXd7b2MQku5REhO0Eg8mp6p6jYG/jRUmMLI2QwUNwRgjB9jQAs+qWVtcx2804SWUZQEHn8elEWq2U0SSR3ClZH2KeRlvSmnTywj3Tk+UGEfyj5cjA+uKz4vDJAga41K5lnhYsJAAu7nPIHXpT0A07HUrPU4nlsLhJ0RyjMnZh1FLff6uL/rvH/6EKj03Tv7PSXdL5rStuYiMIPyFPv+Yov+u8f/AKEKcfiJlsWqKTYKNgqShaKTYKNgoAWik2CjYKAFopNgo2CgBaKTYKNgoAWik2CjYKAFopNgo2CgBaKTYKhupY7W0lnk4WNSxP0ppXdgbsrlCP8A03xNI/WKxj2L/wBdG6/kP51rVm6HamHS0kmGJrgmeT6tzj8BgfhWjsFXU+Ky6GdP4bvqLRSbBRsFZmgtFJsFGwUALRSbBRsFAC0UgUDpS0AFQx/8fk3+6n9amqGP/j8m/wB1P60ATUUUUAFFFFABRRRQAUUUUAFFFFABRRRQAUUUUAFFFFABRRRQAUUUUAFFFFABRRRQAUUUUAFFFFABRRRQAUUUUAFFFFABRRRQAUUUUAFFFFABRRRQAUUUUAQr/wAf8v8A1yT+bVNUK/8AH/L/ANck/m1TUAFVtS/5BN3/ANcH/wDQTVay1NrrWL20L27Lb44jfLqfRh9MHj1qzqX/ACCbv/rg/wD6CaqPxImXwss0Um72P5UbvY/lUlC0Um72P5UbvY/lQAtFJu9j+VG72P5UALRSbvY/lRu9j+VAC0Um72P5UbvY/lQAtFJu9j+VG72P5UALRTd3say59aaaVrbR4ftU44aTpHH9T3+gqoxctiZSUdzQuruCygM11KsSDux6/wCNZnmahrHEAfT7M/8ALRh+9k+g/hHv1qW10lROLrUZGvLodGcfLH7Kvb61p7vY/lV3jDbVkWlPfRFey0+20+Ly7WMLk5ZjyzH1J71ZpN3sfyo3ex/Ks223dmiSSshaKTd7H8qN3sfypDFopN3sfyo3ex/KgBaKTd7H8qN3sfyoAWik3ex/Kjd7H8qAFopN3sfypaACobz/AI85f901NUN5/wAecv8AumgCaiiigAooooAKrX3+ri/67x/+hCrNYniPWF0tbcPBJIGfeWUcALzj8a0pxcpJIzqSUYts26KbFKk0SyRMHRhkEHOadWZoFFFFABRRRQAUUUUAFFFFABRRRQAUUUUAFZOuf6VJaaav/LzJmT/rmvLfn0/GtasjTv8ATdbvb48pFi2i/Dlj+eB+Fa09G5djOpqlHua/SiiisjQKKKKACiiigAooooAKKKKACoY/+Pyb/dT+tTVDH/x+Tf7qf1oAmooooAKKKKACiiigAooooAKKKKACiiigAooooAKKKKACiiigAooooAKKKKACiiigAooooAKKKKACiiigAooooAKKKKACiiigAooooAKKKKACiiigAooooAhX/j/l/wCuSfzapqhX/j/l/wCuSfzapqAI0t4I5mljhjSR/vOqgFvqai1L/kE3f/XB/wD0E1ZqtqX/ACCbv/rg/wD6CaqPxImXwss0UUVJQUUUUAFFFFABRRRQAUUU2SRIY2kldURRlmY4AoAdVS+1O209R57EyN9yJBl3+gqk2pXepsY9GTZFyGvJV+Uf7o/i/lVqx0mCycy/NNct9+eU5Y/4D2Fa8qj8f3GXM5fB95U+yX2r86iTaWh6W0bfM4/227fQVqwQRW0KxW8axxr0VRgVJRUym5adCowUdeoUUUVBYUUUUAFFFFABRRRQAUUUUAFFFFABRRRQAVDef8ecv+6amqG8/wCPOX/dNAE1FFFAGTaatLcXtzC3kKEyI/mOQQcYb69RVVNdu45LZLw2StNIy7VdgXUHBKg/jW4LeEMzCGMMxBY7Rkkd6RrW3d0Z4I2ZPukoCV+npTApaNq6avDNIg2+XJtAwQcY4znvU+oAGGLcAf38fUf7Qq2ABnAxnr71Wvv9XF/13j/9CFOPxImXwlKXT5rOUz6QdhJy9u33H+noanstWiu2MLo0Fyv34JPvD6eo96v1UvtNgv0HmgrIvKSocMh9jV8ylpP7yeVx1j9xa3ex/Kjd7H8qyFv7rSnEWrDzYCcLdoOn++O31rWjkSWNXjYOjDIZTkGplFxHGSkLu9j+VG72P5UtFQWJu9j+VG72P5UtFACbvY/lRu9j+VLRQAm72P5UbvY/lS0UAJu9j+VG72P5UtFAFLVb4WGlz3G0llX5R6seg/OjSbX7BpcFuwJdVzIcdWPLH8yaqal/putWNgOUjP2mb6L90f8AfRH5VsVrL3YJd9TKOs2+2gm72P5UbvY/lS0VkaibvY/lRu9j+VLRQAm72P5UbvY/lS0UAJu9j+VG72P5UtFACA57GloooAKhj/4/Jv8AdT+tTVDH/wAfk3+6n9aAJqKKKACiiigAooooAKKKKACiiigAooooAKKKKACiiigAooooAKKKKACiiigAooooAKKKKACiiigAooooAKKKKACiiigAooooAKKKKACiiigAooooAKKKKAIV/wCP+X/rkn82qaoV/wCP+X/rkn82qagAqtqX/IJu/wDrg/8A6CaWC9huLq4t4ixktiokyMDJGRj1pNS/5BN3/wBcH/8AQTVR+JEy+FlmikyPUUZHqKkoWikyPUUZHqKAFopMj1FGR6igBaKr3l/bWFuZruZY0HqeT7Ad6zPM1DWsiLdp9kcjef8AWyD2H8I/WrjBtXeiIlNJ2WrLV9rMVtKba1Rru8I4gj7f7x7VDHpM19IJtbkEuDlbVP8AVp9f7x+tXrKxtdPi8u1RUBOWbOWY+pPerGR6iq51HSH3/wBbE8jlrP7gVQqhVAAHAAHSlpMj1FGR6isjUWikyPUUZHqKAFopMj1FGR6igBaKTI9RRkeooAWikyPUUZHqKAFopMj1FGR6igBaKTI9RRkeooAWikyPUUZHqKAFopMj1FLQAVDef8ecv+6amqG8/wCPOX/dNAE1FFFABRRRQAVWvv8AVxf9d4//AEIVZqtff6uL/rvH/wChCqj8SJlsWaKKKkoRlV1KuAykYII61kSabc6a5m0Ugxnl7Rz8p/3T2NbFFXGTiTKKkUrDVIL/AHIu6KdOHhkGGX8P61dqjf6VBf7ZDuiuE/1c8Zwyn+v0qnHqlxpkiwa2o2HAS8QfI3+8P4TVcilrD7iOdx0n95tUUisGUMpBB6EHrS1kahRRRQAUUUUAFBOBk9KKzdfunt9JdYP9fORDEP8AaY4qox5pJEylyxbIdDBupr3U2/5eJdkR/wCmacD8zk1sVDZ2yWVlDbRfciQIPwFTU5y5pNoUI8sbMKKKKgsKKKKACiiigAooooAKKKKACoY/+Pyb/dT+tTVDH/x+Tf7qf1oAmooooAKKKKACiiigAooooAKKKKACiiigAooooAKKKKACiiigAooooAKKKKACiiigAooooAKKKKACiiigAooooAKKKKACiiigAooooAKKKKACiiigAooooAhX/j/l/wCuSfzapqhX/j/l/wCuSfzapqAKsNgkF/PdrLMzzgBlZ8qMdMDtS6l/yCbv/rg//oJqzVbUv+QTd/8AXB//AEE1UfiRMvhZY2j0o2j0paKkoTaPSjaPSlqnf6pbaeoErF5W+5DGNzufYU0nJ2Qm1FXZbIUDJwBWRcau1xM1rosIuplyGlPEUZ9z3+gpv2K+1g7tUY21oelrG3zMP9tv6CtaCCK2hWK3jWONeiqMAVpaMN9X+BneU9tF+Jn2miIlx9r1CQ3l32dx8qeyr2rT2j0paKiUnJ3ZcYqKshNo9KNo9KWipKE2j0o2j0paKAE2j0o2j0paKAE2j0o2j0paKAE2j0o2j0paKAE2j0o2j0paKAE2j0o2j0paKAE2j0o2j0paKAE2j0o2j0paKAE2j0paKKACobz/AI85f901NUN5/wAecv8AumgCaszXLOe9tY0gj83a+WTzNmeODn2PNadFAGPcaY9zcW9xLD+9gUjcJSC5A49uTzWZbaVqIFkXsfJaKUu4F1uVR7d66uincDI8PadLp1vOkqPGskpdUkm81hnrz6e1Xb//AFUX/XeP/wBCFWqrX3+ri/67x/8AoQpx+ImWxYw3r+lGG9f0paKkoTDev6UYb1/SlooATDev6UySJZo2jlCujDBVhkGpKKAMNtPvdHYyaQ3nW2SWtHPT/cPb6VfsNSg1GMmFysi/ficYZD7irtUL/SIryQTxM1vdL92ePg/Q+orXmU/j37/5mXK4fBt2/wAi9hvX9KMN6/pWTDqs1nKttraCJzwlyv8Aq3/wNa4ORkciolFx3LjJS2Ew3r+lGG9f0paKkoTDev6VjS5v/FMUWcxWEfmtx/y0bhf0ya2JZFhheRzhUUsTWV4djZrGS+lH7y+kMxz2Xoo/75A/OtYaRcvl9/8AwDKeslH5/d/wTWw3r+lGG9f0paKyNRMN6/pRhvX9KWigBMN6/pRhvX9KWigBMN6/pRhvX9KWigBMN6/pRhvX9KWigBAD3OaWiigAqGP/AI/Jv91P61NUMf8Ax+Tf7qf1oAmooooAKKKKACiiigAooooAKKKKACiiigAooooAKKKKACiiigAooooAKKKKACiiigAooooAKKKKACiiigAooooAKKKKACiiigAooooAKKKKACiiigAooooAhX/j/l/65J/NqmqFf+P+X/rkn82qagAqtqX/ACCbv/rg/wD6CamWaJ5HjSRGdPvKGBK/Udqh1P8A5BN3/wBcH/8AQTVR+JEy+FlmmyyxwxtJM6oijJZjgCqF5rEcEv2a1Rru7I4hj7f7x6AVFHpMt7IJ9akExBytsn+rT6/3j9apQsry0RLnd2jqMbULvVGMejp5UPIa8lXj/gA7/XpVyx0q3sWaUbpbh/vzyHLN+PYe1XAAqgKAAOAB2paHPS0dEChreWrCiiiszQKKQnGM9ziloAKKKKACiiigAoopM/NjvjNAC0UUUAFFFFABRRRQAUUgOSQO3WloAKKKKACisvxDaT32lGG1jMkhcHAcL0+vWsc6Vr6yRiG5niT7Sssm2dW3LtXI5HCgg8dTxTA6yisbw+uoE3E18ZfLkP7tZJN3IZskD+EYxx7VsA7hkUgFqG8/485f901NUN5/x5y/7poAmooooAKKpQ6pDcTzxRpKWhBPKcPjg7fXnioItft5fL/0e6TfIY/nixtPvQBqVWvv9XF/13j/APQhSWGoRajE7wLIoRyhDrjmi/OI4f8ArvH/AOhCqj8SJlsWqKMj1oyPWpKCijI9aMj1oAKKMj1pCwAyTQAtFJuB70uR60AMmhjuIWinRZI2GCrDINZP2W90c7rDddWecm3Y/NGP9g9/pWzketGR61cZuOnQiUFLXqVrK/t9Qh8y2fOOGUjDKfQjtVms690qOeb7TayG1uwMCVO/sw7imW+rNDMLbVkW3mJwkoP7uX6HsfY0+VS1h9wuZx0mR+I3aS0h0+I4kvpRDx2Xqx/IGtaNFijVEGFUAADsBWNasNR8UXFxnMVjH5Kf77csfwGB+NbeR605+6lH5/f/AMAUNW5fL7gooyPWjI9ayNQooyPWjI9aACikDAkjPSlyPWgAooyPWjI9aACiuUl0nU/7SnmgR40aZZBtuQC+D/LHao0tfEESxwS3NxLNJMzb/OVQo7dB932607AdfRSBugJycUtIAqGP/j8m/wB1P61NUMf/AB+Tf7qf1oAmooooAKKKKACiiigAooooAKKKKACiiigAooooAKKKKACiiigAooooAKKKKACiiigAooooAKKKKACiiigAooooAKKKKACiiigAooooAKKKKACiiigAooooAhX/AI/5f+uSfzapqhX/AI/5f+uSfzapqAMyy0yS21a5unaIpJu27R8zbjn5j3xjA9qdrumtq2jy2kdw9u7YZXTrkHOP0rRqC8u0srYzSK7gEKFjXLMScAAfjVRk4yUkTKKknFlTStEh0nT47aB3JVQHk7ufU1d8j/po/wCdLbzpdW0c8WdkihlyMHBqSiUnJ3Y4xUVZEXkf9NH/ADo8j/po/wCdS0VIyLyP+mj/AJ0eR/00f86looAgaA/Lh3PPrTvI/wCmj/nTLm9htJLeOYtuuJPKjwuecE8+nSrFAEXkf9NH/OjyP+mj/nUtFAEXkf8ATR/zo8j/AKaP+dS0UAReR/00f86b5H7wfO+Mdc1PVV7+NNRjsyku+QEhwnydM4z64FAEvkf9NH/OjyP+mj/nUtFAEXkf9NH/ADo8j/po/wCdS0UAReR/00f86PI/6aP+dS0UAQLAdzZdxzxz14p3kf8ATR/zqG01GG9uLiGJZA1uwVi64Bznp+VW6AIvI/6aP+dHkf8ATR/zqWigCLyP+mj/AJ0eR/00f86looAi8j/po/50+IFYwD2pSQqkscADJJ7VDZ3cV9bieDcULEAsMZwcUAT1Def8ecv+6amqG8/485f900ATUUUUAUotKhguJJo5Jg0jZxv4HOSB6AnrUUuiW8s1vIJriM25YoI5cAknJyO9aVFAFTT9Oi06N0heR/MfezSNk5qeaJZVQMMhXDfiDmpKqX2ow6eIzMsjbzj92ucDuT7UwLW0elG0elL1opAJtHpRtHpS0UAJtHpSOoKHA5xTqiurmOztZLickRxrubAycfSgCQKNo47UbR6UkUiywpIn3XUMM+hp1ACbR6UbR6UtFACbR6VHPbQ3MLRTxrIjDkMKlpGYIpY9AM0bBuVNN023021MFshVS5Y7jkkn3q3tHpUFlepfQtJGkke1ipWVdpz9KsU223diSSVkJtHpRtHpS0UhibR6UbR6UtFADAv7xuOOKdtHpVWDUYbi/mtEWQSQjLFlwp+hq3QAm0elG0elLRQAm0elG0elLRQA0r+8UgU6oJb2GK7itmJ82XO0AZxj19KnoAKhj/4/Jv8AdT+tTVDH/wAfk3+6n9aAJqKKKACiiigAooooAKKKKACiiigAooooAKKKKACiiigAooooAKKKKACiiigAooooAKKKKACiiigAooooAKKKKACiiigAooooAKKKKACiiigAooooAKKKKAIV/wCP+X/rkn82qaq+9UvpN7BcxpjJxnlql86L/non/fQoAfUF5aJe2xhkZ0BIYNG2GUg5BB/CpPOi/wCeif8AfQo86L/non/fQoASCBLa3jhiGEjUKufQVJTPOi/56J/30KPOi/56J/30KAH0Uzzov+eif99Cjzov+eif99CgB9FM86L/AJ6J/wB9Cjzov+eif99CgCC9sEvjAZJZo/JkEi+U+3JHr6irVM86L/non/fQo86L/non/fQoAfRTPOi/56J/30KPOi/56J/30KAH0Uzzov8Anon/AH0KPOi/56J/30KAH1SfTIn1hNRM04lSPywgk+Qj/dq150X/AD0T/voUedF/z0T/AL6FAD6KZ50X/PRP++hR50X/AD0T/voUAPopnnRf89E/76FHnRf89E/76FAD6KZ50X/PRP8AvoUedF/z0T/voUAVrPTYrK4uJ43ld7gguZHzjGen51cpnnRf89E/76FHnRf89E/76FAD6KZ50X/PRP8AvoUedF/z0T/voUAPopnnRf8APRP++hR50X/PRP8AvoUAEsSTwvFKu5HUqynuD1FQ2GnW2mW5gso/LjLl9u4nk/WpvOi/56J/30KPOi/56J/30KAH1Def8ecv+6af50X/AD0T/voVDdzRmzlAkUkqeAaALNFM8+L/AJ6J/wB9Cjzov+eif99CgB9FM86L/non/fQo86L/AJ6J/wB9CgB9Vb3Tob/y/OMi+Wc/I2MjuD7VP50X/PRP++hR50X/AD0T/voUAP6UUzzov+eif99Cjzov+eif99CgB9FM86L/AJ6J/wB9Cjzov+eif99CgB9RXVuLu1kgd3RZBgtG2GH0NO86L/non/fQo86L/non/fQoAS2gFtbRwIzMsahQXOSR7mpKZ50X/PRP++hR50X/AD0T/voUAPopnnRf89E/76FHnRf89E/76FAD6R13oykkbhjIPIpvnRf89E/76FHnRf8APRP++hQBX03To9Ltfs8Ms0ibi2Zn3EZ96t0zzov+eif99Cjzov8Anon/AH0KAH0Uzzov+eif99Cjzov+eif99CgB9FM86L/non/fQo86L/non/fQoArQabFb3812rytJKMEO2QB7CrlM86L/AJ6J/wB9Cjzov+eif99CgB9FM86L/non/fQo86L/AJ6J/wB9CgB9FM86L/non/fQo86L/non/fQoArT6TZ3GoRXssObiL7rhiKuUzzov+eif99Cjzov+eif99CgB9Qx/8fk3+6n9af50X/PRP++hUcTBruZlII2qMj8aAJ6KKKACiiigAooooAKKKKACiiigAooooAKKKKACiiigAooooAKKKKACiiigAooooAKKKKACiiigAooooAKKKKACiiigAooooAKKKKACiiigAooooAKKKKAGsiv99Vb6jNJ5MX/PNP8AvkU+igBnkxf880/75FHkxf8APNP++RT6KAGeTF/zzT/vkUeTF/zzT/vkU+igBnkxf880/wC+RR5MX/PNP++RT6KAGeTF/wA80/75FHkxf880/wC+RT6KAGeTF/zzT/vkUeTF/wA80/75FPooAZ5MX/PNP++RR5MX/PNP++RT6KAGeTF/zzT/AL5FHkxf880/75FPooAZ5MX/ADzT/vkUeTF/zzT/AL5FPooAZ5MX/PNP++RR5MX/ADzT/vkU+igBnkxf880/75FHkxf880/75FPooAZ5MX/PNP8AvkUeTF/zzT/vkU+igBnkxf8APNP++RR5MX/PNP8AvkU+igBnkxf880/75FHkxf8APNP++RT6KAGeTF/zzT/vkUeTF/zzT/vkU+igBnkxf880/wC+RR5MX/PNP++RT6KAGeTF/wA80/75FHkxD/lmn/fIp9FADPJi/wCeaf8AfIo8mL/nmn/fIp9FADPJi/55p/3yKPJi/wCeaf8AfIp9FADPJi/55p/3yKPJi/55p/3yKfRQAzyYv+eaf98ijyYv+eaf98in0UAM8mL/AJ5p/wB8ijyYv+eaf98in0UAM8mL/nmn/fIo8mL/AJ5p/wB8in0UAM8mL/nmn/fIo8mL/nmn/fIp9FADPJi/55p/3yKPJi/55p/3yKfRQAzyYv8Anmn/AHyKPJi/55p/3yKfRQAzyYv+eaf98ijyYv8Anmn/AHyKfRQAzyYv+eaf98ijyYv+eaf98in0UAM8mL/nmn/fIo8mL/nmn/fIp9FADPJi/wCeaf8AfIo8mL/nmn/fIp9FADPJi/55p/3yKPJi/wCeaf8AfIp9FADPJi/55p/3yKPJi/55p/3yKfRQAzyYv+eaf98ijyYv+eaf98in0UAM8mL/AJ5p/wB8inKqqMKoUewpaKACiiigAooooAKKKKACiiigAooooAKKKKACiiigAooooAKKKKACiiigAooooAKKKKACiiigAooooAKKKKACiiigAooooAKKKKACiiigAooooAKKKKACiiigAooooAKKKKACiiigAooooAKKKKACiiigAooooAKKKKACqURmmhSU3DpvUNtVVwM9uRV2qdp/x5Qf9c1/lQAuyX/n6l/JP/iaNkv/AD9S/kn/AMTUlFAEeyX/AJ+pfyT/AOJo2S/8/Uv5J/8AE1JRQBHsl/5+pfyT/wCJo2S/8/Uv5J/8TUlFAEeyX/n6l/JP/iaNkv8Az9S/kn/xNSUUAR7Jf+fqX8k/+Jo2S/8AP1L+Sf8AxNSUUAR7Jf8An6l/JP8A4mjZL/z9S/kn/wATUlFAEeyX/n6l/JP/AImjZL/z9S/kn/xNSUUAR7Jf+fqX8k/+Jo2S/wDP1L+Sf/E1JRQBHsl/5+pfyT/4mjZL/wA/Uv5J/wDE1JRQBHsl/wCfqX8k/wDiaNkv/P1L+Sf/ABNSUUAR7Jf+fqX8k/8AiaNkv/P1L+Sf/E1JRQBHsl/5+pfyT/4mjZL/AM/Uv5J/8TUlFAERaWEqxmaQF1UqwXuQOwHrVyqlx9xP+uqf+hirdABRRRQAUUUUAFFFFABRRRQAUUUUAFFFFABRRRQAUUUUAFFFFABRRRQAUUUUAFFFFABRRRQAUUUUAFFFFABRRRQAUUUUAFFFFABRRRQAUUUUAFFFFABRRRQAUUUUAFFFFABRRRQAUUUUAFFFFABRRRQAUUUUAFFFFABRRRQAUUUUAFFFFABRRRQAUUUUAFFFFABRRRQAUUUUAFFFFABRRRQAUUUUAFFFFABVO0/48oP+ua/yq5VO0/48oP8Armv8qACUsZYY1coHYgsMZ+6T3+lRXDrDAkiXU0zSkLEibD5hPpx+Oew5qSdhHNBI2dquSSATj5SO31qKI6bBdPcRK4kfP8DkDPJwMYGTycde9UrdRO/QmhLiSWORixRgMnH90HsB61R1bUb60uLS30yzt7qe5Z+Li5aFVCjJOQjkn2xV2BhJNPIudrOCCQRn5QO/0qhrXh2w8QPbLqsENzbw78wzRBwxZcZGehHr1qRhZ+IbWfTjc3X+jvFAZp4+XCKGZSQQPmGVOMckc4p7eIdNXUxYGaTzzIIziCQorlQwUvt2qSCMAkZ7Vm3Xhi+ntRAmrRoHtGs53NplnjydhHzgKwBwTgg9gva82hbpJW+0f6y9iu8bOmxUG3r32dfegCymsWMlmt2k+YGn+zh9jff37MdP73GelRnX9MWMyNdBUDSKSyMMGP7/AG6D16HIxnIol024udFms7u+Ms8hYpcCILs+Ysnyg87flHvj3rN/4RCIrMjXbbJLdYlCoBskG3MnXnJjQ4x2PrQBeXxLpbWTXRlnRFkERjktZUlDEZA8sqHye3HPbNQr4kt4Funv96ql0III4reR5ZP3av8A6tQWJ5OcDgDnpSQ+H7hp/teo30U1408UjvDbmNCsedqhS7EfeJJyaSfQLv7fJe2GoRQzm5M0fm2xkVQ0aoysA67vugggjHvQBHp3iU3CwS3gRIJLbziyRtkEy7BxyQOmc9O+BW5DcxTyzRxMWaB9knykANgHGeh4I6Vhf2C9hZ5+fUlWze2kt0jVXn3PnILMFXqcg/p0NvTNAtobKxbU7eC7v7bMguZY1d0kblirEcenGOgoAgbxpoSsQbmc4XeCLOYhlHVlIT5lX+JhkL3xV2XX9Oi1BLN5281yo3LC7RqW+6rSAbFJyMAkE5GOoqonhvbZxwfa8+XYS2e7y+u/Hzde2On61G/hmU3DIl8i2M0sU9xCYCZHeMLja+7Cqdi5BUnrgjPABYbxNYS/aIbOVnuIopXXfBIsbmPIYByArEEcgHIp0fiKyWxEtw8hkVI/MSG3kkJdl3bVCgljjnaMkDk1H/wjv7iKP7V/qzcnPl9fOJ9+278fas658CwS6bFZJLbyQQOk0MN7a/aIxKFKuWVm+ZWBzjIIbJzzigDcTXNPkt5JlmbZGiu2YnDAMSB8uMk5BGMZBGCM0uq3d7aW3mafZxXLAFnM9x5KIoGTkhWOfTjHqRWTDociahpluLSKCCxjLSy2sKQ283OVjWLczLhgG549zk4k1Xwx59oLfQXsdKikn867jFjuS7OOjhHQnJwTzzjB4yCAbNldLfWFvdIrIs8ayBW6gEZwfzppu2GpraGEhWjLiUsMHBHGPxqW2WZLaNbp45JgoDvFGUVj6hSSQPbJ+tQSWk76lHcrPGERSvlmIkkHGed3t6UAW6KKKAKun3Ml1A7zeTuEjKPJk3jAPc+vtVqqun20lrbukogBMjMPIj2DBPcetWqAI7j7if8AXVP/AEMVbqpcfcT/AK6p/wChirdABRRRQAUUUUAFFFFABRRRQAUUUUAFFFFABRRRQAUUUUAFFFFABRRRQAUUUUAFFFFABRRRQAUUUUAFFFFABRRRQAUUUUAFFFFABRRRQAUUUUAFFFFABRRRQAUUUUAFFFFABRRRQAUUUUAFFFFABRRRQAUUUUAFFFFABRRRQAUUUUAFFFFABRRRQAUUUUAFFFFABRRRQAUUUUAFFFFABRRRQAUUUUAFFFFABVO0/wCPKD/rmv8AKrlUohNDCkRt3fYoXcrLg478mgCYjPWk2r6Cmb5f+fWX80/+Ko3y/wDPrL+af/FUASAY6UVHvl/59ZfzT/4qjfL/AM+sv5p/8VQBJRUe+X/n1l/NP/iqN8v/AD6y/mn/AMVQBJRUe+X/AJ9ZfzT/AOKo3y/8+sv5p/8AFUASUVHvl/59ZfzT/wCKo3y/8+sv5p/8VQBJRUe+X/n1l/NP/iqN8v8Az6y/mn/xVAElFR75f+fWX80/+Ko3y/8APrL+af8AxVAElFR75f8An1l/NP8A4qjfL/z6y/mn/wAVQBJRUe+X/n1l/NP/AIqjfL/z6y/mn/xVAElFR75f+fWX80/+Ko3y/wDPrL+af/FUASUVHvl/59ZfzT/4qjfL/wA+sv5p/wDFUASUVHvl/wCfWX80/wDiqN8v/PrL+af/ABVABcfcT/rqn/oYq3VMrLMVUwtGA6sWYr2IPYn0q5QAUUUUAFFFFABRRRQAUUUUAFFFFABRRRQAUUUUAFFFFABRRRQAUUUUAFFFFABRRRQAUUUUAFFFFABRRRQAUUUUAFFFFABRRRQAUUUUAFFFFABRRRQAUUUUAFFFFABRRRQAUUUUAFFFFABRRRQAUUUUAFFFFABRRRQAUUUUAFFFFABRRRQAUUUUAFFFFABRRRQAUUUUAFFFFABRRRQAUUUUAFFFFABRRRQAUUUUAFFFFABRRRQAUUUUAFFFFABRRRQAUUUUAFFFFABRRRQAUUUUAFFFFABRRRQAUUUUAFFFFABRRRQAUUUUAFFFFABRRRQAUUUUAFFFFABRRRQAUUUUAFFFFABRRRQAUUUUAFFFFABRRRQAUUUUAFFFFABRRRQAUUUUAFFFFABRRRQAUUUUAFFFFABRRRQAUUUUAFFFFABRRRQAUUUUAFFFFABRRRQAUUUUAFFFFAH/2Q==)"
      ]
    },
    {
      "cell_type": "markdown",
      "metadata": {
        "id": "Vo2myL0e-CDC"
      },
      "source": [
        "#7.0 Save Fine Tuned model to W&B"
      ]
    },
    {
      "cell_type": "code",
      "metadata": {
        "colab": {
          "base_uri": "https://localhost:8080/"
        },
        "id": "1F2gAnV0HE6t",
        "outputId": "ceca7bb2-2bac-41e6-e473-64b1e235111d"
      },
      "source": [
        "import os\n",
        "model.save(os.path.join(wandb.run.dir, \"sentence_correction.h5\"))\n",
        "wandb.save('sentence_correction.h5')"
      ],
      "execution_count": 25,
      "outputs": [
        {
          "output_type": "execute_result",
          "data": {
            "text/plain": [
              "['/content/wandb/run-20211020_001958-8wnt18ik/files/sentence_correction.h5']"
            ]
          },
          "metadata": {},
          "execution_count": 25
        }
      ]
    },
    {
      "cell_type": "markdown",
      "metadata": {
        "id": "mtZ-i2RuHZx3"
      },
      "source": [
        "#8.0 Restore Fine Tuned Model"
      ]
    },
    {
      "cell_type": "code",
      "metadata": {
        "id": "FEkw-yauHVYb"
      },
      "source": [
        "best_model = wandb.restore('sentence_correction.h5', run_path=\"abais/sentence_correction/runs/2tt75tld\")\n",
        "restored_model = model\n",
        "restored_model.load_weights(best_model.name)"
      ],
      "execution_count": 27,
      "outputs": []
    },
    {
      "cell_type": "markdown",
      "metadata": {
        "id": "Utss77jE4Hxw"
      },
      "source": [
        "#9.0 Inferencing using Gradio"
      ]
    },
    {
      "cell_type": "code",
      "metadata": {
        "colab": {
          "base_uri": "https://localhost:8080/"
        },
        "id": "V0Ut-7jgH8-I",
        "outputId": "912448d6-d998-4dd5-993e-fb6ebfd85c56"
      },
      "source": [
        "!pip install gradio"
      ],
      "execution_count": 28,
      "outputs": [
        {
          "output_type": "stream",
          "name": "stdout",
          "text": [
            "Collecting gradio\n",
            "  Downloading gradio-2.3.9-py3-none-any.whl (3.6 MB)\n",
            "\u001b[K     |████████████████████████████████| 3.6 MB 13.1 MB/s \n",
            "\u001b[?25hRequirement already satisfied: requests in /usr/local/lib/python3.7/dist-packages (from gradio) (2.23.0)\n",
            "Collecting flask-cachebuster\n",
            "  Downloading Flask-CacheBuster-1.0.0.tar.gz (3.1 kB)\n",
            "Collecting markdown2\n",
            "  Downloading markdown2-2.4.1-py2.py3-none-any.whl (34 kB)\n",
            "Collecting Flask-Login\n",
            "  Downloading Flask_Login-0.5.0-py2.py3-none-any.whl (16 kB)\n",
            "Collecting ffmpy\n",
            "  Downloading ffmpy-0.3.0.tar.gz (4.8 kB)\n",
            "Requirement already satisfied: numpy in /usr/local/lib/python3.7/dist-packages (from gradio) (1.19.5)\n",
            "Collecting Flask-Cors>=3.0.8\n",
            "  Downloading Flask_Cors-3.0.10-py2.py3-none-any.whl (14 kB)\n",
            "Requirement already satisfied: pillow in /usr/local/lib/python3.7/dist-packages (from gradio) (7.1.2)\n",
            "Requirement already satisfied: Flask>=1.1.1 in /usr/local/lib/python3.7/dist-packages (from gradio) (1.1.4)\n",
            "Requirement already satisfied: matplotlib in /usr/local/lib/python3.7/dist-packages (from gradio) (3.2.2)\n",
            "Collecting pydub\n",
            "  Downloading pydub-0.25.1-py2.py3-none-any.whl (32 kB)\n",
            "Collecting pycryptodome\n",
            "  Downloading pycryptodome-3.11.0-cp35-abi3-manylinux2010_x86_64.whl (1.9 MB)\n",
            "\u001b[K     |████████████████████████████████| 1.9 MB 47.4 MB/s \n",
            "\u001b[?25hCollecting paramiko\n",
            "  Downloading paramiko-2.8.0-py2.py3-none-any.whl (206 kB)\n",
            "\u001b[K     |████████████████████████████████| 206 kB 77.9 MB/s \n",
            "\u001b[?25hCollecting analytics-python\n",
            "  Downloading analytics_python-1.4.0-py2.py3-none-any.whl (15 kB)\n",
            "Requirement already satisfied: pandas in /usr/local/lib/python3.7/dist-packages (from gradio) (1.1.5)\n",
            "Requirement already satisfied: Jinja2<3.0,>=2.10.1 in /usr/local/lib/python3.7/dist-packages (from Flask>=1.1.1->gradio) (2.11.3)\n",
            "Requirement already satisfied: itsdangerous<2.0,>=0.24 in /usr/local/lib/python3.7/dist-packages (from Flask>=1.1.1->gradio) (1.1.0)\n",
            "Requirement already satisfied: Werkzeug<2.0,>=0.15 in /usr/local/lib/python3.7/dist-packages (from Flask>=1.1.1->gradio) (1.0.1)\n",
            "Requirement already satisfied: click<8.0,>=5.1 in /usr/local/lib/python3.7/dist-packages (from Flask>=1.1.1->gradio) (7.1.2)\n",
            "Requirement already satisfied: Six in /usr/local/lib/python3.7/dist-packages (from Flask-Cors>=3.0.8->gradio) (1.15.0)\n",
            "Requirement already satisfied: MarkupSafe>=0.23 in /usr/local/lib/python3.7/dist-packages (from Jinja2<3.0,>=2.10.1->Flask>=1.1.1->gradio) (2.0.1)\n",
            "Collecting backoff==1.10.0\n",
            "  Downloading backoff-1.10.0-py2.py3-none-any.whl (31 kB)\n",
            "Requirement already satisfied: python-dateutil>2.1 in /usr/local/lib/python3.7/dist-packages (from analytics-python->gradio) (2.8.2)\n",
            "Collecting monotonic>=1.5\n",
            "  Downloading monotonic-1.6-py2.py3-none-any.whl (8.2 kB)\n",
            "Requirement already satisfied: chardet<4,>=3.0.2 in /usr/local/lib/python3.7/dist-packages (from requests->gradio) (3.0.4)\n",
            "Requirement already satisfied: idna<3,>=2.5 in /usr/local/lib/python3.7/dist-packages (from requests->gradio) (2.10)\n",
            "Requirement already satisfied: urllib3!=1.25.0,!=1.25.1,<1.26,>=1.21.1 in /usr/local/lib/python3.7/dist-packages (from requests->gradio) (1.24.3)\n",
            "Requirement already satisfied: certifi>=2017.4.17 in /usr/local/lib/python3.7/dist-packages (from requests->gradio) (2021.5.30)\n",
            "Requirement already satisfied: kiwisolver>=1.0.1 in /usr/local/lib/python3.7/dist-packages (from matplotlib->gradio) (1.3.2)\n",
            "Requirement already satisfied: pyparsing!=2.0.4,!=2.1.2,!=2.1.6,>=2.0.1 in /usr/local/lib/python3.7/dist-packages (from matplotlib->gradio) (2.4.7)\n",
            "Requirement already satisfied: cycler>=0.10 in /usr/local/lib/python3.7/dist-packages (from matplotlib->gradio) (0.10.0)\n",
            "Requirement already satisfied: pytz>=2017.2 in /usr/local/lib/python3.7/dist-packages (from pandas->gradio) (2018.9)\n",
            "Collecting bcrypt>=3.1.3\n",
            "  Downloading bcrypt-3.2.0-cp36-abi3-manylinux2010_x86_64.whl (63 kB)\n",
            "\u001b[K     |████████████████████████████████| 63 kB 3.5 MB/s \n",
            "\u001b[?25hCollecting pynacl>=1.0.1\n",
            "  Downloading PyNaCl-1.4.0-cp35-abi3-manylinux1_x86_64.whl (961 kB)\n",
            "\u001b[K     |████████████████████████████████| 961 kB 55.5 MB/s \n",
            "\u001b[?25hCollecting cryptography>=2.5\n",
            "  Downloading cryptography-35.0.0-cp36-abi3-manylinux_2_24_x86_64.whl (3.5 MB)\n",
            "\u001b[K     |████████████████████████████████| 3.5 MB 49.1 MB/s \n",
            "\u001b[?25hRequirement already satisfied: cffi>=1.1 in /usr/local/lib/python3.7/dist-packages (from bcrypt>=3.1.3->paramiko->gradio) (1.14.6)\n",
            "Requirement already satisfied: pycparser in /usr/local/lib/python3.7/dist-packages (from cffi>=1.1->bcrypt>=3.1.3->paramiko->gradio) (2.20)\n",
            "Building wheels for collected packages: ffmpy, flask-cachebuster\n",
            "  Building wheel for ffmpy (setup.py) ... \u001b[?25l\u001b[?25hdone\n",
            "  Created wheel for ffmpy: filename=ffmpy-0.3.0-py3-none-any.whl size=4710 sha256=b5b18075c6f3f16dde7d756d3cabcdad4019083b02ae01ce06336ab0a25cffa1\n",
            "  Stored in directory: /root/.cache/pip/wheels/13/e4/6c/e8059816e86796a597c6e6b0d4c880630f51a1fcfa0befd5e6\n",
            "  Building wheel for flask-cachebuster (setup.py) ... \u001b[?25l\u001b[?25hdone\n",
            "  Created wheel for flask-cachebuster: filename=Flask_CacheBuster-1.0.0-py3-none-any.whl size=3371 sha256=77b0d5fd78e0200de4c0f61998eccf121e0c9476388796e8fb16790f12c5a0e6\n",
            "  Stored in directory: /root/.cache/pip/wheels/28/c0/c4/44687421dab41455be93112bd1b0dee1f3c5a9aa27bee63708\n",
            "Successfully built ffmpy flask-cachebuster\n",
            "Installing collected packages: pynacl, monotonic, cryptography, bcrypt, backoff, pydub, pycryptodome, paramiko, markdown2, Flask-Login, Flask-Cors, flask-cachebuster, ffmpy, analytics-python, gradio\n",
            "Successfully installed Flask-Cors-3.0.10 Flask-Login-0.5.0 analytics-python-1.4.0 backoff-1.10.0 bcrypt-3.2.0 cryptography-35.0.0 ffmpy-0.3.0 flask-cachebuster-1.0.0 gradio-2.3.9 markdown2-2.4.1 monotonic-1.6 paramiko-2.8.0 pycryptodome-3.11.0 pydub-0.25.1 pynacl-1.4.0\n"
          ]
        }
      ]
    },
    {
      "cell_type": "code",
      "metadata": {
        "id": "mNPz_yjB2Ntc"
      },
      "source": [
        "import gradio as gr\n",
        "\n",
        "def get_prediction(text):\n",
        "  def get_class(score):\n",
        "    if score > 0:\n",
        "      return \"sentence is grammar wise correct\"\n",
        "    else:\n",
        "      return \"sentence has grammar errors\"\n",
        "  \n",
        "  score = inference_model.predict([text]).item(0)\n",
        "  return score, get_class(score)"
      ],
      "execution_count": 29,
      "outputs": []
    },
    {
      "cell_type": "code",
      "metadata": {
        "colab": {
          "base_uri": "https://localhost:8080/",
          "height": 621
        },
        "id": "DtSSzQYzH2_c",
        "outputId": "e93bedcc-5158-4e86-ef0a-742d2e945afa"
      },
      "source": [
        "inference_model = restored_model\n",
        "iface = gr.Interface(fn=get_prediction, inputs=\"text\", outputs=[\"number\", \"text\"])\n",
        "iface.launch()"
      ],
      "execution_count": 30,
      "outputs": [
        {
          "output_type": "stream",
          "name": "stdout",
          "text": [
            "Colab notebook detected. To show errors in colab notebook, set `debug=True` in `launch()`\n",
            "This share link will expire in 72 hours. If you need a permanent link, visit: https://gradio.app/introducing-hosted\n",
            "Running on External URL: https://14926.gradio.app\n"
          ]
        },
        {
          "output_type": "display_data",
          "data": {
            "text/html": [
              "\n",
              "        <iframe\n",
              "            width=\"900\"\n",
              "            height=\"500\"\n",
              "            src=\"https://14926.gradio.app\"\n",
              "            frameborder=\"0\"\n",
              "            allowfullscreen\n",
              "        ></iframe>\n",
              "        "
            ],
            "text/plain": [
              "<IPython.lib.display.IFrame at 0x7f5ccb62b110>"
            ]
          },
          "metadata": {}
        },
        {
          "output_type": "execute_result",
          "data": {
            "text/plain": [
              "(<Flask 'gradio.networking'>,\n",
              " 'http://127.0.0.1:7860/',\n",
              " 'https://14926.gradio.app')"
            ]
          },
          "metadata": {},
          "execution_count": 30
        }
      ]
    },
    {
      "cell_type": "markdown",
      "metadata": {
        "id": "FGbm7J1_J9tU"
      },
      "source": [
        "#10.0 Gradio output capture  \n",
        "![sentence_correction_gradio_output.JPG](data:image/jpeg;base64,/9j/4AAQSkZJRgABAQEAkACQAAD/4RD0RXhpZgAATU0AKgAAAAgABAE7AAIAAAAOAAAISodpAAQAAAABAAAIWJydAAEAAAAcAAAQ0OocAAcAAAgMAAAAPgAAAAAc6gAAAAgAAAAAAAAAAAAAAAAAAAAAAAAAAAAAAAAAAAAAAAAAAAAAAAAAAAAAAAAAAAAAAAAAAAAAAAAAAAAAAAAAAAAAAAAAAAAAAAAAAAAAAAAAAAAAAAAAAAAAAAAAAAAAAAAAAAAAAAAAAAAAAAAAAAAAAAAAAAAAAAAAAAAAAAAAAAAAAAAAAAAAAAAAAAAAAAAAAAAAAAAAAAAAAAAAAAAAAAAAAAAAAAAAAAAAAAAAAAAAAAAAAAAAAAAAAAAAAAAAAAAAAAAAAAAAAAAAAAAAAAAAAAAAAAAAAAAAAAAAAAAAAAAAAAAAAAAAAAAAAAAAAAAAAAAAAAAAAAAAAAAAAAAAAAAAAAAAAAAAAAAAAAAAAAAAAAAAAAAAAAAAAAAAAAAAAAAAAAAAAAAAAAAAAAAAAAAAAAAAAAAAAAAAAAAAAAAAAAAAAAAAAAAAAAAAAAAAAAAAAAAAAAAAAAAAAAAAAAAAAAAAAAAAAAAAAAAAAAAAAAAAAAAAAAAAAAAAAAAAAAAAAAAAAAAAAAAAAAAAAAAAAAAAAAAAAAAAAAAAAAAAAAAAAAAAAAAAAAAAAAAAAAAAAAAAAAAAAAAAAAAAAAAAAAAAAAAAAAAAAAAAAAAAAAAAAAAAAAAAAAAAAAAAAAAAAAAAAAAAAAAAAAAAAAAAAAAAAAAAAAAAAAAAAAAAAAAAAAAAAAAAAAAAAAAAAAAAAAAAAAAAAAAAAAAAAAAAAAAAAAAAAAAAAAAAAAAAAAAAAAAAAAAAAAAAAAAAAAAAAAAAAAAAAAAAAAAAAAAAAAAAAAAAAAAAAAAAAAAAAAAAAAAAAAAAAAAAAAAAAAAAAAAAAAAAAAAAAAAAAAAAAAAAAAAAAAAAAAAAAAAAAAAAAAAAAAAAAAAAAAAAAAAAAAAAAAAAAAAAAAAAAAAAAAAAAAAAAAAAAAAAAAAAAAAAAAAAAAAAAAAAAAAAAAAAAAAAAAAAAAAAAAAAAAAAAAAAAAAAAAAAAAAAAAAAAAAAAAAAAAAAAAAAAAAAAAAAAAAAAAAAAAAAAAAAAAAAAAAAAAAAAAAAAAAAAAAAAAAAAAAAAAAAAAAAAAAAAAAAAAAAAAAAAAAAAAAAAAAAAAAAAAAAAAAAAAAAAAAAAAAAAAAAAAAAAAAAAAAAAAAAAAAAAAAAAAAAAAAAAAAAAAAAAAAAAAAAAAAAAAAAAAAAAAAAAAAAAAAAAAAAAAAAAAAAAAAAAAAAAAAAAAAAAAAAAAAAAAAAAAAAAAAAAAAAAAAAAAAAAAAAAAAAAAAAAAAAAAAAAAAAAAAAAAAAAAAAAAAAAAAAAAAAAAAAAAAAAAAAAAAAAAAAAAAAAAAAAAAAAAAAAAAAAAAAAAAAAAAAAAAAAAAAAAAAAAAAAAAAAAAAAAAAAAAAAAAAAAAAAAAAAAAAAAAAAAAAAAAAAAAAAAAAAAAAAAAAAAAAAAAAAAAAAAAAAAAAAAAAAAAAAAAAAAAAAAAAAAAAAAAAAAAAAAAAAAAAAAAAAAAAAAAAAAAAAAAAAAAAAAAAAAAAAAAAAAAAAAAAAAAAAAAAAAAAAAAAAAAAAAAAAAAAAAAAAAAAAAAAAAAAAAAAAAAAAAAAAAAAAAAAAAAAAAAAAAAAAAAAAAAAAAAAAAAAAAAAAAAAAAAAAAAAAAAAAAAAAAAAAAAAAAAAAAAAAAAAAAAAAAAAAAAAAAAAAAAAAAAAAAAAAAAAAAAAAAAAAAAAAAAAAAAAAAAAAAAAAAAAAAAAAAAAAAAAAAAAAAAAAAAAAAAAAAAAAAAAAAAAAAAAAAAAAAAAAAAAAAAAAAAAAAAAAAAAAAAAAAAAAAAAAAAAAAAAAAAAAAAAAAAAAAAAAAAAAAAAAAAAAAAAAAAAAAAAAAAAAAAAAAAAAAAAAAAAAAAAAAAAAAAAAAAAAAAAAAAAAAAAAAAAAAAAAAAAAAAAAAAAAAAAAAAAAAAAAAAAAAAAAAAAAAAAAAAAAAAAAAAAAAAAAAAAAAAAAAAAAAAAAAAAAAAAAAAAAAAAAAAAAAAAAAAAAAAAAAAAAAAAAAAAAAAAAAAAAAAAAAAAAAAAAAAAAAAAAAAAAAAAAAAAAAAAAAAAAAAAAAAAAAAAAAAAAAAAAAAAAAAAAAAAAAAAAAAAAAAAAAAAAAAAAAAAAAAAAAAAAAAAAAAAAAAAAAAAAAAAAAAAAAAAAAAAAAAAAAAAAAAAAAAAAAAAAAAAAAAAAAAAAAAAAAAAAAAAAAAAAAAAAAAAAAAAAAAAAAAAAAAAAAAAAAAAAAAAAAAAAAAAAAAAAAAAAAAAAAAAAAAAAAAAAAAAAAAAAAAAAAAAAAAAAAAAAAAAAAAAAAAAAAAAAAAAAAAAAAAAAAAAAAAAAAAAAAAAAAAAAAAAAAAAAAAAAAAAAAAAAAAAAAAAAAAAAAAAAAAAAAAAAAAAAAAAAAAAAAAAAAAAAAAAAAAAAAAAAAAAAAAAAAAAAAAAAAAAAAAAAAAAAAAAAAAAAAAAAAAAAAAAAAAAAAAAAAAAAAAAAAAAAAAAAAAAAAAAAAAAAAAAAAAAAAAAAAAAAAAAAAAAAAAAAAAAAAAAAAAAAAAAAAAAAAAAAAAAAAAAAAAAAAAAAAAAAAAAAAAAAAAAAAAAAAAAAAAAAAAAAAAAAAAAAAAAAAAAAAAAAAAAAAAAAAAAAAAAAAAAAAAAAAAAAAAAAAAAAAAAAAAAAAAAAAAAAAAAAAAAAAAAAEFiaGlzaGVrIEJhaXMAAAWQAwACAAAAFAAAEKaQBAACAAAAFAAAELqSkQACAAAAAzcwAACSkgACAAAAAzcwAADqHAAHAAAIDAAACJoAAAAAHOoAAAAIAAAAAAAAAAAAAAAAAAAAAAAAAAAAAAAAAAAAAAAAAAAAAAAAAAAAAAAAAAAAAAAAAAAAAAAAAAAAAAAAAAAAAAAAAAAAAAAAAAAAAAAAAAAAAAAAAAAAAAAAAAAAAAAAAAAAAAAAAAAAAAAAAAAAAAAAAAAAAAAAAAAAAAAAAAAAAAAAAAAAAAAAAAAAAAAAAAAAAAAAAAAAAAAAAAAAAAAAAAAAAAAAAAAAAAAAAAAAAAAAAAAAAAAAAAAAAAAAAAAAAAAAAAAAAAAAAAAAAAAAAAAAAAAAAAAAAAAAAAAAAAAAAAAAAAAAAAAAAAAAAAAAAAAAAAAAAAAAAAAAAAAAAAAAAAAAAAAAAAAAAAAAAAAAAAAAAAAAAAAAAAAAAAAAAAAAAAAAAAAAAAAAAAAAAAAAAAAAAAAAAAAAAAAAAAAAAAAAAAAAAAAAAAAAAAAAAAAAAAAAAAAAAAAAAAAAAAAAAAAAAAAAAAAAAAAAAAAAAAAAAAAAAAAAAAAAAAAAAAAAAAAAAAAAAAAAAAAAAAAAAAAAAAAAAAAAAAAAAAAAAAAAAAAAAAAAAAAAAAAAAAAAAAAAAAAAAAAAAAAAAAAAAAAAAAAAAAAAAAAAAAAAAAAAAAAAAAAAAAAAAAAAAAAAAAAAAAAAAAAAAAAAAAAAAAAAAAAAAAAAAAAAAAAAAAAAAAAAAAAAAAAAAAAAAAAAAAAAAAAAAAAAAAAAAAAAAAAAAAAAAAAAAAAAAAAAAAAAAAAAAAAAAAAAAAAAAAAAAAAAAAAAAAAAAAAAAAAAAAAAAAAAAAAAAAAAAAAAAAAAAAAAAAAAAAAAAAAAAAAAAAAAAAAAAAAAAAAAAAAAAAAAAAAAAAAAAAAAAAAAAAAAAAAAAAAAAAAAAAAAAAAAAAAAAAAAAAAAAAAAAAAAAAAAAAAAAAAAAAAAAAAAAAAAAAAAAAAAAAAAAAAAAAAAAAAAAAAAAAAAAAAAAAAAAAAAAAAAAAAAAAAAAAAAAAAAAAAAAAAAAAAAAAAAAAAAAAAAAAAAAAAAAAAAAAAAAAAAAAAAAAAAAAAAAAAAAAAAAAAAAAAAAAAAAAAAAAAAAAAAAAAAAAAAAAAAAAAAAAAAAAAAAAAAAAAAAAAAAAAAAAAAAAAAAAAAAAAAAAAAAAAAAAAAAAAAAAAAAAAAAAAAAAAAAAAAAAAAAAAAAAAAAAAAAAAAAAAAAAAAAAAAAAAAAAAAAAAAAAAAAAAAAAAAAAAAAAAAAAAAAAAAAAAAAAAAAAAAAAAAAAAAAAAAAAAAAAAAAAAAAAAAAAAAAAAAAAAAAAAAAAAAAAAAAAAAAAAAAAAAAAAAAAAAAAAAAAAAAAAAAAAAAAAAAAAAAAAAAAAAAAAAAAAAAAAAAAAAAAAAAAAAAAAAAAAAAAAAAAAAAAAAAAAAAAAAAAAAAAAAAAAAAAAAAAAAAAAAAAAAAAAAAAAAAAAAAAAAAAAAAAAAAAAAAAAAAAAAAAAAAAAAAAAAAAAAAAAAAAAAAAAAAAAAAAAAAAAAAAAAAAAAAAAAAAAAAAAAAAAAAAAAAAAAAAAAAAAAAAAAAAAAAAAAAAAAAAAAAAAAAAAAAAAAAAAAAAAAAAAAAAAAAAAAAAAAAAAAAAAAAAAAAAAAAAAAAAAAAAAAAAAAAAAAAAAAAAAAAAAAAAAAAAAAAAAAAAAAAAAAAAAAAAAAAAAAAAAAAAAAAAAAAAAAAAAAAAAAAAAAAAAAAAAAAAAAAAAAAAAAAAAAAAAAAAAAAAAAAAAAAAAAAAAAAAAAAAAAAAAAAAAAAAAAAAAAAAAAAAAAAAAAAAAAAAAAAAAAAAAAAAAAAAAAAAAAAAAAAAAAAAAAAAAAAAAAAAAAAAAAAAAAAAAAAAAAAAAAAAAAAAAAAAAAAAAAAAAAAAAAAAAAAAAAAAAAAAAAAAAAAAAAAAAAAAAAAAAAAAAAAAAAAAAAAAAAAAAAAAAAAAAAAAAAAAAAAAAAAAAAAAAAAAAAAAAAAAAAAAAAAAAAAAAAAAAAAAAAAAAAAAAAAAAAAAAAAAAAAAAAAAAAAAAAAAAAAAAAAAAAAAAAAAAAAAAAAAAAAAAAAAAAAAAAAAAAAAAAAAAAAAAAAAAAAAAAAAAAAAAAAAAAAAAAAAAAAAAAAAAAAAAAAAAAAAAAAAAAAAAAAAAAAAAAAAAAAAAAAAAAAAAAAAAAAAAAAAAAAAAAAAAAAAAAAAAAAAAAAAAAAAAAAAAAAAAAAAAAAAAAAAAAAAAAAAAAAAAAAAAAAAAAAAAAAAAAAAAAAAAAAAAAAAAAAAAAAAAAAAAAAAAAAAAAAAAAAAAAAAAAAAAAAAAAAAAAAAAAAAAAAAAAAAAAAAAAAAAAAAAAAAAAAAAAAAAAAAAAAAAAAAAAAAAAAAAAAAAAAAAAAAAAAAAAAAAAAAAAAAAAAAAAAAAAAAAAAAAAAAAAAAAAAAAAAAAAAAAAAAAAAAAAAAAAAAAAAAAAAAAAAAAAAAAAAAAAAAAAAAAAAAAAAAAAAAAAAAAAAAAAAAAAAAAAAAAAAAAAAAAAAAAAAAAAAAAAAAAAAAAAAAAAAAAAAAAAAAAAAAAAAAAAAAAAAAAAAAAAAAAAAAAAAAAAAAAAAAAAAAAAAAAAAAAAAAAAAAAAAAAAAAAAAAAAAAAAAAAAAAAAAAAAAAAAAAAAAAAAAAAAAAAAAAAAAAAAAAAAAAAAAAAAAAAAAAAAAAAAAAAyMDIxOjEwOjE5IDE3OjQyOjQwADIwMjE6MTA6MTkgMTc6NDI6NDAAAABBAGIAaABpAHMAaABlAGsAIABCAGEAaQBzAAAA/+ELIGh0dHA6Ly9ucy5hZG9iZS5jb20veGFwLzEuMC8APD94cGFja2V0IGJlZ2luPSfvu78nIGlkPSdXNU0wTXBDZWhpSHpyZVN6TlRjemtjOWQnPz4NCjx4OnhtcG1ldGEgeG1sbnM6eD0iYWRvYmU6bnM6bWV0YS8iPjxyZGY6UkRGIHhtbG5zOnJkZj0iaHR0cDovL3d3dy53My5vcmcvMTk5OS8wMi8yMi1yZGYtc3ludGF4LW5zIyI+PHJkZjpEZXNjcmlwdGlvbiByZGY6YWJvdXQ9InV1aWQ6ZmFmNWJkZDUtYmEzZC0xMWRhLWFkMzEtZDMzZDc1MTgyZjFiIiB4bWxuczpkYz0iaHR0cDovL3B1cmwub3JnL2RjL2VsZW1lbnRzLzEuMS8iLz48cmRmOkRlc2NyaXB0aW9uIHJkZjphYm91dD0idXVpZDpmYWY1YmRkNS1iYTNkLTExZGEtYWQzMS1kMzNkNzUxODJmMWIiIHhtbG5zOnhtcD0iaHR0cDovL25zLmFkb2JlLmNvbS94YXAvMS4wLyI+PHhtcDpDcmVhdGVEYXRlPjIwMjEtMTAtMTlUMTc6NDI6NDAuNzAxPC94bXA6Q3JlYXRlRGF0ZT48L3JkZjpEZXNjcmlwdGlvbj48cmRmOkRlc2NyaXB0aW9uIHJkZjphYm91dD0idXVpZDpmYWY1YmRkNS1iYTNkLTExZGEtYWQzMS1kMzNkNzUxODJmMWIiIHhtbG5zOmRjPSJodHRwOi8vcHVybC5vcmcvZGMvZWxlbWVudHMvMS4xLyI+PGRjOmNyZWF0b3I+PHJkZjpTZXEgeG1sbnM6cmRmPSJodHRwOi8vd3d3LnczLm9yZy8xOTk5LzAyLzIyLXJkZi1zeW50YXgtbnMjIj48cmRmOmxpPkFiaGlzaGVrIEJhaXM8L3JkZjpsaT48L3JkZjpTZXE+DQoJCQk8L2RjOmNyZWF0b3I+PC9yZGY6RGVzY3JpcHRpb24+PC9yZGY6UkRGPjwveDp4bXBtZXRhPg0KICAgICAgICAgICAgICAgICAgICAgICAgICAgICAgICAgICAgICAgICAgICAgICAgICAgICAgICAgICAgICAgICAgICAgICAgICAgICAgICAgICAgICAgICAgICAgICAgICAgIAogICAgICAgICAgICAgICAgICAgICAgICAgICAgICAgICAgICAgICAgICAgICAgICAgICAgICAgICAgICAgICAgICAgICAgICAgICAgICAgICAgICAgICAgICAgICAgICAgICAgCiAgICAgICAgICAgICAgICAgICAgICAgICAgICAgICAgICAgICAgICAgICAgICAgICAgICAgICAgICAgICAgICAgICAgICAgICAgICAgICAgICAgICAgICAgICAgICAgICAgICAKICAgICAgICAgICAgICAgICAgICAgICAgICAgICAgICAgICAgICAgICAgICAgICAgICAgICAgICAgICAgICAgICAgICAgICAgICAgICAgICAgICAgICAgICAgICAgICAgICAgIAogICAgICAgICAgICAgICAgICAgICAgICAgICAgICAgICAgICAgICAgICAgICAgICAgICAgICAgICAgICAgICAgICAgICAgICAgICAgICAgICAgICAgICAgICAgICAgICAgICAgCiAgICAgICAgICAgICAgICAgICAgICAgICAgICAgICAgICAgICAgICAgICAgICAgICAgICAgICAgICAgICAgICAgICAgICAgICAgICAgICAgICAgICAgICAgICAgICAgICAgICAKICAgICAgICAgICAgICAgICAgICAgICAgICAgICAgICAgICAgICAgICAgICAgICAgICAgICAgICAgICAgICAgICAgICAgICAgICAgICAgICAgICAgICAgICAgICAgICAgICAgIAogICAgICAgICAgICAgICAgICAgICAgICAgICAgICAgICAgICAgICAgICAgICAgICAgICAgICAgICAgICAgICAgICAgICAgICAgICAgICAgICAgICAgICAgICAgICAgICAgICAgCiAgICAgICAgICAgICAgICAgICAgICAgICAgICAgICAgICAgICAgICAgICAgICAgICAgICAgICAgICAgICAgICAgICAgICAgICAgICAgICAgICAgICAgICAgICAgICAgICAgICAKICAgICAgICAgICAgICAgICAgICAgICAgICAgICAgICAgICAgICAgICAgICAgICAgICAgICAgICAgICAgICAgICAgICAgICAgICAgICAgICAgICAgICAgICAgICAgICAgICAgIAogICAgICAgICAgICAgICAgICAgICAgICAgICAgICAgICAgICAgICAgICAgICAgICAgICAgICAgICAgICAgICAgICAgICAgICAgICAgICAgICAgICAgICAgICAgICAgICAgICAgCiAgICAgICAgICAgICAgICAgICAgICAgICAgICAgICAgICAgICAgICAgICAgICAgICAgICAgICAgICAgICAgICAgICAgICAgICAgICAgICAgICAgICAgICAgICAgICAgICAgICAKICAgICAgICAgICAgICAgICAgICAgICAgICAgICAgICAgICAgICAgICAgICAgICAgICAgICAgICAgICAgICAgICAgICAgICAgICAgICAgICAgICAgICAgICAgICAgICAgICAgIAogICAgICAgICAgICAgICAgICAgICAgICAgICAgICAgICAgICAgICAgICAgICAgICAgICAgICAgICAgICAgICAgICAgICAgICAgICAgICAgICAgICAgICAgICAgICAgICAgICAgCiAgICAgICAgICAgICAgICAgICAgICAgICAgICAgICAgICAgICAgICAgICAgICAgICAgICAgICAgICAgICAgICAgICAgICAgICAgICAgICAgICAgICAgICAgICAgICAgICAgICAKICAgICAgICAgICAgICAgICAgICAgICAgICAgICAgICAgICAgICAgICAgICAgICAgICAgICAgICAgICAgICAgICAgICAgICAgICAgICAgICAgICAgICAgICAgICAgICAgICAgIAogICAgICAgICAgICAgICAgICAgICAgICAgICAgICAgICAgICAgICAgICAgICAgICAgICAgICAgICAgICAgICAgICAgICAgICAgICAgICAgICAgICAgICAgICAgICAgICAgICAgCiAgICAgICAgICAgICAgICAgICAgICAgICAgICAgICAgICAgICAgICAgICAgICAgICAgICAgICAgICAgICAgICAgICAgICAgICAgICAgICAgICAgICAgICAgICAgICAgICAgICAKICAgICAgICAgICAgICAgICAgICAgICAgICAgICAgICAgICAgICAgICAgICAgICAgICAgICAgICAgICAgICAgICAgICAgICAgICAgICAgICAgICAgICAgICAgICAgICAgICAgIAogICAgICAgICAgICAgICAgICAgICAgICAgICAgICAgICAgICAgICAgICAgICAgICAgICAgICAgICAgICAgICAgICAgICAgICAgICAgICAgICAgICAgICAgICAgICAgICAgICAgCiAgICAgICAgICAgICAgICAgICAgICAgICAgICA8P3hwYWNrZXQgZW5kPSd3Jz8+/9sAQwAHBQUGBQQHBgUGCAcHCAoRCwoJCQoVDxAMERgVGhkYFRgXGx4nIRsdJR0XGCIuIiUoKSssKxogLzMvKjInKisq/9sAQwEHCAgKCQoUCwsUKhwYHCoqKioqKioqKioqKioqKioqKioqKioqKioqKioqKioqKioqKioqKioqKioqKioqKioq/8AAEQgBMwReAwEiAAIRAQMRAf/EAB8AAAEFAQEBAQEBAAAAAAAAAAABAgMEBQYHCAkKC//EALUQAAIBAwMCBAMFBQQEAAABfQECAwAEEQUSITFBBhNRYQcicRQygZGhCCNCscEVUtHwJDNicoIJChYXGBkaJSYnKCkqNDU2Nzg5OkNERUZHSElKU1RVVldYWVpjZGVmZ2hpanN0dXZ3eHl6g4SFhoeIiYqSk5SVlpeYmZqio6Slpqeoqaqys7S1tre4ubrCw8TFxsfIycrS09TV1tfY2drh4uPk5ebn6Onq8fLz9PX29/j5+v/EAB8BAAMBAQEBAQEBAQEAAAAAAAABAgMEBQYHCAkKC//EALURAAIBAgQEAwQHBQQEAAECdwABAgMRBAUhMQYSQVEHYXETIjKBCBRCkaGxwQkjM1LwFWJy0QoWJDThJfEXGBkaJicoKSo1Njc4OTpDREVGR0hJSlNUVVZXWFlaY2RlZmdoaWpzdHV2d3h5eoKDhIWGh4iJipKTlJWWl5iZmqKjpKWmp6ipqrKztLW2t7i5usLDxMXGx8jJytLT1NXW19jZ2uLj5OXm5+jp6vLz9PX29/j5+v/aAAwDAQACEQMRAD8A+iP7Ptv+eX/jx/xo/s+2/wCeX/jx/wAas0UAVv7Ptv8Anl/48f8AGj+z7b/nl/48f8as0UAV1sbZWDCPBByPmNTeWvp+tOooAb5a+n60eWvp+tUtP17R9WuJrfS9Vsb2aD/XR21ykjR84+YKSRzxzV+gBvlr6frR5a+n61mw+I9Nn19tFVrhL8I8gSWzmjV1UgMUdlCuAWX7pPWtSjpcBvlr6frR5a+n61XOpWg1ddLMv+mNAbgRbTzGGCk5xjqRxnNWqAG+Wvp+tHlr6frTqKAG+Wvp+tHlr6frTqiiureeaaKCeKSSBgkyI4JjYgEBgOhwQeexoAf5a+n60eWvp+tOqpHqdpLq0+mRzZvLeJJpY9p+VHLBTnGDko3Q9qALPlr6frR5a+n606igBvlr6frR5a+n61X1PUrTR9LuNR1KXybW2QySybS21R1OACT+FWgcgEdDQA3y19P1o8tfT9adVXUtTtNHsWvNRl8m3V0QvtLYLMFUYAJ5ZgKALHlr6frR5a+n606oprq3t3hS4niiad/LiV3CmRsE7Vz1OATgehoAf5a+n60eWvp+tOooAb5a+n60eWvp+tOqK2ure8iMlpPFPGHZC0ThgGUkMMjuCCCOxFAD/LX0/Wjy19P1p1V7+/ttL024v76Tyra2iaWV9pbaqjJOBkngdqNg30RN5a+n60eWvp+tEUizQpLGco6hlOOoNOo2Dcb5a+n60eWvp+tVNT1nTNFgSfWdRtNPidtiyXU6xKzYzgFiMnAPFRaZ4k0PW5ni0bWdP1CSNdzpaXSSlR0yQpOBQBoeWvp+tHlr6frTqKAG+Wvp+tHlr6frTqq2+p2l1qF3YwS7rmz2eem0jZvGV5Iwcj0oAseWvp+tHlr6frTqKAG+Wvp+tHlr6frTqKAG+Wvp+tHlr6frTqKAG+Wvp+tHlr6frTqKAG+Wvp+tHlr6frTqKAG+Wvp+tHlr6frTqKAG+Wvp+tHlr6frVK31zTrrXLzR4Ljff2UaSTw7GGxX+6ckYOcdiav0AN8tfT9aPLX0/WnUUAN8tfT9aPLX0/WnVFdXKWdrJcSrKyRqWYRRNK5Hsqgsx9gCaAH+Wvp+tHlr6frVLR9asdesmutMkkeJJXhfzYHiZXU4ZSrgMCD6ir9ADfLX0/Wjy19P1qtp2p2mrWrXGnzedEsskLNtK4dGKMOQOjKRVugBvlr6frR5a+n606igBvlr6frR5a+n6024uIbS2kuLqWOCGJS8ksjBVRRySSeAB609WV0DIwZWGQQcgigBPLX0/Wjy19P1pWYKpZuABk1X03UbXV9Mt9Q06XzrW5QSRSbSu5T0OCAR+NAE/lr6frR5a+n606igBvlr6frR5a+n61Xl1O0g1W302WXbd3MbyxR7Sdypt3HOMDG5ep71aoAb5a+n60eWvp+tOooAb5a+n60eWvp+tOooAb5a+n60eWvp+tMN1bi8FoZ4/tJQyCHeN5TON23rjJxmpaAG+Wvp+tHlr6frVPVtasdDtVudUkkhty4VpRC7pH/tOVBCL6s2FHc1dVldAyMGVhkEHIIoATy19P1o8tfT9arpqdpJq8umJLm8hhWd4tp4RiwU5xjkq3Gc8VZZgqlm4AGTR0uHWwnlr6frR5a+n61Bpuo2ur6Zb6hp0vnWtygkik2ldynocEAj8as0AN8tfT9aPLX0/WnUUAN8tfT9aPLX0/Wqeqa5pOiJG+tapZaespIja7uEiDkdQNxGabpfiDRtbMg0XVrHUTFgyC0uUl2Z6Z2k4zg/lQBe8tfT9aPLX0/WnUUAN8tfT9aPLX0/WnVnnXNPTXF0iSZor2RC8UcsTosoABOxyArkAjIUkjvigC95a+n60eWvp+tOqtqWo2ukaXc6jqMvk2trG0s0m0ttUDJOACT+FGwE/lr6frR5a+n61HZ3cF/YwXlo/mQXEayxPgjcrDIODyOD3qajbRhuN8tfT9aPLX0/WnVn6drmn6pdXVtZzN9otH2zwTQvFImejbXAJU84YDacHBOKALiwRoCFXAJJ69zTvLX0/Ws0+I9OXxAmiu1zHfSBjGslnMscm1dx2yldjYB7Ma1KAG+Wvp+tHlr6frTqKAG+Wvp+tHlr6frTqjuJ47W2luJ22xRIXdsE4UDJPFJtJXYbjvLX0/Wjy19P1qOzu4L+xgvLR/MguI1lifBG5WGQcHkcHvTLrUbWyuLWC5lCzXchjgjClmdgCTwOwAyT0Hem9HZhe6uT+Wvp+tHlr6frVcalZnVjpnnqL0QicQkEFo87dwzwQDwcdMjOMjMN/rmn6XeWttqEzQNdv5cMjQv5RbspkxsVj0AYgk8DNAF7y19P1o8tfT9adRQA3y19P1o8tfT9adRQA3y19P1o8tfT9adRQA3y19P1o8tfT9adRQA3y19P1o8tfT9adRQA3y19P1o8tfT9adRQA3y19P1o8tfT9adRQA3y19P1o8tfT9adRQA3y19P1o8tfT9adRQA3y19P1o8tfT9adRQA3y19P1o8tfT9adRQA3y19P1o8tfT9adRQA3y19P1o8tfT9adRQA3y19P1o8tfT9adRQA3y19P1o8tfT9adRQA3y19P1o8tfT9adRQAVyuh6Dp2oae1xdwvJK08gLec68ByBwDiuqrltE13T9O09ra9meOZZ5SV8lzjLk9QKALsIsPDCzL5zGGWYEru3GAEAc5OSPf3rbVgyhlIIIyCD1rEgNj4nSZjCRFFMAW24M4ABGcjIHt7VtqoVQqgAAYAA6UALXLfEmQp4DvQXaOCSSGK5dW24gaZFlyew2Fsn0zXU1HcW8N3bSW91FHNBKpSSKRQyup4IIPBHtSY07Mp3pt9J0WS6t7SMrp9s7wRooG1VT7q+gwAOK5aO+1zT7TQdYudc+3pqlxBFcWRhiWFRN08gqof5cj7zNlQc88jotM8MaXpDZso7kgJ5aJcXk06RL0wiyOwQY4woHHHSo9P8HaHpl5Fc2dpIrQFjbxPcyyQ2+7r5UTMUj4JHyAYBIHBxTXxXfl/wfvJ+zZef/A+4z9Q/5K1on/YJvP8A0ZBWf4t13Uje6lb+Hp9YM2l2weYafBaeTE7KWUStcHLcAHEeCAeeSK3LjwVo9zrA1SY6kbwFtsi6tdLsDEFlUCTCqSB8oAHA44qTUvB+iavey3V/aySPOipOi3MqRThc4EkasEkxn+IGk78iS31/Nv8AUpW5m35foctBJf8AiHxlol1Dftpkt34cE80ttEruN0iMVTzAyjk/xK3HHB5HT+DtTudU0BmvpvtE9tdT2jXAQL53lSsgfA4BIXJxxnOKW48G6Nc/Yz5V1A1lbC1ge1v57dli4+QtG6lhwOua1LGwtdMsYrLT7eO3toV2xxRrhVFVpsvP8W2Qk+vl+CsYvjnUr/SfC7XOkTpb3RuraJJJIxIoDzohyvGRhj3B9COtYt5r+reF9R8QQ3V/JrEdloo1OH7RFGjK+6QFP3ar8h2jrkj1NdlqWmWmrWf2XUIvOh8xJdu4r8yMHU5BB4ZQaZJo9hLqU1/LbLJcT2wtJWckq8QJOwqeMZY9u9T/AMH8v8zS6/r1/wAjmXm1vRdS0H7Vr76lHq8xtp4nghVYmMTSCSDaoIAKEYcvwRzkZNLwno18vjHxMT4k1RhBqMPmKY7XFx/o8Z+fEPHHy/Jt4HrzXTaZ4S0bSLqK4sraXzIEMcHn3Usy26ngrErsRGMADCAcADoKkm8M6ZNrR1YJcw3jFDI9teTQrMU+75iI4WTA4+YHjjpxVdb/ANf1/XQnpY5G+13xRqera0uhW2q/8Sy5Ntbx2i2RgkdUVv33nOJCCW/g2/KRgk81LFa6nqfxJ1PytRl0WQ6PZPP9niikkD7p/l3OGTaDnPyknAww5z0t74S0m/1KXUHS7t7qZVWaSyv57Xzdv3d4idQxAOATk446Umo+ENI1TUGvbqO7FxJCsEjQX88IljUkhXCOAw+ZuoPU0lorf1sN7v8ArqjnNI8Qat4oGh2Meo/2c1xp0l5c3dtEhkmKSCMeWJFZVUkljlScFQMZzSJ4i1ptmhm+T7W2ttpZ1QQru8tYPO3hcbPNx8nTbuyduPlrqb7wvpGoQWcUtoYBYjbavZyvbPAuNu1HiKsq4wNoODgccCkfwror6KmktYr9kSQSqA7CRZM7vNEgO/zM8787sknNH9fjf8tBf1+H+epxHjC81G18N+M9B1DUG1SODSEu4LiWNEmUOXUo/lqqnmPIIUcHBzjNdF4S1XUPEOoX17d3bWUdnKbX+xAiboSOd8zEElmBDDYdmMct1rSXwjoq6Tfac1q8sGoLtu2muJJJZxjADSsxc4HA+bgdMVa/sLTv7dXWVgKX6w+QZUldd6dg6g7Xxk43A47Yp3/r+vu/EHtp/W3/AA/4GhXlviW41HXfA9zrVzq80VsdUjhi06BIvJ2R3ixjezIZC+V3HDAZwMcHPqVc9ceBPDl1cSzXGnmTzZvtBia4l8pZcg+Yse7Yj5HLKATk5PJylumHQwdV1zxFqHifWLDRodWSLSzHFGdOSyKyO0YfMv2hwxHzAAIF4B+YkjbD4ns9X1C58F3N/qN5pV5PexrNaW4t3S2m+zylmUtGxJzkcsy47Z5rrdR8LaVqmofbp0uYbsxiNprO9mtWdQcgMYnXcBk4znGTjrU+o6Fp+radFZX8UksUDI8TieRZY3X7rrIGDhv9oHJyeeTQtl6r8Bvd+jX4HP8AiXUtV0ODRdJsbjUNQutQuJI3u0S2+07VRnO0PshDcAZI6A8E1Uk1/wATaJ4U1S41GznEsdxDDp82qeRvYSsqbpRbsUwjMTxtyMDrk101x4Z0u80eLTLuO4uIIZBLE8t3M80bg5DLMW8wMMnBDZxx04qSDw/p8Gl3GnSJPeWlzkSx391Ld7gRgjMrMce3Sjv/AF/wwuxDaaRqUFlNBc+JL66klQAXDwW6yQt6oFjC49mVvrXN/DTTLuHSZrl9c1CeJNSvlNq6W4jci4kG4lYg+Sfm4YDPbHFdXpOg2OiqwsvtTbgFzdXk1wVA7KZWYqPYYFR2nhrTLDVZNQskuYJZXaR447yYQM7febyd/l5PUnb15680+ounzOL0XxD4u1qOy1mzsNVeK5uButmFitmsG/a2Dv8AP3KvOSeWB+UA4B4suNS13wr40uG1eawstNjuLWO0to4iJgkILGVnRm5LEAIVwAO5zXXw+EtJttSa9tEvLaR5jO0VvqE8cLOeSxhVxGcnk/Lyck5zUepeCPD+r3F3LqNgZvtq4uYvPkWKY42hmjDBC4GMORuGBgjAxDV428v8v+D95adpX8zV0z/kE2n/AFwT/wBBFWay9V8N6TrdrZ22p2vnw2M6XFuvmuuyRPun5SM4z0ORWpWkndtmcVaKQjfdP0rhNE1abQ/ghp2oWqxtPDYRCPzs7AzEKC2Odozk+wrvOtUYNE0620JdGjtI205YfIFtLmRTHjG07s5GPWoezLTMKKTV9C8UaRZXmty6vb6msqOtzDEjxOib96eWi/KeQQ248rg9c9XWRpXhfStGuftFlFO04j8pJLq7luGjT+6hkZtinjIXAOBnoK16pknDanq+qab4qnfxBeatpmkCdBZzWNrBNaOmE4mYo8sbF2YEnYuAMHPNVLmLU28V+NLjTNWk002sFvKDDBG7SOICVDGQMNnHIADHP3hXV3PhTS7y/N3eC8uCZBIYZdQuHgLA5H7kv5fBAIG3GRmrf9i2H2jUJvI/eakipdHe37wKpUDrxwSOMVDvyWW5StzXexzFlrGq+KL+xs4dRfR0OkW+ozSWkcbSSvLuG1fNV1CLtOeCSSvIwc0bbxfrFq9o9/Kl5HAdRtJhBGq/bJoCPKIP8LMFYEA43E8dMdTc+EdGuYbOM280JsYRBby2t3LBKkYAGzzI2DleBwSRkA9akfwtoslnp1q1hGINMnW4tI1ZlEci5w3B+Y5JJznJ5PNW7Nu3n+f6LoSrpL5fl+r1M3w14gudf167YnybWKwtmNocEw3DtL5ilgOSNqr1xx0rY8Qam2i+G9S1RIvOaztZJxHnG4qpbH6Uum6Hp2kXF7Pp1sIZL+Yz3BDsd7nqcE4H0GBkk96vOiyIyOoZWGCpGQR6VMrtaaFR0d3qcN4evvFs2qabNdWuqzWV0pN416LFIYQULK0IhcyY3YGH3/KeTkZLNCk8Wa7ps2pQ68iyQapPDFaNbxrFJDHcsrCRtjMW2AgFNvRc5OSek0vwrpeizpJpovYVjBVIDqFw0CA9lhZygA7ALgdsVe07TLTSbVrfT4fJiaWSZl3Fsu7F2PJPVmJq7q9ybOxye/xJrfijxPY2WvNp1vp7xLaLDbRM+94FbDs6sNm45wF3c/eAGKsJNrmteILrSn1f+yG06zt3mbT443aaaUNuP75GAjGzAAAJOcnjFdLbaZaWd9eXltFsuL51e4fcTvKqFU4JwPlAHGKpap4X0rWLxbu7inS5WMxefaXcts7ITnYzRMpZc84OQMnHU1HSxRyY8Sa/qdh4Xitb6CzutRv7qzu7iO3Do4iWUF0VjwT5e5eSASMhhwdm7tvFth4f1KK0vf7TuvtCfYpysS3HkHZ5mQVSLzB+825G37ue9bQ0HS1Om+XZxxDSyTZJFlFhyhQ4UYH3WIwfWp9QsIdSs2trh7hI2IJNtcyQPx/txsrD86b8hLp/XcxfCGqR39vcwvqGrXN5AymeDV7WOCa33DhcRxorA4PzDcDzhjXR1Q0rRLHRlm+wxy752DSzTzyTyyEDA3SSMzEAdATgdqv0CRyuiXGpQePNY0m81W41C1hsra4h+0Rwq0bO8oYAxouRhF65PvWBf614iXRfEWtxa20S6PqckUFolrFsljV0ykhKljwSAVKEdya6q08FaPZav/adudS+2YUNJJq11JvCklVYNIQygk/KQRyeKtyeG9Jl02+sJLTNtqEzT3MfmP8AvHYgk5zkdBwMCjz8vxuhvV6d/wBP8zUByAa5rxBf6hL4m0vw/pt22nC8hmuZryONHkVIig2IHBUElxkkHAB4ycjpelZ+raHp+txxLqMLM0D74ZYpXhlibGCUkQhlyODgjI4NHUOhj6xcapZS6JodvqrCbUbh45NSkij80IkbOdq7fL8w4AztxjcdtS+Hr3UI/EOr6HqN82orYpBNDdyRokhWXf8AI+wKpIKZBCjhhnnk3bjwzpV3pMWnXMEkkMMglikNxJ5ySA5Dibd5gb/a3Z5IzzTrXw5ptlp1xZWqXEaXTbp5hdy+fI3TcZt3mE4AAO7IAAHFHcDE8FXEdpoviC5uHEcUOs38juRkKolYk8VkaX4k1o+KNALtrEmm600q51GGzjiI8ppUaIRHzV+70kz8p55FdXpPhDR9Eac2CXe253+dHcX888chc5Zikjsu4nq2M9eeTUVj4H0DTr2zu7e0ma4sc/ZZJ7yaYwAoUKpvc7V2sRtHHQ4yBhx0tfsl+AS1u+7f47HF6Tcapo3g691y31d44bbWrkDT1t4zHMrXrKwZiC5c7jgqygfLweSfVKwYPBWhW16LmO2nYi4a6WGS8mkgWYsWLiFnMYbcSQQvB5GK3qXQOrZyN7PrOo+Pr3R7PWpNNsodNhuQYLeJ5PMaSReGkVgBhRkFT0GCvOc3R/EeseI9P8L2f2/+z59S0+W7u7yCJDIxiKLtjDhkBYvk5U4AIGOo7VdMtE1aXU1hxeTQrA8m48opYqMZx1ZucZ5rPfwfojaVY6eto8UGn5+yNDcSRywZGDtlVg4yCQfm5HBpLRa/1v8A8D7huzbf9bI4/wAQTapf+BfGenXmszs+jLNGLmGKFTdxtbiQJKChAI34JQJ0BGK27i5vvCHw+vdXOp3eryQ2SyQx3iQhYyF4x5aISORnJ6DqOTXQWehabY6VLp1vaJ9lm3+ckhMhmL/eLs2S5PcsST3qHTvDOmaXZTWdulxLazxiJ4Ly8muY9gBG0LKzBRg4wMAj6U+j80vwDt5X/QwNFuPFI1ZUv7bVpNPmt5DPLqYsV8mQAFfL+zuWwfmBDBv4eeucXwpcapo3gnwff/2u8tvdvb2jacLeMRbJAVBBwZN44Ynfg4PyjPHcaT4X03RGB083wRY/KWKbUbiaJV44EbuVGMYGBwKg0vwVoejT28tlb3BNqpW2S4vZ50t8jGY0kdlQ44yoBwSOhNPr935sn7LX9bHOXWsa7ceGNa8U22s/ZBps1z5OneTEYHS3dlKykr5m59h5V1A3Lxwc6Ed3q/iXVtWjstZl0WLTfLjijghidpHeJZC0vmI3yjcAAu08NzyMas/g3Qrm/luprNiZpRNNAtxKsE0gx87whvLduByyk8D0FP1Pwno+rXj3d3BMs8kYjle3upYPPQdFkEbKJAMnhs9T6mp6WKdrnn2r+Mb6F/C3iUWCXN0+j3ckqxEiGP5oQ0p6t5Y5b5QzY7d69J0KK4j0iJ7vVzq8kwEv2oRxojAgH5Agxs9Mljzyxp/9i6cL20ultUSWyhe3t9mVWONtuVCjjHyL24xxWZceGodO8J32keG7G38u7Ei/Zru6lEKCTh8cMVXknYoUem3Oaeydv61DR2OhpG3bDsxuxxnpmsvwxog8N+FtO0Zbl7r7FAsPnOMF8DrjJwPQZ4GBWo6h0ZTkBhg4JB/MdKJLdIUfM4jwtq2pLrEVl4rvdXttWmRsWNxawCzkbG5jBLGhJCjOA0m7HUVnWPiHxdrA/tXS7HVZE+2vGlsosRZmJJSjAlpPP37VJzkfMPu44PZWHhfTNOvlvIheT3EalY5L2/nujGD12+a7bSehIwSOKYPCOkJqcl/bpeW00s32iRLXULiGKSTjLNEjhCTgZyvPfNC3TDo0c1eaPfTfFpRH4k1S3MmkyyKY47UmNfOX92u6E/L9ctx1rvUUpGqs7OQACzYy3ucYH5Vm6r4d03WbiG4vY51uIFZY57W6lt5FVsZXfEysVOAcE44FaSII41RdxCgAFmLH8SeT9TRHSNv63b/UHrJv+tkOrD8Wand6bpduumvHFdXt5DZxzSruWHzGwXx3IGcDpnGeK3KqappdnrOnyWWpQiaCQgldxUgg5DBgQVIIBBBBBHFIDz28vLrwj4n8Vai99cazcWfh+G4Q3ixKciSbCnykQbcjPTPXmtbRrnxV/akIvrbVpbCeBzcyaiLFVhbblTELdy2CcjDbuCOeDnfsPCei6bcXM9rZAzXkIguZZ5Xma4QZwJGckufmIy2TjAzgAA0rwtpmiup077aiJH5SQSajcSwovosTuUUDGBgcDpQ17tvX9f8AMOt/62X+RxHhS41TRvBPg+//ALXeW3u3t7RtOFvGItkgKgg4Mm8cMTvwcH5RnjSvPEmrReCvFd/Hd4udP1GaC2k8tP3aKyADGMHqeTk1v6X4K0PRp7eWyt7gm1UrbJcXs86W+RjMaSOyoccZUA4JHQmkvvA/h/Up7qW+sXlF2/mTQm5lELPgDf5QbYH+UfOAG96rq/O/6f5P7xPy/rf/ADX3HN+J9f1c+IdW0+wv9WtDaWUb2Y0rSxdiadwx2ysYnCYwmASnDZJ9NO98R33hjSdKg1e/0Nr6W3DXEmsaulkzScbtoSEqwBOMgDt161W1fwnrE3ifUNRtYobqK7WIR7NbutMaLYuNrCBCJeckMxzzjoBXU6BYXel+H7Kx1K/fUbqCIJJdSD5pSO56k+mTyep5pLb+vP8Ar7hvf+vL+vvKFjrH9ueEry783TZf3cqbtMvvtcXC/wDPTYvPqMcVj3Gp3ejfA2PUtOkEV1a6LFJE5UMFYRLjg8Gu1liSeF4pRuSRSrDOMg8GqM+habc+HToU1tu0024tjBvYfuwMBd2d3Qdc5o7+dvwv/mC3TfS/6f5GLJb+JdMhuL6fXFvYPsE0ksbwJGIJwAUMIVc7PvAiRmP3eTzVaHXtSaPwIWucnVh/pv7tf3v+iPJ6fL8wB4x+Vdi0aNGY2UMhG0qRkEelYVj4I8P6deWd1bWchmsCfsjy3Usv2cFChVN7Ham0kbBhenHAw1u7/wBb/wCf4C6eev6HK2PiHxdrA/tXS7HVZE+2vGlsosRZmJJSjAlpPP37VJzkfMPu44PpNYo8I6QmpyX9ul5bTSzfaJEtdQuIYpJOMs0SOEJOBnK8981tUlskN73CsXxYt4vhq9udO1O506e0gknV7dIm3lUJCsJEYYz6YPvW1WfrGiWeu2f2XUTc+Sc7lt7uW33gjBDGNlLDB6HIqZJuLSHFpO7Od1vXNWt/h3pGo2N2kWoXUlgjTSQh1JlkjV8pxwQx4BHsR1qzod1qVr401HQ7/U5tThjsoLuKW4iiR0Z3kVl/dqoK/ICMjPXk1fg8JaRBpKaYIrmW0jmjmjjuL2abY0ZVk2l3JABVflBxx0rQTTLSPV5dTSLF5NCsDy7jyilioxnHBZucZ5rRtXuu7+62n4kRTUbPey/PX8C1RRRUlHLa9/yUPwn/ANvn/ooVX8T6vfSay+maHPrJuba2E8yaVDaYj3EhTI1ycHO04VOeGz1GNPUPBmj6nqi6jdnUTdISY3j1W6jEeRg7FWQBcgc7QM1LqPhTR9WvftV9bytKYhDJsupY1njBJCSqrASLyeHBHJ9TSabQ1o2c/wCH/FOp6teeEGuJERNU0me5uokQbWkXysEZyRjc3APfvVWTxHrsulr9mv0iuJPFMmmrK9urhYBI6hdoxnAA5znjkmunk8HaI+nafZJbTQRaahS0a2u5oZIlIwVEiMGwQBkE4OB6CpLbwlodnZwWlpp8cFvb3f22KKNmVUmzncAD79OntVfav0/4Kf5aCfwWW/8AwGvzszmpvEeq+G4PFyXV4+r/ANkQQ3FrLdpHG37xD8rmNVUqGXOQoOCa2JtO1Oy8M6k+p65PqbSWEm9JIIo0R9h5j2KCF68MXPTng51/7G083V9cPapJJqEaxXQkyyyooIClTxjDEdOc81VsPCuk6dBNDbR3JilhMBjnvZplSMjBRA7nyxjHC46D0FZzTlFruiouzTOT8OXWraRF4JSXVWurXV7YQSWhgjSKALbGRGjIG/I2YO52B3EgDgDc0cC9+IXiG5uADLYrBZ24PVImQSMR6bmbB9fLHpxrroOmqNLC22BpP/Hl+8b91+7Mfr83ykjnP51VudEuI/FsGt6XLGhliFtqEMucTRDJRlI6OpJ68EMRxwRtJpzuvP8Ar9PmZxVo28il46H2ez0zVLcYvLPU7ZYWBwWWWVYnT6Mrnj1APauorG1HRrjVfENlPeSx/wBmWGJ47dc7pbjkBn7BUHIHOWOTjaM7NQtvn/l/kU9wooooAKKKKACiiigAooooAKKKKACiiigAooooAKKKKACiiigAooooAKKKKACiiigAooooAKKKKACiiigAooooAKKKKACiiigAqtfpeyWbLpdxb29ySNslxA0yDnnKq6E8f7QqzRQByPhzUvEmpW19d6lfaWYLW4ubbyrbT5I3YxOyB97TMBkrnG0+me9M8E+N7LWdB0OK/vml1S8tEZpTbssU0uwM6rIFEZcc5RTkYIwMHGh4d0u8sdG1SC6h8uS41C8mjXcDuSSVmQ8HjII/rWLYeHNVh8NeA7WW12z6TLE16vmKfKC28iHnOG+ZgOM9aI7a/wB39b/8EJbu397/AIH/AADXXWBc+P47GLVriFY7STdpkulyIs7KygypOygMF3AYUkHOavaj4m0zS74WVw11Nc+WJGis7Ga5ZFJIBYRI20Eg4zjODjoawb99Yb4i2OpQ+GNSls7O1uLRpVmtRvLvGVdQZgduIz1API4pvizS72bVpLzw/pmtwauYVSPU7G7t44HwG2rNHJJh1Bc5JiYj+GltFP8Ardj6tf10O1B3KCM4IzyMVT1XVrPRbMXOoyskbOsaLHE0jyOxwFVEBZifQAnr6VYtFnWzhW8dHuBGolZBhWfHJHtmsnxVZQ3+lxxz6Tf6mUmV410+4WCaFgDiRXaSPbjJHDZ56YzTlpsKOu5neKPFJtvBravpk01iqXlvG8l7atblUaZFfKzKCBtY/Nj6HitjTPEml6vNcQ2U8glt1DyR3FvJAwQ5w4WRVJU4OGGQcHmuTk0XxNfeCJbK++1XUw1K2ktI76SD7SlvHLET5rR4jLfI7cEkgjJJ4rXvdJ1dvGep6jpwSHzdDW1tblypVbgSSMMr1wNynpih6f15X/PT1GtV/Xe3/BNGy8VaTf6omnwSzpcyKzxLcWc0CzquNxjZ1CyAZB+Ung56VWTx54cluPKi1BpCLg2sjpbStHDLv2bJHC7YyWGBuIzkEZBBrl9F8PawfE3h2/udL1aEWKyC+uNU1j7QXkaEruSMSugUt3AU8j5cdOj8KaA1r4buLHW7GJvN1K6uPKlCyKytcNJG3cZxtPqOOhFO2pN9C7qPizRtLu5Le8uZA0IBneK2lljtweQZZEUrFxz85HHPTmtgEMoKkEEZBHevO7vwvPb69rf27Rtb1ez1Kf7RG+may1ugVkCtHJEbiIZBXqA2VIB6Yr0C1gjtbOGCFCkcUaois24qAMAZJOfzpL4bsb30Of8AH82oWPg3UdU0nVbjT7iwtZZ18mOJ1lIXIDCRG447YPvWre6gtnof2qc3GTGButrR7hwxHB8uNSTz7YrJ+IEWo33g/UdK0nSbrUZ9QtZYFMMkKLExXALmR14Of4Qehq9Bqd8mgJO3h/UftCYj+xeZbeaRj72fN2Y/4Fn2pP4WPqvn+hV0bXbaz8A22s6vrg1G2SDzJdUa0MHmKW+8YgMr1AxjtVmx8U6Vq1zPa6fcSNcRQ+cFkt5IhJHkgSRl1AkTP8S5HI55FchZaNrs/wAG5fDc2h3NpqEFqkSiaaArM2/J2lJGxgD+Lb14zXS3elXsvxAtNSSHNpHpFxbPJvXiRpImVcZzyFbnGOKc/ia9fyYlp/Xmit4V8WxXPhrw6NYu2n1bVLVZdkUDOz9AXZY1wi5I+Y4UZ611leb+B/C+teCl0149Pa7i1C3hh1OIzI01lKgIDq7N88WDgoCdvVByRXpFUw6lay1G01BrkWcvmG1na3mG0jZIACV59iORxXN+JfFFqfDaXGm63c6WJ5cR6jFpMt1GmyUKwYbCq5OVBYjrkZrM1Hw1rX/CRare2Vqzx290uqaePtCqLi48qONo8Z4G1JBluP3oPY0zVdJ1uH4U2Xh220S6vr97WITNDLbqkUisrMGLyLnnONoIqVsn6f199/w7g+tv6/pfj6HY69Bcy6NM1lqVzp0sKtIJbZImZsKflIkRxj8M8dapeHJ73Xfh9pNzcX80F7eafBLJdwJHvDsiksAylOTnjbjnpUmoahfzeG3ki8P6i9zcK8X2MSWwkjyCAzEy7MdOjE8jjrVHwlJqeleAbC0vfD9+l5ptpDbm2EtuWnKqqkoRLtx1+8VPtQtpX8v1v+g+3z/T/gk3gXUL3UfDbyandveTxX11b+c6IrMsc7ouQgC5wo6AV0dcl4Bi1Sx025sdW0S809jd3Nyss0sDowknZ1UeXIx3AMM5GOvJrrTyKbJ6sxl8W6M+pCyW5kLtMYFm+zS/Z2k6bBPt8stkEbd2cgjrxSy+K9FgXVDPe+V/ZGPtqyROrRgjKkAjLBuxXIJ4GTXG6F4PbT47XSdZ0PXb4WtyCl9FrbG0cK+9JDC1wpGOCVEZwQcZqz4i8N6zrviV9fgsFgk0UqLC0leP/iaFW3nzCCQFyP3ecFW+YgdKXb+v69Cu9v6/rudLeeMtEsbtLS4uJ/tbwJcLax2c0kxjbOG8tULcbTnj5eM4yKg1/wAR2a+DX1Kw1Sa1huoC9vqVrp8l4sA258xkVTgADndgdjWG+qXtt8Try4tvD99ezy6HbFoIpbdWgPmyna5eUDrx8pbp9Knu9G1TSvhdcaFa6ZNqV9e290jLZyxiOGSbe3WV0+QF8ZAzgdB0qZfA36/m1/THG3Ok/L8kzoptbsNF8OW2o63qaC3KQo97ImxXZ8KGIH3ASQeeBnnAFJYeKtH1EXRhumi+yRCab7VBJb7YznEn7xVynyn5hkcdawdRsNV1vwNp9l/Y1xaXVreWJeC5lhJZIpY2dwUkZcYDcE546dK2PFnh1df8O6pa2iww6heWht0uWXDYB3KrMPm259OmSaufVru/yIhsk/In0zxPperXhtbSWdZ9nmIlzaS25lQHBZPMVd6jIyVyBkeorWrjfDWkJ/a1vd3vh7XrG8t4W2z6hrJvIULABlUG4c8+pQdOxrsqGCuc3Nq4l8e2WnxatcWoSGXzNPk0uQJdkAfOtwyhflyOFJznmptT8a6DpF1dW17eSefZoJLmKC1lmaFCu7ewRThMfxdB0zmsnW31h/Hmlaha+GdSubTTYrmJ5Y5rUeb5gj2lA0wOPlOcgH2qyNGv/wC1vF8/2fEepW8SWp3r+8ZYWUjrxyQOcVDbULrzKSXNZ9TqIpY54UmgdZIpFDI6nIYEZBB9KqanFqssaDRr2ztHB+dru0e4DD0AWRMfmai8N2k9h4V0qzu08ue3s4opUyDtZUAIyODyO1J4jfVV8PXS+H4RLqMi+XBuZVEbMceYckcKDux1OMCrmrNpakwbaTZjeH9X8R6vp+sOsulXLW92bWxuVt5IY5CmFkdl8xyQrbgAGG7Z1AORa0LWdSk8SanoOtPaXFxZww3KXNnA0KMkm4bSjO+GBQ/xcgjgVJNa3fhbwOtp4X046ld2duI7a3Mqp5r9NzMxA6ksecnnuaoeBbC602K5XUtK1SPULtvtF7qV+9sftMvAwBFK5VQOFXAAA9ep1f8AV/63/APs/wBf15fiddXF+EfHNpe6XZQavftJqFxcyweaLZhFvEjhIzIq+Wr7VHykhjxxyM9pXAReGdWXwFpGnG0/0u21mK6lj8xPliW8MhbOcH5OcA57daS+JLp/wUPodJqPjDRNKvJba8upA0G37RJHbSyRW+7p5siqUj45+cjAIPTmr8WrWU2qSafFOHuo4EuGQKceW5IVt2MHJU9D2rlZLTXNMTXtMtdC/tBNVuJZre8WeJYV81QCJwzB/lP9xXyuMc8UltpGr+G9fhmstOk1eJtGt9PEkc0cYjkiZvmk3sCEO8HKhyMH5TxlK9l/XR/k7Ib62/rVfpdm1L408PwaVYalNqKpaajkWjtG4MxAJ2hcZ3HBwuMk4ABJAqSPxZo0mk3Oo/anjgtJPKnWa3kjljc4whiZQ+47lwu3J3DGciuZ0bwvq1ppngSG6tFD6RLK16BIpEWYJVBHPzfMy9PWul1/SrGfSbpW0SXUDcyxySxWTJDNI6kbX3l0wy7VwdwIwMVT0bDS/wDXmXdM1a31aF5bWO8jVG2kXdlNbMT7LKqkj3HFXa5rwda61ax3ias9/wDYgyCxi1OWGW6jUD5t7xEhhnGCWZuDk1p6Pfane/bP7W0g6YIblo7fNys32iIfdl+X7uf7p5FIk0q5TUL7xLF41tNKtL/SktLuCa4Uy6dI8kaxtGNpInAJPmdcDGOhrq65DUpdW/4T6wvoPDWoz2dnbXFs06TWoDmRoiGUNMG2jYc5APTg0L4l/XT/ADH0ZD4v8aadY6xp+iR+J7LSZp52F7P58Pm2qLGXAIkyqljtGWU8E45INdTpLI+k27w6k2qxum5L1mjPnA8g5jVUP4AVm61pt3d+LPDl5bxb7eylna4fcBsDRFV4Jyck44zW9Qtg6lS61Szsr6ztLqXy5r52jtwUYh2VSxGQMA4BPJGcHFQz6/pdtJfrc3iQjTo1kunkBVIgwJGWIxnA6A55HqM5nj22SXwjcXm+OK40x0v7WSRtoWWI7lGe27lPoxFZcvhvUL3wNJKlvEus3t5Fq09vM+FaRZUkEDNjoERY847Zpf1/X4/d5j6r+v66ff5G/ZeLNHvmuUjnnhltoftEsN1aTW8gi5+cJIqsy8EZAIzxVhde01hpZW5yNW/48v3bfvf3Zk9Pl+UE84/Oufn07VPEuuC+uNMk0eG3025tEW7kieWWSbZz+6dwEUJ3OST0GMnP03TfEE9z4LiudDks4dDyl3NLcxNuP2V4wyKjNlNxHJw3I+XqRS13/rf/AIH3k/8AB/JW/U9Brn73x14e0+7u7a5vn82xcJdiO1lkFtlVYNIVUhFIYfM2F4PPynHQVw954d1SXRvHsEdrmTV3kNkvmL+9BtY4x3+X5lI5x09Km9rvy/yKSTaXmdJqfiPTdJkjiupJ5JZE8xYrS1luX2f3ysSsQueNxGM0XPiTSbXTba+a786C7x9m+zRtO8+Rn5EQFm4yTgHABJ4BrktQ8M3sHiVdTfTtV1G3uNOgt3j0rVWtJYJIi33gJoldSHPO4kEHj5s0uqeEmSLw9d6VpWpi109Jo5dMh1RobpRMVYsJRMAxDLyDJgg9TgAt6P5krXft+h1S+J9HOiyaqbzZaRv5bmSN0kWTOPLMZAcPkgBMbiSMDkVleHfEsut+NNctY2uVsbW1tWhiurJ7d1dzLvOJEVyDtXrxxx3rOl8OyxaTZ3ui6FqEM9vq6ahc2OoXyzz3WEMZYSNM67gpUgFwPkHTrWl4ds9Xbxrrmsappv2C2vbW0jtkadJH+Qy7g4UkBhuHQkcjDHnDVv69EPp/Xf8AyOqrGi8V6RLqkWniadJpnKQvLaTRxTMATiOVlCOcAn5WOQDjpWw4YxsIyA2DtJ7GvL7Lw34iuL/w9NqOn6o95Y34uNSvbzV98Mp2uC0MAkZQuW4+VCowADk4S+JIHs2eo1haj4z0LStQnsLu7kN5boJZbe3tZZ5EQjO8rGpO31boMgEgkVu1wS317ZfEfxOum6HcanLLbWYDxywxxodsmA5dw23n+FWIGeOxltrYZ1N34l0qztLW4e5adLxd9stpC9w8y4B3KkYZmUAjJAwMjPWop/F2g2ujQatdalFBYzy+Ss0oKBZOcowIyhBUghsYIwcGuQl8E3ukp4dZbe+1WKw05rC5h0zUXs5VYlWEinzIwy5UgqWHVSAcVoy+G2bSNGTStIvLQR63HfXMF/diaVQCdzs5lfdng4DE89M5q+vz/W35akvRX8v0/wA9DY/4Tjw+tnNdT3klrHBLHDKt1aTQOjSfcyjqGw3ZsY688U/TPGWhavfR2djeM1xIkjhJLeSPHlttdTvUYdSRlD8wBBxg5qr4v0B9St7WTTrGKS6/tKyluJAFVmiimDHLHGQo3ED3OOtc/p3hbXrXWLa5ht0t3jn1iQTM6MEM8imFiASTnGehxjnFTfRv1/BL82/wKtt/Xf8Ay/E66z8V6Rfaomnwy3CXEoZofPs5oUnC9TG7oFk4OflJyORxzVaPx34dlulgiv2cm5No0i20pijmDlPLeTbtRiw4DEE5BGQQTyekeHdbfxF4YvrvS9WjewkdtRudS1jzw7tbupaOISugXceoCkZAC4zi8fDOr/8ACATab9k/0ttcN2I/NTmL7d5u7Ocfc5xnPbGeKq1mv66i/r8zp9S8V6RpN09ve3EoeJQ0zQ2ssqW6noZXRSsYxzlyOOelGo+K9H0u9Szurp2upYRPFb29vJPJImcblWNWLDjnAOByeK5O98Lz23iTW5bvR9a1az1SZbiNtL1g2wXMao0ckRniU/cyGG7IbBxit6x0Saz8b293b2rRabDoq2cZaQMUYSZCHkk4Xvz9ala2v/Wjf52QS0vb+tV+mpV8SeP7TTfDFnq2j+ZepeyQeTIllPLGY2lVWyUX5WwxwrEHcMYJ4rpNN1SDVrZp7WO6jRX2EXVnLbNnAPCyKpI564x+Vcb/AMIzq/8AwqtNLW1X+0YLv7Utu0qjzAl35wUNkgFlHGTjJGcc12Wm3s99bNJdaZdaa4faIrpomZhgfMPLdxjt1zx0prVP+uwFqVGkhdEkaJmUgSIBuU+oyCMj3BFc14Pu9Qlv/ENjqWozaiNP1AQQzTxxq+wwRvg+Wig8ue1dJPI0VvJJHC87IpZYoyoZyB90biBk9OSB71yPhL+1oPEWuyah4ev7KDU70XMU0s1syoohjTDBJWOSUPQEcjmiO79P1X/BB7L1/Rl3RNYGp+LNVji1a4liihiK6ZcaXJbNbZ3DeHdVMgYqfYYp8/jvw7b3MsEt+26C4+zTsltKyW8hYKBI4UrHkkYLEA9jWZpj6x/wsS+1O48Malb2d7aW9qssk1qfLMbylmYLMTtw46AnrxVa88N6tL4K8V2Edpm51DUZp7aPzE/eIzIQc5wOh4ODQv0/VBLf5r8v8zTbxMNO8W+Il1i9SDStOsrSZd6j5GcyhuQNzE7VAHPOABk10lpdR3tpHcwrKsci7lE0LROB7o4DA+xArgtc8G6re+N77xBYRqLi0htJdPE8gMNxJH5u+N0ycHDgB8ZUnIPUHoPEPim68P8AgOfxDNo7/aII1d9PmuURgSwUrvXcpPPGM54HU4o0t/X9f5BvKy/rb+v+GZ0dVNT1Wy0axN5qc4gtw6RmQqSFLsFXOBwMkDJ4HerEMhmt45SjRl1DbHHzLkdD71W1fTLfWtGvNMvF3QXcLQuPZhih3QKzCbVbODVYdNklP2yeF544ljZiUQgM2QMDlgOeueKyPDWrf2rrOtMmrXF1CjxeXYXOmPaPZAp0y6qz7sbskcVX8Jabq8ck+reJrYLqYtorJFSRX3JGuWcEHA3yFjgnoFzgioPDz6unjXWLy88N6jZ2upmDy5pZrVhF5cZB3hJmPJ6YB98U+v8AXf8Ay+Ytf69P8zbXxRpkmrPpsBu5545fJd4LCeSFHwCVaVUMYIyM5bjviqWr6wE8XaPp0WrXGns0zCS3bS5HivsxlggnK7FIALcNnjFZE2larF4oWfwzp2saR5t7vvHnurd7C4QuDI/leY7qzAHBRUJLfN3qz4rOr3HiTQ5LDw5qF7Bpd6biWeKa2VZFMDphA8ytkFx1A6HrxlLZNje7SJ/E/jRfD+vaPYLb3Ui3dyY7hk064mwnlOw8tkUhm3KMgbiBnjuNuXXbC38Py61dPNb2MMTTSNPbSRuiLnJMbKHHTpjNZPiiz1C7k0DVLDT5bl9NvftM1kskaylWieMhSzBNwLg/eAODg9M60t/f/wDCPy3trpExvliZ49OnmjR3cZwhdWZBn1yQM0fZYdUW7W5ivbOG6tn3wzxrJG2CNykZBweehrM8W31xpngvWb+xk8q5trGaWJ9oba6oSDg8Hkd607WSWWzhkuYfs8zxq0kO8N5bEcrkcHB4zWF4+mgj8Aa1HcXVtbG4s5YImuZ0hRpHQhV3OQoJPqa6MPFSrxjbqvPqODV02P0fxdpWp+TbRXby3TW3nj/R5FW4UAbmibbtlAJH+rLdR61m+H/H0Or69qthNa36Lb3qW9qw0i7X5TFG2ZSUwh3M33tvGD0OTkzeKPDbeKPC92vibQzBYWdzHcv/AGrb/u2dIwoxvyclT0z0qLTPHGgaJ4v1vdqul3dnq95Hcx3lvq9nshHkpGwkV5lfIMeflVsgjvxXqrAxcZNU3dxutdnzW7dtbdvvMOZ8q1/q3+ZtH4gQR+NL3SZbTUTa29pHIrRaNePIZC7q33YzlMKMMBg84J7a+o+MNE0rU2067uZTfLEs5tbe0lnlMbFgHCRqxIyhyQOOM4yM8ff+OdB0rx5LrNpqul6ra3WnR2pW01ezWSJ45HbkSyoCCJOoJOQcinXviiDR/iJq2rxW326yl0SxcXcd3bxQorSz7GaSWRRtYsMFd38sksDGTT5GvdXVK70XVab9d+hcpWb+X6HZ3HijSLfTLO/+1NPb3wBtfskMlw84K7vlSNWY8DJwOO9XbbUILrThfIJo4Spb9/bvC4A65RwGHTuK8suNY8IWfhHStPuNYtr6+tzLItzoevW0D2ckhJba8k8eV+cgAgg7RuXoK6Hw1490iDw2v9v+L9Fub/dK6iTU7USbCxMaOYyE3hdoJUbc9CepyrZc40+anFt3a+Wtmlb727egoyva51+k6rZa5pNtqelzefZ3SeZDJsZdy+uGAI/EVn6fqNzqXizU44ZQNN05EtioUfvLkje5JxnCqYwMHqzZ6CsRfir4ch8JNqmo6rpEF9HbNNJpsGqw3DhwCfLUofmJ6cDvSeF/FXhHRvDtvb3Pi7Qnu33T3bjUojvmkYvIfvf3mOPbFZPB1YRm/Zvey0v6u6VnZaX87ofMmlr/AF+n/Dm5dajcT+MrLSbGYJHBA15f4CklDlIk5Bxubc2Rg/u/c1Xv/H/h7TZ3iuLi7by5xbGS3064nj84nAjEiRlS+TjaDnPHXisrwJ4n0DWLi7vItb06XVNZuXkjs1vEaZYUBWNdmdw+Rd5GOCzVy9hLHZ6XPqurQa7daBFq098wtWszY7hcsVcKxW5IVsNt7sOAw69MMDBzcKqa5bLs23e9rp3d7pd7bictG1/X9fqeh6h410HTL+exuruRry3QSS21vayzyohGd5SNWOz1bGASASCQKtXniLTbK1t7hnnuI7pQ8P2K0lumdSM7tsSsdvI+bGOR61y1l4j8N6f458TS6nr+iwJc/Z4gs2owBiY1ZXVlLZUgnBBArH8Q+KPDq6xYxWOu2lxoUFkYYrLRvEFvYCGYMMFyJo2KbOAFJAwflPFRDARnOMeWWybffS9lpZO+mrDn0v8A1ud9J4q0ZNFtdVF6JbS8IFsYI3lecnPypGoLs3ByoGRg5Awax/DPit9Qj8S3t4b2S0sdT8i3j/s+UTJH5MJ2+SE8w/M7HlScH0riNH1/StA03w3dPq+i3k2mSXqXFlDrls8gWZyVkR5JFDkYA+YgkOT1yK1vDfjjR9IXxLqGo6pozz32qfabe0tNZtXaSMwwoCGeRFBG05BI5BxkYJ6JZcoQmoxb7bfz27dtb7WYlO6jf+tGdd4R1MTeD0v7/Xv7VRGmMuoT2f2LAR2DBoyBs2bSpJx93NWdM8WaPq16tpaXEyzyRmSJbi1lg89B1aMyKokAyOVyOR6ivM9I8R6Pf/DjWPDd7quk6ZdXDXckMt5q1m8L+bPJIqnypnbowDceuM1rx+O9F8Qa/ol1falpOjRaU7zym41m0czO0TRiOPy5WynzkkttPyrgHnE1subnUbi95Wtb1WiVnfb3bWDnPTqxtS8WaRpF2YL+W4j2lVkmWzmeGIsQAHlVCidQTuYYBBOAaxoviboD+I7izl1bQ49NjgV4tR/tu3PmyE8p5YbcMD+I1594z1uw1uz8S2f9uW9/cXW9dPmTxTDbWaQ+WMIYlnG5s7h88ZDEjLBeRjhMsnUqqNdNLTt1t3006rcbmraHrGpeMNE0rU2027uZWvliWc2tvayzyGNiwDhY1YlcockcDjOMjKXPjPQLWGwkk1FXGpRGayEMbytcqNudioCWPzD5Rz144OORuvE0Gi/EDVNVjtvt1lJodgwu4ru3ihRWln2M0ksijaxIwV3fyzRt7yDw/eeEby28rWYIdP1KaWXTbqFoUzJG0jLJK6JsQlhnIOB0HOLjl9NqN09V3Wr5HK22mtt+jBTbf9eR6ZpWr2WtWIu9NmMsW9ozuRkZGU4ZWRgGVgRyCAaytD1qa/tdV1ieSR9NW4kjs4oYC7eXFlGcKoLOWdXIAzlduByc8V/wmejad4V1meDxHo9vq2u3heKGLUopvsZlCRKzFWx8irvbB25BAJ6np7fxr4J0LQYrXTvEWjzx2UAjht4tTtw7hRgKC8gGeO5H1rKpgZ00+WDd3ZabJavW1t7JPZ6gpX6/10+8veEtSN/p2oXMusS6mq30wBm09rN7VRgiEowDEqD94jJzS6Z468O6zPZxabfvML5c2sv2aVYpjt3FVkKhC4AOUzuGCCAQccb4S8e6JE+twaje2Ngt9ez3cU02r2LLhgoCHy52Ibg9se9VNN1vQ7fwr4Cs5vEWhrPpEsLXqf2tbnygtvIh534b5mA4z1ronl15z5ovpa1rfC30VnqktLb+ZKlp/wCBfht951lh8QLe68V6jpslpqIt4Eg8hl0a837n3bt/7v5V4GCQB15OONbUfGGiaVqT6ddXUjX0cayta29tLPLsbOHCRqxK/KckDA4zjIzyB8daBpHjnUL+LVdL1Gz1KC3QSWur2YMDRlw29ZJUOMOCCu7oeOmbFh4q8MQ/ELW9Tm8TaELS6sbSGGX+1IDuZGmLjG/IxvXqOc+1RUwMW+ZU5W5U7X3fup9NN301Gpb6nU3Pi3Rba1spxdPcrfR+dbJZW8lzJLHgHeEiVm28jLYwCQM5Ip7eKdGXRIdWW+SSzuGEcLRKzvK+SPLVFBYvkEbANwIPHBriLjxd4Y8P+Kl1PRtR0O+sJNPSy+y2OqWkUlsUd2UqskiJsIcggNkEDg9s5PEOjadHpeq/21oF3cQ6pc30+nW+rWwaNZ1dQEZ3VC67hnkA5fB6ZFlqkk1GWvp56Wtp0V3p1G528/8Ahv8APodZonjOK4vPEV1qVxPFp9rfwW1stxZyQvH5kcYClGQPzI/Vh39K6f8AtSz/ALWfTPOxeR24uWjKniMsVDZxjqp4znivI7nXtO1DTvFE8+teH4Li91K0vbS2XWrdjJHCITtLbwA58sjB+UN/ER8xt3HiTRvEut61cXmuaNpFrqGhHToTNrFrJKrlnyXWOQgffyMM2R1IJwNKuWqXvJNWS8+kfv1cr26opSi93/V/8j0bSvE+la3OY9MmmmXBKTG1lSGYA4zHKyhJB/uk8c9Ko6brA1DxxfW8WrXPlQ2i50q40uSDY28gzLK6gupwVwMjjINYvhz4laCLW30/UL3SNO+ywiN5v7ZtHgcqNv7rbIXIOMjcqce/FZEPxE0b/hZUmptLarZSWMdiJjrGn4UiZ2MhAuc7MMDwN3X5ayjl9RSqRUHtpdp9fT8rNEc14Xe+n6Ha3Xjrw9Z3U9vPfPvtZhBcmO2ldbZjjHmsqlYwdwwzEA84PBxY1bxTpOiXAt76W4afyjM0VrZzXLJHnG9hErFV64LYBwcdDXnWq63odz4L8c2EPiLQ2udVnnezT+1rceaGiRVOd+BkqRzitPWYL64+IWp/2WdaLppltbzjRHswygtK2JftXGeflKHI5zjjNf2fSVua63vdpfy9baaya67WGpvX1/X/ACO90jVrPXdJt9T0x5JLS5XfC8kLxF17NtcA4PUHHIwRwayvGWtSaFaaZcpdpaQyanBDcSSbceUxO4ZbpnHbn0rHt9e8DXPhTS7SfWE0K1jjAt7STVmsJkWMtFglJVLKCjDOWUkZBPWqmveIvCj2Oh2ul+KtInSy1SCeQz63HI4jUksxeSQs2M+pNYU8Jav8ErXejXT12v8AKxLk/ZvvZ/fY66z8VaNe2d7dJdmCOw/4+xeQvbPbjbuBdJQrKCOQSMHtRpXijStYu2tLOWeO5EfmiC7tJbaR4843qsqqWXOASMgZGeorz3XdY0LUtR8RyW3ifw6BdJYSWhm1WAJM8EhkZGwxIBwBkjv3xWhbeO9B1rxVYapeappOkQafbzJtutWtHlmeTbwvlSuAgC5OSCTjjjNayy5cjkoy2+73U9rXd22tLWtqPnOy0/xRpmq3xtbA3kx3OonFhOIGKkg4mKeWeQRkNz2rFsPiBb3XivUdNktNRFvAkHkMujXm/c+7dv8A3fyrwMEgDrycccnonirQ7HxNa/2Jrkei6PuZryz1HXLGa2K7XwIFWaR423spwCqbVPGcA6Z8daBpHjnUL+LVdL1Gz1KC3QSWur2YMDRlw29ZJUOMOCCu7oeOmdHl0YSlFQbvG61W91u7Wvbpfb10Tmzs9U8U6TpF0ba8mnaZUEki21pLceShzhpPLVvLU4OC2AdrY6HDtQ8S6VpqWzT3DzG7Uvbx2cElzJKgAJdUiVmKjIy2MDI55FeaaprfhaDxdqt/JrC6raan5ciHSfFUdoYWWNYyjobmJWBCghhk8kHGBm5F4q8M+HtdsLvRdQ0m508aRHp6Wq61aiSyKPuXcZJcFSGwSrMfkHDdp/s2PLG0ZNtXeyV7beVn3WvQpy1ev9aHYeAtZute8KLqF9K8sj3l2is8XlMES4kRAVwCCFUDkZ455rpK474XzJJ4NKfa7C5nW+u3m+wXaXMaF7h5AA6nurqecHBGQDxXY15uNioYmpGKsrv7rlR1QUUUVyFBRRRQAVFdXVvY2slzezxW9vEpaSWVwiIPUk8AVLXN/ELI+Het7QC32VsAnAJoA1tL1zSdbSR9F1Sy1BYiBI1pcJKEJ6A7ScVerg9KnvLn4hatc6vb2+m6nZ6UkcVvbyGZZ4WYt5wkKqWwyldpQbTnk7hS2HiPVZvDXgO6lut0+rSxLet5ajzQ1vI54xhfmUHjHSnuvu/FtL8vlsL/AIP4JP8AX57nd0V5pJrniJPD17r7a22LPW2tEs1tYhHJD9rEW1yVLE7TwVK9BkE5J0dSvNevdZ8VQWWuyadBpNvHLbLBaxOxdoS2GLq2UyM4wD/tAcVPMlHme3/Av+pVnzcvyOr1vXNO8O6W+o6xcfZrVGVGk2M+CzBVGFBPUir/AFrh/EWraq/w4s/Elhqk+n3P2WCZ4YI4milMhTIbzEZsDccbSOvetHxffanb6h4estJvhZHUb9reeTyVkOzyJG4DdGyoIPTIGQwypppp2e9yFJNX8rnT0V51e+JNb0jQPE8AvnvrvTdQgtba6kt0MzLMIjwiKqvIPMbaAvJABB76nhSTWbrxJfyzarrF5oscEa2/9qafHaO0xLF/l8mNyAAmDgD5iOccJa/15XKeh2NFIx2qTgnAzgV59HrWu/8ACJ2HjA6zuW6lhd9KMMX2cRSSBPLVgvmeYAw5LkFgflwcA6h0PQqK851XVvELQ+NL+21x7WLQZWNpbx2sRD7beOQrIzKSVJJ+7tYZPzHgL6DaTG4s4ZmABkjVyB2yM0dL+n47A9Px/Araprmk6Ikb61qllp6ykiNru4SIOR1A3EZqXT9SsdWs1u9LvLe9tmJCzW0qyISODhlJFct4ukvo/HHhRtKt7e5uc3e2O5uGhQjyhn5lRz/47VzxHea3aeD5NVa6s9IvbE/aJYhKJreZFPMTO8asAw4yoBBI69Cr6XYat2R0xIAJPAHU1FbXMF5ax3NnPHcQSrujlicMrj1BHBFch4fvtT8X6JqGqPqd5pKTStFBYxwRCayEZwRJ5kbfvG6kHgAjH941/h3b3WmfDfTdTl1W+vYl0wOtjIkAjTC5+UrGHzxjlj170N2Tb6f8EFrsd5RXnvhvWPFupvo+ptaapLa34SS6WcWK2kcTrndDskM3B243FsjOQDjE9k/ivXf7cnsdeS3ew1KW3srY20YjkCkHbM5VmK4OBsCkckljjFWd7f10/wAxXVr/ANdf8ju6K4TUrzX73WPFUFnrsmnQaTbxS26wW0TtvaEthi6tlMjOMA/7QHFPu/El7qVjokFjJqi6je6et/NDo8NsXVSF5L3J2BdzEYHzE45wDmb3/r1/yY/6/L/M6vVdVttGs/tV6tyYgcH7Nay3DDgnJWNWIHHXGKl0+/ttU022v7GTzba6iWaGTaV3IwyDg4I4Peub8Mave658NmvNUz9rEdzBKWVVZjG7x5YKSoY7cnbxnOOKueAf+SceHP8AsF23/opaq3xeVvxv/kD6fP8ACxuXFxDa28lxdSpDDEpeSSRgqoo5JJPAHvTZby2gaATXEUZuH2Qh3A81sE4X1OATgdgaxvHn/JO/EH/YOn/9Fms7xJ8994KCfMTqikY5yBbTEml/mvxG9r+v4I3LTxNoN/qR0+x1vTrm9UsDbQ3cbyAr975Qc8d/StBLmCS4lgjmjeaHBkjVwWTPTI6jOOK8o02W7uE8M2Gp2tta6a2uXE1tfpKZXaZJpWWJlKqIy/zAMC+QMYG7jt9G/wCR+8Tf7ln/AOgPR0v/AF/X9dSW9bf11/r/AIY3xa263j3SwRC5dBG0wQb2UEkKW6kAknHualqjqtpf3cNuumal/Z7x3CSSv5Cy+bGD80eD03DjcORV6gZVv9StNMjhe9l8pZ50t4ztJ3SOcKOB3PfpVquU+IQmbSdLW1kjjmOsWYR5ELqp80YJUEZ+mRUWmPq0viDXfDdxr17KLa3tbmDUDFbi4j8wyBkwIvLI/dcEpn5jz0x2xwylQ9qpW3ve+10r7eZDlaVvJfmzq7a6t7y3WeznjnhbO2SJwynBwcEcdQRRDdQXLSrbzxymFzHKEcNsfAO046HBHB9a4j4a6Ter4LtZT4g1JkkWdFgMdtsiJlcb1Ii3bh1+YkZPTHFJ4I0i9j1jX5X8RanKkOsSCSF47bbOfKj5fEIYHn+EqOB750qYSEJVVzr3PXXW3YXO+WLtv/lc72ivOL3VvEZ0fxVrceu+RHoV3cfZrRbaLZMkShykzMpYg/dBQoRkkknGL/iXVNatdWS4uZtY03QfsqN9q0i1guWjlO8v5yOkj7QAmCiEcncfRLATbS5lr69k7bavXpcrm3+f4OzO4orM1CO71bQU/sDVxYyzCOSK9ECzZTIY/KcA7lyM9s5qTW9UTRdDvNRkRpBbxFxGvV2/hUe5OB+NcapttJbt2t1/p/8ADjTuTWuoW19NdRWsnmNaS+TN8pAV9obGSMHhh0zjp1oTULWTU5tPjk3XUMSSyIFPyqxYLk4xk7W4zniqHhzT20LwxDHqEifaQrXF7KOA0zkvI303E/hVDwjbNqWg3Wq3yypJr7tcsu5keOFlCxICDlSIwp4IwxYjBraVKmueSeisl5v/ACsm/uEpXt5/kb8F/Z3VzcW9rdwTT2rBZ4o5AzQkjIDAcqSOeaSbUrG2vreyuLy3iu7rd9ngklVZJtoy21SctgcnHSuP8JW9npPjrxpDbRRWlpbfYtqRqFSNRb+g6VyC+KfDmp+L/D3iq917S1uJ9SkEcb3se6xsxazhAwJ+QuxDNnHzMqn7orthl/tJyUbtKKe3Vx5kv6/MlytG7PWbrXdJsdSg0+91Sytr24x5NtNcIkkuTgbVJyckY4pNU1/RtD8r+29WsdO87Pl/a7lIt+OuNxGcZH51xHiC2vtM0LxjBfaM97bal510mopNCsaJ5ICB9zeYGQpxtR/4cdwNnXNWt9D8M20t1p/2/XNStUsoLRYwZruTaT5ZJ6ICWZiflUZPfnNYSD5OX3r6aNdk/la+t+33Und29fw6/qdTcXUFnayXV3PHBbxIXkmlcKiKBkkk8Ae9Radqdhq9mLrSb62vrYkqJraZZEJHUblJFcDcaNq1k3gbwyJrWd7S0kkkuLuN5IfOhSMI3lgr5hBZioLLggNnKgHq/DWsXmoy6pY6oIDeaVd/Z5ZrZSkcwMayKwUlivDgFSx5HXms6uFjCnzxlzdfldxvbzfn8uolJtK5u0Vl+J9Sn0bwnqupWaxNcWlpLNEsv3WdVJAP41yvhm416/8AFFo41nXbjS4rJpL2PU9KjswbglQiLmBGYY3k7ScFVy3ODlSwsqlKVW6SXe/b0+69rsqTsd9RXCeGG8Wa1oun60+vRu7XRV7I28ccL26ysrbiEZzLtBIKsq5CgjqTR8VeK9Wg/tTUvD0urzQaVMIpNlvaCx3IV8xH8widupBaPgHpyDneOXzlVdKMldadbXva2q+4lzSjzdD0eSRYonkkOERSzHHQCsq68VaNZeE18TXN5s0hoUnFz5TnKPjadoG7ncOMZ5rE1G41HXdU160g1ifSrPSYUQraxws87vF5hLmVHAUBlACgHO7JPGMVp9S0/wDZ90vVtH1a50640/QIp1EMcLrKRCpAcSI3Ax/DjrV0cFGXLzvVyira7SV97PV6Wte3VFX1S9f0PQLjTdN1OW0u7uxtrqW2PmW0s0Ku0JODuQkZU8Dp6VcrnfEWoXyXWiaXp90tlJqlw0cl3tVnjRImkIjDArvO0AbgQBk4OKb4fvNQi8R6toWo3zaktlFBcQ3ckaJIVl3go+wKpIMZIIUcMM5PJ5Pq8vZ+0uu9utr2vtbfzuSpLQ6Sio7ieO1tZbidxHFEhd3IyFAGSa880zxLrR8U+H2ZtZl0zW5JUB1GCzjhI8lpUaJYj5y/c4Euflbn5hToYadaMpRaVlfXrZN6edkOUuU9HorzSHWPEx8L6j4jbXGc2Gp3EMNgtrEI5oo7po9jnbuLleAVK9FyGOSbkt54j1DUPF72/iBrCDRp8WkSWsTAn7NHIRKzKSUyTwu1uW+boB0f2fJNpzWm++6aVtv7yDmu7L+t/wDI7+iqekXj6joljezReTJc28crR/3CygkfhmrlefKLi3F9BxkpJNBRRRUjCiiigAqJLW3iuZbiOCNJ5gollVAGcL0yepxk4z0zUtFABRRRQAUUUUAFFFFABRRRQAUUUUAFFFFABRRRQAVXudPsr2a3lvLOC4ktn8yB5YlYxN/eUkfKfcVYooAKKKKACiiigAooooAKKKKACiiigAooooAKiW0t0vHu0giW5kRY3mCAOyqSVUt1IBY4HbJ9alop3aAKKKKQBRRRQAVkjwp4dXVP7TGgaWL/AMzzftYs4/N35zu34znPfOa1qKuNScL8rtcHqrMKKKKgAooooAKKKKACiiigCJbS3S8e7SCJbmRFjeYIA7KpJVS3UgFjgdsn1oe1t5LqO5eCNriJWWOUoC6BsbgD1AOBn1wKlop8z3uAUUUUgCiiigAooooAKKKKACiiigAooooAKy9T8M6Drdwk+s6Jp2oTIuxZLu0jlZVznALAkDJPHvWpRVwnKD5oOzAZFFHBCkMEaxxRqFREXCqBwAAOgp9FFRuGwUUUUAFFFFABRRRQAUUUUAFFFFABRRRQAVW1DT7bVdPmsb+Pzbaddkibiu4emRg1ZooApS6RYzaxBqkluDe28LwRy7iMRsQWUgHBGVHXOO1Zlr4G8PWV3a3MFlIZLOTzLXzLqWRbY4IIjVmIRSGPyqApwOPlGOgooAym8M6Q+lTaa1pm0nuTdSR+Y/zSmTzS2c5++M4zjt04qf8AsWw+0ahN5H7zUkVLo72/eBVKgdeOCRxir1FKytYL63MPUfB2jappltp15FdfYraJYY4Ib+eJNq4wGCON2MDBbJqynh7TkWwDpcTnT5mntnuLuWZ0cqyklnYluHYYYkDPsK06Kq7FZHL+JvCQ1HSr1NHSGK7vbyC6ufOldROYynAcZMR2oAHQZBGRzzUfhvw/rOn6495ezta2n2cxfYRq9zqIlcsCJN84BTABGFHO7k8CusopLTb+ug3qFYcHg3Qre/W7hs3UpMZ0g+0ym3jkPO9YC3lq2STkKDkk9a3KKOtw6WMyTw7pctvqkElrmPVyTer5jfvSUEZ7/L8qgcY6etaMUawwpFGMIihVGegFOooAy9X8O6drkttLqC3AltCxgltruW3dNww3zRsp5Apj+GNLmsrW0uUurmC1nFxGtzezTZcHILF3JcA8gNkAgYHFa9FAblKDSLK11W61K3hMd1eKonZZG2ybRgEpnbuxxuxnAAzxVbSfDOmaHO8mlpcwKwYC3+2TNAgZtx2Qs5ROf7qjHOK1qKAMXTvCOkaTdrPpq3lsEdnS3j1C4FupbJOIN/lgZJOAuB2rQsdNtNN+0fYovK+1TtcS/MTukbG5uTx0HA4q1RQG5R/sWw+0ahN5H7zUkVLo72/eBVKgdeOCRxiqVz4P0W6js0eCeIWVv9mha3vJoWEXHyMyOC6/KOGz+tbdFAGKvhHRo9CTRrWCez0+OR5Fhs7ua3wWLMwzGwO3LH5c49uBVjRNBsPD1iLPShcJbqAEjmu5ZxGAMBV8xm2gDsMCtKigBskaSxtHKiujgqysMhgeoIrI03wno+lXkd1aW8xlhQpAbi6lnFup6rEsjMIwQAMKBwAOgrZoo63AypPDOkTaTHpslmDaR3AuUTzGysok8zcGzkHcSevt04qK98JaVf6nNqEpv4bmdVWV7TU7m3DhRhcrHIoOM+lbVFAGfqWhafq9ra2+pQNPHaTx3EIaVwVkQ5ViQcnHvnPfNaFFFAGL4j0e/wBYS0SyurGBbeZbgi7s5J8yIQUI2TR4wQeDkHj8c6Lw/wCJoNWudTi1jQ1vLqKOKaT+xpzuSMsUGPteBje3Qd66uiumGKqwhyK1vRPz6olxTdzidO8G69pN9JdadrelwGRnYwrYXhgBc7mIhN75aknJyFHJPqaktvB+sReJF1eXV9PV3mWS5jtLO7gWfAAJZBeGMttGNzI3QZBxiuyorV4/ENtuW6tstu2wcqOBb4e3z6je3i31opuNSlu/Iuhc3MDKdnl5hWeOPcCpJyrc7SCMVNqngvxBrFw0uoeILFwybHhjtr6OF19GiW+CMD0ORz3zXcUU/wC0cSmmpbbaL/IORa+Zx2reFNf1vSP7L1PU9BlstyMIV0adANjBlxtuwRgqOPanap4c8V6utql14h0cR21zHciNdFl2yMh3KGzdHgNhuMcqPpXX0VCxtdWtbTX4Y7vrsLkj+hyOs+HvFmt6Pc6bc+ItHjguk8uUxaLKGKE/MvN0eCMg+xOMHmrZ07xeYTF/buhqhXb8uizqQPYi7yPwro6KX1ury8ulv8Mf8iuVHn+m/D3WNJ1Z9SstesxdyEGV5YdQlEpC7RvV78h8Dgbgcdq1rrQfE97dWdxdazoby2Mpmt2/sacbHKMhOBd8/K7DnPWuqoq54/ETlzSab22W3bYXIjibjwdr15qgv7zWtKuZFZXWKbT7t4FZfusITemMMMAghcg89eah1TwHrWsaxHql5rmnrexQmBJra1vrcqhOSoEd8o5OM+uB6Cu8opxzDExacZWtpstu2wcqOIufBmvXmmW9jc63pkqWr+ZBM1jefaI255E/23zAcEjO7ocdOKsWPhjxFpumyWNlq2hxwSljLnSLhnkZvvMzm7LMx7sST7119FS8diGuVtW32W/3BypHF2/grULL4e3/AIYtrvS/Ie2aGzjjsZESPduLB/MmlLAk9f4eTg8CotL8MeIrbVobqO4GlpDFICja3eaqlwzLhA0cwQKFbDZU7jjGQCTXc0U/r1ZqXNrzXb+ej02fzT113FyKyS6HK6boPifSNPjstP1nQ4beMsUT+xp2xlix5N2T1JrIvvhxqGpT3Ul9qOjyrdv5k0B0+8ELPgDf5QvdgfgfMBnPOc816DRRHH4iEnOLs31sr/kHJFqzOG1DwNq+q6g15falokkskQhmUaVcrHcIM4WWNbwLIBuOA4OM1Fe/D7VtQ0G20W41fTBptrALaO2hs72JTHgLtfZfDeMAD5s/qa76iqWY4qNrS220WnpoPlRw0vgjXJ9Ij0251rTJ4IpRNE81jeSTRODwyTNemRSPUMOCR0NWtK8MeI9Fhkj0/WNFUzP5kssulXM0srYxl5HvCzEAADJOAABwK6+ipePxEouLas/Jf5ByI4vR/CGu6Dp89lpep6FFbXEzzSxto9xIHd/vE7rw9fTpVbSfh1d6Zq2m3r3+mTnT5AYN9pdu8KbSjJE0l44QFWIxgrnadp2iu9op/wBoYn3ve+LfRa+uguSJ5/Y/Du/tAJo760Fz/aV1emO8Fzd2/wA8zSRMsPnxxq6g5J2n5uQcjJku/h7c3ura3etd26/2hfxzpDcNczW7wrAiFJbdJYkYlkz824Y4IPbvKKf9pYnmcubX/gp/mg5I/wBf15kFklzHZxpfywzXAGHkghMSMfZSzEf99Gp6KK4G7u5YUUUUgCiiigAooooAKKKKACiiigAooooAKKKKACiiigAooooAKKKKACiiigAooooAKKKKACiiigAooooAKKKKACiiigAooooAKKKKACiiigAooooAKKKKACiiigAooooAKKKKACiiigAooooAKKKKACiiigAooooAKKKKACiiigAooooAKKKKACiiigAooooAKKKKACiiigAooooAKKKKACiiigAooooAKKKKACiiigAooooAKKKKACiimucLQA6ioaKYiaioaKAJqKhooAmoqGigCaioaKAJqKhooAmoqGigCaioaKAJqKhooAmoqGigCaioaKAJqKhooAmoqGigCaioaKAJqKhooAmoqGigCaioaKAJqKhooAmoqGigCaioaKAJqKhooAmoqGigCaioaKAJqKhooAmoqGigCaioaKAJqKhpaAJaKB0FFIYUVGxyxptMRNRUNFAE1FQ0UATUVDRQBNRUNFAE1FQ0UATUVDRQBNRUNFAE1FQ0UATUVDRQBNRUNFAE1FQ0UATUVDRQBNRUNFAE1FQ0UATUVDRQBNRUNFAE1FQ0UATUVDRQBNRUNFAE1FQ0UATUVDRQBNRUNFAE1FQ0UATUVDRQBNRUNFAE1FQ0UATUUxDzT6QwooooAKKKKACiiigAooooAKKKKACiiigAooooAKKKKACiiigAooooAKKKKACiiigAooooAKa/3fxp1Nf7v40AZ+rX8umac91Bp13qTqQBbWYTzGycZG9lXjrya5aw+JcF7puoai/hvXbSy09JmnnnS327ouHQbZid2Qe2OOtdrXl0H/JG/Gn/AF86p/6G9MR1EPjh30O91W58La7aW9rALjEscBaZOp2BJWyQOcHHHTNWpfGNgbqwttPgudSlv7Rr2JbRVOIgAQzFmAG4kKPU/QmuT8M+M9F0zwleXk/jYeJVtLON3tQtvuh42hAIkUksxCjOeaq/Duwm8F+Jv7O12GOGbX7cXFkwJIt9pLNZgnsgbcPXLelAHTaV4/fVdek0pfCev200DItxJOltsg3jKltsxOMegNdfXJeHv+SjeLv+3T/0Ua62gAooooAKKKKACiiigAooooAKKKKACiiigAooooAKKKKACiiigAooooAKKKKACiiigAooooAKKKKACiiigAooooAKKKKACiiigAooooAKKKKACiiigAooooAKKKKACiiigCUfdH0paQfdH0paQyI/eP1rA8QeLrPQLqCyFpfanqE6GSOx06DzZSg6sckKq54yxHNb5+8frXAanqtp4O+JV7rPiItbaXqWnwwxX5RmjheNnJjcgHbkMCCeDg0xGtH8QNJfQL7VGgvoW0+RY7uymg8u4hZiAAVJxzkHIJBHQmtLWPEVtot3pdtcQ3E0uqXDW8AhVThxG8nOSMDCEd+SPrXnGsQz+K7fxf4i0C0nuLGaxtYLXETI160MjSOyK2CRg7Qcc478Vpy+JdK8d+LvCaeGbhrz+zLuS8vSsTAWy+Q6BXJA2sWkHy9eDQBr2fxGa98Qtoo8IeIoruNI5JhIlrthjkYqrsROePlbpk8dKLL4nabdXQWXStWs7Jr59PTUZ4Y/s7TLIY9uVdmXLDALKB0pNL/5LZ4h/wCwNY/+jLiuX8FeG9W8R6LNBealaRaDF4gu7g2sVq32iVo7x2CtKX27dwB4TOOKAPSNO1+11ODUZYI5lXT7iS3lDqAWZBklcHpzxnFc1d/FO1ttD07WY/DevXOn6jHA8NxDHb4DTEKiENMDuywHQjnrWPB4t0vwhceKtI195ba/uL6a5soPJdjepIgK+VgHcc5GByCKZq+mXGi/BDwtpt6uy4tbrSYpVP8ACwuIsigD0Sx1f7Roralf2N1pSorNJDehPMjVc8nYzDoM8E1X8OeJ9P8AFNtdXGlrcCK2uGt2NxC0RZgAchWw2PmHUCtiuR8C/wDH94r/AOw5N/6AlAHXUUUUAFFFFABRRRQAUUUUAFFFFABRRRQAUUUUAFFFFABRRRQAUUUUAFFFFABRRRQAUUUUAFFFFABRRRQAUUUUAFFFFABRRRQAUUUUAFZ8Wv6PPrMmkQ6tYyanEN0lklyhmQYByUzuHBHbuKt3btHZTvH99Y2K/XFef/Z1j+Fnhm7tQFu1ubK5WQKCxlllXzTn1YSOCfc0Ad9e31pptnJeajdQ2ltEMyTzyBEQepY8CksdQs9Uso7zTLuC8tZRmOe3kEiP24YZBrD1wCfxp4bt5hugDXFwFPQyIgCn6gMxH59qwdQ8TWfgzW/Ejz3NrbpdXFsLVbqZYYvtMkZ3ZY4AGFDMfr1J5AO8hvbW4uJ4Le5hlmt2CzRpIGaIkZAYDkEjnmpq8n8K6paQXfjSPwdqljrerSJDcxmC5jka6l8v53A3YPzHpkAcLkCuz8Gagl/b3RXX9Q1V0ZRJBqlmltcWrYztaNYoyAQQRle3BIoA6hPvfhT6Yn3vwp9IYUUUUAFFFFABRRRQAUUUUAFFFFABRRRQAUUUUAFFFFABRRRQAUUUUAFFFFABRRRQAUUUUAFNf7v406mv938aAI6Kcoy3NPwPQUxEVFS4HoKMD0FAEVFS4HoKMD0FAEVFS4HoKMD0FAEVFS4HoKMD0FAEVFS4HoKMD0FAEVFS4HoKMD0FAEVFS4HoKMD0FAEVFS4HoKMD0FAEVFS4HoKMD0FAEVFS4HoKMD0FAEVFS4HoKMD0FAEVFS4HoKMD0FAEVFS4HoKMD0FAEVFS4HoKMD0FAEVFS4HoKMD0FAEVFS4HoKMD0FAEVFS4HoKMD0FAEVFS4HoKMD0FAEVFS4HoKMD0FAEVFS4HoKMD0FAEVFS4HoKMD0FAEVFS4HoKMD0FAEVFS4HoKMD0FAEVFS4HoKMD0FAEVFS4HoKMD0FAEVFSlQe1RUASj7o+lLSD7o+lLSGRH7x+tJSn7x+tPUDbmmIjoqXA9BRgegoAioqXA9BRgegoAioqXA9BRgegoAioqXA9BRgegoAioqXA9BRgegoAioqXA9BRgegoAioqXA9BRgegoAioqXA9BRgegoAioqXA9BRgegoAioqXA9BRgegoAioqXA9BRgegoAioqXA9BRgegoAioqXA9BRgegoAioqXA9BRgegoAioqXA9BRgegoAioqXA9BRgegoAioqXA9BRgegoAioqXA9BRgegoAioqXA9BRgegoAioqXA9BRgegoAioqXA9BRgegoAioqXA9BRgegoAioqXA9BRgegoAiIyMHkVztj4MtLC5i2399NYW8vnWumStGYLZ+SCuEDkAk4DMwGeAMDHT4HoKMD0FAHOXHhOG5s1jbU9SFzDdvd218Zlea2ZicqhZSuzBK7WUjFX9I0iLSIJFWaa6uJ38y4urjb5k74A3NtAUcAAAAAAcCtTA9BRgegoAw5PDsX2jVbi1vry0udTMReaBk3RGMYUpuUjtyGDA+lO0bQU0ma5uZr671K9utolu7vyw7Kudq4jREAGT0UdTnNbWB6CmuABkUACfe/Cn0xPvfhT6QwooooAKKKKACiiigAooooAKKKKACiiigAooooAKKKKACiiigAooooAKKKKACiiigAooooAKa/3fxp1Nf7v40AIn3vwrH1PxL9i1E6fp+k6hrF3GgkmisfKXyVOdpZpZEXJwcAEnjOMc1sJ978K5vWtAnn1abWPDWtLperxxrHcLKgmt50X5lWaPIIwCcMrKwz3HFAHQ2dwbuyhuGt5rZpEDGGcAPGfRsEjI9iamryzUL/AFDxjqHhz7RoulX9ne6dJcf2bqd6yW0s4ZQWH7mQS4X5lyo4bd9JG0KeRvC2m64bcwprNzttbK7eeKOIQS4gZ2VCyjkFSoGAF6cUAehaxqkGiaLd6ndrI8NrEZXWIAsQPTJAz+NXFbcoYdCM15Lrmg6Ta6J4/wBFt9MtV0y2ghvLez8lTFBK0R3NGmMJ90HgDnJ7mtDxBo4HiLRNB03QNEutF+wyyxaXezfZbWSbcuTsWGRXZVOQCoxuJ5xwAel0V5g2hTyN4W03XDbmFNZudtrZXbzxRxCCXEDOyoWUcgqVAwAvTior23h8Pf8ACV6To3/Eq0kXVg8q2h8lbWKXas7Jtx5Y2jJK4xy3B5oA9Uorz3xfouneHPC7L4S03TdOF3dWyX3kMLRJIC+CZHRWIBztL7ScE/UaHhDRL7Rteu1/szRNEsJLZCNN0m8aVfM3H97sMMYTI4JAOcDPSgDsqK47VLDT9e+IX9leJIILyyj05Z7Oxu1DxTPvIkk8s8MVHljJB27+MZqsdG0fVPG76LqtlaXWk2umRPpunzxrJbn53EjrGcqSuEXOPlBwMZoA7qivKVsYr6bSdM/1mjReJJ4bRdxZXgW3fMYOeUD70x0wNvTityw8N6U/xL1JTYWxt7DTrEWlr5K+VAwabDImMAjGAQOO2MmgDuqK8h0bS9a1O1j1gaboMWrLqJE+tzapILuMifDQFfs/A2/IIvM28j610ugaRouuXep6n4htLS91ez1OWPzLpVeSyVW/dIhPMY2bG+XGd2ec0AdF/bjXNrrH9kWMl3eaZI0It3dYhPIEVwoY5AB3AZPvWrGzNErSJscqCy5ztPpmvLJdA0fTtA+I1zYaTY2tysk0YlhtkRwht4225Azgkk46ZOa3E0rTfEXjK9sfFFpb6jBbWNtJY2d7EssQUht8qo2QW3fKWxkDA78gHc0V5VDYxaqfDVlcvLNpcWvXkdoDISs1ssMoVCcnfH1XB4KgDkdel8IWFrovizxNpGk28dpp8T288VrCu2OJnj+fYo4UHaDgYGcnuaAN2DWPO8T3mj+Rt+y20Vx52/O7ezjGMcY2dc96064e58PaZr/xO1ZNbs4b+2XSrUC1uUEkRJkl+YoeCwxwcZGTjrWFpwXXPDWheHZtP02+d2vPKk1iNriCCOCUov7kkea4BUDLLgZO7sQD1WivJdE0mfX/AAVbWtm+i63Dp2q3SrplyrRWV3CjlQqqfMKBCQVBDqMAYHBHfeD7mxuvCVnJpGnjTbUB0SzG3bCyuQyrtO3buBxjjGMYoA3KK8b1vTdBufhDqXiDVI7b+3ZmdJr9ztuBP523yN/3gBgL5ecY4xXWW+k2V98TdWu9Rt0uxaadZSQxSoHWNw0x3qDxv4wD1HbGTQB3FFeQWqRJ4g8KeI7SDQ9JfWr4hYbW2Zr24jaNy3m3O8eZ0UspQ4OPmOAaWbw5psnga91doW/tOLW5jBfBiJrcG82FY36opBOQuAck9TQB69RXn15pOn6Drmu2mi2cFhbXPh+SeaG3QIkkgZgHIHBbBILdT3zis6PwhokP/CFFbJS+oRfZ9QkY5e/j+yltk7dZVyi8NkYGOnFAHqVFeagWeladr2hwaXaTafJrUVla2Ep8u1j82ONsMAD+73EnYBg5x0NYclmdN0vxtoUN1pgit47ImHR7M2kFvK7/ADYi8x9rYCEkEZ44zyQD2aiqmmaVYaPafZtMtIbWIsXYRIF3uertjqx6knk968r0zS9a1W3l1b+zdBj1dNSdX1q41SRbu3Kz48kr9nOF24UR+ZtIYdc0Aev0V5zDo1lNN481O5gjuLqK5mFvJKgY24+yRg7Cfu5zyRye/QVHLpNjpnhPwvCI0t7PU7i1TV7kYRroGI7FlfILBn2Jgkgg7ehxQB6VRXmusaVp/h/U9ZsPDNlb2FlNoFxNf2tmgjiSQcROUXCqzDzBnGWCjOdoxPdeDIJvDOjppWn6RezEJc3thqQ2x6ofLClpGCsSylgQWVwOBgcEAHodFYng65sLvwnZyaTp4021AdFtBt2wkOQyrt42hgcY4xjFbdABRRRQAUUUUAFFFFABRRRQAUUUUAFFFFABUNTVDTESj7o+lLSD7o+lLSGRH7x+tK80dvbPNM4SONSzsxwFA5JNIfvH61keMYJbrwHrUFsrPLJYzKqr1Y7TwKYiLTPF8Go39vbyaZqFhHeoXsbm7SNY7sAbvlCuWU7fmw6qSM8cGruta6mjtbwx2V1qN5dMRBZ2gTzJAoyxzIyoAB1JYdgMkgVgajdWernwXJp0sc6yXK3kTxnP7lYH3Px/D8yrnp8wo12eDXvE2gWum6l9kEsNxc2+q2TI7krtUxxlg0bZDEkMrcLwAQCEM0k8Z2Umix30dpetcSXDWi6b5ai5Nwud0WCwXIwTu3bMDO7GDU9l4lW8sbuQ6VqEF7ZsEl06REM4LfdwVcxkMDwwfaOckYOOW0fS21KG7trO+W3vtF1qQ2mpyIZVu5Wjy5kTcN5w7qwUqAV+XaBgO0m/l0nXvEuu6tfjUkjS2si1nb+Wklwpb91Em5u8ir8zk7ickAYAB0+meJo7+a6trvTr7Sry1iEz2t4IyxjOcOrRu6EZBHDZGOQOKj8P+Jp/ECxTL4e1Sxs54RNFd3T2xjdTgjAjmZwSDnlR74qCx0m6km1DWfEs0NtNdW3kLDC/y2UAySDIfvNkklsADAAGBk52nQ33hLXtI0K31m41iwmtJALa7ihE1skSja6NEiZU/dO4EklcEcggGjb+NrS4v4Y/7N1COwuJzbW+qOkf2eaQEjaMOZBkggMyBSRweRmVvFUr65c6dYeHtUv1tJkhnu4HtlijZlVujzK5wGBOFPtmuJtVMHhbQ/EKXslxFNqETxaFkfZ4pJJcFU48zem5jhmZAVb5FwNu14htZ/DMWp+JtD8RTBpbtHk02dYHt7iX5YvJBCCUMcADD8NjgjIIB0vijxLYeEtAn1fVfMMEJA2QqGdyTwFBI579egNRat4m/s27srS00i/1W5vInmSGzaBSqLtyWMsiD+MdCa4X4i3WszaT4jn1HwxqT2lvZSQ2M0c1qYUBT55mBmD7j93GzIUHH3jXUz6O2u/2dqkeral4c1K2sWUxRm1dkjcqSXDrKvWMcqfXmgDZu9dj0/Rob6/s7qCWYqkdjtWSdpG6RgIxUt9GwOSSACaZHrd42kS3k3h3VIJ0balizW7TS9OQVlKAc9WcdK4uS91LxJa+C7+e/gs2mubiM31vCGV2MbrHLEH3KpcAld24fNjDZFb+i3GoS3Gt6Fea9NcNaypFbamI4VnDPHvKEBPLZ16/cA2kZGQSQC/ZeJzfWl6Y9G1FNQsSBLpknkrP83KkN5nlEEcgh8cEcEYqLTvFk174gj0e78N6tps8kDXAkuntXQIpA58qZyMk4GRzz6GqfhcTWXi/X9Omm+3+WlvM+ouuJXdlI8uTHybgFDAIqABx8uTk2fCJGpSal4hf5jqFwY4D6W8RKIB7Ehm/4FQBY0bxhpev6xd6dpgune0jWR5pbV4o3BZl+RnA3jKH5lyvoTTW8VeRq8Vnf6LqdlbzzfZ4L+ZYjDLJ2GFkMi7sHBZFB9eRmG1/5KlqX/YJtv8A0bNWd4pSezvNL1eLUpNVhl1OAQabMqGNd/yloTGFYsoJfMhkACk4HDAA1dT8Y2+m3lzFHpuoX0NkAb66tUjMdpkbvm3OGYhTuIRWIHWpNT8R3VhITa+G9U1O1EYl+12s1osRGM/8tZ0bge2KxrC7tbTTPGkV8yq0F5PJMj8ZSSNSh9wRwPpjtTLuCaPwT4a8LzMwuNSjhtLjPDCJI903/jqlf+BUAdJY+Iba78Kx+IJ4Z7G0e3+0sl0FDomM5IUkdOeCaf4e1y28S+HrPWLGOaK3u03ok6hXUZI+YAnB49awfE0mrHWbO0g8N6hqGjWyCdzZS2oE0oPyIwlmQhVwG4BydvYHJ8LLmW5+HenmaxuLPZvVRO0Z3jex3DYzcducHjpQB2FFFFABRRRQAUUUUAFFFFABRRRQAUUUUAFFFFABRRRQAUUUUAFFFFABRRRQAUUUUAFFFFABRRRQAUUUUAFNf7v406mv938aAET734U+mJ978KfQAUUUUAFFFFABRRRQAUUUUAFFFFABRRRQAUUUUAFFFFABRRRQAUUUUAFFFFABRRRQAUUUUAFNf7v406mv938aAET734Vl6j4S8Oaxfi+1bw/pd9dqABcXNlHJIAOg3MCeK0gcHinbz7UxFbU9H0zWrP7HrGnWmoW24N5F1AsqZHQ7WBGaW30nTrSC1gtdPtYIrP8A49o44VVYOCPkAHy8Ejj1NWN59qN59qQyM2NoZLhzawl7lQk7eWMyqBgBv7wwSOaoyeFvD8ujJpEuhaa+mRtuSyazjMKnOchMbQeT2rS3n2o3n2oAr2+k6daQWsFrp9rBFZ/8e0ccKqsHBHyAD5eCRx6mpRZ2yzTTLbxCW4AEzhBukAGAGPfAPen7z7Ubz7UAZ+neGdC0i1nttJ0TTrG3uRieK2tEjSXjHzBQA3HHNP0nQNH0CKSLQtJsdMjlbdIlnbJCHPqQoGTV3efajefagCrqui6Xrtqttrem2eowK29Yru3WVQ3rhgRn3qK/8N6HqunwWGp6Np95Z2+PJt7i1SSOLAwNqkEDA447Vf3n2o3n2oAj+wWgW3UWsG21ObceWMQ8bfl/u8EjjscU5baBLmS5SGNZ5VVZJQgDOBnAJ6kDJx9TTt59qN59qAM+Tw1oUutLrEui6e+qIQVvmtUM4wMDEmN3TjrTrvw9ot/qkGpX2kWFzf2+PJuprZHliwcja5GRz6Gr28+1G8+1AFObQtIuL6a8n0qyluriHyJp3t0LyR/3GYjJX2PFJqvh/Rtdgih1vSLHUooTmOO8tklVDjGQGBxxV3efajefagBhs7ZmgLW0JNscwExj90cbfl/u8EjjsaVLW3iuZbiOCNJpsCWVUAaTHAyepx2zTt59qN59qAGrbQLdPcrDGJ5FCPKEG5lGcAnqQMnj3NUL3wxoOpWMdlqOiabd2kchlS3ntI3jVznLBSMAnJ59zWjvPtRvPtQBm33hXw9qdstvqWhaZdwJIZViuLOORVc9WAIxk9zWlDDHbwpDBGsUUahURFAVQOgAHQUbz7Ubz7UAcRqfhC+1vU7r7Zofh2zW6by59Yt2L3k0AYHZtMI2kgAE+YwHXB4A7VLW3juHnjgjWaRVR5AgDMq52gnqQMnH1NO3n2o3n2oAzrXwxoFjeS3dloem21zNL50k0NpGjvJz85YDJb5m568n1q3/AGbY/ZWtvsVv9nZzI0XlLsLFtxYjGM7uc+vNTbz7Ubz7UARyWVrNK8s1tDJI8RhZ2jBLRnqhPdfbpR9itf8AR/8ARof9F/1H7sfueNvy/wB3gkcduKk3n2o3n2oArXGj6beW11b3enWk8F4c3MUsCss5wBlwRhuABz6Co7fw/o1paG1tdIsYLdkWMwx2yKhVSSq4AxgEkgdiTV3efajefagB9ZkvhvQ7jWk1efRdPl1OPGy9e1QzLjgYcjcMfWtDefajefagCMWVqq3Ci2hC3JLTgRjEpICkt/e4AHPYUsllazWLWUttC9o0flGBowYymMbdvTGOMU/efajefagCnYaDo+l6dJp+maVY2dlLnzLa3tkjjfIwcqAAcim6n4d0TWraG31nR7DUIIDmKK7tUlWPjHyhgQOOOKvbz7Ubz7UAEMMdvCkMEaxRRqFREUBVA6AAdBT6ZvPtRvPtQA+imbz7Ubz7UAPopm8+1G8+1AD6KZvPtRvPtQA+imbz7Ubz7UAPopm8+1G8+1AD6KZvPtRvPtQA+oacXJptMRKPuj6UtIPuj6UtIZEfvH61In3RUZ+8frShiKYinYaBo+lXVzc6XpNjZT3jbrmW3tkjac5Jy5UAscknn1NJc+HtFvNJXS7vSLCfTkIK2ctsjQqQcjCEY6+1Xt59qN59qQyjP4d0S60ePSLrR7CbTYgBHZSWqNCmOmEI2jHbinSaFpE2jLpEulWUmmKoQWTW6GEKOg2Y24Hpirm8+1G8+1AGTYeDvDGlPK+l+HNJsmmjMUptrGKMyIeqnaoyD6GrGk+HdF0BZV0LR7DTFmIMgs7VId+OmdoGavbz7Ubz7UAUYvDuiQa1JrEGj2EepyAh71LVBM+Rg5kA3HgDvTE8MaBFrTaxFoempqbMWa+W0jExJGCfMxuzjjrWjvPtRvPtQA25toLy1ktryGO4glUrJFKgZXB6gg8EVQ1PwxoGtzQy6zoem6hJAu2J7u0jlMY9FLA4H0rR3n2o3n2oAju7G0v7GSyv7WG5tJV2SQTRh43X0Kngj2qnJ4a0KXRV0eXRdPfS0IK2LWqGBcHIxHjb156Vobz7Ubz7UAQadpen6RYrZaTY21jaISVt7aFY41ycnCqAOTU1vbwWlvHb2kMcEMa7UjiUKqj0AHAFLvPtRvPtQA0W0C3TXKwxi4dBG0oQb2UEkKT1wCTx7ms+w8LeH9L1KTUdM0LTbO+l3CS5t7OOOR9xy2WABOTyfWtLefajefagCndaFpF9qVvqN7pdlc31r/qLma3R5Yf91iMr+FW3toJLiOeSGNpogRHIyAsgPXB6jOBml3n2o3n2oAfUVtawWdulvZwR28KfdjiQKq9+AOBTt59qN59qAH0UzefajefagB9FM3n2o3n2oAfRTN59qN59qAH0UzefajefagB9FM3n2o3n2oAfRTN59qN59qAH0UzefajefagB9FM3n2o3n2oAfRTN59qN59qAH0UzefajefagB9FM3n2o3n2oAfRTN59qN59qAH0UzefajefagB9FM3n2o3n2oAfRTN59qN59qAH01/u/jSbz7U0sT1oEOT734U+mJ978KfQMKKKKACiiigAooooAKKKKACiiigAooooAKKKKACiiigAooooAKKKKACiiigAooooAKKKKACgjI5oooAbsHvRsHvTqKAG7B70bB706igBuwe9Gwe9OooAbsHvRsHvTqKAG7B70bB706igBuwe9Gwe9OooAbsHvRsHvTqKAG7B70bB706igBuwe9Gwe9OooAbsHvRsHvTqKAG7B70bB706igBuwe9Gwe9OooAbsHvRsHvTqKAG7B70bB706igBuwe9Gwe9OooAbsHvRsHvTqKAG7B70bB706igBuwe9Gwe9OooAbsHvRsHvTqKAG7B70bB706igBuwe9Gwe9OooAbsHvRsHvTqKAG7B70bB706igBuwe9Gwe9OooAbsHvRsHvTqKAG7B70bB706igBuwe9GwU6igAooooAiP3j9aSlP3j9a4DU9LtfGPxKvdG8QhrjTNN0+GaKwMjLHM8jOGkcAjfgKAAeBk0xHfUV434hgXw/aeLvDenvJ/Y9va2V5BDJIzi1Z5iGRS3RfkDAZ4yeldb44jWfxL4GjdQ6Nq0m5cZBX7JMD+HP60AdvRXlejeAvCkHxl1eCHw9pyRWem2VxbotuoEUpkmy6+h+VefYVy/h2z0+5b/indMul8WL4luGlv4LOWNFgF4+/zJ9uxl8vI25POBwaAPfKK4nwkyjTPF2SPl1a73c9PlFcBe+FNDvPgh4O1K+0e0m1Bv7Jt2uJYQZPLM0alMnnBDEY9zQB7rRVHTdF07RdLGm6PZxWNmu7bDbrsVdxySAOnJzXC+GdL0tfiQ1x4KtWg0uyt5bfU7tHYx3k5K7VySfMdMHL84zjPWgD0iiiigAooooAKKKKACiiigAooooAKKKKACiiigAooooAKKKKACiiigAooooAKKKKACiiigAooooAKKKKACiiigAooooAKKKKACiiigAooooAKKKKACiiigB6fe/Cn0xPvfhT6QwooooAKKKKACiiigAooooAKKKKACiiigAooooAKKKKACiiigAooooAKKKKACiiigAooooAKQnApaa/3fxoATzPajzPamUUxD/M9qPM9qZRQA/zPajzPamUUAP8z2o8z2plFAD/ADPajzPamUUAP8z2o8z2plFAD/M9qPM9qZRQA/zPajzPamUUAP8AM9qPM9qZRQA/zPajzPamUUAP8z2o8z2plFAD/M9qPM9qZRQA/wAz2pVbJqOnJ94UASU2WVIYXllO1EUsx9AOTTqp6x/yAr//AK9pP/QTWVWThTlJdEXCPNJI5uTx+gkYRaezJnhmm2k/hg03/hYH/UM/8mP/ALGuNor84eeZhf8Aifgv8j63+zcL/L+L/wAzsv8AhYH/AFDP/Jj/AOxo/wCFgf8AUM/8mP8A7GuNoo/tzMP+fn4R/wAg/s3C/wAv4v8AzOy/4WB/1DP/ACY/+xo/4WB/1DP/ACY/+xrjaKP7czD/AJ+fhH/IP7Nwv8v4v/M7L/hYH/UM/wDJj/7Gj/hYH/UM/wDJj/7GuNoo/tzMP+fn4R/yD+zcL/L+L/zOy/4WB/1DP/Jj/wCxo/4WB/1DP/Jj/wCxrjaKP7czD/n5+Ef8g/s3C/y/i/8AM7L/AIWB/wBQz/yY/wDsaP8AhYH/AFDP/Jj/AOxrjaKP7czD/n5+Ef8AIP7Nwv8AL+L/AMzsv+Fgf9Qz/wAmP/saP+Fgf9Qz/wAmP/sa42ij+3Mw/wCfn4R/yD+zcL/L+L/zOy/4WB/1DP8AyY/+xo/4WB/1DP8AyY/+xrjaKP7czD/n5+Ef8g/s3C/y/i/8zsv+Fgf9Qz/yY/8AsaP+Fgf9Qz/yY/8Asa42ij+3Mw/5+fhH/IP7Nwv8v4v/ADOy/wCFgf8AUM/8mP8A7Gj/AIWB/wBQz/yY/wDsa42ij+3Mw/5+fhH/ACD+zcL/AC/i/wDM7L/hYH/UM/8AJj/7Gj/hYH/UM/8AJj/7GuNoo/tzMP8An5+Ef8g/s3C/y/i/8zsv+Fgf9Qz/AMmP/saP+Fgf9Qz/AMmP/sa42ij+3Mw/5+fhH/IP7Nwv8v4v/M7L/hYH/UM/8mP/ALGnR+P0MiiXT2VM8ss24j8MCuLooWeZhf8Aifgv8g/s3C/y/i/8z2KKVJoUliO5HUMp9QeRTqp6P/yArD/r2j/9BFXK/R6UnOnGT6o+SmuWTREfvH61geIPCFnr93Dei8vtM1GBDHHfadMI5Qh6ocgqy55wwOD0rfP3j9aVVyK1IOcs/A+j2uh3+l3CT36amCL6e9mMk1zkY+Z/YdAMAdgKr6J4BstH1SC/n1XVtWmtEaO0GpXQlW2UgA7AFHOBjc2TjvXWeX70eX70AZMGgWtv4pvNeSSY3V5bRWsiFhsCxs7KQMZzmQ559KNA0C18OadJZ2Mk0kclzNdEzMCd0sjSMOAOMsce3rWt5fvR5fvQBx2q/DjTdT1S8vItT1fTk1DBv7Wxu/LhuzjblxtJBIwCVKk4rV1Xwtp+raHa6Q4ktrS0mt5oltyF2mF1dF5B4yoB9q3PL96PL96AK93bi7sp7ZpJIhNG0ZeM4ZcjGQfWuc8MeCP+EWW2htPEes3Vlax+XHZXJt/KAxx9yJWyPr9a6vy/ejy/egBlFP8AL96PL96AGUU/y/ejy/egBlFP8v3o8v3oAZRT/L96PL96AGUU/wAv3o8v3oAZRT/L96PL96AGUU/y/ejy/egBlFP8v3o8v3oAZRT/AC/ejy/egBlFP8v3o8v3oAZRT/L96PL96AGUU/y/ejy/egBlFP8AL96PL96AGUU/y/ejy/egBlFP8v3o8v3oAZRT/L96PL96AGUU/wAv3o8v3oAZRT/L96PL96AGUU/y/ejy/egBlFP8v3o8v3oAZRT/AC/ejy/egBlFP8v3pGXbQAqfe/Cn0xPvfhT6QwooooAKKKKACiiigAooooAKKKKACiiigAooooAKKKKACiiigAooooAKKKKACiiigAooooAKa/3fxp1Nf7v40AR0UUUxBRRRQAUUUUAFFFFABRRRQAVDeXtrp1q1zqFzDa26Y3SzyBFXJwMk8dTiuI8WwSeJ/H+m+E7m8nttJ+wyX95FbzGJ7vDhFjLLghOSSARnisnx14K8PeD/AIW60PDenLYrcNB5oWV2DYmXHDE+poA9TByMjkUV5t4m+JF3p3iSfQ9GWGOSxt45J5p9Ou7sOzjIjAgU7OB95j34Bp9/8QNTk0HSru0k0zSL68tTO9hqNvcT3BYHBVYo8OFyPvEdxxQB6NRXmJ+JOv6hp/hB9C0mze78QxT74bhnCwyIvB3cEIDkn5SccYzXo9l9r+wQf2l5P2vy18/yM+Xvx823POM9M80AT0UUUAFFFFABRRRQAUUUUAFOT7wptOT7woAkqnrH/ICv/wDr2k/9BNXKp6x/yAr/AP69pP8A0E1hiP4M/R/ka0v4kfVHk9FFFfkB92FFFFABRRRQAUUUUAFFFaWgXNpa6xFLfqDEM8lchT2OK1pQVSpGDdk3v2InJxi5JXsZtFdbf22pX91bRXl6t3plxOAssAX5fTtxWcmiWzPrILy/6CpMXI569ePbtiu6pl1SMrQ289Nlfu9LbO5zRxUHG8vw1627Ix5beaDb58MkW8bl3qRuHqM1HXZ6pb6bczaVDqElwsksCJH5IGFz3Off0qjJ4e0+wsZp9RmuT5NwYiIdvzDt1Fa1crqRnLkacV1vtpfUiGNi4rmTuzmqlktZ4oI5pIXWKT7jlcBvpXTt4Z0v+0msEubozvEZY2wu1R2B45P5U/TLGGA6NLczXUhkZgsRcFEYegxwOtOGVVeblnbte+zulr94SxsLXj/Wjf6HIUVqeIvs39t3H2YSg7z5nmEfez2x2rLry61P2VSUL3szspy54KVtwooorIsKKKKACiiigAooooA9Y0f/AJAVh/17R/8AoIq5VPR/+QFYf9e0f/oIq5X6/h/4MPRfkfCVf4kvUiP3j9akT7oqM/eP1qDUbqWx0e6u7a2e7mgheRLeP70pAJCj3NbmRcorgU8dT2Pg2+8RXWr6HrFvGESIWSPaiGZmC+XMzSSbQCy5JCkc5Wm6X8QPPuL+yXXPD+vTx6fLfQzaO3yRFMZjkTzXPcENuGeeBjJQz0CiuIsvEfiWKTw9d6yNLWz1zbEba3hk8y1laIupMpkxIuVYEbFIyOTjJydN1zVPCOgeKdY1e8027hi1SVI4lt3tQZmZFDPK0jhY8kZ+XgZOT0oA9Norz/S/iB59xf2S654f16ePT5b6GbR2+SIpjMciea57ghtwzzwMZNmx8R+JIpvDt3ra6YLLXNsRtbaF/NtZWiLqfNLkSKSrDGxcZHJxkgHb0Vy+k6nr+vTLqdnLp1ro3ntGtvNbPJPNGjlTJ5okCpnBIXY3GMnnjmofitbS3Ed4Nc8PfZZLwWy6MJwb/aZPLEmfM65+by/Lzj+LNAHpFzd29nEJbyeKCMsqB5XCgsxwoye5JAA7k1LWF4vuxZaLDI1rbXQa+tY/LuY96jdMi7gP7wzkHsQDWZB4l1C+8c3OkRajpNibSYA6Xd27/a7mHAJnjfzANvJxhGAKkEg5AAOworI8SavPpNhALCKOW9vLhLW2WXOwO38TY52gAkgdcYyM5rGg1vxFYeKzo2sPpl1H/Zct6l1a28kJZ1cLtMbSPgAHruOc9scgHYUVxFj4l1ubwJa6/qt9o+lPqEMLwJLayOIWcfdwJMzOxxtRdpycZbvSh8faw3h3UJY7aG61Gx1G3tFM1jcWCTrKyYPlTZeMgORklhxkZzigD0SiuMXUfGT+IrrQhcaIJlt1vIb42UpRULFfKaHzss2R98OBj+GmL4s1vUbTw0ul21jFcaws63DzhnS3aNTl1AILjcPu5BIPUdaAO2orz9vE/iyHS9YvJ/7HA8PzPHdhbaU/blVVfMf7z9ydjD73mc+gHN7xZ4pvdLmj/svULJGFv57WR0u5v7iQc8lYGBhTjG9lYZPtggHZUVx0HifWNb1bS7bRY7O0hvtKTUXluommMWWAKYV1zkHAORjrz0rZ8Ratc6NHp9xEsbW8l9Fb3RdSSqSHaGByMfOU654J+tAGxUUd1bzXE0EU8bzQECWNXBaPIyNw7ZHPNcY/jq9WTxIPskG2yH/EqYbj9pO7yiGHtMMcdiKde+IrrSl8SXEdjZi4s5LVJLiO3Y8Mi7pZQDudUDE4BB2jGR1oA7aiuFv/ABtNovhW1v7zW/D98dRvFt7TU4iYLJFIyXcmR/u7X4DjcQBlc8X/AAb4uTX7y/086rpOsS2SxyfbtIb9zIr7sArvfawKnI3HIIPGcAA6uiubvdS1vUteu9L8OS2FmLBENxdX1s9wHdxkIqJJHjAwSxY9QMd6gbVPEer6pf2OhS6ZZf2Z5cU9xeWslws8zIHKoiyR7VUFfmJbO7GBjJAOroriF8X6xqUWhQ6XbWdteajJc29156vKltJCCGIwULqGU/3cjHK1ai13Wm17VYJpLGKw0VY3uZhbOzzgxb2VB5mEOcnJ3cYGD1oA62ivN9D+J0Wo6hpTSa54duo9WlEaaXZXAa7syykqXYSMJMYwwCJjPU4539K1HxH4gVNUsJ9Ms9Kldlit57SSWZ0BKiQyCVVXJGduw8cbucgA6miuL+GcOrR6LeHVL2yuYjqF0I1t7N4WVvPfcSWlfIJ6DAx6nrXaUAFFFFABRRRQAUUUUAFFFFABRRRQAUUUUAFFFFABRRRQAUUUUAFNf7v406mv938aAET734U+mJ978KfQAUUUUAFFFFABRRRQAUUUUAFFFFABRRRQAUUUUAFFFFABRRRQAUUUUAFFFFABRRRQAUUUUAFNf7v406mv938aAI6KKKYgooooAKKKKACiiigAooooA5rxX4NXxFc2Wo2GpXGj6zp+77Lf26q5VW+8jo3DocDg1l3fgTXdY8L6hpXiPxe+ozXnlBJhp6QxwhHDcRq3JOMZLV3NFAHI6l4M1D/hJpNd8M6+dIurqBIL2OW0FzFOE+6wUsu1wCRnJHqDUdz4F1A+IYtXsPEs9vcSWC2F88lqkjXCKSQynIEbZY84I9uK7KigDidF+HX9jnwtjVDMPD63C/NBg3HmjHXcduPxz7V21FFABRRRQAUUUUAFFFFABRRRQAU5PvCm05PvCgCSqesf8gK//wCvaT/0E1cqnrH/ACAr/wD69pP/AEE1hiP4M/R/ka0v4kfVHk9FFFfkB92FFFFABRRRQAUUUUAFWLC5htbnfc2q3UZUqY2bHXvnsar0VcJOElJdCZRUlZm4fEaQW0UGmWK2sSTCVg0pkLEe5qSbxLbvDfCDTBFJeoVkfzyefXGP0rn6K7f7RxNrc34LTS2mmmj6HP8AVaPb8X+OuvzOhPie2d7WSfSlkltUCxuZyMEdyMc1Uu9ekvNLltZosvJOZjIG/TGP61k0VM8wxM005b76LXp2HHC0ou6X4s3R4mxri6j9k+7D5Xl+Z+ucf0pn/CRME08JbAGykL5L5357dOKxaKP7QxOvvbu+y3un27pB9Vo9vz8/82XdVvYdQvWuILX7MX5ceYX3H16cVSoorlqVJVJuct38vyN4xUIqK2QUUUVmUFFFFABRRRQAUUUUAesaP/yArD/r2j/9BFXKp6P/AMgKw/69o/8A0EVcr9fw/wDBh6L8j4Sr/El6kR+8frTLqO4lsJY7Kdba4ZCI5mj8wI3YlcjI9sinn7x+tOVgBg1uZHJf8INNfyand69qUEmo30MUK3Om2X2YQ+UxeN9rvIWdWOcsSMADHXOjBpOvXGnXtrr2tWd0Li2aBDZ6c1uFLDBdg0rlj7AqOvtje3j1o3j1pDMK48M/aLTw/B9r2/2NPHLu8rPnbI2THX5c7s96qy+D5Z01i0k1JVsNQn+1wiO3xPa3GVO8SFirAMoIBT6kiun3j1o3j1oAwYNJ164069tde1qzuhcWzQIbPTmtwpYYLsGlcsfYFR19sLceGftFp4fg+17f7Gnjl3eVnztkbJjr8ud2e9bu8etG8etAHPaf4f1XSLxYNN1e2TRfOaX7HNYl5kDMWZElEgULk8AoxAJGemG6f4e1nSbhLbTtbtk0VJjItrJYF50UncY1m8wKFzwMxkgHGehHR7x60bx60AZuvaP/AG3p8dr5/kbLmG43bN2fLkV8YyOu3Ge2azL/AMNanq+rW76rqlnLptpeLd28MenlLhGU5VfOMhGOxwgJHGeuel3j1o3j1oAwfGUVi2gi51DVE0gWk8c8N/IBsgkBwpfOBtOcHJHBPI61zXh9Z/EfjWbVE1211q2j0p7N7zToAlmsjyAhY/ncswA+b52xx93pXoe8etG8etAHMzeErlfDuh2WnalHBfaJ5ZguZrUyRuVjMZ3Rh1OCrHo4wccnvWj8D3Tx6g+oa39pub++tb2Rxa7EQw7PkRdxIU7OMkkZ5LV1+8etG8etAGcukbfFEmsefnfZra+Ts6Yctuzn3xjFZumeEv7O/sT/AE3zP7J+0f8ALLHm+bn3+XGffPtXR7x60bx60Ac7ceE/tGleI7L7bt/tyR33+VnyN0Sx4xn5vu57dagvvCmpSX97JpWuJYQalbJBdg2fmSgqpUPE+8BDg/xK44rqd49aN49aAMDQ/C39jXVhN9s877HpSadjytu/aQd/U4zjp+taOu6UNb0K704zNAbiMqsyjJjbqrAdyCAfwq9vHrRvHrQBycngSN28On+0HUaP/rwIh/pvIb5ufl/eKr8Z6Y71fl0LUYLvVbzR9TgtrrUJoZFNxZmZIwiBSpUOpbIHUFce9bu8etG8etAHIJ4GmWxuJf7Tii1qa+GoreW9mEhjmChOISxJVlBDAvuO5iGBxjoNJt9WgjkOuaja3szEbfslmbeNB/utI5JPc7sdMAc5v7x60bx60AYGoaFqaatPqXhvVLawmu0VbqO8sjcxuVGFcBZIyrY4JyQQBxxmopvDmrWuqXF9oGs21o98EN6l3Yeesjqu3zE2yIUYgAHJYfKvA5z0m8etG8etAGBZ+EbfT7jR3tLh9ummdm8xQWuHlHzOxGACWJJwMc9qt22hRxajrFxPIJo9VKb4SmAoWMIRnPOce1am8etG8etAHP6NomuaVJb2kmuW9zpNquyKE2BFwUAwqvN5hVgOORGpOBz1ymm6Bq2j3Udvp+sWw0RJGcWktiWnQEk+WswkChQTxmMkDjPQjod49aN49aAMbQNEu9DkvoWvYZ7Ca4knt4hbFJYjI5dwz7yHGW4wq4HXNbVJvHrRvHrQAtFJvHrRvHrQAtFJvHrRvHrQAtFJvHrRvHrQAtFJvHrRvHrQAtFJvHrRvHrQAtFJvHrRvHrQAtFJvHrRvHrQAtFJvHrRvHrQAtFJvHrRvHrQAtNf7v40u8etNdgelAAn3vwp9MT734U+gAooooAKKKKACiiigAooooAKKKKACiiigAooooAKKKKACiiigAooooAKKKKACiiigAooooAKRhkUtFAEew+lGw+lSUUAR7D6UbD6VJRQBHsPpRsPpUlFAEew+lGw+lSUUAR7D6UbD6VJRQBHsPpRsPpUlFAEew+lGw+lSUUAR7D6UbD6VJRQBHsPpRsPpUlFAEew+lGw+lSUUAR7D6UbD6VJRQBHsPpRsPpUlFAEew+lKqkHJp9FABUN3bi6sp7cnaJo2Qn0yMVNRSlFSTi+o02ndHm0nhDWUkZVtVkAPDLKuD+ZBpv/AAiWt/8APl/5FT/GvS6K+bfDeDv8UvvX+R639r1+y/H/ADPNP+ES1v8A58v/ACKn+NH/AAiWt/8APl/5FT/GvS6KX+rWD/ml96/yH/a9fsvx/wAzzT/hEtb/AOfL/wAip/jR/wAIlrf/AD5f+RU/xr0uij/VrB/zS+9f5B/a9fsvx/zPNP8AhEtb/wCfL/yKn+NH/CJa3/z5f+RU/wAa9Loo/wBWsH/NL71/kH9r1+y/H/M80/4RLW/+fL/yKn+NH/CJa3/z5f8AkVP8a9Loo/1awf8ANL71/kH9r1+y/H/M80/4RLW/+fL/AMip/jR/wiWt/wDPl/5FT/GvS6KP9WsH/NL71/kH9r1+y/H/ADPNP+ES1v8A58v/ACKn+NH/AAiWt/8APl/5FT/GvS6KP9WsH/NL71/kH9r1+y/H/M80/wCES1v/AJ8v/Iqf40f8Ilrf/Pl/5FT/ABr0uij/AFawf80vvX+Qf2vX7L8f8zzT/hEtb/58v/Iqf40f8Ilrf/Pl/wCRU/xr0uij/VrB/wA0vvX+Qf2vX7L8f8zzT/hEtb/58v8AyKn+NH/CJa3/AM+X/kVP8a9Loo/1awf80vvX+Qf2vX7L8f8AM80/4RLW/wDny/8AIqf40f8ACJa3/wA+X/kVP8a9Loo/1awf80vvX+Qf2vX7L8f8zzT/AIRLW/8Any/8ip/jR/wiWt/8+X/kVP8AGvS6KP8AVrB/zS+9f5B/a9fsvx/zPNP+ES1v/ny/8ip/jTo/CGsvIqtarGCeWaVcD8iTXpNFNcN4O/xS+9f5C/tev2X4/wCZDaW4tbKC3B3CGNUB9cDFTUUV9JGKilFdDyW23djCpzxSbD6VJRTER7D6UbD6VJRQBHsPpRsPpUlFAEew+lGw+lSUUAR7D6UbD6VJRQBHsPpRsPpUlFAEew+lGw+lSUUAR7D6UbD6VJRQBHsPpRsPpUlFAEew+lGw+lSUUAR7D6UbD6VJRQBHsPpRsPpUlFAEew+lGw+lSUUAR7D6UbD6VJRQBHsPpRsPpUlFAEew+lGw+lSUUAR7D6UbD6VJRQBHsPpRsPpUlFAEew+lGw+lSUUAR7D6UbD6VJRQBHsPpRsPpUlFAEew+lGw+lSUUAR7D6UbD6VJRQBHsPpRsPpUlFAEew+lGw+lSUUAR7D6UbD6VJRQBHsPpRsPpUlFADVUjrTqKKACiiigAooooAKKKKACiiigAooooAKKKKACiiigAooooAKKKKACiiigAooooAKKKKACiiigAooooAKKKKACiiigAooooAKKKKACiiigAooooAKKKKACiiigAooooAKKKKACiiigAooooAKKKKACiiigAooooAKKKKACiiigAooooAKKKKACiiigAooooAKKKKACiiigAooooAKKKKACiiigAooooAKKKKADIHWkyPUVG33jSUxEuR6ijI9RUVFAEuR6ijI9RUVFAEuR6ijI9RUVFAEuR6ijI9RUVFAEuR6ijI9RUVFAEuR6ijI9RUVFAEuR6ijI9RUVFAEuR6ijI9RUVFAEuR6ijI9RUVFAEuR6ijI9RUVFAEuR6ijI9RUVFAEuR6ijI9RUVFAE1FNT7tOpDCkyPUU2TtTKAJcj1FGR6ioqKYiXI9RRkeoqKigCXI9RRkeoqKigCXI9RRkeoqKigCXI9RRkeoqKigCXI9RRkeoqKigCXI9RRkeoqKigCXI9RRkeoqKigCXI9RRkeoqKigCXI9RRkeoqKigCXI9RRkeoqKigCXI9RRkeoqKigCaimJ1p9IYUUUUAFFFFABRRRQAUUUUAFFFFABRRRQAUUUUAFFFFABRRRQAUUUUAFFFFABRRRQAUUUUAFFFFABRRRQAUUUUAFFFFABRRRQAUUUUAFFFFABRRRQAUUUUAFFFFABRRRQAUUUUAFFFFABRRRQAUUUUAFFFFABRRRQAUUUUAFFFFABRRRQAUUUUAFFFFABRRRQAUUUUAFFFFABRRRQAUUUUAFFFFABRRRQBEfvH60lKfvH60lMQUUUUAFFFFABRRRQAUV5g+va9r/wAQtX0FfFkPhaSxlVLKxFlFJLfRlQfNzLncuSRhMEY611Os+N7TRNUj0eOx1LW9U8kSy22mW4do0JwHfLKqgnOATk9hQB01FchefEnS7LxINBOnatPqJhgnEEFr5jbJSRkgHICYyxIAHqadL8R9Kiujmz1JtNW4+ytqy24+yrLu243bt2N3G4KVz3oA62iuV1b4gadpV3dxiw1O+g084v7uztw8NocZIYlgSQCCQoYgdagvfiXpdtqd7YWenarqlxZwRXLLYW4l3xSLuDKdw4wO+PbNAHY0VysvxD0k6XpN3ptvfarJrEZls7WzhBldVGWJ3lVXGeckVz+ueLZ7L4neGpDHqy2t5pFzIdKRGMkku6PaGiB27gM8k4HPOKAPSqK5KD4k6HN4XfW3S9gWO6Nm1lLbn7SLjOPK8sZyxPoce9Nt/iFbXcOoQjRdZtdUs7f7QNMubZVnmTOA0fz7WGf9rjvigDr6K4z4XeLNQ8X+DoL7VrG7t7nndNNEiRz5Y8x7WPAxjkA/zrs6ACiiigAooooAKKKKAJE+7+NOpqfd/GnUhjJO1Mp8namUxBRRRQAUUUUAFFFFABRRRQAUUVynxN1m+8P/AA71LUtKu/sV1CI9lwUVvLy6gnDAjoT1FAHV0V5HrOr3Ufw38Q32m/EgeI5ooItrWbWyNasXHO63AIyMjn0rt9Z8Xjw9bo0ui6xqMcdus09xZW6ukS45JLMuTxkhdx9qAOlorltR+IGl2b6dFYWt/rFxqNuLqC306DzHEPH7xtxUKvPc59Aau+FfFlh4vsrq60yK6ijtbp7VxcxeW29cZ+XOQOe+D7UAblFFFABRRRQAUUUUAFFFFABRRRQA9PvfhT6Yn3vwp9IYUUUUAFFFFABRRRQAUUUUAFFFFABRRRQAUUUUAFFFFABRRRQAUUUUAFFFFABRRRQAUUUUAFFFFABRRRQAUUUUAFFFFABRRRQAUUUUAFFFFABRRRQAUUUUAFFFFABRRRQAUUUUAFFFFABRRRQAUUUUAFFFFABRRRQAUUUUAFFFFABRRRQAUUUUAFFFFABRRRQAUUUUAFFFFABRRRQAUUUUAFFFFABRRRQBEfvH60lKfvH60lMQUUUUAFFFFABRRRQB5p4/0zxD4qt7zRT4Itbr5iNP1p9QjUW2cYlxjzFYei5zjr2qxFpPijwl4ouNT0/TP+Eli1K0torkpdJBNFLEu0t+8IDK2c8HIOeteh0UAcbpOh6mvxU1fXb2yEFpeaTawJIJVbEis5dODnjI5wAa5Dw/8OTo95/Z2pfD/StVZLxpIteaWIBomk3Aup/eeYoOMAEEjqK9hooA8hufh69n4r1qS78Bab4oh1K6N1a380sSNb7gMxyh/m2ggkFA3B6V1mgeHbzTfHXiG9azSCwurS0htSjLtPlowZQM5AGQOQK7KigDyf8A4RLUovAWh6XfeFLq+vrRJSlzY6nHbT2Mhc7SH3jgg84J6dDWnovhnxPF4x8J6lr5W8ksNGuLa+vFkU/vnZCo7FjgH5guOPevRaKAPK5fBHiAPqGo2trGby18THVrK3lnCrdxbApG4E7SQTjd0IGa2dN0jXdf8cL4l13ShoiWunSWNtatdJNJIZGDM7FMqANowMk9eld3RQBx3wysNZ0XwnHomu6V9ibTyY4pxcJItyCzHeoU5UcjhsGuxoooAKKKKACiiigAooooAkT7v406mp938adSGMk7UynydqZTEFFFFABRRRQAUUUUAFFFFABXLfEjRr7xB4Bv9N0q3+03Uxj2RF1XcBIpPLEDoDXU0UAcd448LNffDvVNN8PaZAL26iRVjhVIt5DA8k4Hr1Nc74m8J69qevaotzoSa3Z3WnpFp73F8FgspAhDBoSeSSchgD2BIHNep0UAeW6P4e8U+FNR0XVbLRRqhfQ4NMvbQXkcT2rxnIYFjtZeSDg54GM1p/CN7ibTPENxdiESTa7dMTA5aPOQCFY9QCCM+1dHr/gzQ/E80UutWkk0kS7FaO6lh+XOcHy2XI9jmtLTdMstG02Gw0q1itLSBdscMS4VRQBaooooAKKKKACiiigAooooAKKKKAHp978KfTE+9+FPpDCiiigAooooAKKKKACiiigAooooAKKKKACiiigAooooAKKKKACiiigAooooAKKKKACiiigAooooAKKKKACiiigAooooAKKKKACiiigAooooAKKKKACiiigAooooAKKKKACiiigAooooAKKKKACiiigAooooAKKKKACiiigAooooAKKKKACiiigAooooAKKKKACiiigAooooAKKKKACiiigAooooAKKKKAIm+8aSpsA9RSYHoKYiKipcD0FGB6CgCKipcD0FGB6CgCKipcD0FGB6CgCKipcD0FGB6CgCKipcD0FGB6CgCKipcD0FGB6CgCKipcD0FGB6CgCKipcD0FGB6CgCKipcD0FGB6CgCKipcD0FGB6CgCKipcD0FGB6CgCKipcD0FGB6CgBE+7TqKKQxknamVNSYHoKAIqKlwPQUYHoKYiKipcD0FGB6CgCKipcD0FGB6CgCKipcD0FGB6CgCKipcD0FGB6CgCKipcD0FGB6CgCKipcD0FGB6CgCKipcD0FGB6CgCKipcD0FGB6CgCKipcD0FGB6CgCKipcD0FGB6CgCKipcD0FGB6CgBqdafRRSGFFFFABRRRQAUUUUAFFFFABRRRQAUUUUAFFFFABRRRQAUUUUAFFFFABRRRQAUUUUAFFFFABRRRQAUUUUAFFFFABRRRQAUUUUAFFFFABRRRQAUUUUAFFFFABRRRQAUUUUAFFFFABRRRQAUUUUAFFFFABRRRQAUUUUAFFFFABRRRQAUUUUAFFFFABRRRQAUUUUAFFFFABRRRQAUUUUAFFFFABRRRQAUUUUAFFFFABRRRQAUUUUAFFFFABRRRQAUUUUAFFFFABRRRQAUUUUAFFFFABRRRQAUUUUAFFFFABRRRQAUUUUAFFFFABRRRQAUUUUAFFFFABRRRQAUUUUAFFFFABRRRQAUUUUAFFFFABRRRQAUUUUAFFFFABRRRQAUUUUAFFFFABRRRQAUUUUAf/2Q==) "
      ]
    }
  ]
}