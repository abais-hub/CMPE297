{
  "nbformat": 4,
  "nbformat_minor": 0,
  "metadata": {
    "colab": {
      "name": "reptile_HW5_Part1.ipynb",
      "provenance": [],
      "collapsed_sections": [],
      "toc_visible": true
    },
    "kernelspec": {
      "display_name": "Python 3",
      "language": "python",
      "name": "python3"
    },
    "language_info": {
      "codemirror_mode": {
        "name": "ipython",
        "version": 3
      },
      "file_extension": ".py",
      "mimetype": "text/x-python",
      "name": "python",
      "nbconvert_exporter": "python",
      "pygments_lexer": "ipython3",
      "version": "3.7.0"
    },
    "widgets": {
      "application/vnd.jupyter.widget-state+json": {
        "24f5fccf33954653ac208dbeabca485e": {
          "model_module": "@jupyter-widgets/controls",
          "model_name": "HBoxModel",
          "model_module_version": "1.5.0",
          "state": {
            "_view_name": "HBoxView",
            "_dom_classes": [],
            "_model_name": "HBoxModel",
            "_view_module": "@jupyter-widgets/controls",
            "_model_module_version": "1.5.0",
            "_view_count": null,
            "_view_module_version": "1.5.0",
            "box_style": "",
            "layout": "IPY_MODEL_8f7858a6f3a3479fbb23f812a480e00e",
            "_model_module": "@jupyter-widgets/controls",
            "children": [
              "IPY_MODEL_98b3a55c2bc54be6b8ad218d50cfe34e",
              "IPY_MODEL_45c4117d46a04af8aa411adc160b26d9",
              "IPY_MODEL_aea623c74eab419187cd2d78bb3bef3a"
            ]
          }
        },
        "8f7858a6f3a3479fbb23f812a480e00e": {
          "model_module": "@jupyter-widgets/base",
          "model_name": "LayoutModel",
          "model_module_version": "1.2.0",
          "state": {
            "_view_name": "LayoutView",
            "grid_template_rows": null,
            "right": null,
            "justify_content": null,
            "_view_module": "@jupyter-widgets/base",
            "overflow": null,
            "_model_module_version": "1.2.0",
            "_view_count": null,
            "flex_flow": null,
            "width": null,
            "min_width": null,
            "border": null,
            "align_items": null,
            "bottom": null,
            "_model_module": "@jupyter-widgets/base",
            "top": null,
            "grid_column": null,
            "overflow_y": null,
            "overflow_x": null,
            "grid_auto_flow": null,
            "grid_area": null,
            "grid_template_columns": null,
            "flex": null,
            "_model_name": "LayoutModel",
            "justify_items": null,
            "grid_row": null,
            "max_height": null,
            "align_content": null,
            "visibility": null,
            "align_self": null,
            "height": null,
            "min_height": null,
            "padding": null,
            "grid_auto_rows": null,
            "grid_gap": null,
            "max_width": null,
            "order": null,
            "_view_module_version": "1.2.0",
            "grid_template_areas": null,
            "object_position": null,
            "object_fit": null,
            "grid_auto_columns": null,
            "margin": null,
            "display": null,
            "left": null
          }
        },
        "98b3a55c2bc54be6b8ad218d50cfe34e": {
          "model_module": "@jupyter-widgets/controls",
          "model_name": "HTMLModel",
          "model_module_version": "1.5.0",
          "state": {
            "_view_name": "HTMLView",
            "style": "IPY_MODEL_9002ee63778442fa8e55bd35b2b49fb7",
            "_dom_classes": [],
            "description": "",
            "_model_name": "HTMLModel",
            "placeholder": "​",
            "_view_module": "@jupyter-widgets/controls",
            "_model_module_version": "1.5.0",
            "value": "Dl Completed...: 100%",
            "_view_count": null,
            "_view_module_version": "1.5.0",
            "description_tooltip": null,
            "_model_module": "@jupyter-widgets/controls",
            "layout": "IPY_MODEL_08e25d8d52cf415686c3e14330ac2628"
          }
        },
        "45c4117d46a04af8aa411adc160b26d9": {
          "model_module": "@jupyter-widgets/controls",
          "model_name": "FloatProgressModel",
          "model_module_version": "1.5.0",
          "state": {
            "_view_name": "ProgressView",
            "style": "IPY_MODEL_958bf1a1c9354c6ea02114c9711d9a4e",
            "_dom_classes": [],
            "description": "",
            "_model_name": "FloatProgressModel",
            "bar_style": "success",
            "max": 4,
            "_view_module": "@jupyter-widgets/controls",
            "_model_module_version": "1.5.0",
            "value": 4,
            "_view_count": null,
            "_view_module_version": "1.5.0",
            "orientation": "horizontal",
            "min": 0,
            "description_tooltip": null,
            "_model_module": "@jupyter-widgets/controls",
            "layout": "IPY_MODEL_eb8a314c79df4074ba895085f55d14fb"
          }
        },
        "aea623c74eab419187cd2d78bb3bef3a": {
          "model_module": "@jupyter-widgets/controls",
          "model_name": "HTMLModel",
          "model_module_version": "1.5.0",
          "state": {
            "_view_name": "HTMLView",
            "style": "IPY_MODEL_b73cfb1f78a44666a817d8cf5a67108a",
            "_dom_classes": [],
            "description": "",
            "_model_name": "HTMLModel",
            "placeholder": "​",
            "_view_module": "@jupyter-widgets/controls",
            "_model_module_version": "1.5.0",
            "value": " 4/4 [00:00&lt;00:00,  7.38 file/s]",
            "_view_count": null,
            "_view_module_version": "1.5.0",
            "description_tooltip": null,
            "_model_module": "@jupyter-widgets/controls",
            "layout": "IPY_MODEL_413a9d21311b47f1a0265253894ea97b"
          }
        },
        "9002ee63778442fa8e55bd35b2b49fb7": {
          "model_module": "@jupyter-widgets/controls",
          "model_name": "DescriptionStyleModel",
          "model_module_version": "1.5.0",
          "state": {
            "_view_name": "StyleView",
            "_model_name": "DescriptionStyleModel",
            "description_width": "",
            "_view_module": "@jupyter-widgets/base",
            "_model_module_version": "1.5.0",
            "_view_count": null,
            "_view_module_version": "1.2.0",
            "_model_module": "@jupyter-widgets/controls"
          }
        },
        "08e25d8d52cf415686c3e14330ac2628": {
          "model_module": "@jupyter-widgets/base",
          "model_name": "LayoutModel",
          "model_module_version": "1.2.0",
          "state": {
            "_view_name": "LayoutView",
            "grid_template_rows": null,
            "right": null,
            "justify_content": null,
            "_view_module": "@jupyter-widgets/base",
            "overflow": null,
            "_model_module_version": "1.2.0",
            "_view_count": null,
            "flex_flow": null,
            "width": null,
            "min_width": null,
            "border": null,
            "align_items": null,
            "bottom": null,
            "_model_module": "@jupyter-widgets/base",
            "top": null,
            "grid_column": null,
            "overflow_y": null,
            "overflow_x": null,
            "grid_auto_flow": null,
            "grid_area": null,
            "grid_template_columns": null,
            "flex": null,
            "_model_name": "LayoutModel",
            "justify_items": null,
            "grid_row": null,
            "max_height": null,
            "align_content": null,
            "visibility": null,
            "align_self": null,
            "height": null,
            "min_height": null,
            "padding": null,
            "grid_auto_rows": null,
            "grid_gap": null,
            "max_width": null,
            "order": null,
            "_view_module_version": "1.2.0",
            "grid_template_areas": null,
            "object_position": null,
            "object_fit": null,
            "grid_auto_columns": null,
            "margin": null,
            "display": null,
            "left": null
          }
        },
        "958bf1a1c9354c6ea02114c9711d9a4e": {
          "model_module": "@jupyter-widgets/controls",
          "model_name": "ProgressStyleModel",
          "model_module_version": "1.5.0",
          "state": {
            "_view_name": "StyleView",
            "_model_name": "ProgressStyleModel",
            "description_width": "",
            "_view_module": "@jupyter-widgets/base",
            "_model_module_version": "1.5.0",
            "_view_count": null,
            "_view_module_version": "1.2.0",
            "bar_color": null,
            "_model_module": "@jupyter-widgets/controls"
          }
        },
        "eb8a314c79df4074ba895085f55d14fb": {
          "model_module": "@jupyter-widgets/base",
          "model_name": "LayoutModel",
          "model_module_version": "1.2.0",
          "state": {
            "_view_name": "LayoutView",
            "grid_template_rows": null,
            "right": null,
            "justify_content": null,
            "_view_module": "@jupyter-widgets/base",
            "overflow": null,
            "_model_module_version": "1.2.0",
            "_view_count": null,
            "flex_flow": null,
            "width": null,
            "min_width": null,
            "border": null,
            "align_items": null,
            "bottom": null,
            "_model_module": "@jupyter-widgets/base",
            "top": null,
            "grid_column": null,
            "overflow_y": null,
            "overflow_x": null,
            "grid_auto_flow": null,
            "grid_area": null,
            "grid_template_columns": null,
            "flex": null,
            "_model_name": "LayoutModel",
            "justify_items": null,
            "grid_row": null,
            "max_height": null,
            "align_content": null,
            "visibility": null,
            "align_self": null,
            "height": null,
            "min_height": null,
            "padding": null,
            "grid_auto_rows": null,
            "grid_gap": null,
            "max_width": null,
            "order": null,
            "_view_module_version": "1.2.0",
            "grid_template_areas": null,
            "object_position": null,
            "object_fit": null,
            "grid_auto_columns": null,
            "margin": null,
            "display": null,
            "left": null
          }
        },
        "b73cfb1f78a44666a817d8cf5a67108a": {
          "model_module": "@jupyter-widgets/controls",
          "model_name": "DescriptionStyleModel",
          "model_module_version": "1.5.0",
          "state": {
            "_view_name": "StyleView",
            "_model_name": "DescriptionStyleModel",
            "description_width": "",
            "_view_module": "@jupyter-widgets/base",
            "_model_module_version": "1.5.0",
            "_view_count": null,
            "_view_module_version": "1.2.0",
            "_model_module": "@jupyter-widgets/controls"
          }
        },
        "413a9d21311b47f1a0265253894ea97b": {
          "model_module": "@jupyter-widgets/base",
          "model_name": "LayoutModel",
          "model_module_version": "1.2.0",
          "state": {
            "_view_name": "LayoutView",
            "grid_template_rows": null,
            "right": null,
            "justify_content": null,
            "_view_module": "@jupyter-widgets/base",
            "overflow": null,
            "_model_module_version": "1.2.0",
            "_view_count": null,
            "flex_flow": null,
            "width": null,
            "min_width": null,
            "border": null,
            "align_items": null,
            "bottom": null,
            "_model_module": "@jupyter-widgets/base",
            "top": null,
            "grid_column": null,
            "overflow_y": null,
            "overflow_x": null,
            "grid_auto_flow": null,
            "grid_area": null,
            "grid_template_columns": null,
            "flex": null,
            "_model_name": "LayoutModel",
            "justify_items": null,
            "grid_row": null,
            "max_height": null,
            "align_content": null,
            "visibility": null,
            "align_self": null,
            "height": null,
            "min_height": null,
            "padding": null,
            "grid_auto_rows": null,
            "grid_gap": null,
            "max_width": null,
            "order": null,
            "_view_module_version": "1.2.0",
            "grid_template_areas": null,
            "object_position": null,
            "object_fit": null,
            "grid_auto_columns": null,
            "margin": null,
            "display": null,
            "left": null
          }
        }
      }
    }
  },
  "cells": [
    {
      "cell_type": "markdown",
      "metadata": {
        "id": "4GqUjKzzS7lJ"
      },
      "source": [
        "#CMPE 297 - Assignment 5 - Part 1\n",
        "## Abhishek Bais  \n",
        "\n",
        "# Few-Shot learning with Reptile\n",
        "\n",
        "**Acknowledgements**  \n",
        "[Colab](https://colab.research.google.com/github/keras-team/keras-io/blob/master/examples/vision/ipynb/reptile.ipynb)  \n",
        "**Description:** Few-shot classification of the Omniglot dataset using Reptile.  \n",
        "**Dataset:** mnist"
      ]
    },
    {
      "cell_type": "markdown",
      "metadata": {
        "id": "qqWxCKcLS7lN"
      },
      "source": [
        "# 1.0 Introduction\n",
        "\n",
        "The [Reptile](https://arxiv.org/abs/1803.02999) algorithm was developed by OpenAI to\n",
        "perform model agnostic meta-learning. Specifically, this algorithm was designed to\n",
        "quickly learn to perform new tasks with minimal training (few-shot learning).\n",
        "The algorithm works by performing Stochastic Gradient Descent using the\n",
        "difference between weights trained on a mini-batch of never before seen data and the\n",
        "model weights prior to training over a fixed number of meta-iterations.\n"
      ]
    },
    {
      "cell_type": "code",
      "metadata": {
        "id": "O4WBt4lXS7lO"
      },
      "source": [
        "import matplotlib.pyplot as plt\n",
        "import numpy as np\n",
        "import random\n",
        "import tensorflow as tf\n",
        "from tensorflow import keras\n",
        "from tensorflow.keras import layers\n",
        "import tensorflow_datasets as tfds\n"
      ],
      "execution_count": 2,
      "outputs": []
    },
    {
      "cell_type": "markdown",
      "metadata": {
        "id": "-_wlZJQtS7lQ"
      },
      "source": [
        "# 2.0 Define the Hyperparameters\n"
      ]
    },
    {
      "cell_type": "code",
      "metadata": {
        "id": "V6lF6BNOS7lQ"
      },
      "source": [
        "learning_rate = 0.003\n",
        "meta_step_size = 0.25\n",
        "\n",
        "inner_batch_size = 25\n",
        "eval_batch_size = 25\n",
        "\n",
        "meta_iters = 2000\n",
        "eval_iters = 5\n",
        "inner_iters = 4\n",
        "\n",
        "eval_interval = 1\n",
        "train_shots = 20\n",
        "shots = 5\n",
        "classes = 10\n",
        "name = \"mnist\"\n",
        "is_rgb = False"
      ],
      "execution_count": 9,
      "outputs": []
    },
    {
      "cell_type": "markdown",
      "metadata": {
        "id": "kWnjnE2qS7lR"
      },
      "source": [
        "# 3.0 Load the dataset\n",
        "\n",
        "The mnist dataset is used for the example  \n"
      ]
    },
    {
      "cell_type": "code",
      "metadata": {
        "id": "iNduKKfjS7lS",
        "colab": {
          "base_uri": "https://localhost:8080/",
          "height": 191,
          "referenced_widgets": [
            "24f5fccf33954653ac208dbeabca485e",
            "8f7858a6f3a3479fbb23f812a480e00e",
            "98b3a55c2bc54be6b8ad218d50cfe34e",
            "45c4117d46a04af8aa411adc160b26d9",
            "aea623c74eab419187cd2d78bb3bef3a",
            "9002ee63778442fa8e55bd35b2b49fb7",
            "08e25d8d52cf415686c3e14330ac2628",
            "958bf1a1c9354c6ea02114c9711d9a4e",
            "eb8a314c79df4074ba895085f55d14fb",
            "b73cfb1f78a44666a817d8cf5a67108a",
            "413a9d21311b47f1a0265253894ea97b"
          ]
        },
        "outputId": "221f128f-e9bf-4a06-db01-c78ad346a832"
      },
      "source": [
        "\n",
        "class Dataset:\n",
        "    # This class will facilitate the creation of a few-shot dataset\n",
        "    # from the mnist dataset that can be sampled from quickly while also\n",
        "    # allowing to create new labels at the same time.\n",
        "    def __init__(self, name, is_rgb, training):\n",
        "        # Download the tfrecord files containing the mnist data and convert to a\n",
        "        # dataset.\n",
        "        ds = tfds.load(name, split=\"train\" if training else \"test\", as_supervised=True, shuffle_files=False)\n",
        "\n",
        "        # Iterate over the dataset to get each individual image and its class,\n",
        "        # and put that data into a dictionary.\n",
        "        self.data = {}\n",
        "\n",
        "        def extraction(image, label):\n",
        "            # This function will shrink the mnist images to the desired size,\n",
        "            # scale pixel values and convert the RGB image to grayscale\n",
        "            image = tf.image.convert_image_dtype(image, tf.float32)\n",
        "            if is_rgb:\n",
        "              image = tf.image.rgb_to_grayscale(image)\n",
        "            image = tf.image.resize(image, [28, 28])\n",
        "            return image, label\n",
        "\n",
        "        for image, label in ds.map(extraction):\n",
        "            image = image.numpy()\n",
        "            label = str(label.numpy())\n",
        "            if label not in self.data:\n",
        "                self.data[label] = []\n",
        "            self.data[label].append(image)\n",
        "        self.labels = list(self.data.keys())\n",
        "\n",
        "    def get_mini_dataset(\n",
        "        self, batch_size, repetitions, shots, num_classes, split=False\n",
        "    ):\n",
        "        temp_labels = np.zeros(shape=(num_classes * shots))\n",
        "        temp_images = np.zeros(shape=(num_classes * shots, 28, 28, 1))\n",
        "        if split:\n",
        "            test_labels = np.zeros(shape=(num_classes))\n",
        "            test_images = np.zeros(shape=(num_classes, 28, 28, 1))\n",
        "\n",
        "        # Get a random subset of labels from the entire label set.\n",
        "        label_subset = random.choices(self.labels, k=num_classes)\n",
        "        for class_idx, class_obj in enumerate(label_subset):\n",
        "            # Use enumerated index value as a temporary label for mini-batch in\n",
        "            # few shot learning.\n",
        "            temp_labels[class_idx * shots : (class_idx + 1) * shots] = class_idx\n",
        "            # If creating a split dataset for testing, select an extra sample from each\n",
        "            # label to create the test dataset.\n",
        "            if split:\n",
        "                test_labels[class_idx] = class_idx\n",
        "                images_to_split = random.choices(\n",
        "                    self.data[label_subset[class_idx]], k=shots + 1\n",
        "                )\n",
        "                test_images[class_idx] = images_to_split[-1]\n",
        "                temp_images[\n",
        "                    class_idx * shots : (class_idx + 1) * shots\n",
        "                ] = images_to_split[:-1]\n",
        "            else:\n",
        "                # For each index in the randomly selected label_subset, sample the\n",
        "                # necessary number of images.\n",
        "                temp_images[\n",
        "                    class_idx * shots : (class_idx + 1) * shots\n",
        "                ] = random.choices(self.data[label_subset[class_idx]], k=shots)\n",
        "\n",
        "        dataset = tf.data.Dataset.from_tensor_slices(\n",
        "            (temp_images.astype(np.float32), temp_labels.astype(np.int32))\n",
        "        )\n",
        "        dataset = dataset.shuffle(100).batch(batch_size).repeat(repetitions)\n",
        "        if split:\n",
        "            return dataset, test_images, test_labels\n",
        "        return dataset\n",
        "\n",
        "\n",
        "import urllib3\n",
        "\n",
        "urllib3.disable_warnings()  # Disable SSL warnings that may happen during download.\n",
        "train_dataset = Dataset(name, is_rgb, training=True)\n",
        "test_dataset = Dataset(name, is_rgb, training=False)\n"
      ],
      "execution_count": 10,
      "outputs": [
        {
          "output_type": "stream",
          "name": "stderr",
          "text": [
            "WARNING:absl:Dataset mnist is hosted on GCS. It will automatically be downloaded to your\n",
            "local data directory. If you'd instead prefer to read directly from our public\n",
            "GCS bucket (recommended if you're running on GCP), you can instead pass\n",
            "`try_gcs=True` to `tfds.load` or set `data_dir=gs://tfds-data/datasets`.\n",
            "\n"
          ]
        },
        {
          "output_type": "stream",
          "name": "stdout",
          "text": [
            "\u001b[1mDownloading and preparing dataset mnist/3.0.1 (download: 11.06 MiB, generated: 21.00 MiB, total: 32.06 MiB) to /root/tensorflow_datasets/mnist/3.0.1...\u001b[0m\n"
          ]
        },
        {
          "output_type": "display_data",
          "data": {
            "application/vnd.jupyter.widget-view+json": {
              "model_id": "24f5fccf33954653ac208dbeabca485e",
              "version_minor": 0,
              "version_major": 2
            },
            "text/plain": [
              "Dl Completed...:   0%|          | 0/4 [00:00<?, ? file/s]"
            ]
          },
          "metadata": {}
        },
        {
          "output_type": "stream",
          "name": "stdout",
          "text": [
            "\n",
            "\u001b[1mDataset mnist downloaded and prepared to /root/tensorflow_datasets/mnist/3.0.1. Subsequent calls will reuse this data.\u001b[0m\n"
          ]
        }
      ]
    },
    {
      "cell_type": "markdown",
      "metadata": {
        "id": "vfGzkLAgS7lU"
      },
      "source": [
        "# 4.0 Visualize dataset examples\n"
      ]
    },
    {
      "cell_type": "code",
      "metadata": {
        "id": "9YVrgi_JS7lV",
        "colab": {
          "base_uri": "https://localhost:8080/",
          "height": 1000
        },
        "outputId": "5b8abdbc-9649-47c7-b4a3-b6b3d956cd9d"
      },
      "source": [
        "_, axarr = plt.subplots(nrows=5, ncols=5, figsize=(20, 20))\n",
        "\n",
        "sample_keys = list(train_dataset.data.keys())\n",
        "\n",
        "for a in range(5):\n",
        "    for b in range(5):\n",
        "        temp_image = train_dataset.data[sample_keys[a]][b]\n",
        "        temp_image = np.stack((temp_image[:, :, 0],) * 3, axis=2)\n",
        "        temp_image *= 255\n",
        "        temp_image = np.clip(temp_image, 0, 255).astype(\"uint8\")\n",
        "        if b == 2:\n",
        "            axarr[a, b].set_title(\"Class : \" + sample_keys[a])\n",
        "        axarr[a, b].imshow(temp_image, cmap=\"gray\")\n",
        "        axarr[a, b].xaxis.set_visible(False)\n",
        "        axarr[a, b].yaxis.set_visible(False)\n",
        "plt.show()\n"
      ],
      "execution_count": 11,
      "outputs": [
        {
          "output_type": "display_data",
          "data": {
            "image/png": "[encoded data removed]",
            "text/plain": [
              "<Figure size 1440x1440 with 25 Axes>"
            ]
          },
          "metadata": {
            "needs_background": "light"
          }
        }
      ]
    },
    {
      "cell_type": "markdown",
      "metadata": {
        "id": "ZKamDHY2S7lW"
      },
      "source": [
        "# 5.0 Build the model\n"
      ]
    },
    {
      "cell_type": "code",
      "metadata": {
        "id": "HSWRL5CuS7lW"
      },
      "source": [
        "\n",
        "def conv_bn(x):\n",
        "    x = layers.Conv2D(filters=64, kernel_size=3, strides=2, padding=\"same\")(x)\n",
        "    x = layers.BatchNormalization()(x)\n",
        "    return layers.ReLU()(x)\n",
        "\n",
        "\n",
        "inputs = layers.Input(shape=(28, 28, 1))\n",
        "x = conv_bn(inputs)\n",
        "x = conv_bn(x)\n",
        "x = conv_bn(x)\n",
        "x = conv_bn(x)\n",
        "x = layers.Flatten()(x)\n",
        "outputs = layers.Dense(classes, activation=\"softmax\")(x)\n",
        "model = keras.Model(inputs=inputs, outputs=outputs)\n",
        "model.compile()\n",
        "optimizer = keras.optimizers.SGD(learning_rate=learning_rate)\n"
      ],
      "execution_count": 12,
      "outputs": []
    },
    {
      "cell_type": "markdown",
      "metadata": {
        "id": "fQw_52a1S7lX"
      },
      "source": [
        "# 6.0 Train the model\n"
      ]
    },
    {
      "cell_type": "code",
      "metadata": {
        "id": "HLdlqQKJS7lX",
        "colab": {
          "base_uri": "https://localhost:8080/"
        },
        "outputId": "d259ca92-aa97-4ce5-97fe-11da8d84b982"
      },
      "source": [
        "training = []\n",
        "testing = []\n",
        "for meta_iter in range(meta_iters):\n",
        "    frac_done = meta_iter / meta_iters\n",
        "    cur_meta_step_size = (1 - frac_done) * meta_step_size\n",
        "    # Temporarily save the weights from the model.\n",
        "    old_vars = model.get_weights()\n",
        "    # Get a sample from the full dataset.\n",
        "    mini_dataset = train_dataset.get_mini_dataset(\n",
        "        inner_batch_size, inner_iters, train_shots, classes\n",
        "    )\n",
        "    for images, labels in mini_dataset:\n",
        "        with tf.GradientTape() as tape:\n",
        "            preds = model(images)\n",
        "            loss = keras.losses.sparse_categorical_crossentropy(labels, preds)\n",
        "        grads = tape.gradient(loss, model.trainable_weights)\n",
        "        optimizer.apply_gradients(zip(grads, model.trainable_weights))\n",
        "    new_vars = model.get_weights()\n",
        "    # Perform SGD for the meta step.\n",
        "    for var in range(len(new_vars)):\n",
        "        new_vars[var] = old_vars[var] + (\n",
        "            (new_vars[var] - old_vars[var]) * cur_meta_step_size\n",
        "        )\n",
        "    # After the meta-learning step, reload the newly-trained weights into the model.\n",
        "    model.set_weights(new_vars)\n",
        "    # Evaluation loop\n",
        "    if meta_iter % eval_interval == 0:\n",
        "        accuracies = []\n",
        "        for dataset in (train_dataset, test_dataset):\n",
        "            # Sample a mini dataset from the full dataset.\n",
        "            train_set, test_images, test_labels = dataset.get_mini_dataset(\n",
        "                eval_batch_size, eval_iters, shots, classes, split=True\n",
        "            )\n",
        "            old_vars = model.get_weights()\n",
        "            # Train on the samples and get the resulting accuracies.\n",
        "            for images, labels in train_set:\n",
        "                with tf.GradientTape() as tape:\n",
        "                    preds = model(images)\n",
        "                    loss = keras.losses.sparse_categorical_crossentropy(labels, preds)\n",
        "                grads = tape.gradient(loss, model.trainable_weights)\n",
        "                optimizer.apply_gradients(zip(grads, model.trainable_weights))\n",
        "            test_preds = model.predict(test_images)\n",
        "            test_preds = tf.argmax(test_preds).numpy()\n",
        "            num_correct = (test_preds == test_labels).sum()\n",
        "            # Reset the weights after getting the evaluation accuracies.\n",
        "            model.set_weights(old_vars)\n",
        "            accuracies.append(num_correct / classes)\n",
        "        training.append(accuracies[0])\n",
        "        testing.append(accuracies[1])\n",
        "        if meta_iter % 100 == 0:\n",
        "            print(\n",
        "                \"batch %d: train=%f test=%f\" % (meta_iter, accuracies[0], accuracies[1])\n",
        "            )\n"
      ],
      "execution_count": 13,
      "outputs": [
        {
          "output_type": "stream",
          "name": "stdout",
          "text": [
            "batch 0: train=0.200000 test=0.400000\n",
            "batch 100: train=0.400000 test=0.700000\n",
            "batch 200: train=0.400000 test=0.700000\n",
            "batch 300: train=0.700000 test=0.800000\n",
            "batch 400: train=0.600000 test=0.700000\n",
            "batch 500: train=0.900000 test=0.400000\n",
            "batch 600: train=0.700000 test=0.600000\n",
            "batch 700: train=0.600000 test=0.700000\n",
            "batch 800: train=0.500000 test=0.500000\n",
            "batch 900: train=0.700000 test=0.600000\n",
            "batch 1000: train=0.400000 test=0.900000\n",
            "batch 1100: train=0.500000 test=0.600000\n",
            "batch 1200: train=0.600000 test=0.600000\n",
            "batch 1300: train=1.000000 test=0.400000\n",
            "batch 1400: train=0.600000 test=0.700000\n",
            "batch 1500: train=0.700000 test=0.400000\n",
            "batch 1600: train=1.000000 test=0.500000\n",
            "batch 1700: train=0.800000 test=0.600000\n",
            "batch 1800: train=0.900000 test=0.400000\n",
            "batch 1900: train=0.700000 test=0.400000\n"
          ]
        }
      ]
    },
    {
      "cell_type": "markdown",
      "metadata": {
        "id": "6DvsnMKxS7lY"
      },
      "source": [
        "# 7.0 Visualize Results\n"
      ]
    },
    {
      "cell_type": "code",
      "metadata": {
        "id": "QzVzWmv0S7lY",
        "colab": {
          "base_uri": "https://localhost:8080/",
          "height": 491
        },
        "outputId": "2934dc56-c8bc-47d1-857d-d55548bd9b19"
      },
      "source": [
        "# First, some preprocessing to smooth the training and testing arrays for display.\n",
        "window_length = 100\n",
        "train_s = np.r_[\n",
        "    training[window_length - 1 : 0 : -1], training, training[-1:-window_length:-1]\n",
        "]\n",
        "test_s = np.r_[\n",
        "    testing[window_length - 1 : 0 : -1], testing, testing[-1:-window_length:-1]\n",
        "]\n",
        "w = np.hamming(window_length)\n",
        "train_y = np.convolve(w / w.sum(), train_s, mode=\"valid\")\n",
        "test_y = np.convolve(w / w.sum(), test_s, mode=\"valid\")\n",
        "\n",
        "# Display the training accuracies.\n",
        "x = np.arange(0, len(test_y), 1)\n",
        "plt.plot(x, test_y, x, train_y)\n",
        "plt.legend([\"test\", \"train\"])\n",
        "plt.grid()\n",
        "\n",
        "train_set, test_images, test_labels = dataset.get_mini_dataset(\n",
        "    eval_batch_size, eval_iters, shots, classes, split=True\n",
        ")\n",
        "for images, labels in train_set:\n",
        "    with tf.GradientTape() as tape:\n",
        "        preds = model(images)\n",
        "        loss = keras.losses.sparse_categorical_crossentropy(labels, preds)\n",
        "    grads = tape.gradient(loss, model.trainable_weights)\n",
        "    optimizer.apply_gradients(zip(grads, model.trainable_weights))\n",
        "test_preds = model.predict(test_images)\n",
        "test_preds = tf.argmax(test_preds).numpy()\n",
        "\n",
        "_, axarr = plt.subplots(nrows=1, ncols=5, figsize=(20, 20))\n",
        "\n",
        "sample_keys = list(train_dataset.data.keys())\n",
        "\n",
        "for i, ax in zip(range(5), axarr):\n",
        "    temp_image = np.stack((test_images[i, :, :, 0],) * 3, axis=2)\n",
        "    temp_image *= 255\n",
        "    temp_image = np.clip(temp_image, 0, 255).astype(\"uint8\")\n",
        "    ax.set_title(\n",
        "        \"Label : {}, Prediction : {}\".format(int(test_labels[i]), test_preds[i])\n",
        "    )\n",
        "    ax.imshow(temp_image, cmap=\"gray\")\n",
        "    ax.xaxis.set_visible(False)\n",
        "    ax.yaxis.set_visible(False)\n",
        "plt.show()\n"
      ],
      "execution_count": 16,
      "outputs": [
        {
          "output_type": "display_data",
          "data": {
            "image/png": "[encoded data removed]",
            "text/plain": [
              "<Figure size 432x288 with 1 Axes>"
            ]
          },
          "metadata": {
            "needs_background": "light"
          }
        },
        {
          "output_type": "display_data",
          "data": {
            "image/png": "[encoded data removed]",
            "text/plain": [
              "<Figure size 1440x1440 with 5 Axes>"
            ]
          },
          "metadata": {
            "needs_background": "light"
          }
        }
      ]
    }
  ]
}