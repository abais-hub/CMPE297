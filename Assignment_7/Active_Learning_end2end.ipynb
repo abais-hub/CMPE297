{
  "nbformat": 4,
  "nbformat_minor": 0,
  "metadata": {
    "kernelspec": {
      "display_name": "Python 3",
      "name": "python3"
    },
    "language_info": {
      "name": "python"
    },
    "colab": {
      "name": "Active_Learning_end2end.ipynb",
      "provenance": [],
      "toc_visible": true
    }
  },
  "cells": [
    {
      "cell_type": "markdown",
      "metadata": {
        "id": "-E0VlV1nXyf4"
      },
      "source": [
        "# CMPE 297 HW 7 - Active Learning end2end\n",
        "## Abhishek Bais"
      ]
    },
    {
      "cell_type": "markdown",
      "metadata": {
        "id": "Je2b00hlXyf_"
      },
      "source": [
        "#1.0 Setup"
      ]
    },
    {
      "cell_type": "code",
      "source": [
        "# Runtime restart might be required\n",
        "!pip install numpy --upgrade"
      ],
      "metadata": {
        "colab": {
          "base_uri": "https://localhost:8080/"
        },
        "id": "tvI82WiCxIBa",
        "outputId": "6974aaba-669f-4731-8775-397ff5c3019d"
      },
      "execution_count": 1,
      "outputs": [
        {
          "output_type": "stream",
          "name": "stdout",
          "text": [
            "Requirement already satisfied: numpy in /usr/local/lib/python3.7/dist-packages (1.21.4)\n"
          ]
        }
      ]
    },
    {
      "cell_type": "markdown",
      "metadata": {
        "id": "U0T2JmjJc3HI"
      },
      "source": [
        "# 2.0 Import libraries"
      ]
    },
    {
      "cell_type": "code",
      "source": [
        "!pip install altair dedupe dedupe-variable-name jellyfish recordlinkage"
      ],
      "metadata": {
        "colab": {
          "base_uri": "https://localhost:8080/"
        },
        "id": "VObYkyc5wqRk",
        "outputId": "3fbe43df-0342-4427-bad4-5c186933cfb0"
      },
      "execution_count": 2,
      "outputs": [
        {
          "output_type": "stream",
          "name": "stdout",
          "text": [
            "Requirement already satisfied: altair in /usr/local/lib/python3.7/dist-packages (4.1.0)\n",
            "Requirement already satisfied: dedupe in /usr/local/lib/python3.7/dist-packages (2.0.8)\n",
            "Requirement already satisfied: dedupe-variable-name in /usr/local/lib/python3.7/dist-packages (0.0.13)\n",
            "Requirement already satisfied: jellyfish in /usr/local/lib/python3.7/dist-packages (0.8.9)\n",
            "Requirement already satisfied: recordlinkage in /usr/local/lib/python3.7/dist-packages (0.14)\n",
            "Requirement already satisfied: pandas>=0.18 in /usr/local/lib/python3.7/dist-packages (from altair) (1.1.5)\n",
            "Requirement already satisfied: entrypoints in /usr/local/lib/python3.7/dist-packages (from altair) (0.3)\n",
            "Requirement already satisfied: jsonschema in /usr/local/lib/python3.7/dist-packages (from altair) (2.6.0)\n",
            "Requirement already satisfied: toolz in /usr/local/lib/python3.7/dist-packages (from altair) (0.11.2)\n",
            "Requirement already satisfied: numpy in /usr/local/lib/python3.7/dist-packages (from altair) (1.21.4)\n",
            "Requirement already satisfied: jinja2 in /usr/local/lib/python3.7/dist-packages (from altair) (2.11.3)\n",
            "Requirement already satisfied: pytz>=2017.2 in /usr/local/lib/python3.7/dist-packages (from pandas>=0.18->altair) (2018.9)\n",
            "Requirement already satisfied: python-dateutil>=2.7.3 in /usr/local/lib/python3.7/dist-packages (from pandas>=0.18->altair) (2.8.2)\n",
            "Requirement already satisfied: six>=1.5 in /usr/local/lib/python3.7/dist-packages (from python-dateutil>=2.7.3->pandas>=0.18->altair) (1.15.0)\n",
            "Requirement already satisfied: zope.index in /usr/local/lib/python3.7/dist-packages (from dedupe) (5.1.0)\n",
            "Requirement already satisfied: haversine>=0.4.1 in /usr/local/lib/python3.7/dist-packages (from dedupe) (2.5.1)\n",
            "Requirement already satisfied: categorical-distance>=1.9 in /usr/local/lib/python3.7/dist-packages (from dedupe) (1.9)\n",
            "Requirement already satisfied: highered>=0.2.0 in /usr/local/lib/python3.7/dist-packages (from dedupe) (0.2.1)\n",
            "Requirement already satisfied: BTrees>=4.1.4 in /usr/local/lib/python3.7/dist-packages (from dedupe) (4.9.2)\n",
            "Requirement already satisfied: typing-extensions in /usr/local/lib/python3.7/dist-packages (from dedupe) (3.10.0.2)\n",
            "Requirement already satisfied: rlr>=2.4.3 in /usr/local/lib/python3.7/dist-packages (from dedupe) (2.4.5)\n",
            "Requirement already satisfied: dedupe-hcluster in /usr/local/lib/python3.7/dist-packages (from dedupe) (0.3.8)\n",
            "Requirement already satisfied: affinegap>=1.3 in /usr/local/lib/python3.7/dist-packages (from dedupe) (1.11)\n",
            "Requirement already satisfied: doublemetaphone in /usr/local/lib/python3.7/dist-packages (from dedupe) (0.1)\n",
            "Requirement already satisfied: simplecosine>=1.2 in /usr/local/lib/python3.7/dist-packages (from dedupe) (1.2)\n",
            "Requirement already satisfied: dedupe-variable-datetime in /usr/local/lib/python3.7/dist-packages (from dedupe) (0.1.5)\n",
            "Requirement already satisfied: fastcluster in /usr/local/lib/python3.7/dist-packages (from dedupe) (1.2.4)\n",
            "Requirement already satisfied: Levenshtein-search in /usr/local/lib/python3.7/dist-packages (from dedupe) (1.4.5)\n",
            "Requirement already satisfied: persistent>=4.1.0 in /usr/local/lib/python3.7/dist-packages (from BTrees>=4.1.4->dedupe) (4.7.0)\n",
            "Requirement already satisfied: zope.interface>=5.0.0 in /usr/local/lib/python3.7/dist-packages (from BTrees>=4.1.4->dedupe) (5.4.0)\n",
            "Requirement already satisfied: pyhacrf-datamade>=0.2.0 in /usr/local/lib/python3.7/dist-packages (from highered>=0.2.0->dedupe) (0.2.5)\n",
            "Requirement already satisfied: cffi in /usr/local/lib/python3.7/dist-packages (from persistent>=4.1.0->BTrees>=4.1.4->dedupe) (1.15.0)\n",
            "Requirement already satisfied: PyLBFGS>=0.1.3 in /usr/local/lib/python3.7/dist-packages (from pyhacrf-datamade>=0.2.0->highered>=0.2.0->dedupe) (0.2.0.13)\n",
            "Requirement already satisfied: future>=0.14 in /usr/local/lib/python3.7/dist-packages (from rlr>=2.4.3->dedupe) (0.16.0)\n",
            "Requirement already satisfied: setuptools in /usr/local/lib/python3.7/dist-packages (from zope.interface>=5.0.0->BTrees>=4.1.4->dedupe) (57.4.0)\n",
            "Requirement already satisfied: parseratorvariable>=0.0.18 in /usr/local/lib/python3.7/dist-packages (from dedupe-variable-name) (0.0.18)\n",
            "Requirement already satisfied: probablepeople>=0.5 in /usr/local/lib/python3.7/dist-packages (from dedupe-variable-name) (0.5.4)\n",
            "Requirement already satisfied: probableparsing in /usr/local/lib/python3.7/dist-packages (from parseratorvariable>=0.0.18->dedupe-variable-name) (0.0.1)\n",
            "Requirement already satisfied: python-crfsuite>=0.8 in /usr/local/lib/python3.7/dist-packages (from probablepeople>=0.5->dedupe-variable-name) (0.9.7)\n",
            "Requirement already satisfied: scipy>=1 in /usr/local/lib/python3.7/dist-packages (from recordlinkage) (1.4.1)\n",
            "Requirement already satisfied: joblib in /usr/local/lib/python3.7/dist-packages (from recordlinkage) (1.1.0)\n",
            "Requirement already satisfied: scikit-learn>=0.19.0 in /usr/local/lib/python3.7/dist-packages (from recordlinkage) (1.0.1)\n",
            "Requirement already satisfied: threadpoolctl>=2.0.0 in /usr/local/lib/python3.7/dist-packages (from scikit-learn>=0.19.0->recordlinkage) (3.0.0)\n",
            "Requirement already satisfied: pycparser in /usr/local/lib/python3.7/dist-packages (from cffi->persistent>=4.1.0->BTrees>=4.1.4->dedupe) (2.21)\n",
            "Requirement already satisfied: datetime-distance in /usr/local/lib/python3.7/dist-packages (from dedupe-variable-datetime->dedupe) (0.1.3)\n",
            "Requirement already satisfied: MarkupSafe>=0.23 in /usr/local/lib/python3.7/dist-packages (from jinja2->altair) (2.0.1)\n"
          ]
        }
      ]
    },
    {
      "cell_type": "code",
      "source": [
        "!curl -O https://raw.githubusercontent.com/rachhouse/intro-to-data-linking/main/tutorial_notebooks/linking_tutorial_functions.py\n",
        "%load linking_tutorial_functions.py"
      ],
      "metadata": {
        "colab": {
          "base_uri": "https://localhost:8080/"
        },
        "id": "pxl88pGnxWeU",
        "outputId": "1a5be88d-c450-4d6a-e3f4-1eb1f1350e79"
      },
      "execution_count": 3,
      "outputs": [
        {
          "output_type": "stream",
          "name": "stdout",
          "text": [
            "  % Total    % Received % Xferd  Average Speed   Time    Time     Time  Current\n",
            "                                 Dload  Upload   Total   Spent    Left  Speed\n",
            "\r  0     0    0     0    0     0      0      0 --:--:-- --:--:-- --:--:--     0\r100 18508  100 18508    0     0   286k      0 --:--:-- --:--:-- --:--:--  291k\n"
          ]
        }
      ]
    },
    {
      "cell_type": "code",
      "metadata": {
        "id": "vfkXFVEdXygC",
        "colab": {
          "base_uri": "https://localhost:8080/"
        },
        "outputId": "e89dc422-776f-4264-93b4-ab54d7f79d13"
      },
      "source": [
        "import datetime\n",
        "import itertools\n",
        "import os\n",
        "import pathlib\n",
        "import re\n",
        "from typing import Any, Dict, Optional\n",
        "\n",
        "import dedupe\n",
        "import pandas as pd\n",
        "\n",
        "import linking_tutorial_functions as tutorial"
      ],
      "execution_count": 4,
      "outputs": [
        {
          "output_type": "stream",
          "name": "stderr",
          "text": [
            "INFO:root:Generating grammar tables from /usr/lib/python3.7/lib2to3/Grammar.txt\n",
            "INFO:root:Generating grammar tables from /usr/lib/python3.7/lib2to3/PatternGrammar.txt\n"
          ]
        }
      ]
    },
    {
      "cell_type": "markdown",
      "metadata": {
        "id": "nfecmhtrXygD"
      },
      "source": [
        "#3.0 Define Working env,filepaths"
      ]
    },
    {
      "cell_type": "markdown",
      "metadata": {
        "id": "WMmFUgypXygD"
      },
      "source": [
        "For convenience, we'll define a `pathlib.Path` to reference our current working directory."
      ]
    },
    {
      "cell_type": "code",
      "metadata": {
        "id": "FZvS8WguXygE",
        "colab": {
          "base_uri": "https://localhost:8080/"
        },
        "outputId": "672fc2d1-3ce8-4fdd-c865-6b59ee05d22a"
      },
      "source": [
        "WORKING_DIR = pathlib.Path(os.path.abspath(''))\n",
        "WORKING_DIR"
      ],
      "execution_count": 5,
      "outputs": [
        {
          "output_type": "execute_result",
          "data": {
            "text/plain": [
              "PosixPath('/content')"
            ]
          },
          "metadata": {},
          "execution_count": 5
        }
      ]
    },
    {
      "cell_type": "markdown",
      "metadata": {
        "id": "g-8VaYI2XygF"
      },
      "source": [
        "#4.0 Load Training Dataset and Ground Truth Labels"
      ]
    },
    {
      "cell_type": "code",
      "metadata": {
        "id": "yr6rZQ2lXygF"
      },
      "source": [
        "df_A, df_B, df_ground_truth = tutorial.load_febrl_training_data(True)"
      ],
      "execution_count": 7,
      "outputs": []
    },
    {
      "cell_type": "markdown",
      "metadata": {
        "id": "W8W71JopXygF"
      },
      "source": [
        "Let's take a quick look at our training dataset to refresh on the columns, formats, and data."
      ]
    },
    {
      "cell_type": "code",
      "metadata": {
        "id": "OECkk06LXygG",
        "colab": {
          "base_uri": "https://localhost:8080/",
          "height": 324
        },
        "outputId": "28af37bf-42ae-4ce0-c178-1b3169b10dca"
      },
      "source": [
        "df_A.head()"
      ],
      "execution_count": 13,
      "outputs": [
        {
          "output_type": "execute_result",
          "data": {
            "text/html": [
              "<div>\n",
              "<style scoped>\n",
              "    .dataframe tbody tr th:only-of-type {\n",
              "        vertical-align: middle;\n",
              "    }\n",
              "\n",
              "    .dataframe tbody tr th {\n",
              "        vertical-align: top;\n",
              "    }\n",
              "\n",
              "    .dataframe thead th {\n",
              "        text-align: right;\n",
              "    }\n",
              "</style>\n",
              "<table border=\"1\" class=\"dataframe\">\n",
              "  <thead>\n",
              "    <tr style=\"text-align: right;\">\n",
              "      <th></th>\n",
              "      <th>first_name</th>\n",
              "      <th>surname</th>\n",
              "      <th>street_number</th>\n",
              "      <th>address_1</th>\n",
              "      <th>address_2</th>\n",
              "      <th>suburb</th>\n",
              "      <th>postcode</th>\n",
              "      <th>state</th>\n",
              "      <th>date_of_birth</th>\n",
              "      <th>age</th>\n",
              "      <th>phone_number</th>\n",
              "      <th>soc_sec_id</th>\n",
              "    </tr>\n",
              "    <tr>\n",
              "      <th>person_id_A</th>\n",
              "      <th></th>\n",
              "      <th></th>\n",
              "      <th></th>\n",
              "      <th></th>\n",
              "      <th></th>\n",
              "      <th></th>\n",
              "      <th></th>\n",
              "      <th></th>\n",
              "      <th></th>\n",
              "      <th></th>\n",
              "      <th></th>\n",
              "      <th></th>\n",
              "    </tr>\n",
              "  </thead>\n",
              "  <tbody>\n",
              "    <tr>\n",
              "      <th>fbc4143d-15f9-4f27-b5f0-dedbadce6616</th>\n",
              "      <td>matilda</td>\n",
              "      <td>struck</td>\n",
              "      <td>8</td>\n",
              "      <td>ballard place</td>\n",
              "      <td>None</td>\n",
              "      <td>west perth</td>\n",
              "      <td>2470</td>\n",
              "      <td>qld</td>\n",
              "      <td>10/02/61</td>\n",
              "      <td>32</td>\n",
              "      <td>03 05903135</td>\n",
              "      <td>8276847</td>\n",
              "    </tr>\n",
              "    <tr>\n",
              "      <th>48a56cad-7ba6-45e1-97cd-517ba65bdab5</th>\n",
              "      <td>lachlan</td>\n",
              "      <td>eglinton</td>\n",
              "      <td>36</td>\n",
              "      <td>kambalda crescent</td>\n",
              "      <td>villa 427</td>\n",
              "      <td>auburn</td>\n",
              "      <td>5109</td>\n",
              "      <td>None</td>\n",
              "      <td>01/08/26</td>\n",
              "      <td>27</td>\n",
              "      <td>None</td>\n",
              "      <td>9937958</td>\n",
              "    </tr>\n",
              "    <tr>\n",
              "      <th>b1792d21-e4be-4b86-8dea-454ffa5194c5</th>\n",
              "      <td>mikayla</td>\n",
              "      <td>asher</td>\n",
              "      <td>588</td>\n",
              "      <td>britten-jones drive</td>\n",
              "      <td>None</td>\n",
              "      <td>miami</td>\n",
              "      <td>4218</td>\n",
              "      <td>nsw</td>\n",
              "      <td>11/02/25</td>\n",
              "      <td>32</td>\n",
              "      <td>03 33770501</td>\n",
              "      <td>7017310</td>\n",
              "    </tr>\n",
              "    <tr>\n",
              "      <th>96653d73-bebc-4459-94f3-c3f0a8c514d4</th>\n",
              "      <td>grace</td>\n",
              "      <td>bristow</td>\n",
              "      <td>7</td>\n",
              "      <td>None</td>\n",
              "      <td>wandella park snowy</td>\n",
              "      <td>cardiff</td>\n",
              "      <td>6163</td>\n",
              "      <td>nsw</td>\n",
              "      <td>01/20/40</td>\n",
              "      <td>None</td>\n",
              "      <td>07 37864073</td>\n",
              "      <td>3535974</td>\n",
              "    </tr>\n",
              "    <tr>\n",
              "      <th>41f038b8-77c0-45a5-9e1f-e62b8637ffd1</th>\n",
              "      <td>wilson</td>\n",
              "      <td>bishop</td>\n",
              "      <td>11</td>\n",
              "      <td>chisholm street</td>\n",
              "      <td>None</td>\n",
              "      <td>bronte</td>\n",
              "      <td>2490</td>\n",
              "      <td>nsw</td>\n",
              "      <td>03/05/21</td>\n",
              "      <td>27</td>\n",
              "      <td>04 15209769</td>\n",
              "      <td>5573522</td>\n",
              "    </tr>\n",
              "  </tbody>\n",
              "</table>\n",
              "</div>"
            ],
            "text/plain": [
              "                                     first_name  ... soc_sec_id\n",
              "person_id_A                                      ...           \n",
              "fbc4143d-15f9-4f27-b5f0-dedbadce6616    matilda  ...    8276847\n",
              "48a56cad-7ba6-45e1-97cd-517ba65bdab5    lachlan  ...    9937958\n",
              "b1792d21-e4be-4b86-8dea-454ffa5194c5    mikayla  ...    7017310\n",
              "96653d73-bebc-4459-94f3-c3f0a8c514d4      grace  ...    3535974\n",
              "41f038b8-77c0-45a5-9e1f-e62b8637ffd1     wilson  ...    5573522\n",
              "\n",
              "[5 rows x 12 columns]"
            ]
          },
          "metadata": {},
          "execution_count": 13
        }
      ]
    },
    {
      "cell_type": "markdown",
      "metadata": {
        "id": "u3csiZcLXygG"
      },
      "source": [
        "# 5.0 Perform Data Augmentation"
      ]
    },
    {
      "cell_type": "markdown",
      "metadata": {
        "id": "5FKHuPPgXygG"
      },
      "source": [
        "We'll do minimal data augmentation before feeding our training data to `dedupe`; we just want to format the date of birth data as `mm/dd/yy`, and ensure all columns are in string format and stripped of trailing/leading whitespace. Additionally, `dedupe` requires input data to be in dictionaries, using the record id as the key and the record metadata as the value. So, we'll convert our dataframes to this format."
      ]
    },
    {
      "cell_type": "code",
      "metadata": {
        "id": "bnEU0C3-XygG"
      },
      "source": [
        "def format_dob(dob: str) -> Optional[str]:\n",
        "    \"\"\" Transform date of birth format from YYYYMMDD to mm/dd/yy.\n",
        "        If DOB cannot be transformed, return None.\n",
        "    \"\"\"\n",
        "    try:\n",
        "        if re.match(r\"\\d{8}\", dob):\n",
        "            return (datetime.datetime.strptime(dob, \"%Y%m%d\")).strftime(\"%m/%d/%y\")\n",
        "    except:\n",
        "        pass\n",
        "\n",
        "    return None\n",
        "\n",
        "def strip_and_null(x: Any) -> Optional[str]:\n",
        "    \"\"\" Stringify incoming variable, remove trailing/leading whitespace\n",
        "        and return resulting string. Return None if resulting string is empty.\n",
        "    \"\"\"\n",
        "    x = str(x).strip()\n",
        "    \n",
        "    if x == \"\":\n",
        "        return None\n",
        "    else:\n",
        "        return x\n",
        "    \n",
        "def convert_df_to_dict(df: pd.DataFrame) -> Dict[str, Dict]:\n",
        "    \"\"\" Convert pandas DataFrame to dict keyed by record id.\n",
        "        Convert all fields to strings or Nones to satisfy dedupe.\n",
        "        Transform date format of date_of_birth field.\n",
        "    \"\"\"    \n",
        "\n",
        "    for col in df.columns:\n",
        "        df[col] = df[col].apply(lambda x: strip_and_null(x))\n",
        "\n",
        "    df[\"date_of_birth\"] = df[\"date_of_birth\"].apply(lambda x: format_dob(x))    \n",
        "\n",
        "    return df.to_dict(\"index\")"
      ],
      "execution_count": 14,
      "outputs": []
    },
    {
      "cell_type": "code",
      "metadata": {
        "id": "DHKmbbpEXygH"
      },
      "source": [
        "records_A = convert_df_to_dict(df_A)\n",
        "records_B = convert_df_to_dict(df_B)"
      ],
      "execution_count": 15,
      "outputs": []
    },
    {
      "cell_type": "markdown",
      "metadata": {
        "id": "1Eo3qlSBXygH"
      },
      "source": [
        "We can examine a small sample of the resulting transformed records:"
      ]
    },
    {
      "cell_type": "code",
      "metadata": {
        "id": "tRXrZzSRXygH",
        "colab": {
          "base_uri": "https://localhost:8080/"
        },
        "outputId": "a19e36a4-e49e-49bf-b945-5de77e6e0a77"
      },
      "source": [
        "[records_A[k] for k in list(records_A.keys())[0:2]]"
      ],
      "execution_count": 16,
      "outputs": [
        {
          "output_type": "execute_result",
          "data": {
            "text/plain": [
              "[{'address_1': 'ballard place',\n",
              "  'address_2': 'None',\n",
              "  'age': '32',\n",
              "  'date_of_birth': None,\n",
              "  'first_name': 'matilda',\n",
              "  'phone_number': '03 05903135',\n",
              "  'postcode': '2470',\n",
              "  'soc_sec_id': '8276847',\n",
              "  'state': 'qld',\n",
              "  'street_number': '8',\n",
              "  'suburb': 'west perth',\n",
              "  'surname': 'struck'},\n",
              " {'address_1': 'kambalda crescent',\n",
              "  'address_2': 'villa 427',\n",
              "  'age': '27',\n",
              "  'date_of_birth': None,\n",
              "  'first_name': 'lachlan',\n",
              "  'phone_number': 'None',\n",
              "  'postcode': '5109',\n",
              "  'soc_sec_id': '9937958',\n",
              "  'state': 'None',\n",
              "  'street_number': '36',\n",
              "  'suburb': 'auburn',\n",
              "  'surname': 'eglinton'}]"
            ]
          },
          "metadata": {},
          "execution_count": 16
        }
      ]
    },
    {
      "cell_type": "markdown",
      "metadata": {
        "id": "37XGwdesXygI"
      },
      "source": [
        "# 6.0 Prepare Training"
      ]
    },
    {
      "cell_type": "markdown",
      "metadata": {
        "id": "7O7a4XTTXygI"
      },
      "source": [
        "When we linked our data via SimSum and supervised learning, we defined our blockers and comparators manually with `recordlinkage`. The `dedupe` library takes an active learning approach to blocking and classification and will use our feedback gathered during the labeling session to learn blocking rules and train a classifier. \n",
        "\n",
        "To prepare our `dedupe.RecordLink` object for training, first we'll define the fields that we think `dedupe` should pay attention to when matching records - these definitions will serve as the comparators. The `field` contains the name of the attribute to use for comparison, and the `type` defines the comparison type."
      ]
    },
    {
      "cell_type": "code",
      "metadata": {
        "id": "h3srfBEUXygI",
        "colab": {
          "base_uri": "https://localhost:8080/"
        },
        "outputId": "7d23f58e-70ab-4eaf-aa50-40f2bc90ab63"
      },
      "source": [
        "%%time\n",
        "\n",
        "fields = [\n",
        "    { \"field\" : \"first_name\", \"type\" : \"Name\" },\n",
        "    { \"field\" : \"surname\", \"type\" : \"Name\" },\n",
        "    { \"field\" : \"address_1\", \"type\" : \"ShortString\" },\n",
        "    { \"field\" : \"address_2\", \"type\" : \"ShortString\" },\n",
        "    { \"field\" : \"suburb\", \"type\" : \"ShortString\" },\n",
        "    { \"field\" : \"postcode\", \"type\" : \"Exact\" },\n",
        "    { \"field\" : \"state\", \"type\" : \"Exact\" },\n",
        "    { \"field\" : \"date_of_birth\", \"type\" : \"DateTime\" },\n",
        "    { \"field\" : \"soc_sec_id\", \"type\" : \"Exact\" },\n",
        "]\n",
        "\n",
        "linker = dedupe.RecordLink(fields)\n",
        "linker.prepare_training(records_A, records_B)"
      ],
      "execution_count": 17,
      "outputs": [
        {
          "output_type": "stream",
          "name": "stderr",
          "text": [
            "INFO:dedupe.canopy_index:Removing stop word re\n",
            "INFO:dedupe.training:Final predicate set:\n",
            "INFO:dedupe.training:SimplePredicate: (wholeFieldPredicate, soc_sec_id)\n"
          ]
        },
        {
          "output_type": "stream",
          "name": "stdout",
          "text": [
            "CPU times: user 47.2 s, sys: 437 ms, total: 47.6 s\n",
            "Wall time: 47.5 s\n"
          ]
        }
      ]
    },
    {
      "cell_type": "markdown",
      "metadata": {
        "id": "ECQ6XchIXygJ"
      },
      "source": [
        "#7.0 Do active learning"
      ]
    },
    {
      "cell_type": "markdown",
      "metadata": {
        "id": "xxnYQuyqXygJ"
      },
      "source": [
        "At this point, we're ready to provide feedback to `dedupe` via an active learning labeling session. For this, `dedupe` supplies a convenience method to iterate through pairs it is uncertain about. As you provide feedback for each pair, dedupe learns blocking rules and recalculates its linking model weights.\n",
        "\n",
        "You can use `y` (yes, match), `n` (no, not match), and `u` (unsure) to provide feedback on candidate links. When you're ready to exit the labeling session, use `f`."
      ]
    },
    {
      "cell_type": "code",
      "metadata": {
        "id": "KPwv6n9ZXygJ",
        "colab": {
          "base_uri": "https://localhost:8080/"
        },
        "outputId": "748aa1c5-fc89-4566-86e4-bc693735cb14"
      },
      "source": [
        "dedupe.console_label(linker)"
      ],
      "execution_count": 18,
      "outputs": [
        {
          "output_type": "stream",
          "name": "stderr",
          "text": [
            "first_name : liam\n",
            "surname : kapeller\n",
            "address_1 : None\n",
            "address_2 : None\n",
            "suburb : goshen\n",
            "postcode : 2831\n",
            "state : nsw\n",
            "date_of_birth : None\n",
            "soc_sec_id : 8403096\n",
            "\n",
            "first_name : ali\n",
            "surname : kapelldr\n",
            "address_1 : None\n",
            "address_2 : None\n",
            "suburb : goshen\n",
            "postcode : None\n",
            "state : nsw\n",
            "date_of_birth : None\n",
            "soc_sec_id : 8403569\n",
            "\n",
            "0/10 positive, 0/10 negative\n",
            "Do these records refer to the same thing?\n",
            "(y)es / (n)o / (u)nsure / (f)inished\n"
          ]
        },
        {
          "name": "stdout",
          "output_type": "stream",
          "text": [
            "yes\n"
          ]
        },
        {
          "output_type": "stream",
          "name": "stderr",
          "text": [
            "(y)es / (n)o / (u)nsure / (f)inished\n"
          ]
        },
        {
          "name": "stdout",
          "output_type": "stream",
          "text": [
            "yes\n"
          ]
        },
        {
          "output_type": "stream",
          "name": "stderr",
          "text": [
            "(y)es / (n)o / (u)nsure / (f)inished\n"
          ]
        },
        {
          "name": "stdout",
          "output_type": "stream",
          "text": [
            "no\n"
          ]
        },
        {
          "output_type": "stream",
          "name": "stderr",
          "text": [
            "(y)es / (n)o / (u)nsure / (f)inished\n"
          ]
        },
        {
          "name": "stdout",
          "output_type": "stream",
          "text": [
            "no\n"
          ]
        },
        {
          "output_type": "stream",
          "name": "stderr",
          "text": [
            "(y)es / (n)o / (u)nsure / (f)inished\n"
          ]
        },
        {
          "name": "stdout",
          "output_type": "stream",
          "text": [
            "yes\n"
          ]
        },
        {
          "output_type": "stream",
          "name": "stderr",
          "text": [
            "(y)es / (n)o / (u)nsure / (f)inished\n"
          ]
        },
        {
          "name": "stdout",
          "output_type": "stream",
          "text": [
            "yes\n"
          ]
        },
        {
          "output_type": "stream",
          "name": "stderr",
          "text": [
            "(y)es / (n)o / (u)nsure / (f)inished\n"
          ]
        },
        {
          "name": "stdout",
          "output_type": "stream",
          "text": [
            "yes\n"
          ]
        },
        {
          "output_type": "stream",
          "name": "stderr",
          "text": [
            "(y)es / (n)o / (u)nsure / (f)inished\n"
          ]
        },
        {
          "name": "stdout",
          "output_type": "stream",
          "text": [
            "no\n"
          ]
        },
        {
          "output_type": "stream",
          "name": "stderr",
          "text": [
            "(y)es / (n)o / (u)nsure / (f)inished\n"
          ]
        },
        {
          "name": "stdout",
          "output_type": "stream",
          "text": [
            "yes\n"
          ]
        },
        {
          "output_type": "stream",
          "name": "stderr",
          "text": [
            "(y)es / (n)o / (u)nsure / (f)inished\n"
          ]
        },
        {
          "name": "stdout",
          "output_type": "stream",
          "text": [
            "yes\n"
          ]
        },
        {
          "output_type": "stream",
          "name": "stderr",
          "text": [
            "(y)es / (n)o / (u)nsure / (f)inished\n"
          ]
        },
        {
          "name": "stdout",
          "output_type": "stream",
          "text": [
            "no\n"
          ]
        },
        {
          "output_type": "stream",
          "name": "stderr",
          "text": [
            "(y)es / (n)o / (u)nsure / (f)inished\n"
          ]
        },
        {
          "name": "stdout",
          "output_type": "stream",
          "text": [
            "yes\n"
          ]
        },
        {
          "output_type": "stream",
          "name": "stderr",
          "text": [
            "(y)es / (n)o / (u)nsure / (f)inished\n"
          ]
        },
        {
          "name": "stdout",
          "output_type": "stream",
          "text": [
            "yes\n"
          ]
        },
        {
          "output_type": "stream",
          "name": "stderr",
          "text": [
            "(y)es / (n)o / (u)nsure / (f)inished\n"
          ]
        },
        {
          "name": "stdout",
          "output_type": "stream",
          "text": [
            "yes\n"
          ]
        },
        {
          "output_type": "stream",
          "name": "stderr",
          "text": [
            "(y)es / (n)o / (u)nsure / (f)inished\n"
          ]
        },
        {
          "name": "stdout",
          "output_type": "stream",
          "text": [
            "yes\n"
          ]
        },
        {
          "output_type": "stream",
          "name": "stderr",
          "text": [
            "(y)es / (n)o / (u)nsure / (f)inished\n"
          ]
        },
        {
          "name": "stdout",
          "output_type": "stream",
          "text": [
            "finished\n"
          ]
        },
        {
          "output_type": "stream",
          "name": "stderr",
          "text": [
            "(y)es / (n)o / (u)nsure / (f)inished\n"
          ]
        },
        {
          "name": "stdout",
          "output_type": "stream",
          "text": [
            "u\n"
          ]
        },
        {
          "output_type": "stream",
          "name": "stderr",
          "text": [
            "first_name : rourke\n",
            "surname : collo\n",
            "address_1 : burston place\n",
            "address_2 : None\n",
            "suburb : belmont\n",
            "postcode : 6170\n",
            "state : qld\n",
            "date_of_birth : None\n",
            "soc_sec_id : 7418040\n",
            "\n",
            "first_name : rourje\n",
            "surname : collo\n",
            "address_1 : burston place\n",
            "address_2 : None\n",
            "suburb : belmont\n",
            "postcode : 6170\n",
            "state : qld\n",
            "date_of_birth : None\n",
            "soc_sec_id : 7418004\n",
            "\n",
            "0/10 positive, 0/10 negative\n",
            "Do these records refer to the same thing?\n",
            "(y)es / (n)o / (u)nsure / (f)inished / (p)revious\n"
          ]
        },
        {
          "name": "stdout",
          "output_type": "stream",
          "text": [
            "y\n"
          ]
        },
        {
          "output_type": "stream",
          "name": "stderr",
          "text": [
            "first_name : lara\n",
            "surname : paterson\n",
            "address_1 : ferber place\n",
            "address_2 : the willows\n",
            "suburb : woombye\n",
            "postcode : 4455\n",
            "state : vic\n",
            "date_of_birth : None\n",
            "soc_sec_id : 8366330\n",
            "\n",
            "first_name : lara\n",
            "surname : patezln\n",
            "address_1 : ferber place\n",
            "address_2 : the willows\n",
            "suburb : woombye\n",
            "postcode : 4455\n",
            "state : vic\n",
            "date_of_birth : None\n",
            "soc_sec_id : 3124171\n",
            "\n",
            "1/10 positive, 0/10 negative\n",
            "Do these records refer to the same thing?\n",
            "(y)es / (n)o / (u)nsure / (f)inished / (p)revious\n"
          ]
        },
        {
          "name": "stdout",
          "output_type": "stream",
          "text": [
            "y\n"
          ]
        },
        {
          "output_type": "stream",
          "name": "stderr",
          "text": [
            "INFO:dedupe.training:Final predicate set:\n",
            "INFO:dedupe.training:SimplePredicate: (wholeFieldPredicate, soc_sec_id)\n",
            "INFO:dedupe.training:SimplePredicate: (firstTwoTokensPredicate, address_1)\n",
            "first_name : sarsha\n",
            "surname : mortlock\n",
            "address_1 : None\n",
            "address_2 : None\n",
            "suburb : mckail\n",
            "postcode : 2456\n",
            "state : vic\n",
            "date_of_birth : None\n",
            "soc_sec_id : 3972303\n",
            "\n",
            "first_name : sarsha\n",
            "surname : mortlock\n",
            "address_1 : None\n",
            "address_2 : None\n",
            "suburb : mckail\n",
            "postcode : 2456\n",
            "state : vic\n",
            "date_of_birth : None\n",
            "soc_sec_id : 3973203\n",
            "\n",
            "2/10 positive, 0/10 negative\n",
            "Do these records refer to the same thing?\n",
            "(y)es / (n)o / (u)nsure / (f)inished / (p)revious\n"
          ]
        },
        {
          "name": "stdout",
          "output_type": "stream",
          "text": [
            "y\n"
          ]
        },
        {
          "output_type": "stream",
          "name": "stderr",
          "text": [
            "first_name : thomas\n",
            "surname : white\n",
            "address_1 : None\n",
            "address_2 : None\n",
            "suburb : scarborough\n",
            "postcode : 4817\n",
            "state : qld\n",
            "date_of_birth : None\n",
            "soc_sec_id : 3479432\n",
            "\n",
            "first_name : thomas\n",
            "surname : wight\n",
            "address_1 : None\n",
            "address_2 : None\n",
            "suburb : scarborough\n",
            "postcode : 4817\n",
            "state : qld\n",
            "date_of_birth : None\n",
            "soc_sec_id : 3479542\n",
            "\n",
            "3/10 positive, 0/10 negative\n",
            "Do these records refer to the same thing?\n",
            "(y)es / (n)o / (u)nsure / (f)inished / (p)revious\n"
          ]
        },
        {
          "name": "stdout",
          "output_type": "stream",
          "text": [
            "n\n"
          ]
        },
        {
          "output_type": "stream",
          "name": "stderr",
          "text": [
            "INFO:dedupe.training:Final predicate set:\n",
            "INFO:dedupe.training:PartialPredicate: (commonFourGram, first_name, Surname)\n",
            "first_name : bailey\n",
            "surname : godfrey\n",
            "address_1 : woinarski place\n",
            "address_2 : None\n",
            "suburb : patterson lakes\n",
            "postcode : 5082\n",
            "state : vic\n",
            "date_of_birth : None\n",
            "soc_sec_id : 2302451\n",
            "\n",
            "first_name : godfrey\n",
            "surname : bailexy\n",
            "address_1 : woinarski place\n",
            "address_2 : None\n",
            "suburb : patterson lakes\n",
            "postcode : 5082\n",
            "state : vic\n",
            "date_of_birth : None\n",
            "soc_sec_id : 2302451\n",
            "\n",
            "3/10 positive, 1/10 negative\n",
            "Do these records refer to the same thing?\n",
            "(y)es / (n)o / (u)nsure / (f)inished / (p)revious\n"
          ]
        },
        {
          "name": "stdout",
          "output_type": "stream",
          "text": [
            "n\n"
          ]
        },
        {
          "output_type": "stream",
          "name": "stderr",
          "text": [
            "first_name : emiily\n",
            "surname : lowe\n",
            "address_1 : pollock street\n",
            "address_2 : beechworth\n",
            "suburb : madora\n",
            "postcode : 5161\n",
            "state : vic\n",
            "date_of_birth : None\n",
            "soc_sec_id : 6055911\n",
            "\n",
            "first_name : philipp\n",
            "surname : lowe\n",
            "address_1 : pollock street\n",
            "address_2 : beechworth\n",
            "suburb : madora\n",
            "postcode : 5161\n",
            "state : vic\n",
            "date_of_birth : None\n",
            "soc_sec_id : 6055911\n",
            "\n",
            "3/10 positive, 2/10 negative\n",
            "Do these records refer to the same thing?\n",
            "(y)es / (n)o / (u)nsure / (f)inished / (p)revious\n"
          ]
        },
        {
          "name": "stdout",
          "output_type": "stream",
          "text": [
            "y\n"
          ]
        },
        {
          "output_type": "stream",
          "name": "stderr",
          "text": [
            "first_name : wil\n",
            "surname : cure\n",
            "address_1 : northbourne avenue\n",
            "address_2 : None\n",
            "suburb : witchcliffe\n",
            "postcode : 3355\n",
            "state : qld\n",
            "date_of_birth : None\n",
            "soc_sec_id : 5949749\n",
            "\n",
            "first_name : wil\n",
            "surname : cu fje\n",
            "address_1 : northbourne avenue\n",
            "address_2 : None\n",
            "suburb : witchcliffe\n",
            "postcode : 3355\n",
            "state : qld\n",
            "date_of_birth : None\n",
            "soc_sec_id : 5949749\n",
            "\n",
            "4/10 positive, 2/10 negative\n",
            "Do these records refer to the same thing?\n",
            "(y)es / (n)o / (u)nsure / (f)inished / (p)revious\n"
          ]
        },
        {
          "name": "stdout",
          "output_type": "stream",
          "text": [
            "y\n"
          ]
        },
        {
          "output_type": "stream",
          "name": "stderr",
          "text": [
            "INFO:dedupe.training:Final predicate set:\n",
            "INFO:dedupe.training:PartialPredicate: (commonSixGram, first_name, Surname)\n",
            "INFO:dedupe.training:SimplePredicate: (firstTwoTokensPredicate, address_1)\n",
            "first_name : yana\n",
            "surname : matthews\n",
            "address_1 : maribyrnong avenue\n",
            "address_2 : longstay caravn park\n",
            "suburb : cooroy\n",
            "postcode : 6109\n",
            "state : qld\n",
            "date_of_birth : None\n",
            "soc_sec_id : 3450547\n",
            "\n",
            "first_name : yana\n",
            "surname : matthepws\n",
            "address_1 : maribyrnonvgavenue\n",
            "address_2 : longstay caravn park\n",
            "suburb : cooroy\n",
            "postcode : 6109\n",
            "state : qld\n",
            "date_of_birth : None\n",
            "soc_sec_id : 3450547\n",
            "\n",
            "5/10 positive, 2/10 negative\n",
            "Do these records refer to the same thing?\n",
            "(y)es / (n)o / (u)nsure / (f)inished / (p)revious\n"
          ]
        },
        {
          "name": "stdout",
          "output_type": "stream",
          "text": [
            "y\n"
          ]
        },
        {
          "output_type": "stream",
          "name": "stderr",
          "text": [
            "first_name : rhys\n",
            "surname : ryan\n",
            "address_1 : mckail crescent\n",
            "address_2 : glenview\n",
            "suburb : lennox head\n",
            "postcode : 2165\n",
            "state : vic\n",
            "date_of_birth : None\n",
            "soc_sec_id : 4198475\n",
            "\n",
            "first_name : rhys\n",
            "surname : ryabe\n",
            "address_1 : mckail ckrscent\n",
            "address_2 : glenview\n",
            "suburb : lennox head\n",
            "postcode : 2165\n",
            "state : vic\n",
            "date_of_birth : None\n",
            "soc_sec_id : 4198475\n",
            "\n",
            "6/10 positive, 2/10 negative\n",
            "Do these records refer to the same thing?\n",
            "(y)es / (n)o / (u)nsure / (f)inished / (p)revious\n"
          ]
        },
        {
          "name": "stdout",
          "output_type": "stream",
          "text": [
            "y\n"
          ]
        },
        {
          "output_type": "stream",
          "name": "stderr",
          "text": [
            "INFO:dedupe.training:Final predicate set:\n",
            "INFO:dedupe.training:PartialPredicate: (commonSixGram, first_name, Surname)\n",
            "INFO:dedupe.training:SimplePredicate: (firstTwoTokensPredicate, address_1)\n",
            "INFO:dedupe.training:SimplePredicate: (commonThreeTokens, address_2)\n",
            "first_name : blade\n",
            "surname : lowry\n",
            "address_1 : palmer street\n",
            "address_2 : None\n",
            "suburb : plumpton\n",
            "postcode : 2537\n",
            "state : vic\n",
            "date_of_birth : None\n",
            "soc_sec_id : 3702857\n",
            "\n",
            "first_name : blade\n",
            "surname : loqau\n",
            "address_1 : palmer srreet\n",
            "address_2 : kurrajong\n",
            "suburb : plumpton\n",
            "postcode : 2537\n",
            "state : vima\n",
            "date_of_birth : None\n",
            "soc_sec_id : 3702857\n",
            "\n",
            "7/10 positive, 2/10 negative\n",
            "Do these records refer to the same thing?\n",
            "(y)es / (n)o / (u)nsure / (f)inished / (p)revious\n"
          ]
        },
        {
          "name": "stdout",
          "output_type": "stream",
          "text": [
            "y\n"
          ]
        },
        {
          "output_type": "stream",
          "name": "stderr",
          "text": [
            "INFO:dedupe.training:Final predicate set:\n",
            "INFO:dedupe.training:PartialPredicate: (commonFourGram, first_name, Surname)\n",
            "INFO:dedupe.training:SimplePredicate: (wholeFieldPredicate, soc_sec_id)\n",
            "first_name : claudia\n",
            "surname : moscatt\n",
            "address_1 : emu bank street\n",
            "address_2 : brookfield\n",
            "suburb : cundletown\n",
            "postcode : 2500\n",
            "state : None\n",
            "date_of_birth : None\n",
            "soc_sec_id : 2577386\n",
            "\n",
            "first_name : claudis\n",
            "surname : moscatt\n",
            "address_1 : emu bank street\n",
            "address_2 : brookfield\n",
            "suburb : cundletown\n",
            "postcode : 2500\n",
            "state : None\n",
            "date_of_birth : None\n",
            "soc_sec_id : 2577368\n",
            "\n",
            "8/10 positive, 2/10 negative\n",
            "Do these records refer to the same thing?\n",
            "(y)es / (n)o / (u)nsure / (f)inished / (p)revious\n"
          ]
        },
        {
          "name": "stdout",
          "output_type": "stream",
          "text": [
            "y\n"
          ]
        },
        {
          "output_type": "stream",
          "name": "stderr",
          "text": [
            "first_name : ella\n",
            "surname : fenwick\n",
            "address_1 : antill street\n",
            "address_2 : None\n",
            "suburb : wilson\n",
            "postcode : 3658\n",
            "state : nsw\n",
            "date_of_birth : None\n",
            "soc_sec_id : 4327554\n",
            "\n",
            "first_name : fenwick\n",
            "surname : ella\n",
            "address_1 : antill street\n",
            "address_2 : None\n",
            "suburb : wilson\n",
            "postcode : 3658\n",
            "state : nsll\n",
            "date_of_birth : None\n",
            "soc_sec_id : 4326554\n",
            "\n",
            "9/10 positive, 2/10 negative\n",
            "Do these records refer to the same thing?\n",
            "(y)es / (n)o / (u)nsure / (f)inished / (p)revious\n"
          ]
        },
        {
          "name": "stdout",
          "output_type": "stream",
          "text": [
            "y\n"
          ]
        },
        {
          "output_type": "stream",
          "name": "stderr",
          "text": [
            "INFO:dedupe.training:Final predicate set:\n",
            "INFO:dedupe.training:PartialPredicate: (commonFourGram, first_name, Surname)\n",
            "INFO:dedupe.training:SimplePredicate: (wholeFieldPredicate, soc_sec_id)\n",
            "INFO:dedupe.training:PartialIndexTfidfNGramSearchPredicate: (0.6, surname, CorporationName)\n",
            "first_name : ryan\n",
            "surname : d'sylau\n",
            "address_1 : starke street\n",
            "address_2 : None\n",
            "suburb : chain valley bay\n",
            "postcode : 4116\n",
            "state : qld\n",
            "date_of_birth : None\n",
            "soc_sec_id : 1566653\n",
            "\n",
            "first_name : ran\n",
            "surname : d'sylau\n",
            "address_1 : starke street\n",
            "address_2 : None\n",
            "suburb : chain valley bay\n",
            "postcode : 4116\n",
            "state : qml\n",
            "date_of_birth : None\n",
            "soc_sec_id : 1565554\n",
            "\n",
            "10/10 positive, 2/10 negative\n",
            "Do these records refer to the same thing?\n",
            "(y)es / (n)o / (u)nsure / (f)inished / (p)revious\n"
          ]
        },
        {
          "name": "stdout",
          "output_type": "stream",
          "text": [
            "f\n"
          ]
        },
        {
          "output_type": "stream",
          "name": "stderr",
          "text": [
            "Finished labeling\n",
            "INFO:dedupe.training:Final predicate set:\n",
            "INFO:dedupe.training:SimplePredicate: (wholeFieldPredicate, suburb)\n"
          ]
        }
      ]
    },
    {
      "cell_type": "markdown",
      "metadata": {
        "id": "-AkW1kV9XygJ"
      },
      "source": [
        "We can now train our linker, based on the labeling session feedback."
      ]
    },
    {
      "cell_type": "code",
      "metadata": {
        "id": "SItI6tntXygJ",
        "colab": {
          "base_uri": "https://localhost:8080/"
        },
        "outputId": "93948b6f-5e14-40f9-818a-718018b97565"
      },
      "source": [
        "%%time\n",
        "linker.train()"
      ],
      "execution_count": 19,
      "outputs": [
        {
          "output_type": "stream",
          "name": "stderr",
          "text": [
            "INFO:rlr.crossvalidation:using cross validation to find optimum alpha...\n",
            "INFO:rlr.crossvalidation:optimum alpha: 0.000100, score 0.1388888888888889\n",
            "INFO:dedupe.training:Final predicate set:\n",
            "INFO:dedupe.training:(SimplePredicate: (twoGramFingerprint, suburb), SimplePredicate: (wholeFieldPredicate, postcode), SimplePredicate: (sortedAcronym, address_1))\n",
            "INFO:dedupe.training:(SimplePredicate: (commonThreeTokens, address_2), SimplePredicate: (commonSixGram, surname))\n"
          ]
        },
        {
          "output_type": "stream",
          "name": "stdout",
          "text": [
            "CPU times: user 5.66 s, sys: 553 ms, total: 6.21 s\n",
            "Wall time: 5.68 s\n"
          ]
        }
      ]
    },
    {
      "cell_type": "markdown",
      "metadata": {
        "id": "tub2ng5dXygJ"
      },
      "source": [
        "Let's persist our training data (captured during in the labeling session), as well as the learned model weights."
      ]
    },
    {
      "cell_type": "code",
      "metadata": {
        "id": "A_WCfZSrXygK"
      },
      "source": [
        "ACTIVE_LEARNING_DIR = WORKING_DIR / \"dedupe_active_learning\"\n",
        "ACTIVE_LEARNING_DIR.mkdir(parents=True, exist_ok=True)\n",
        "\n",
        "SETTINGS_FILE = ACTIVE_LEARNING_DIR / \"dedupe_learned_settings\"\n",
        "TRAINING_FILE = ACTIVE_LEARNING_DIR / \"dedupe_training.json\"\n",
        "\n",
        "with open(TRAINING_FILE, \"w\") as fh:\n",
        "    linker.write_training(fh)\n",
        "    \n",
        "with open(SETTINGS_FILE, \"wb\") as sf:\n",
        "    linker.write_settings(sf)"
      ],
      "execution_count": 20,
      "outputs": []
    },
    {
      "cell_type": "markdown",
      "metadata": {
        "id": "_WskJQZ1XygK"
      },
      "source": [
        "## Examine Learned Blockers"
      ]
    },
    {
      "cell_type": "markdown",
      "metadata": {
        "id": "2i2n8-5TXygK"
      },
      "source": [
        "Now, let's take a look at the predicates (blockers) that `dedupe` learned during our active learning labeling session. Note that `dedupe` can learn composite predicates/blockers, i.e. individual predicates can be combined with logical operators."
      ]
    },
    {
      "cell_type": "code",
      "metadata": {
        "id": "uLJvsPqhXygK",
        "colab": {
          "base_uri": "https://localhost:8080/"
        },
        "outputId": "94affb3d-039c-41fd-cbb0-7d86dcc1d272"
      },
      "source": [
        "linker.predicates"
      ],
      "execution_count": 21,
      "outputs": [
        {
          "output_type": "execute_result",
          "data": {
            "text/plain": [
              "((SimplePredicate: (twoGramFingerprint, suburb),\n",
              "  SimplePredicate: (wholeFieldPredicate, postcode),\n",
              "  SimplePredicate: (sortedAcronym, address_1)),\n",
              " (SimplePredicate: (commonThreeTokens, address_2),\n",
              "  SimplePredicate: (commonSixGram, surname)))"
            ]
          },
          "metadata": {},
          "execution_count": 21
        }
      ]
    },
    {
      "cell_type": "markdown",
      "metadata": {
        "id": "H1C0iNi4XygK"
      },
      "source": [
        "Next, let's examine the resulting candidate pairs and look at our blocking efficiency. The `.pairs` method will give us all candidate record pairs that are generated by blocking with the learned blockers."
      ]
    },
    {
      "cell_type": "code",
      "metadata": {
        "id": "RNMgiivKXygK",
        "colab": {
          "base_uri": "https://localhost:8080/"
        },
        "outputId": "5cf2ecc4-62c6-4d7d-d335-6a41220831b3"
      },
      "source": [
        "candidate_pairs = [x for x in linker.pairs(records_A, records_B)]\n",
        "print(f\"{len(candidate_pairs):,} candidate pairs generated from blocking.\")"
      ],
      "execution_count": 22,
      "outputs": [
        {
          "output_type": "stream",
          "name": "stdout",
          "text": [
            "1,244 candidate pairs generated from blocking.\n"
          ]
        }
      ]
    },
    {
      "cell_type": "markdown",
      "metadata": {
        "id": "52K9bn_8XygK"
      },
      "source": [
        "You'll notice that, in contrast to `recordlinkage`, our post-blocking candidate pairs contain both the record ids as well as the record metadata."
      ]
    },
    {
      "cell_type": "code",
      "metadata": {
        "id": "jIELXfehXygL",
        "colab": {
          "base_uri": "https://localhost:8080/"
        },
        "outputId": "c93ad19e-3a6f-48f9-b532-481fd6157788"
      },
      "source": [
        "candidate_pairs[0]"
      ],
      "execution_count": 23,
      "outputs": [
        {
          "output_type": "execute_result",
          "data": {
            "text/plain": [
              "(('48a56cad-7ba6-45e1-97cd-517ba65bdab5',\n",
              "  {'address_1': 'kambalda crescent',\n",
              "   'address_2': 'villa 427',\n",
              "   'age': '27',\n",
              "   'date_of_birth': None,\n",
              "   'first_name': 'lachlan',\n",
              "   'phone_number': 'None',\n",
              "   'postcode': '5109',\n",
              "   'soc_sec_id': '9937958',\n",
              "   'state': 'None',\n",
              "   'street_number': '36',\n",
              "   'suburb': 'auburn',\n",
              "   'surname': 'eglinton'}),\n",
              " ('c77c2c04-4415-4c4d-b248-18dc28fd63d0',\n",
              "  {'address_1': 'kambalda crescent',\n",
              "   'address_2': 'None',\n",
              "   'age': 'None',\n",
              "   'date_of_birth': None,\n",
              "   'first_name': 'lachlan',\n",
              "   'phone_number': 'None',\n",
              "   'postcode': '5109',\n",
              "   'soc_sec_id': '9937958',\n",
              "   'state': 'None',\n",
              "   'street_number': '366',\n",
              "   'suburb': 'auburn',\n",
              "   'surname': 'eglinton'}))"
            ]
          },
          "metadata": {},
          "execution_count": 23
        }
      ]
    },
    {
      "cell_type": "markdown",
      "metadata": {
        "id": "qTEV8vkhXygL"
      },
      "source": [
        "We can assemble our candidate pair ids into an indexed pandas dataframe for easier comparision with our known true links."
      ]
    },
    {
      "cell_type": "code",
      "metadata": {
        "id": "8mg70HK0XygL",
        "colab": {
          "base_uri": "https://localhost:8080/",
          "height": 220
        },
        "outputId": "d6922914-95d9-4805-f931-0a3ea4b1694b"
      },
      "source": [
        "df_candidate_links = pd.DataFrame(\n",
        "    [(x[0][0], x[1][0]) for x in candidate_pairs]\n",
        ").rename(columns={0 : \"person_id_A\", 1 : \"person_id_B\"}).set_index([\"person_id_A\", \"person_id_B\"])\n",
        "\n",
        "df_candidate_links.head()"
      ],
      "execution_count": 24,
      "outputs": [
        {
          "output_type": "execute_result",
          "data": {
            "text/html": [
              "<div>\n",
              "<style scoped>\n",
              "    .dataframe tbody tr th:only-of-type {\n",
              "        vertical-align: middle;\n",
              "    }\n",
              "\n",
              "    .dataframe tbody tr th {\n",
              "        vertical-align: top;\n",
              "    }\n",
              "\n",
              "    .dataframe thead th {\n",
              "        text-align: right;\n",
              "    }\n",
              "</style>\n",
              "<table border=\"1\" class=\"dataframe\">\n",
              "  <thead>\n",
              "    <tr style=\"text-align: right;\">\n",
              "      <th></th>\n",
              "      <th></th>\n",
              "    </tr>\n",
              "    <tr>\n",
              "      <th>person_id_A</th>\n",
              "      <th>person_id_B</th>\n",
              "    </tr>\n",
              "  </thead>\n",
              "  <tbody>\n",
              "    <tr>\n",
              "      <th>48a56cad-7ba6-45e1-97cd-517ba65bdab5</th>\n",
              "      <th>c77c2c04-4415-4c4d-b248-18dc28fd63d0</th>\n",
              "    </tr>\n",
              "    <tr>\n",
              "      <th>b4e3efc2-9c8f-4e3e-8b98-9bfa842094f9</th>\n",
              "      <th>e63f19ca-3f5b-4021-ac1e-05fc7495bd48</th>\n",
              "    </tr>\n",
              "    <tr>\n",
              "      <th>4091b2cd-f68c-447e-80ff-5ee4dde4f057</th>\n",
              "      <th>de64cc87-e3f4-4546-8e20-1294b19f9cac</th>\n",
              "    </tr>\n",
              "    <tr>\n",
              "      <th>75d0094f-ff34-4ebb-947f-387c040e463e</th>\n",
              "      <th>d2f7b732-f4fa-455a-a5c4-9dd4c5e3f6bf</th>\n",
              "    </tr>\n",
              "    <tr>\n",
              "      <th>77d7922c-c550-4420-b66d-bc6249d57b30</th>\n",
              "      <th>a1d7a5aa-9a71-4a07-977b-a405468d0cd9</th>\n",
              "    </tr>\n",
              "  </tbody>\n",
              "</table>\n",
              "</div>"
            ],
            "text/plain": [
              "Empty DataFrame\n",
              "Columns: []\n",
              "Index: [(48a56cad-7ba6-45e1-97cd-517ba65bdab5, c77c2c04-4415-4c4d-b248-18dc28fd63d0), (b4e3efc2-9c8f-4e3e-8b98-9bfa842094f9, e63f19ca-3f5b-4021-ac1e-05fc7495bd48), (4091b2cd-f68c-447e-80ff-5ee4dde4f057, de64cc87-e3f4-4546-8e20-1294b19f9cac), (75d0094f-ff34-4ebb-947f-387c040e463e, d2f7b732-f4fa-455a-a5c4-9dd4c5e3f6bf), (77d7922c-c550-4420-b66d-bc6249d57b30, a1d7a5aa-9a71-4a07-977b-a405468d0cd9)]"
            ]
          },
          "metadata": {},
          "execution_count": 24
        }
      ]
    },
    {
      "cell_type": "markdown",
      "metadata": {
        "id": "Ip00kypUXygL"
      },
      "source": [
        "Now, let's take a look at our learned blocker performance."
      ]
    },
    {
      "cell_type": "code",
      "metadata": {
        "id": "g1SHlIFrXygL",
        "colab": {
          "base_uri": "https://localhost:8080/"
        },
        "outputId": "8c5afcbf-8c25-4fec-d9e4-25db04d15760"
      },
      "source": [
        "max_candidate_pairs = df_A.shape[0]*df_B.shape[0]\n",
        "\n",
        "print(f\"{max_candidate_pairs:,} total possible pairs.\")\n",
        "\n",
        "# Calculate search space reduction.\n",
        "search_space_reduction = round(1 - len(candidate_pairs)/max_candidate_pairs, 6)\n",
        "print(f\"\\n{len(candidate_pairs):,} pairs after full blocking: {search_space_reduction}% search space reduction.\")\n",
        "\n",
        "# Calculate retained true links percentage.\n",
        "total_true_links = df_ground_truth.shape[0]\n",
        "true_links_after_blocking = pd.merge(\n",
        "    df_ground_truth,\n",
        "    df_candidate_links,\n",
        "    left_index=True,\n",
        "    right_index=True,\n",
        "    how=\"inner\"\n",
        ").shape[0]\n",
        "\n",
        "retained_true_link_percent = round((true_links_after_blocking/total_true_links) * 100, 2)\n",
        "print(f\"{retained_true_link_percent}% true links retained after blocking.\")"
      ],
      "execution_count": 25,
      "outputs": [
        {
          "output_type": "stream",
          "name": "stdout",
          "text": [
            "10,562,500 total possible pairs.\n",
            "\n",
            "1,244 pairs after full blocking: 0.999882% search space reduction.\n",
            "41.47% true links retained after blocking.\n"
          ]
        }
      ]
    },
    {
      "cell_type": "markdown",
      "metadata": {
        "id": "wrAwLzHqXygL"
      },
      "source": [
        "## Score Pairs and Examine Learned Classifier"
      ]
    },
    {
      "cell_type": "markdown",
      "metadata": {
        "id": "Fgsjs1oOXygM"
      },
      "source": [
        "After `dedupe` has trained blockers and a classification model based on our labeling session, we can link the records in our training dataset via the `.join` method."
      ]
    },
    {
      "cell_type": "code",
      "metadata": {
        "id": "ebxIHSFoXygM",
        "colab": {
          "base_uri": "https://localhost:8080/"
        },
        "outputId": "ff9276d6-a9f1-4ea6-cd2d-cf6a404dd8d0"
      },
      "source": [
        "%%time\n",
        "linked_records = linker.join(records_A, records_B, threshold=0.0, constraint=\"one-to-one\")"
      ],
      "execution_count": 26,
      "outputs": [
        {
          "output_type": "stream",
          "name": "stdout",
          "text": [
            "CPU times: user 225 ms, sys: 55.6 ms, total: 281 ms\n",
            "Wall time: 694 ms\n"
          ]
        }
      ]
    },
    {
      "cell_type": "markdown",
      "metadata": {
        "id": "HtWUzmwkXygM"
      },
      "source": [
        "`linker.join` will return the links, along with a model confidence."
      ]
    },
    {
      "cell_type": "code",
      "metadata": {
        "id": "Cag3cxivXygM",
        "colab": {
          "base_uri": "https://localhost:8080/"
        },
        "outputId": "53dae8e7-3962-42af-85eb-c78ad4160514"
      },
      "source": [
        "linked_records[0:3]"
      ],
      "execution_count": 27,
      "outputs": [
        {
          "output_type": "execute_result",
          "data": {
            "text/plain": [
              "[(('ffd668ac-2f63-4c05-a6a3-58ebcf1f4a80',\n",
              "   '3e8c4b67-3611-4a08-84c8-b082b627bb21'),\n",
              "  1.0),\n",
              " (('fe729c15-1e07-4b57-9a23-6c74a395f3d2',\n",
              "   '00f1473f-0b83-4eef-aa13-22fc3702b521'),\n",
              "  1.0),\n",
              " (('fc8bd23d-afdf-4a67-81d8-31fafe560c76',\n",
              "   '241eb6d8-c988-4838-96e3-1fff5e778bd4'),\n",
              "  1.0)]"
            ]
          },
          "metadata": {},
          "execution_count": 27
        }
      ]
    },
    {
      "cell_type": "markdown",
      "metadata": {
        "id": "mqbOp_H8XygM"
      },
      "source": [
        "We'll format the `dedupe` linker predictions into a format that we can use with our existing evaluation functions."
      ]
    },
    {
      "cell_type": "code",
      "metadata": {
        "id": "Ar0X3et6XygM",
        "colab": {
          "base_uri": "https://localhost:8080/",
          "height": 455
        },
        "outputId": "1a1e0e21-a41f-4519-b191-b11f5cffaec8"
      },
      "source": [
        "df_predictions = pd.DataFrame(\n",
        "    [ {\"person_id_A\" : x[0][0], \"person_id_B\" : x[0][1], \"model_score\" : x[1]} for x in linked_records]\n",
        ")\n",
        "\n",
        "df_predictions = df_predictions.set_index([\"person_id_A\", \"person_id_B\"])\n",
        "\n",
        "df_predictions = pd.merge(\n",
        "    df_predictions,\n",
        "    df_ground_truth,\n",
        "    left_index=True,\n",
        "    right_index=True,\n",
        "    how=\"left\",\n",
        ")\n",
        "\n",
        "df_predictions[\"ground_truth\"].fillna(False, inplace=True)\n",
        "df_predictions"
      ],
      "execution_count": 28,
      "outputs": [
        {
          "output_type": "execute_result",
          "data": {
            "text/html": [
              "<div>\n",
              "<style scoped>\n",
              "    .dataframe tbody tr th:only-of-type {\n",
              "        vertical-align: middle;\n",
              "    }\n",
              "\n",
              "    .dataframe tbody tr th {\n",
              "        vertical-align: top;\n",
              "    }\n",
              "\n",
              "    .dataframe thead th {\n",
              "        text-align: right;\n",
              "    }\n",
              "</style>\n",
              "<table border=\"1\" class=\"dataframe\">\n",
              "  <thead>\n",
              "    <tr style=\"text-align: right;\">\n",
              "      <th></th>\n",
              "      <th></th>\n",
              "      <th>model_score</th>\n",
              "      <th>ground_truth</th>\n",
              "    </tr>\n",
              "    <tr>\n",
              "      <th>person_id_A</th>\n",
              "      <th>person_id_B</th>\n",
              "      <th></th>\n",
              "      <th></th>\n",
              "    </tr>\n",
              "  </thead>\n",
              "  <tbody>\n",
              "    <tr>\n",
              "      <th>ffd668ac-2f63-4c05-a6a3-58ebcf1f4a80</th>\n",
              "      <th>3e8c4b67-3611-4a08-84c8-b082b627bb21</th>\n",
              "      <td>1.000000e+00</td>\n",
              "      <td>True</td>\n",
              "    </tr>\n",
              "    <tr>\n",
              "      <th>fe729c15-1e07-4b57-9a23-6c74a395f3d2</th>\n",
              "      <th>00f1473f-0b83-4eef-aa13-22fc3702b521</th>\n",
              "      <td>1.000000e+00</td>\n",
              "      <td>True</td>\n",
              "    </tr>\n",
              "    <tr>\n",
              "      <th>fc8bd23d-afdf-4a67-81d8-31fafe560c76</th>\n",
              "      <th>241eb6d8-c988-4838-96e3-1fff5e778bd4</th>\n",
              "      <td>1.000000e+00</td>\n",
              "      <td>True</td>\n",
              "    </tr>\n",
              "    <tr>\n",
              "      <th>fbca8c32-e03b-4e0c-8a58-72d3705433dc</th>\n",
              "      <th>c3fcea96-187d-4abb-a434-258b8cb7ea87</th>\n",
              "      <td>1.000000e+00</td>\n",
              "      <td>True</td>\n",
              "    </tr>\n",
              "    <tr>\n",
              "      <th>f7debc6e-07c2-4ea0-b368-6ca2c12d1129</th>\n",
              "      <th>12256412-3fc2-4fdf-9923-92bdecb23217</th>\n",
              "      <td>1.000000e+00</td>\n",
              "      <td>True</td>\n",
              "    </tr>\n",
              "    <tr>\n",
              "      <th>...</th>\n",
              "      <th>...</th>\n",
              "      <td>...</td>\n",
              "      <td>...</td>\n",
              "    </tr>\n",
              "    <tr>\n",
              "      <th>a7f99357-e10c-451c-9e60-5a98744c29b4</th>\n",
              "      <th>8fd53b5b-c362-461a-b39b-1e01eec4f190</th>\n",
              "      <td>5.652306e-05</td>\n",
              "      <td>True</td>\n",
              "    </tr>\n",
              "    <tr>\n",
              "      <th>f413d6e2-765f-4db1-86f6-133cf5812a7e</th>\n",
              "      <th>e1c87188-70ed-4018-b87e-ebb6e6cf9371</th>\n",
              "      <td>5.241123e-05</td>\n",
              "      <td>True</td>\n",
              "    </tr>\n",
              "    <tr>\n",
              "      <th>f9904199-572b-4d31-9c12-2deeff715732</th>\n",
              "      <th>a0b36d3e-3b69-45f8-970c-6b39f5bd7d5a</th>\n",
              "      <td>4.813147e-06</td>\n",
              "      <td>True</td>\n",
              "    </tr>\n",
              "    <tr>\n",
              "      <th>9e2ed7fd-982d-44a6-ab53-79fa265a38a7</th>\n",
              "      <th>c0da0a12-71fa-4176-9f58-c57d651cbcb7</th>\n",
              "      <td>3.466260e-06</td>\n",
              "      <td>True</td>\n",
              "    </tr>\n",
              "    <tr>\n",
              "      <th>46ae7e58-510f-4a00-be1e-1569ab0395f2</th>\n",
              "      <th>7cb362f2-c89d-4c25-8621-287b18396ddd</th>\n",
              "      <td>7.263762e-07</td>\n",
              "      <td>True</td>\n",
              "    </tr>\n",
              "  </tbody>\n",
              "</table>\n",
              "<p>1244 rows × 2 columns</p>\n",
              "</div>"
            ],
            "text/plain": [
              "                                                                            model_score  ground_truth\n",
              "person_id_A                          person_id_B                                                     \n",
              "ffd668ac-2f63-4c05-a6a3-58ebcf1f4a80 3e8c4b67-3611-4a08-84c8-b082b627bb21  1.000000e+00          True\n",
              "fe729c15-1e07-4b57-9a23-6c74a395f3d2 00f1473f-0b83-4eef-aa13-22fc3702b521  1.000000e+00          True\n",
              "fc8bd23d-afdf-4a67-81d8-31fafe560c76 241eb6d8-c988-4838-96e3-1fff5e778bd4  1.000000e+00          True\n",
              "fbca8c32-e03b-4e0c-8a58-72d3705433dc c3fcea96-187d-4abb-a434-258b8cb7ea87  1.000000e+00          True\n",
              "f7debc6e-07c2-4ea0-b368-6ca2c12d1129 12256412-3fc2-4fdf-9923-92bdecb23217  1.000000e+00          True\n",
              "...                                                                                 ...           ...\n",
              "a7f99357-e10c-451c-9e60-5a98744c29b4 8fd53b5b-c362-461a-b39b-1e01eec4f190  5.652306e-05          True\n",
              "f413d6e2-765f-4db1-86f6-133cf5812a7e e1c87188-70ed-4018-b87e-ebb6e6cf9371  5.241123e-05          True\n",
              "f9904199-572b-4d31-9c12-2deeff715732 a0b36d3e-3b69-45f8-970c-6b39f5bd7d5a  4.813147e-06          True\n",
              "9e2ed7fd-982d-44a6-ab53-79fa265a38a7 c0da0a12-71fa-4176-9f58-c57d651cbcb7  3.466260e-06          True\n",
              "46ae7e58-510f-4a00-be1e-1569ab0395f2 7cb362f2-c89d-4c25-8621-287b18396ddd  7.263762e-07          True\n",
              "\n",
              "[1244 rows x 2 columns]"
            ]
          },
          "metadata": {},
          "execution_count": 28
        }
      ]
    },
    {
      "cell_type": "markdown",
      "metadata": {
        "id": "9oBUU9SzXygM"
      },
      "source": [
        "## Choosing a Linking Model Score Threshold"
      ]
    },
    {
      "cell_type": "markdown",
      "metadata": {
        "id": "3igpyzfQXygM"
      },
      "source": [
        "The `dedupe` `.join` method that we used to score our training data directly incorporates the learned blockers. Thus, note that the scored pairs appearing on the distribution represent blocked pairs, and that our blockers *significantly* reduced the candidate pair search space."
      ]
    },
    {
      "cell_type": "markdown",
      "metadata": {
        "id": "qEz0-ZamXygQ"
      },
      "source": [
        "### Model Score Distribution"
      ]
    },
    {
      "cell_type": "code",
      "metadata": {
        "id": "XuyBsNxwXygQ",
        "colab": {
          "base_uri": "https://localhost:8080/"
        },
        "outputId": "117ec41b-8162-40ae-fae4-3980b04ceb48"
      },
      "source": [
        "df_predictions[\"ground_truth\"].value_counts()"
      ],
      "execution_count": 29,
      "outputs": [
        {
          "output_type": "execute_result",
          "data": {
            "text/plain": [
              "True    1244\n",
              "Name: ground_truth, dtype: int64"
            ]
          },
          "metadata": {},
          "execution_count": 29
        }
      ]
    },
    {
      "cell_type": "code",
      "metadata": {
        "id": "fs20eIrfXygR",
        "colab": {
          "base_uri": "https://localhost:8080/",
          "height": 503
        },
        "outputId": "c12ceff5-85d1-4598-d23f-ffdeea3ebd3a"
      },
      "source": [
        "tutorial.plot_model_score_distribution(df_predictions)"
      ],
      "execution_count": 30,
      "outputs": [
        {
          "output_type": "stream",
          "name": "stderr",
          "text": [
            "INFO:numexpr.utils:NumExpr defaulting to 2 threads.\n"
          ]
        },
        {
          "output_type": "execute_result",
          "data": {
            "text/plain": [
              "alt.Chart(...)"
            ],
            "text/html": [
              "\n",
              "<div id=\"altair-viz-0ed912c334c84a8bb2aedd6ddf6b9101\"></div>\n",
              "<script type=\"text/javascript\">\n",
              "  (function(spec, embedOpt){\n",
              "    let outputDiv = document.currentScript.previousElementSibling;\n",
              "    if (outputDiv.id !== \"altair-viz-0ed912c334c84a8bb2aedd6ddf6b9101\") {\n",
              "      outputDiv = document.getElementById(\"altair-viz-0ed912c334c84a8bb2aedd6ddf6b9101\");\n",
              "    }\n",
              "    const paths = {\n",
              "      \"vega\": \"https://cdn.jsdelivr.net/npm//vega@5?noext\",\n",
              "      \"vega-lib\": \"https://cdn.jsdelivr.net/npm//vega-lib?noext\",\n",
              "      \"vega-lite\": \"https://cdn.jsdelivr.net/npm//vega-lite@4.8.1?noext\",\n",
              "      \"vega-embed\": \"https://cdn.jsdelivr.net/npm//vega-embed@6?noext\",\n",
              "    };\n",
              "\n",
              "    function loadScript(lib) {\n",
              "      return new Promise(function(resolve, reject) {\n",
              "        var s = document.createElement('script');\n",
              "        s.src = paths[lib];\n",
              "        s.async = true;\n",
              "        s.onload = () => resolve(paths[lib]);\n",
              "        s.onerror = () => reject(`Error loading script: ${paths[lib]}`);\n",
              "        document.getElementsByTagName(\"head\")[0].appendChild(s);\n",
              "      });\n",
              "    }\n",
              "\n",
              "    function showError(err) {\n",
              "      outputDiv.innerHTML = `<div class=\"error\" style=\"color:red;\">${err}</div>`;\n",
              "      throw err;\n",
              "    }\n",
              "\n",
              "    function displayChart(vegaEmbed) {\n",
              "      vegaEmbed(outputDiv, spec, embedOpt)\n",
              "        .catch(err => showError(`Javascript Error: ${err.message}<br>This usually means there's a typo in your chart specification. See the javascript console for the full traceback.`));\n",
              "    }\n",
              "\n",
              "    if(typeof define === \"function\" && define.amd) {\n",
              "      requirejs.config({paths});\n",
              "      require([\"vega-embed\"], displayChart, err => showError(`Error loading script: ${err.message}`));\n",
              "    } else if (typeof vegaEmbed === \"function\") {\n",
              "      displayChart(vegaEmbed);\n",
              "    } else {\n",
              "      loadScript(\"vega\")\n",
              "        .then(() => loadScript(\"vega-lite\"))\n",
              "        .then(() => loadScript(\"vega-embed\"))\n",
              "        .catch(showError)\n",
              "        .then(() => displayChart(vegaEmbed));\n",
              "    }\n",
              "  })({\"config\": {\"view\": {\"continuousWidth\": 400, \"continuousHeight\": 300}}, \"data\": {\"name\": \"data-ab3453ec2b203f7f92a6d0e55d5b9b61\"}, \"mark\": {\"type\": \"bar\", \"binSpacing\": 0, \"opacity\": 0.7}, \"encoding\": {\"color\": {\"type\": \"nominal\", \"field\": \"ground_truth\", \"legend\": {\"title\": \"Ground Truth Label\"}, \"scale\": {\"domain\": [\"True Link\", \"Not a Link\"], \"scheme\": \"tableau10\"}}, \"opacity\": {\"condition\": {\"value\": 0.7, \"selection\": \"selector001\"}, \"value\": 0.2}, \"tooltip\": [{\"type\": \"quantitative\", \"field\": \"model_score\", \"title\": \"Model Score\"}, {\"type\": \"nominal\", \"field\": \"ground_truth\", \"title\": \"Ground Truth\"}, {\"type\": \"quantitative\", \"field\": \"count\", \"title\": \"Count of Links\"}], \"x\": {\"type\": \"quantitative\", \"axis\": {\"tickCount\": 5, \"title\": \"Model Score (Binned)\"}, \"bin\": {\"extent\": [0, 1], \"step\": 0.01}, \"field\": \"model_score\"}, \"y\": {\"type\": \"quantitative\", \"axis\": {\"title\": \"Count of Links\"}, \"field\": \"count\", \"stack\": null}}, \"height\": 400, \"selection\": {\"selector001\": {\"type\": \"multi\", \"fields\": [\"ground_truth\"], \"bind\": \"legend\"}, \"selector002\": {\"type\": \"interval\", \"bind\": \"scales\", \"encodings\": [\"x\", \"y\"]}}, \"title\": \"Model Score Distribution\", \"width\": 800, \"$schema\": \"https://vega.github.io/schema/vega-lite/v4.8.1.json\", \"datasets\": {\"data-ab3453ec2b203f7f92a6d0e55d5b9b61\": [{\"model_score\": 0.0, \"ground_truth\": \"True Link\", \"count\": 21}, {\"model_score\": 0.01, \"ground_truth\": \"True Link\", \"count\": 3}, {\"model_score\": 0.04, \"ground_truth\": \"True Link\", \"count\": 2}, {\"model_score\": 0.05, \"ground_truth\": \"True Link\", \"count\": 1}, {\"model_score\": 0.06, \"ground_truth\": \"True Link\", \"count\": 2}, {\"model_score\": 0.07, \"ground_truth\": \"True Link\", \"count\": 1}, {\"model_score\": 0.09, \"ground_truth\": \"True Link\", \"count\": 1}, {\"model_score\": 0.1, \"ground_truth\": \"True Link\", \"count\": 1}, {\"model_score\": 0.12, \"ground_truth\": \"True Link\", \"count\": 5}, {\"model_score\": 0.19, \"ground_truth\": \"True Link\", \"count\": 1}, {\"model_score\": 0.2, \"ground_truth\": \"True Link\", \"count\": 1}, {\"model_score\": 0.22, \"ground_truth\": \"True Link\", \"count\": 1}, {\"model_score\": 0.29, \"ground_truth\": \"True Link\", \"count\": 1}, {\"model_score\": 0.32, \"ground_truth\": \"True Link\", \"count\": 1}, {\"model_score\": 0.33, \"ground_truth\": \"True Link\", \"count\": 1}, {\"model_score\": 0.36, \"ground_truth\": \"True Link\", \"count\": 1}, {\"model_score\": 0.37, \"ground_truth\": \"True Link\", \"count\": 1}, {\"model_score\": 0.47, \"ground_truth\": \"True Link\", \"count\": 1}, {\"model_score\": 0.48, \"ground_truth\": \"True Link\", \"count\": 1}, {\"model_score\": 0.55, \"ground_truth\": \"True Link\", \"count\": 2}, {\"model_score\": 0.57, \"ground_truth\": \"True Link\", \"count\": 1}, {\"model_score\": 0.58, \"ground_truth\": \"True Link\", \"count\": 1}, {\"model_score\": 0.6, \"ground_truth\": \"True Link\", \"count\": 3}, {\"model_score\": 0.63, \"ground_truth\": \"True Link\", \"count\": 1}, {\"model_score\": 0.64, \"ground_truth\": \"True Link\", \"count\": 2}, {\"model_score\": 0.68, \"ground_truth\": \"True Link\", \"count\": 1}, {\"model_score\": 0.77, \"ground_truth\": \"True Link\", \"count\": 1}, {\"model_score\": 0.81, \"ground_truth\": \"True Link\", \"count\": 1}, {\"model_score\": 0.82, \"ground_truth\": \"True Link\", \"count\": 3}, {\"model_score\": 0.84, \"ground_truth\": \"True Link\", \"count\": 2}, {\"model_score\": 0.85, \"ground_truth\": \"True Link\", \"count\": 1}, {\"model_score\": 0.88, \"ground_truth\": \"True Link\", \"count\": 5}, {\"model_score\": 0.92, \"ground_truth\": \"True Link\", \"count\": 1}, {\"model_score\": 0.93, \"ground_truth\": \"True Link\", \"count\": 8}, {\"model_score\": 0.94, \"ground_truth\": \"True Link\", \"count\": 1}, {\"model_score\": 0.95, \"ground_truth\": \"True Link\", \"count\": 1}, {\"model_score\": 0.96, \"ground_truth\": \"True Link\", \"count\": 7}, {\"model_score\": 0.97, \"ground_truth\": \"True Link\", \"count\": 3}, {\"model_score\": 0.98, \"ground_truth\": \"True Link\", \"count\": 15}, {\"model_score\": 0.99, \"ground_truth\": \"True Link\", \"count\": 22}, {\"model_score\": 1.0, \"ground_truth\": \"True Link\", \"count\": 1115}]}}, {\"mode\": \"vega-lite\"});\n",
              "</script>"
            ]
          },
          "metadata": {},
          "execution_count": 30
        }
      ]
    },
    {
      "cell_type": "markdown",
      "metadata": {
        "id": "2dLKvFrdXygR"
      },
      "source": [
        "### Precision and Recall vs. Model Score"
      ]
    },
    {
      "cell_type": "code",
      "metadata": {
        "id": "kcMkPVDZXygR"
      },
      "source": [
        "df_eval = tutorial.evaluate_linking(\n",
        "    df=df_predictions\n",
        ")"
      ],
      "execution_count": 31,
      "outputs": []
    },
    {
      "cell_type": "code",
      "metadata": {
        "id": "UGXvwHw2XygR",
        "colab": {
          "base_uri": "https://localhost:8080/",
          "height": 206
        },
        "outputId": "8c73e6f4-d5a8-4b32-ff10-ed2cb9c36f7c"
      },
      "source": [
        "df_eval.head()"
      ],
      "execution_count": 32,
      "outputs": [
        {
          "output_type": "execute_result",
          "data": {
            "text/html": [
              "<div>\n",
              "<style scoped>\n",
              "    .dataframe tbody tr th:only-of-type {\n",
              "        vertical-align: middle;\n",
              "    }\n",
              "\n",
              "    .dataframe tbody tr th {\n",
              "        vertical-align: top;\n",
              "    }\n",
              "\n",
              "    .dataframe thead th {\n",
              "        text-align: right;\n",
              "    }\n",
              "</style>\n",
              "<table border=\"1\" class=\"dataframe\">\n",
              "  <thead>\n",
              "    <tr style=\"text-align: right;\">\n",
              "      <th></th>\n",
              "      <th>threshold</th>\n",
              "      <th>tp</th>\n",
              "      <th>fp</th>\n",
              "      <th>tn</th>\n",
              "      <th>fn</th>\n",
              "      <th>precision</th>\n",
              "      <th>recall</th>\n",
              "      <th>f1</th>\n",
              "    </tr>\n",
              "  </thead>\n",
              "  <tbody>\n",
              "    <tr>\n",
              "      <th>0</th>\n",
              "      <td>0.000000</td>\n",
              "      <td>1244</td>\n",
              "      <td>0</td>\n",
              "      <td>0</td>\n",
              "      <td>0</td>\n",
              "      <td>1.0</td>\n",
              "      <td>1.000000</td>\n",
              "      <td>1.000000</td>\n",
              "    </tr>\n",
              "    <tr>\n",
              "      <th>1</th>\n",
              "      <td>0.020408</td>\n",
              "      <td>1220</td>\n",
              "      <td>0</td>\n",
              "      <td>0</td>\n",
              "      <td>24</td>\n",
              "      <td>1.0</td>\n",
              "      <td>0.980707</td>\n",
              "      <td>0.990260</td>\n",
              "    </tr>\n",
              "    <tr>\n",
              "      <th>2</th>\n",
              "      <td>0.040816</td>\n",
              "      <td>1219</td>\n",
              "      <td>0</td>\n",
              "      <td>0</td>\n",
              "      <td>25</td>\n",
              "      <td>1.0</td>\n",
              "      <td>0.979904</td>\n",
              "      <td>0.989850</td>\n",
              "    </tr>\n",
              "    <tr>\n",
              "      <th>3</th>\n",
              "      <td>0.061224</td>\n",
              "      <td>1215</td>\n",
              "      <td>0</td>\n",
              "      <td>0</td>\n",
              "      <td>29</td>\n",
              "      <td>1.0</td>\n",
              "      <td>0.976688</td>\n",
              "      <td>0.988207</td>\n",
              "    </tr>\n",
              "    <tr>\n",
              "      <th>4</th>\n",
              "      <td>0.081633</td>\n",
              "      <td>1214</td>\n",
              "      <td>0</td>\n",
              "      <td>0</td>\n",
              "      <td>30</td>\n",
              "      <td>1.0</td>\n",
              "      <td>0.975884</td>\n",
              "      <td>0.987795</td>\n",
              "    </tr>\n",
              "  </tbody>\n",
              "</table>\n",
              "</div>"
            ],
            "text/plain": [
              "   threshold    tp  fp  tn  fn  precision    recall        f1\n",
              "0   0.000000  1244   0   0   0        1.0  1.000000  1.000000\n",
              "1   0.020408  1220   0   0  24        1.0  0.980707  0.990260\n",
              "2   0.040816  1219   0   0  25        1.0  0.979904  0.989850\n",
              "3   0.061224  1215   0   0  29        1.0  0.976688  0.988207\n",
              "4   0.081633  1214   0   0  30        1.0  0.975884  0.987795"
            ]
          },
          "metadata": {},
          "execution_count": 32
        }
      ]
    },
    {
      "cell_type": "code",
      "metadata": {
        "id": "iM17y0t4XygR",
        "colab": {
          "base_uri": "https://localhost:8080/",
          "height": 485
        },
        "outputId": "f2c2dae7-34ca-432b-cbaa-a8867caa916c"
      },
      "source": [
        "tutorial.plot_precision_recall_vs_threshold(df_eval)"
      ],
      "execution_count": 33,
      "outputs": [
        {
          "output_type": "execute_result",
          "data": {
            "text/plain": [
              "alt.LayerChart(...)"
            ],
            "text/html": [
              "\n",
              "<div id=\"altair-viz-d3a2a0b3485b4db1ac852395482a65a5\"></div>\n",
              "<script type=\"text/javascript\">\n",
              "  (function(spec, embedOpt){\n",
              "    let outputDiv = document.currentScript.previousElementSibling;\n",
              "    if (outputDiv.id !== \"altair-viz-d3a2a0b3485b4db1ac852395482a65a5\") {\n",
              "      outputDiv = document.getElementById(\"altair-viz-d3a2a0b3485b4db1ac852395482a65a5\");\n",
              "    }\n",
              "    const paths = {\n",
              "      \"vega\": \"https://cdn.jsdelivr.net/npm//vega@5?noext\",\n",
              "      \"vega-lib\": \"https://cdn.jsdelivr.net/npm//vega-lib?noext\",\n",
              "      \"vega-lite\": \"https://cdn.jsdelivr.net/npm//vega-lite@4.8.1?noext\",\n",
              "      \"vega-embed\": \"https://cdn.jsdelivr.net/npm//vega-embed@6?noext\",\n",
              "    };\n",
              "\n",
              "    function loadScript(lib) {\n",
              "      return new Promise(function(resolve, reject) {\n",
              "        var s = document.createElement('script');\n",
              "        s.src = paths[lib];\n",
              "        s.async = true;\n",
              "        s.onload = () => resolve(paths[lib]);\n",
              "        s.onerror = () => reject(`Error loading script: ${paths[lib]}`);\n",
              "        document.getElementsByTagName(\"head\")[0].appendChild(s);\n",
              "      });\n",
              "    }\n",
              "\n",
              "    function showError(err) {\n",
              "      outputDiv.innerHTML = `<div class=\"error\" style=\"color:red;\">${err}</div>`;\n",
              "      throw err;\n",
              "    }\n",
              "\n",
              "    function displayChart(vegaEmbed) {\n",
              "      vegaEmbed(outputDiv, spec, embedOpt)\n",
              "        .catch(err => showError(`Javascript Error: ${err.message}<br>This usually means there's a typo in your chart specification. See the javascript console for the full traceback.`));\n",
              "    }\n",
              "\n",
              "    if(typeof define === \"function\" && define.amd) {\n",
              "      requirejs.config({paths});\n",
              "      require([\"vega-embed\"], displayChart, err => showError(`Error loading script: ${err.message}`));\n",
              "    } else if (typeof vegaEmbed === \"function\") {\n",
              "      displayChart(vegaEmbed);\n",
              "    } else {\n",
              "      loadScript(\"vega\")\n",
              "        .then(() => loadScript(\"vega-lite\"))\n",
              "        .then(() => loadScript(\"vega-embed\"))\n",
              "        .catch(showError)\n",
              "        .then(() => displayChart(vegaEmbed));\n",
              "    }\n",
              "  })({\"config\": {\"view\": {\"continuousWidth\": 400, \"continuousHeight\": 300}}, \"layer\": [{\"mark\": \"line\", \"encoding\": {\"color\": {\"type\": \"nominal\", \"field\": \"variable\", \"legend\": {\"title\": \"Variable\"}}, \"tooltip\": [{\"type\": \"nominal\", \"field\": \"variable\"}, {\"type\": \"quantitative\", \"field\": \"threshold\"}, {\"type\": \"quantitative\", \"field\": \"value\"}], \"x\": {\"type\": \"quantitative\", \"axis\": {\"title\": \"Model Threshold\"}, \"field\": \"threshold\"}, \"y\": {\"type\": \"quantitative\", \"axis\": {\"title\": \"Precision/Recall Value\"}, \"field\": \"value\", \"scale\": {\"domain\": [0, 1]}}}, \"selection\": {\"selector004\": {\"type\": \"interval\", \"bind\": \"scales\", \"encodings\": [\"x\", \"y\"]}}, \"title\": \"Precision and Recall v.s. Model Threshold\"}, {\"mark\": \"point\", \"encoding\": {\"opacity\": {\"value\": 0}, \"x\": {\"type\": \"quantitative\", \"field\": \"threshold\"}}, \"selection\": {\"selector003\": {\"type\": \"single\", \"nearest\": true, \"on\": \"mouseover\", \"fields\": [\"threshold\"], \"empty\": \"none\"}}}, {\"mark\": \"point\", \"encoding\": {\"color\": {\"type\": \"nominal\", \"field\": \"variable\", \"legend\": {\"title\": \"Variable\"}}, \"opacity\": {\"condition\": {\"value\": 1, \"selection\": \"selector003\"}, \"value\": 0}, \"tooltip\": [{\"type\": \"nominal\", \"field\": \"variable\"}, {\"type\": \"quantitative\", \"field\": \"threshold\"}, {\"type\": \"quantitative\", \"field\": \"value\"}], \"x\": {\"type\": \"quantitative\", \"axis\": {\"title\": \"Model Threshold\"}, \"field\": \"threshold\"}, \"y\": {\"type\": \"quantitative\", \"axis\": {\"title\": \"Precision/Recall Value\"}, \"field\": \"value\", \"scale\": {\"domain\": [0, 1]}}}, \"title\": \"Precision and Recall v.s. Model Threshold\"}, {\"mark\": {\"type\": \"rule\", \"color\": \"gray\"}, \"encoding\": {\"x\": {\"type\": \"quantitative\", \"field\": \"threshold\"}}, \"transform\": [{\"filter\": {\"selection\": \"selector003\"}}]}, {\"mark\": {\"type\": \"text\", \"align\": \"right\", \"dx\": -10, \"dy\": -5, \"fontWeight\": 300, \"lineBreak\": \"\\n\"}, \"encoding\": {\"color\": {\"type\": \"nominal\", \"field\": \"variable\", \"legend\": {\"title\": \"Variable\"}}, \"text\": {\"condition\": {\"type\": \"nominal\", \"field\": \"label\", \"selection\": \"selector003\"}, \"value\": \" \"}, \"tooltip\": [{\"type\": \"nominal\", \"field\": \"variable\"}, {\"type\": \"quantitative\", \"field\": \"threshold\"}, {\"type\": \"quantitative\", \"field\": \"value\"}], \"x\": {\"type\": \"quantitative\", \"axis\": {\"title\": \"Model Threshold\"}, \"field\": \"threshold\"}, \"y\": {\"type\": \"quantitative\", \"axis\": {\"title\": \"Precision/Recall Value\"}, \"field\": \"value\", \"scale\": {\"domain\": [0, 1]}}}, \"title\": \"Precision and Recall v.s. Model Threshold\"}], \"data\": {\"name\": \"data-40b110b458ff5d02e00b4e895422475f\"}, \"height\": 400, \"width\": 800, \"$schema\": \"https://vega.github.io/schema/vega-lite/v4.8.1.json\", \"datasets\": {\"data-40b110b458ff5d02e00b4e895422475f\": [{\"threshold\": 0.0, \"label\": \"threshold: 0.0\\nprecision: 1.0\\nrecall: 1.0\", \"variable\": \"recall\", \"value\": 1.0}, {\"threshold\": 0.02040816326530612, \"label\": \"threshold: 0.02\\nprecision: 1.0\\nrecall: 0.981\", \"variable\": \"recall\", \"value\": 0.9807073954983923}, {\"threshold\": 0.04081632653061224, \"label\": \"threshold: 0.041\\nprecision: 1.0\\nrecall: 0.98\", \"variable\": \"recall\", \"value\": 0.979903536977492}, {\"threshold\": 0.061224489795918366, \"label\": \"threshold: 0.061\\nprecision: 1.0\\nrecall: 0.977\", \"variable\": \"recall\", \"value\": 0.9766881028938906}, {\"threshold\": 0.08163265306122448, \"label\": \"threshold: 0.082\\nprecision: 1.0\\nrecall: 0.976\", \"variable\": \"recall\", \"value\": 0.9758842443729904}, {\"threshold\": 0.1020408163265306, \"label\": \"threshold: 0.102\\nprecision: 1.0\\nrecall: 0.975\", \"variable\": \"recall\", \"value\": 0.97508038585209}, {\"threshold\": 0.12244897959183673, \"label\": \"threshold: 0.122\\nprecision: 1.0\\nrecall: 0.971\", \"variable\": \"recall\", \"value\": 0.9710610932475884}, {\"threshold\": 0.14285714285714285, \"label\": \"threshold: 0.143\\nprecision: 1.0\\nrecall: 0.97\", \"variable\": \"recall\", \"value\": 0.9702572347266881}, {\"threshold\": 0.16326530612244897, \"label\": \"threshold: 0.163\\nprecision: 1.0\\nrecall: 0.97\", \"variable\": \"recall\", \"value\": 0.9702572347266881}, {\"threshold\": 0.18367346938775508, \"label\": \"threshold: 0.184\\nprecision: 1.0\\nrecall: 0.97\", \"variable\": \"recall\", \"value\": 0.9702572347266881}, {\"threshold\": 0.2040816326530612, \"label\": \"threshold: 0.204\\nprecision: 1.0\\nrecall: 0.969\", \"variable\": \"recall\", \"value\": 0.9686495176848875}, {\"threshold\": 0.22448979591836732, \"label\": \"threshold: 0.224\\nprecision: 1.0\\nrecall: 0.968\", \"variable\": \"recall\", \"value\": 0.9678456591639871}, {\"threshold\": 0.24489795918367346, \"label\": \"threshold: 0.245\\nprecision: 1.0\\nrecall: 0.968\", \"variable\": \"recall\", \"value\": 0.9678456591639871}, {\"threshold\": 0.26530612244897955, \"label\": \"threshold: 0.265\\nprecision: 1.0\\nrecall: 0.968\", \"variable\": \"recall\", \"value\": 0.9678456591639871}, {\"threshold\": 0.2857142857142857, \"label\": \"threshold: 0.286\\nprecision: 1.0\\nrecall: 0.968\", \"variable\": \"recall\", \"value\": 0.9678456591639871}, {\"threshold\": 0.3061224489795918, \"label\": \"threshold: 0.306\\nprecision: 1.0\\nrecall: 0.967\", \"variable\": \"recall\", \"value\": 0.9670418006430869}, {\"threshold\": 0.32653061224489793, \"label\": \"threshold: 0.327\\nprecision: 1.0\\nrecall: 0.966\", \"variable\": \"recall\", \"value\": 0.9662379421221865}, {\"threshold\": 0.3469387755102041, \"label\": \"threshold: 0.347\\nprecision: 1.0\\nrecall: 0.965\", \"variable\": \"recall\", \"value\": 0.9654340836012861}, {\"threshold\": 0.36734693877551017, \"label\": \"threshold: 0.367\\nprecision: 1.0\\nrecall: 0.964\", \"variable\": \"recall\", \"value\": 0.9638263665594855}, {\"threshold\": 0.3877551020408163, \"label\": \"threshold: 0.388\\nprecision: 1.0\\nrecall: 0.964\", \"variable\": \"recall\", \"value\": 0.9638263665594855}, {\"threshold\": 0.4081632653061224, \"label\": \"threshold: 0.408\\nprecision: 1.0\\nrecall: 0.964\", \"variable\": \"recall\", \"value\": 0.9638263665594855}, {\"threshold\": 0.42857142857142855, \"label\": \"threshold: 0.429\\nprecision: 1.0\\nrecall: 0.964\", \"variable\": \"recall\", \"value\": 0.9638263665594855}, {\"threshold\": 0.44897959183673464, \"label\": \"threshold: 0.449\\nprecision: 1.0\\nrecall: 0.964\", \"variable\": \"recall\", \"value\": 0.9638263665594855}, {\"threshold\": 0.4693877551020408, \"label\": \"threshold: 0.469\\nprecision: 1.0\\nrecall: 0.963\", \"variable\": \"recall\", \"value\": 0.9630225080385852}, {\"threshold\": 0.4897959183673469, \"label\": \"threshold: 0.49\\nprecision: 1.0\\nrecall: 0.962\", \"variable\": \"recall\", \"value\": 0.9622186495176849}, {\"threshold\": 0.5102040816326531, \"label\": \"threshold: 0.51\\nprecision: 1.0\\nrecall: 0.962\", \"variable\": \"recall\", \"value\": 0.9622186495176849}, {\"threshold\": 0.5306122448979591, \"label\": \"threshold: 0.531\\nprecision: 1.0\\nrecall: 0.962\", \"variable\": \"recall\", \"value\": 0.9622186495176849}, {\"threshold\": 0.5510204081632653, \"label\": \"threshold: 0.551\\nprecision: 1.0\\nrecall: 0.962\", \"variable\": \"recall\", \"value\": 0.9622186495176849}, {\"threshold\": 0.5714285714285714, \"label\": \"threshold: 0.571\\nprecision: 1.0\\nrecall: 0.961\", \"variable\": \"recall\", \"value\": 0.9606109324758842}, {\"threshold\": 0.5918367346938775, \"label\": \"threshold: 0.592\\nprecision: 1.0\\nrecall: 0.959\", \"variable\": \"recall\", \"value\": 0.9590032154340836}, {\"threshold\": 0.6122448979591836, \"label\": \"threshold: 0.612\\nprecision: 1.0\\nrecall: 0.957\", \"variable\": \"recall\", \"value\": 0.9565916398713826}, {\"threshold\": 0.6326530612244897, \"label\": \"threshold: 0.633\\nprecision: 1.0\\nrecall: 0.956\", \"variable\": \"recall\", \"value\": 0.9557877813504824}, {\"threshold\": 0.6530612244897959, \"label\": \"threshold: 0.653\\nprecision: 1.0\\nrecall: 0.954\", \"variable\": \"recall\", \"value\": 0.9541800643086816}, {\"threshold\": 0.673469387755102, \"label\": \"threshold: 0.673\\nprecision: 1.0\\nrecall: 0.954\", \"variable\": \"recall\", \"value\": 0.9541800643086816}, {\"threshold\": 0.6938775510204082, \"label\": \"threshold: 0.694\\nprecision: 1.0\\nrecall: 0.953\", \"variable\": \"recall\", \"value\": 0.9533762057877814}, {\"threshold\": 0.7142857142857142, \"label\": \"threshold: 0.714\\nprecision: 1.0\\nrecall: 0.953\", \"variable\": \"recall\", \"value\": 0.9533762057877814}, {\"threshold\": 0.7346938775510203, \"label\": \"threshold: 0.735\\nprecision: 1.0\\nrecall: 0.953\", \"variable\": \"recall\", \"value\": 0.9533762057877814}, {\"threshold\": 0.7551020408163265, \"label\": \"threshold: 0.755\\nprecision: 1.0\\nrecall: 0.953\", \"variable\": \"recall\", \"value\": 0.9533762057877814}, {\"threshold\": 0.7755102040816326, \"label\": \"threshold: 0.776\\nprecision: 1.0\\nrecall: 0.953\", \"variable\": \"recall\", \"value\": 0.952572347266881}, {\"threshold\": 0.7959183673469387, \"label\": \"threshold: 0.796\\nprecision: 1.0\\nrecall: 0.953\", \"variable\": \"recall\", \"value\": 0.952572347266881}, {\"threshold\": 0.8163265306122448, \"label\": \"threshold: 0.816\\nprecision: 1.0\\nrecall: 0.952\", \"variable\": \"recall\", \"value\": 0.9517684887459807}, {\"threshold\": 0.836734693877551, \"label\": \"threshold: 0.837\\nprecision: 1.0\\nrecall: 0.949\", \"variable\": \"recall\", \"value\": 0.9493569131832797}, {\"threshold\": 0.8571428571428571, \"label\": \"threshold: 0.857\\nprecision: 1.0\\nrecall: 0.947\", \"variable\": \"recall\", \"value\": 0.9469453376205788}, {\"threshold\": 0.8775510204081632, \"label\": \"threshold: 0.878\\nprecision: 1.0\\nrecall: 0.947\", \"variable\": \"recall\", \"value\": 0.9469453376205788}, {\"threshold\": 0.8979591836734693, \"label\": \"threshold: 0.898\\nprecision: 1.0\\nrecall: 0.943\", \"variable\": \"recall\", \"value\": 0.9429260450160771}, {\"threshold\": 0.9183673469387754, \"label\": \"threshold: 0.918\\nprecision: 1.0\\nrecall: 0.942\", \"variable\": \"recall\", \"value\": 0.9421221864951769}, {\"threshold\": 0.9387755102040816, \"label\": \"threshold: 0.939\\nprecision: 1.0\\nrecall: 0.936\", \"variable\": \"recall\", \"value\": 0.9356913183279743}, {\"threshold\": 0.9591836734693877, \"label\": \"threshold: 0.959\\nprecision: 1.0\\nrecall: 0.931\", \"variable\": \"recall\", \"value\": 0.9308681672025724}, {\"threshold\": 0.9795918367346939, \"label\": \"threshold: 0.98\\nprecision: 1.0\\nrecall: 0.924\", \"variable\": \"recall\", \"value\": 0.9236334405144695}, {\"threshold\": 1.0, \"label\": \"threshold: 1.0\\nprecision: 1.0\\nrecall: 0.237\", \"variable\": \"recall\", \"value\": 0.23713826366559485}, {\"threshold\": 0.0, \"label\": \"threshold: 0.0\\nprecision: 1.0\\nrecall: 1.0\", \"variable\": \"precision\", \"value\": 1.0}, {\"threshold\": 0.02040816326530612, \"label\": \"threshold: 0.02\\nprecision: 1.0\\nrecall: 0.981\", \"variable\": \"precision\", \"value\": 1.0}, {\"threshold\": 0.04081632653061224, \"label\": \"threshold: 0.041\\nprecision: 1.0\\nrecall: 0.98\", \"variable\": \"precision\", \"value\": 1.0}, {\"threshold\": 0.061224489795918366, \"label\": \"threshold: 0.061\\nprecision: 1.0\\nrecall: 0.977\", \"variable\": \"precision\", \"value\": 1.0}, {\"threshold\": 0.08163265306122448, \"label\": \"threshold: 0.082\\nprecision: 1.0\\nrecall: 0.976\", \"variable\": \"precision\", \"value\": 1.0}, {\"threshold\": 0.1020408163265306, \"label\": \"threshold: 0.102\\nprecision: 1.0\\nrecall: 0.975\", \"variable\": \"precision\", \"value\": 1.0}, {\"threshold\": 0.12244897959183673, \"label\": \"threshold: 0.122\\nprecision: 1.0\\nrecall: 0.971\", \"variable\": \"precision\", \"value\": 1.0}, {\"threshold\": 0.14285714285714285, \"label\": \"threshold: 0.143\\nprecision: 1.0\\nrecall: 0.97\", \"variable\": \"precision\", \"value\": 1.0}, {\"threshold\": 0.16326530612244897, \"label\": \"threshold: 0.163\\nprecision: 1.0\\nrecall: 0.97\", \"variable\": \"precision\", \"value\": 1.0}, {\"threshold\": 0.18367346938775508, \"label\": \"threshold: 0.184\\nprecision: 1.0\\nrecall: 0.97\", \"variable\": \"precision\", \"value\": 1.0}, {\"threshold\": 0.2040816326530612, \"label\": \"threshold: 0.204\\nprecision: 1.0\\nrecall: 0.969\", \"variable\": \"precision\", \"value\": 1.0}, {\"threshold\": 0.22448979591836732, \"label\": \"threshold: 0.224\\nprecision: 1.0\\nrecall: 0.968\", \"variable\": \"precision\", \"value\": 1.0}, {\"threshold\": 0.24489795918367346, \"label\": \"threshold: 0.245\\nprecision: 1.0\\nrecall: 0.968\", \"variable\": \"precision\", \"value\": 1.0}, {\"threshold\": 0.26530612244897955, \"label\": \"threshold: 0.265\\nprecision: 1.0\\nrecall: 0.968\", \"variable\": \"precision\", \"value\": 1.0}, {\"threshold\": 0.2857142857142857, \"label\": \"threshold: 0.286\\nprecision: 1.0\\nrecall: 0.968\", \"variable\": \"precision\", \"value\": 1.0}, {\"threshold\": 0.3061224489795918, \"label\": \"threshold: 0.306\\nprecision: 1.0\\nrecall: 0.967\", \"variable\": \"precision\", \"value\": 1.0}, {\"threshold\": 0.32653061224489793, \"label\": \"threshold: 0.327\\nprecision: 1.0\\nrecall: 0.966\", \"variable\": \"precision\", \"value\": 1.0}, {\"threshold\": 0.3469387755102041, \"label\": \"threshold: 0.347\\nprecision: 1.0\\nrecall: 0.965\", \"variable\": \"precision\", \"value\": 1.0}, {\"threshold\": 0.36734693877551017, \"label\": \"threshold: 0.367\\nprecision: 1.0\\nrecall: 0.964\", \"variable\": \"precision\", \"value\": 1.0}, {\"threshold\": 0.3877551020408163, \"label\": \"threshold: 0.388\\nprecision: 1.0\\nrecall: 0.964\", \"variable\": \"precision\", \"value\": 1.0}, {\"threshold\": 0.4081632653061224, \"label\": \"threshold: 0.408\\nprecision: 1.0\\nrecall: 0.964\", \"variable\": \"precision\", \"value\": 1.0}, {\"threshold\": 0.42857142857142855, \"label\": \"threshold: 0.429\\nprecision: 1.0\\nrecall: 0.964\", \"variable\": \"precision\", \"value\": 1.0}, {\"threshold\": 0.44897959183673464, \"label\": \"threshold: 0.449\\nprecision: 1.0\\nrecall: 0.964\", \"variable\": \"precision\", \"value\": 1.0}, {\"threshold\": 0.4693877551020408, \"label\": \"threshold: 0.469\\nprecision: 1.0\\nrecall: 0.963\", \"variable\": \"precision\", \"value\": 1.0}, {\"threshold\": 0.4897959183673469, \"label\": \"threshold: 0.49\\nprecision: 1.0\\nrecall: 0.962\", \"variable\": \"precision\", \"value\": 1.0}, {\"threshold\": 0.5102040816326531, \"label\": \"threshold: 0.51\\nprecision: 1.0\\nrecall: 0.962\", \"variable\": \"precision\", \"value\": 1.0}, {\"threshold\": 0.5306122448979591, \"label\": \"threshold: 0.531\\nprecision: 1.0\\nrecall: 0.962\", \"variable\": \"precision\", \"value\": 1.0}, {\"threshold\": 0.5510204081632653, \"label\": \"threshold: 0.551\\nprecision: 1.0\\nrecall: 0.962\", \"variable\": \"precision\", \"value\": 1.0}, {\"threshold\": 0.5714285714285714, \"label\": \"threshold: 0.571\\nprecision: 1.0\\nrecall: 0.961\", \"variable\": \"precision\", \"value\": 1.0}, {\"threshold\": 0.5918367346938775, \"label\": \"threshold: 0.592\\nprecision: 1.0\\nrecall: 0.959\", \"variable\": \"precision\", \"value\": 1.0}, {\"threshold\": 0.6122448979591836, \"label\": \"threshold: 0.612\\nprecision: 1.0\\nrecall: 0.957\", \"variable\": \"precision\", \"value\": 1.0}, {\"threshold\": 0.6326530612244897, \"label\": \"threshold: 0.633\\nprecision: 1.0\\nrecall: 0.956\", \"variable\": \"precision\", \"value\": 1.0}, {\"threshold\": 0.6530612244897959, \"label\": \"threshold: 0.653\\nprecision: 1.0\\nrecall: 0.954\", \"variable\": \"precision\", \"value\": 1.0}, {\"threshold\": 0.673469387755102, \"label\": \"threshold: 0.673\\nprecision: 1.0\\nrecall: 0.954\", \"variable\": \"precision\", \"value\": 1.0}, {\"threshold\": 0.6938775510204082, \"label\": \"threshold: 0.694\\nprecision: 1.0\\nrecall: 0.953\", \"variable\": \"precision\", \"value\": 1.0}, {\"threshold\": 0.7142857142857142, \"label\": \"threshold: 0.714\\nprecision: 1.0\\nrecall: 0.953\", \"variable\": \"precision\", \"value\": 1.0}, {\"threshold\": 0.7346938775510203, \"label\": \"threshold: 0.735\\nprecision: 1.0\\nrecall: 0.953\", \"variable\": \"precision\", \"value\": 1.0}, {\"threshold\": 0.7551020408163265, \"label\": \"threshold: 0.755\\nprecision: 1.0\\nrecall: 0.953\", \"variable\": \"precision\", \"value\": 1.0}, {\"threshold\": 0.7755102040816326, \"label\": \"threshold: 0.776\\nprecision: 1.0\\nrecall: 0.953\", \"variable\": \"precision\", \"value\": 1.0}, {\"threshold\": 0.7959183673469387, \"label\": \"threshold: 0.796\\nprecision: 1.0\\nrecall: 0.953\", \"variable\": \"precision\", \"value\": 1.0}, {\"threshold\": 0.8163265306122448, \"label\": \"threshold: 0.816\\nprecision: 1.0\\nrecall: 0.952\", \"variable\": \"precision\", \"value\": 1.0}, {\"threshold\": 0.836734693877551, \"label\": \"threshold: 0.837\\nprecision: 1.0\\nrecall: 0.949\", \"variable\": \"precision\", \"value\": 1.0}, {\"threshold\": 0.8571428571428571, \"label\": \"threshold: 0.857\\nprecision: 1.0\\nrecall: 0.947\", \"variable\": \"precision\", \"value\": 1.0}, {\"threshold\": 0.8775510204081632, \"label\": \"threshold: 0.878\\nprecision: 1.0\\nrecall: 0.947\", \"variable\": \"precision\", \"value\": 1.0}, {\"threshold\": 0.8979591836734693, \"label\": \"threshold: 0.898\\nprecision: 1.0\\nrecall: 0.943\", \"variable\": \"precision\", \"value\": 1.0}, {\"threshold\": 0.9183673469387754, \"label\": \"threshold: 0.918\\nprecision: 1.0\\nrecall: 0.942\", \"variable\": \"precision\", \"value\": 1.0}, {\"threshold\": 0.9387755102040816, \"label\": \"threshold: 0.939\\nprecision: 1.0\\nrecall: 0.936\", \"variable\": \"precision\", \"value\": 1.0}, {\"threshold\": 0.9591836734693877, \"label\": \"threshold: 0.959\\nprecision: 1.0\\nrecall: 0.931\", \"variable\": \"precision\", \"value\": 1.0}, {\"threshold\": 0.9795918367346939, \"label\": \"threshold: 0.98\\nprecision: 1.0\\nrecall: 0.924\", \"variable\": \"precision\", \"value\": 1.0}, {\"threshold\": 1.0, \"label\": \"threshold: 1.0\\nprecision: 1.0\\nrecall: 0.237\", \"variable\": \"precision\", \"value\": 1.0}]}}, {\"mode\": \"vega-lite\"});\n",
              "</script>"
            ]
          },
          "metadata": {},
          "execution_count": 33
        }
      ]
    },
    {
      "cell_type": "markdown",
      "metadata": {
        "id": "FD1vkNkpXygR"
      },
      "source": [
        "## Iterating with Active Learning"
      ]
    },
    {
      "cell_type": "markdown",
      "metadata": {
        "id": "m8oqrMh3XygS"
      },
      "source": [
        "When using active learning, we iterate on our linking solution, and incorporate progressively more labeled training data. Perhaps we're not satisfied with the current performance of the blockers or classifier, and we'd like to create more labeled examples for dedupe to train on.\n",
        "\n",
        "Recall that earlier, we saved off our existing training data from the first labeling session. We can load this persisted data into a `dedupe` linker, and kick off another labeling session. Perhaps, after investigating the data during our first cycle, we don't think that dedupe should include `address_1` and `address2` in its comparators."
      ]
    },
    {
      "cell_type": "markdown",
      "metadata": {
        "id": "xbp88TDzXygS"
      },
      "source": [
        "### Tweak the Linker and Use Existing Training Data"
      ]
    },
    {
      "cell_type": "code",
      "metadata": {
        "id": "HJVIkXeOXygS",
        "colab": {
          "base_uri": "https://localhost:8080/"
        },
        "outputId": "a883c7b5-355e-4be4-ed8c-89b1c9a79512"
      },
      "source": [
        "%%time\n",
        "\n",
        "fields = [\n",
        "    { \"field\" : \"first_name\", \"type\" : \"Name\" },\n",
        "    { \"field\" : \"surname\", \"type\" : \"Name\" },\n",
        "    { \"field\" : \"suburb\", \"type\" : \"ShortString\" },\n",
        "    { \"field\" : \"postcode\", \"type\" : \"Exact\" },\n",
        "    { \"field\" : \"state\", \"type\" : \"Exact\" },\n",
        "    { \"field\" : \"date_of_birth\", \"type\" : \"DateTime\" },\n",
        "    { \"field\" : \"soc_sec_id\", \"type\" : \"Exact\" },\n",
        "]\n",
        "\n",
        "linker2 = dedupe.RecordLink(fields)\n",
        "\n",
        "with open(TRAINING_FILE, \"r\") as fh:\n",
        "    linker2.prepare_training(records_A, records_B, training_file=fh)"
      ],
      "execution_count": 34,
      "outputs": [
        {
          "output_type": "stream",
          "name": "stderr",
          "text": [
            "INFO:dedupe.api:reading training from file\n",
            "INFO:dedupe.training:Final predicate set:\n",
            "INFO:dedupe.training:SimplePredicate: (wholeFieldPredicate, soc_sec_id)\n",
            "INFO:dedupe.training:Final predicate set:\n",
            "INFO:dedupe.training:SimplePredicate: (wholeFieldPredicate, suburb)\n"
          ]
        },
        {
          "output_type": "stream",
          "name": "stdout",
          "text": [
            "CPU times: user 35.3 s, sys: 443 ms, total: 35.7 s\n",
            "Wall time: 35.6 s\n"
          ]
        }
      ]
    },
    {
      "cell_type": "markdown",
      "metadata": {
        "id": "h_F4-APMXygS"
      },
      "source": [
        "Now, we can kick off a second active learning/labeling session."
      ]
    },
    {
      "cell_type": "code",
      "metadata": {
        "id": "SKENWI5VXygS",
        "colab": {
          "base_uri": "https://localhost:8080/"
        },
        "outputId": "0c562a7c-6ad9-45fb-e9d4-e649084cc471"
      },
      "source": [
        "dedupe.console_label(linker2)"
      ],
      "execution_count": 35,
      "outputs": [
        {
          "output_type": "stream",
          "name": "stderr",
          "text": [
            "first_name : vincent\n",
            "surname : ryan\n",
            "suburb : drysdale\n",
            "postcode : 2026\n",
            "state : qld\n",
            "date_of_birth : None\n",
            "soc_sec_id : 9494629\n",
            "\n",
            "first_name : vincent\n",
            "surname : ryan\n",
            "suburb : drysdqle\n",
            "postcode : 2026\n",
            "state : qld\n",
            "date_of_birth : None\n",
            "soc_sec_id : 9496429\n",
            "\n",
            "10/10 positive, 2/10 negative\n",
            "Do these records refer to the same thing?\n",
            "(y)es / (n)o / (u)nsure / (f)inished\n"
          ]
        },
        {
          "name": "stdout",
          "output_type": "stream",
          "text": [
            "y\n"
          ]
        },
        {
          "output_type": "stream",
          "name": "stderr",
          "text": [
            "first_name : joshua\n",
            "surname : paterson\n",
            "suburb : westmeadows\n",
            "postcode : 3315\n",
            "state : qld\n",
            "date_of_birth : None\n",
            "soc_sec_id : 3856870\n",
            "\n",
            "first_name : oakleigh\n",
            "surname : catt-green\n",
            "suburb : westmead\n",
            "postcode : None\n",
            "state : qld\n",
            "date_of_birth : None\n",
            "soc_sec_id : 5322032\n",
            "\n",
            "11/10 positive, 2/10 negative\n",
            "Do these records refer to the same thing?\n",
            "(y)es / (n)o / (u)nsure / (f)inished / (p)revious\n"
          ]
        },
        {
          "name": "stdout",
          "output_type": "stream",
          "text": [
            "y\n"
          ]
        },
        {
          "output_type": "stream",
          "name": "stderr",
          "text": [
            "INFO:dedupe.training:Final predicate set:\n",
            "INFO:dedupe.training:LevenshteinSearchPredicate: (1, suburb)\n",
            "first_name : charlotte\n",
            "surname : schwetlik\n",
            "suburb : st kilda east\n",
            "postcode : 2865\n",
            "state : nsw\n",
            "date_of_birth : None\n",
            "soc_sec_id : 1738103\n",
            "\n",
            "first_name : yt\n",
            "surname : hodby\n",
            "suburb : st kilda\n",
            "postcode : 3083\n",
            "state : nsw\n",
            "date_of_birth : None\n",
            "soc_sec_id : 5085170\n",
            "\n",
            "12/10 positive, 2/10 negative\n",
            "Do these records refer to the same thing?\n",
            "(y)es / (n)o / (u)nsure / (f)inished / (p)revious\n"
          ]
        },
        {
          "name": "stdout",
          "output_type": "stream",
          "text": [
            "y\n"
          ]
        },
        {
          "output_type": "stream",
          "name": "stderr",
          "text": [
            "INFO:dedupe.training:Final predicate set:\n",
            "INFO:dedupe.training:TfidfNGramSearchPredicate: (0.6, suburb)\n",
            "first_name : benjamin\n",
            "surname : coleman\n",
            "suburb : strathalbyn\n",
            "postcode : 3361\n",
            "state : vic\n",
            "date_of_birth : None\n",
            "soc_sec_id : 2343989\n",
            "\n",
            "first_name : benjamin\n",
            "surname : coleman\n",
            "suburb : strathwaivyn\n",
            "postcode : 3361\n",
            "state : vic\n",
            "date_of_birth : None\n",
            "soc_sec_id : 2343989\n",
            "\n",
            "13/10 positive, 2/10 negative\n",
            "Do these records refer to the same thing?\n",
            "(y)es / (n)o / (u)nsure / (f)inished / (p)revious\n"
          ]
        },
        {
          "name": "stdout",
          "output_type": "stream",
          "text": [
            "n\n"
          ]
        },
        {
          "output_type": "stream",
          "name": "stderr",
          "text": [
            "first_name : blayke\n",
            "surname : white\n",
            "suburb : mount colah\n",
            "postcode : 2099\n",
            "state : tas\n",
            "date_of_birth : None\n",
            "soc_sec_id : 2064611\n",
            "\n",
            "first_name : blayke\n",
            "surname : white\n",
            "suburb : mountrcllah\n",
            "postcode : 2099\n",
            "state : tas\n",
            "date_of_birth : None\n",
            "soc_sec_id : 2064161\n",
            "\n",
            "13/10 positive, 3/10 negative\n",
            "Do these records refer to the same thing?\n",
            "(y)es / (n)o / (u)nsure / (f)inished / (p)revious\n"
          ]
        },
        {
          "name": "stdout",
          "output_type": "stream",
          "text": [
            "u\n"
          ]
        },
        {
          "output_type": "stream",
          "name": "stderr",
          "text": [
            "first_name : ridley\n",
            "surname : gibb\n",
            "suburb : yarraville\n",
            "postcode : 2263\n",
            "state : qld\n",
            "date_of_birth : None\n",
            "soc_sec_id : 2815724\n",
            "\n",
            "first_name : ridley\n",
            "surname : gibb\n",
            "suburb : yarrabklle\n",
            "postcode : 2256\n",
            "state : qld\n",
            "date_of_birth : None\n",
            "soc_sec_id : 2815727\n",
            "\n",
            "13/10 positive, 3/10 negative\n",
            "Do these records refer to the same thing?\n",
            "(y)es / (n)o / (u)nsure / (f)inished / (p)revious\n"
          ]
        },
        {
          "name": "stdout",
          "output_type": "stream",
          "text": [
            "u\n"
          ]
        },
        {
          "output_type": "stream",
          "name": "stderr",
          "text": [
            "first_name : nicholas\n",
            "surname : myles\n",
            "suburb : ivanhoe\n",
            "postcode : 2145\n",
            "state : qld\n",
            "date_of_birth : None\n",
            "soc_sec_id : 9650072\n",
            "\n",
            "first_name : nichalpas\n",
            "surname : myles\n",
            "suburb : ivanuoebe\n",
            "postcode : 2154\n",
            "state : qld\n",
            "date_of_birth : None\n",
            "soc_sec_id : 9650072\n",
            "\n",
            "13/10 positive, 3/10 negative\n",
            "Do these records refer to the same thing?\n",
            "(y)es / (n)o / (u)nsure / (f)inished / (p)revious\n"
          ]
        },
        {
          "name": "stdout",
          "output_type": "stream",
          "text": [
            "y\n"
          ]
        },
        {
          "output_type": "stream",
          "name": "stderr",
          "text": [
            "first_name : marcus\n",
            "surname : hodby\n",
            "suburb : lalor park\n",
            "postcode : 2340\n",
            "state : qld\n",
            "date_of_birth : None\n",
            "soc_sec_id : 1585746\n",
            "\n",
            "first_name : emma\n",
            "surname : reid\n",
            "suburb : lalor\n",
            "postcode : 2454\n",
            "state : None\n",
            "date_of_birth : None\n",
            "soc_sec_id : 6833893\n",
            "\n",
            "14/10 positive, 3/10 negative\n",
            "Do these records refer to the same thing?\n",
            "(y)es / (n)o / (u)nsure / (f)inished / (p)revious\n"
          ]
        },
        {
          "name": "stdout",
          "output_type": "stream",
          "text": [
            "y\n"
          ]
        },
        {
          "output_type": "stream",
          "name": "stderr",
          "text": [
            "INFO:dedupe.training:Final predicate set:\n",
            "INFO:dedupe.training:TfidfNGramSearchPredicate: (0.6, suburb)\n",
            "INFO:dedupe.training:SimplePredicate: (wholeFieldPredicate, soc_sec_id)\n",
            "first_name : luke\n",
            "surname : dixon\n",
            "suburb : carlingford\n",
            "postcode : 4178\n",
            "state : sa\n",
            "date_of_birth : None\n",
            "soc_sec_id : 5626376\n",
            "\n",
            "first_name : maco\n",
            "surname : ngueyn\n",
            "suburb : carrun\n",
            "postcode : 5073\n",
            "state : nsw\n",
            "date_of_birth : None\n",
            "soc_sec_id : 5479979\n",
            "\n",
            "15/10 positive, 3/10 negative\n",
            "Do these records refer to the same thing?\n",
            "(y)es / (n)o / (u)nsure / (f)inished / (p)revious\n"
          ]
        },
        {
          "name": "stdout",
          "output_type": "stream",
          "text": [
            "f\n"
          ]
        },
        {
          "output_type": "stream",
          "name": "stderr",
          "text": [
            "Finished labeling\n",
            "INFO:dedupe.training:Final predicate set:\n",
            "INFO:dedupe.training:SimplePredicate: (sameFiveCharStartPredicate, suburb)\n",
            "INFO:dedupe.training:SimplePredicate: (wholeFieldPredicate, soc_sec_id)\n"
          ]
        }
      ]
    },
    {
      "cell_type": "markdown",
      "metadata": {
        "id": "b6cOQ5RpXygS"
      },
      "source": [
        "### Retrain the Linker and Examine Blocking Performance"
      ]
    },
    {
      "cell_type": "markdown",
      "metadata": {
        "id": "AdpSPOyGXygS"
      },
      "source": [
        "Now, let's retrain, and examine blocker performance. Ideally, we see an improved true link retention following our second labeling session."
      ]
    },
    {
      "cell_type": "code",
      "metadata": {
        "id": "EOGXIUD2XygT",
        "colab": {
          "base_uri": "https://localhost:8080/"
        },
        "outputId": "cd12a93a-4aff-4950-98e5-311c9d7bcd82"
      },
      "source": [
        "%%time\n",
        "linker2.train()"
      ],
      "execution_count": 36,
      "outputs": [
        {
          "output_type": "stream",
          "name": "stderr",
          "text": [
            "INFO:rlr.crossvalidation:using cross validation to find optimum alpha...\n",
            "/usr/local/lib/python3.7/dist-packages/rlr/crossvalidation.py:122: RuntimeWarning: invalid value encountered in double_scalars\n",
            "  * (true_distinct + false_distinct)))\n",
            "INFO:rlr.crossvalidation:optimum alpha: 0.000100, score 0.11584924082047791\n",
            "INFO:dedupe.training:Final predicate set:\n",
            "INFO:dedupe.training:SimplePredicate: (sameFiveCharStartPredicate, suburb)\n",
            "INFO:dedupe.training:(PartialPredicate: (fingerprint, surname, Surname), SimplePredicate: (commonFourGram, first_name), SimplePredicate: (commonFourGram, suburb))\n"
          ]
        },
        {
          "output_type": "stream",
          "name": "stdout",
          "text": [
            "CPU times: user 5.42 s, sys: 446 ms, total: 5.87 s\n",
            "Wall time: 5.36 s\n"
          ]
        }
      ]
    },
    {
      "cell_type": "code",
      "metadata": {
        "id": "jiRuYSZQXygT",
        "colab": {
          "base_uri": "https://localhost:8080/"
        },
        "outputId": "eba1637e-b5d0-44a4-e3f0-a3ffb8053b9b"
      },
      "source": [
        "candidate_pairs = [x for x in linker2.pairs(records_A, records_B)]\n",
        "print(f\"{len(candidate_pairs):,} candidate pairs generated from blocking.\")\n",
        "\n",
        "df_candidate_links = pd.DataFrame(\n",
        "    [(x[0][0], x[1][0]) for x in candidate_pairs]\n",
        ").rename(columns={0 : \"person_id_A\", 1 : \"person_id_B\"}).set_index([\"person_id_A\", \"person_id_B\"])\n",
        "\n",
        "max_candidate_pairs = df_A.shape[0]*df_B.shape[0]\n",
        "\n",
        "print(f\"{max_candidate_pairs:,} total possible pairs.\")\n",
        "\n",
        "# Calculate search space reduction.\n",
        "search_space_reduction = round(1 - len(candidate_pairs)/max_candidate_pairs, 6)\n",
        "print(f\"\\n{len(candidate_pairs):,} pairs after full blocking: {search_space_reduction}% search space reduction.\")\n",
        "\n",
        "# Calculate retained true links percentage.\n",
        "total_true_links = df_ground_truth.shape[0]\n",
        "true_links_after_blocking = pd.merge(\n",
        "    df_ground_truth,\n",
        "    df_candidate_links,\n",
        "    left_index=True,\n",
        "    right_index=True,\n",
        "    how=\"inner\"\n",
        ").shape[0]\n",
        "\n",
        "retained_true_link_percent = round((true_links_after_blocking/total_true_links) * 100, 2)\n",
        "print(f\"{retained_true_link_percent}% true links retained after blocking.\")"
      ],
      "execution_count": 37,
      "outputs": [
        {
          "output_type": "stream",
          "name": "stdout",
          "text": [
            "23,513 candidate pairs generated from blocking.\n",
            "10,562,500 total possible pairs.\n",
            "\n",
            "23,513 pairs after full blocking: 0.997774% search space reduction.\n",
            "89.77% true links retained after blocking.\n"
          ]
        }
      ]
    },
    {
      "cell_type": "markdown",
      "metadata": {
        "id": "xessURV5XygT"
      },
      "source": [
        "### Evaluate Classification Performance"
      ]
    },
    {
      "cell_type": "code",
      "metadata": {
        "id": "ElcEPfmGXygT",
        "colab": {
          "base_uri": "https://localhost:8080/"
        },
        "outputId": "6675e9dc-14fb-46b3-d65b-d0bac9339c9e"
      },
      "source": [
        "%%time\n",
        "linked_records = linker2.join(records_A, records_B, threshold=0.0, constraint=\"one-to-one\")"
      ],
      "execution_count": 38,
      "outputs": [
        {
          "output_type": "stream",
          "name": "stdout",
          "text": [
            "CPU times: user 839 ms, sys: 187 ms, total: 1.03 s\n",
            "Wall time: 5.45 s\n"
          ]
        }
      ]
    },
    {
      "cell_type": "code",
      "metadata": {
        "id": "bpfu3BzgXygT",
        "colab": {
          "base_uri": "https://localhost:8080/",
          "height": 455
        },
        "outputId": "3537b612-38ac-4ae2-c4bb-165fa3666ca8"
      },
      "source": [
        "df_predictions = pd.DataFrame(\n",
        "    [ {\"person_id_A\" : x[0][0], \"person_id_B\" : x[0][1], \"model_score\" : x[1]} for x in linked_records]\n",
        ")\n",
        "\n",
        "df_predictions = df_predictions.set_index([\"person_id_A\", \"person_id_B\"])\n",
        "\n",
        "df_predictions = pd.merge(\n",
        "    df_predictions,\n",
        "    df_ground_truth,\n",
        "    left_index=True,\n",
        "    right_index=True,\n",
        "    how=\"left\",\n",
        ")\n",
        "\n",
        "df_predictions[\"ground_truth\"].fillna(False, inplace=True)\n",
        "df_predictions"
      ],
      "execution_count": 39,
      "outputs": [
        {
          "output_type": "execute_result",
          "data": {
            "text/html": [
              "<div>\n",
              "<style scoped>\n",
              "    .dataframe tbody tr th:only-of-type {\n",
              "        vertical-align: middle;\n",
              "    }\n",
              "\n",
              "    .dataframe tbody tr th {\n",
              "        vertical-align: top;\n",
              "    }\n",
              "\n",
              "    .dataframe thead th {\n",
              "        text-align: right;\n",
              "    }\n",
              "</style>\n",
              "<table border=\"1\" class=\"dataframe\">\n",
              "  <thead>\n",
              "    <tr style=\"text-align: right;\">\n",
              "      <th></th>\n",
              "      <th></th>\n",
              "      <th>model_score</th>\n",
              "      <th>ground_truth</th>\n",
              "    </tr>\n",
              "    <tr>\n",
              "      <th>person_id_A</th>\n",
              "      <th>person_id_B</th>\n",
              "      <th></th>\n",
              "      <th></th>\n",
              "    </tr>\n",
              "  </thead>\n",
              "  <tbody>\n",
              "    <tr>\n",
              "      <th>ffd668ac-2f63-4c05-a6a3-58ebcf1f4a80</th>\n",
              "      <th>e601f439-c5b9-4ee7-a2fb-d437e6d23b76</th>\n",
              "      <td>1.000000e+00</td>\n",
              "      <td>False</td>\n",
              "    </tr>\n",
              "    <tr>\n",
              "      <th>ffa8ddc9-ed8d-4bfc-bd1a-aa7e8b86122b</th>\n",
              "      <th>3b7136be-2898-4b83-a975-de87bc1ae845</th>\n",
              "      <td>1.000000e+00</td>\n",
              "      <td>False</td>\n",
              "    </tr>\n",
              "    <tr>\n",
              "      <th>ff86e492-166d-4652-bf5b-61b9eef60e51</th>\n",
              "      <th>55259d5a-42f0-4fec-833b-6fb8c43282eb</th>\n",
              "      <td>1.000000e+00</td>\n",
              "      <td>False</td>\n",
              "    </tr>\n",
              "    <tr>\n",
              "      <th>ff6a9b51-79ac-408b-b126-f1e03d5f020e</th>\n",
              "      <th>eca37d5d-8bc7-41a6-a42e-006454943f6c</th>\n",
              "      <td>1.000000e+00</td>\n",
              "      <td>False</td>\n",
              "    </tr>\n",
              "    <tr>\n",
              "      <th>fed0c57c-c844-47f9-a338-3777f231729b</th>\n",
              "      <th>ada6a8b4-e8da-4210-85ac-def96af78e3f</th>\n",
              "      <td>1.000000e+00</td>\n",
              "      <td>False</td>\n",
              "    </tr>\n",
              "    <tr>\n",
              "      <th>...</th>\n",
              "      <th>...</th>\n",
              "      <td>...</td>\n",
              "      <td>...</td>\n",
              "    </tr>\n",
              "    <tr>\n",
              "      <th>6eab79a4-7f70-44c5-a2cc-433b8eadd3ab</th>\n",
              "      <th>6c4aec9e-c3d2-4a63-9840-d706b512e1bb</th>\n",
              "      <td>7.834787e-14</td>\n",
              "      <td>False</td>\n",
              "    </tr>\n",
              "    <tr>\n",
              "      <th>a2dd3141-b478-45a7-b9da-0b3f01cf413c</th>\n",
              "      <th>64323d4b-14ca-4e82-be3d-88c39e93ddcc</th>\n",
              "      <td>7.320954e-14</td>\n",
              "      <td>False</td>\n",
              "    </tr>\n",
              "    <tr>\n",
              "      <th>46644402-64a8-4f55-a802-d66ea58b3c07</th>\n",
              "      <th>915ea543-4f28-45be-bbeb-318bc336bce9</th>\n",
              "      <td>2.065414e-14</td>\n",
              "      <td>False</td>\n",
              "    </tr>\n",
              "    <tr>\n",
              "      <th>457f7c63-550e-4a54-a7da-c5e9e3379700</th>\n",
              "      <th>43b24b8f-edfc-4efd-b7c4-6efcbaf00b79</th>\n",
              "      <td>1.394021e-14</td>\n",
              "      <td>True</td>\n",
              "    </tr>\n",
              "    <tr>\n",
              "      <th>51892509-4a5a-483b-a76a-e6fe911a0135</th>\n",
              "      <th>e6e56df1-fc71-4726-97f4-753614c55246</th>\n",
              "      <td>1.116884e-15</td>\n",
              "      <td>False</td>\n",
              "    </tr>\n",
              "  </tbody>\n",
              "</table>\n",
              "<p>2815 rows × 2 columns</p>\n",
              "</div>"
            ],
            "text/plain": [
              "                                                                            model_score  ground_truth\n",
              "person_id_A                          person_id_B                                                     \n",
              "ffd668ac-2f63-4c05-a6a3-58ebcf1f4a80 e601f439-c5b9-4ee7-a2fb-d437e6d23b76  1.000000e+00         False\n",
              "ffa8ddc9-ed8d-4bfc-bd1a-aa7e8b86122b 3b7136be-2898-4b83-a975-de87bc1ae845  1.000000e+00         False\n",
              "ff86e492-166d-4652-bf5b-61b9eef60e51 55259d5a-42f0-4fec-833b-6fb8c43282eb  1.000000e+00         False\n",
              "ff6a9b51-79ac-408b-b126-f1e03d5f020e eca37d5d-8bc7-41a6-a42e-006454943f6c  1.000000e+00         False\n",
              "fed0c57c-c844-47f9-a338-3777f231729b ada6a8b4-e8da-4210-85ac-def96af78e3f  1.000000e+00         False\n",
              "...                                                                                 ...           ...\n",
              "6eab79a4-7f70-44c5-a2cc-433b8eadd3ab 6c4aec9e-c3d2-4a63-9840-d706b512e1bb  7.834787e-14         False\n",
              "a2dd3141-b478-45a7-b9da-0b3f01cf413c 64323d4b-14ca-4e82-be3d-88c39e93ddcc  7.320954e-14         False\n",
              "46644402-64a8-4f55-a802-d66ea58b3c07 915ea543-4f28-45be-bbeb-318bc336bce9  2.065414e-14         False\n",
              "457f7c63-550e-4a54-a7da-c5e9e3379700 43b24b8f-edfc-4efd-b7c4-6efcbaf00b79  1.394021e-14          True\n",
              "51892509-4a5a-483b-a76a-e6fe911a0135 e6e56df1-fc71-4726-97f4-753614c55246  1.116884e-15         False\n",
              "\n",
              "[2815 rows x 2 columns]"
            ]
          },
          "metadata": {},
          "execution_count": 39
        }
      ]
    },
    {
      "cell_type": "code",
      "metadata": {
        "id": "TwaYCrFWXygT",
        "colab": {
          "base_uri": "https://localhost:8080/"
        },
        "outputId": "0949fa8c-8269-4c8d-d139-5e3e46b12381"
      },
      "source": [
        "df_predictions[\"ground_truth\"].value_counts()"
      ],
      "execution_count": 40,
      "outputs": [
        {
          "output_type": "execute_result",
          "data": {
            "text/plain": [
              "False    1458\n",
              "True     1357\n",
              "Name: ground_truth, dtype: int64"
            ]
          },
          "metadata": {},
          "execution_count": 40
        }
      ]
    },
    {
      "cell_type": "code",
      "metadata": {
        "id": "vi0ksTo-XygU",
        "colab": {
          "base_uri": "https://localhost:8080/",
          "height": 485
        },
        "outputId": "b537da80-8cd6-4158-8f1e-8971e3c72af9"
      },
      "source": [
        "tutorial.plot_model_score_distribution(df_predictions)"
      ],
      "execution_count": 41,
      "outputs": [
        {
          "output_type": "execute_result",
          "data": {
            "text/plain": [
              "alt.Chart(...)"
            ],
            "text/html": [
              "\n",
              "<div id=\"altair-viz-4de4fb740f6a4fc68b8387f93648d924\"></div>\n",
              "<script type=\"text/javascript\">\n",
              "  (function(spec, embedOpt){\n",
              "    let outputDiv = document.currentScript.previousElementSibling;\n",
              "    if (outputDiv.id !== \"altair-viz-4de4fb740f6a4fc68b8387f93648d924\") {\n",
              "      outputDiv = document.getElementById(\"altair-viz-4de4fb740f6a4fc68b8387f93648d924\");\n",
              "    }\n",
              "    const paths = {\n",
              "      \"vega\": \"https://cdn.jsdelivr.net/npm//vega@5?noext\",\n",
              "      \"vega-lib\": \"https://cdn.jsdelivr.net/npm//vega-lib?noext\",\n",
              "      \"vega-lite\": \"https://cdn.jsdelivr.net/npm//vega-lite@4.8.1?noext\",\n",
              "      \"vega-embed\": \"https://cdn.jsdelivr.net/npm//vega-embed@6?noext\",\n",
              "    };\n",
              "\n",
              "    function loadScript(lib) {\n",
              "      return new Promise(function(resolve, reject) {\n",
              "        var s = document.createElement('script');\n",
              "        s.src = paths[lib];\n",
              "        s.async = true;\n",
              "        s.onload = () => resolve(paths[lib]);\n",
              "        s.onerror = () => reject(`Error loading script: ${paths[lib]}`);\n",
              "        document.getElementsByTagName(\"head\")[0].appendChild(s);\n",
              "      });\n",
              "    }\n",
              "\n",
              "    function showError(err) {\n",
              "      outputDiv.innerHTML = `<div class=\"error\" style=\"color:red;\">${err}</div>`;\n",
              "      throw err;\n",
              "    }\n",
              "\n",
              "    function displayChart(vegaEmbed) {\n",
              "      vegaEmbed(outputDiv, spec, embedOpt)\n",
              "        .catch(err => showError(`Javascript Error: ${err.message}<br>This usually means there's a typo in your chart specification. See the javascript console for the full traceback.`));\n",
              "    }\n",
              "\n",
              "    if(typeof define === \"function\" && define.amd) {\n",
              "      requirejs.config({paths});\n",
              "      require([\"vega-embed\"], displayChart, err => showError(`Error loading script: ${err.message}`));\n",
              "    } else if (typeof vegaEmbed === \"function\") {\n",
              "      displayChart(vegaEmbed);\n",
              "    } else {\n",
              "      loadScript(\"vega\")\n",
              "        .then(() => loadScript(\"vega-lite\"))\n",
              "        .then(() => loadScript(\"vega-embed\"))\n",
              "        .catch(showError)\n",
              "        .then(() => displayChart(vegaEmbed));\n",
              "    }\n",
              "  })({\"config\": {\"view\": {\"continuousWidth\": 400, \"continuousHeight\": 300}}, \"data\": {\"name\": \"data-c0e6482ea27fbb5f1674e43dffc42800\"}, \"mark\": {\"type\": \"bar\", \"binSpacing\": 0, \"opacity\": 0.7}, \"encoding\": {\"color\": {\"type\": \"nominal\", \"field\": \"ground_truth\", \"legend\": {\"title\": \"Ground Truth Label\"}, \"scale\": {\"domain\": [\"True Link\", \"Not a Link\"], \"scheme\": \"tableau10\"}}, \"opacity\": {\"condition\": {\"value\": 0.7, \"selection\": \"selector005\"}, \"value\": 0.2}, \"tooltip\": [{\"type\": \"quantitative\", \"field\": \"model_score\", \"title\": \"Model Score\"}, {\"type\": \"nominal\", \"field\": \"ground_truth\", \"title\": \"Ground Truth\"}, {\"type\": \"quantitative\", \"field\": \"count\", \"title\": \"Count of Links\"}], \"x\": {\"type\": \"quantitative\", \"axis\": {\"tickCount\": 5, \"title\": \"Model Score (Binned)\"}, \"bin\": {\"extent\": [0, 1], \"step\": 0.01}, \"field\": \"model_score\"}, \"y\": {\"type\": \"quantitative\", \"axis\": {\"title\": \"Count of Links\"}, \"field\": \"count\", \"stack\": null}}, \"height\": 400, \"selection\": {\"selector005\": {\"type\": \"multi\", \"fields\": [\"ground_truth\"], \"bind\": \"legend\"}, \"selector006\": {\"type\": \"interval\", \"bind\": \"scales\", \"encodings\": [\"x\", \"y\"]}}, \"title\": \"Model Score Distribution\", \"width\": 800, \"$schema\": \"https://vega.github.io/schema/vega-lite/v4.8.1.json\", \"datasets\": {\"data-c0e6482ea27fbb5f1674e43dffc42800\": [{\"model_score\": 0.0, \"ground_truth\": \"Not a Link\", \"count\": 176}, {\"model_score\": 0.0, \"ground_truth\": \"True Link\", \"count\": 70}, {\"model_score\": 0.01, \"ground_truth\": \"Not a Link\", \"count\": 20}, {\"model_score\": 0.01, \"ground_truth\": \"True Link\", \"count\": 22}, {\"model_score\": 0.02, \"ground_truth\": \"Not a Link\", \"count\": 9}, {\"model_score\": 0.02, \"ground_truth\": \"True Link\", \"count\": 10}, {\"model_score\": 0.03, \"ground_truth\": \"Not a Link\", \"count\": 9}, {\"model_score\": 0.03, \"ground_truth\": \"True Link\", \"count\": 9}, {\"model_score\": 0.04, \"ground_truth\": \"Not a Link\", \"count\": 7}, {\"model_score\": 0.04, \"ground_truth\": \"True Link\", \"count\": 9}, {\"model_score\": 0.05, \"ground_truth\": \"Not a Link\", \"count\": 3}, {\"model_score\": 0.05, \"ground_truth\": \"True Link\", \"count\": 4}, {\"model_score\": 0.06, \"ground_truth\": \"Not a Link\", \"count\": 3}, {\"model_score\": 0.06, \"ground_truth\": \"True Link\", \"count\": 7}, {\"model_score\": 0.07, \"ground_truth\": \"Not a Link\", \"count\": 2}, {\"model_score\": 0.07, \"ground_truth\": \"True Link\", \"count\": 7}, {\"model_score\": 0.08, \"ground_truth\": \"Not a Link\", \"count\": 7}, {\"model_score\": 0.08, \"ground_truth\": \"True Link\", \"count\": 8}, {\"model_score\": 0.09, \"ground_truth\": \"True Link\", \"count\": 6}, {\"model_score\": 0.1, \"ground_truth\": \"Not a Link\", \"count\": 2}, {\"model_score\": 0.1, \"ground_truth\": \"True Link\", \"count\": 10}, {\"model_score\": 0.11, \"ground_truth\": \"Not a Link\", \"count\": 2}, {\"model_score\": 0.11, \"ground_truth\": \"True Link\", \"count\": 1}, {\"model_score\": 0.13, \"ground_truth\": \"Not a Link\", \"count\": 1}, {\"model_score\": 0.13, \"ground_truth\": \"True Link\", \"count\": 5}, {\"model_score\": 0.14, \"ground_truth\": \"Not a Link\", \"count\": 2}, {\"model_score\": 0.14, \"ground_truth\": \"True Link\", \"count\": 4}, {\"model_score\": 0.15, \"ground_truth\": \"Not a Link\", \"count\": 11}, {\"model_score\": 0.15, \"ground_truth\": \"True Link\", \"count\": 8}, {\"model_score\": 0.16, \"ground_truth\": \"True Link\", \"count\": 3}, {\"model_score\": 0.17, \"ground_truth\": \"Not a Link\", \"count\": 3}, {\"model_score\": 0.17, \"ground_truth\": \"True Link\", \"count\": 2}, {\"model_score\": 0.18, \"ground_truth\": \"Not a Link\", \"count\": 1}, {\"model_score\": 0.18, \"ground_truth\": \"True Link\", \"count\": 1}, {\"model_score\": 0.19, \"ground_truth\": \"True Link\", \"count\": 1}, {\"model_score\": 0.2, \"ground_truth\": \"Not a Link\", \"count\": 2}, {\"model_score\": 0.2, \"ground_truth\": \"True Link\", \"count\": 1}, {\"model_score\": 0.22, \"ground_truth\": \"True Link\", \"count\": 3}, {\"model_score\": 0.23, \"ground_truth\": \"Not a Link\", \"count\": 1}, {\"model_score\": 0.23, \"ground_truth\": \"True Link\", \"count\": 2}, {\"model_score\": 0.24, \"ground_truth\": \"True Link\", \"count\": 3}, {\"model_score\": 0.25, \"ground_truth\": \"Not a Link\", \"count\": 1}, {\"model_score\": 0.25, \"ground_truth\": \"True Link\", \"count\": 1}, {\"model_score\": 0.26, \"ground_truth\": \"Not a Link\", \"count\": 2}, {\"model_score\": 0.27, \"ground_truth\": \"Not a Link\", \"count\": 1}, {\"model_score\": 0.27, \"ground_truth\": \"True Link\", \"count\": 1}, {\"model_score\": 0.28, \"ground_truth\": \"True Link\", \"count\": 3}, {\"model_score\": 0.3, \"ground_truth\": \"Not a Link\", \"count\": 2}, {\"model_score\": 0.3, \"ground_truth\": \"True Link\", \"count\": 1}, {\"model_score\": 0.31, \"ground_truth\": \"Not a Link\", \"count\": 2}, {\"model_score\": 0.31, \"ground_truth\": \"True Link\", \"count\": 2}, {\"model_score\": 0.32, \"ground_truth\": \"True Link\", \"count\": 1}, {\"model_score\": 0.33, \"ground_truth\": \"Not a Link\", \"count\": 3}, {\"model_score\": 0.33, \"ground_truth\": \"True Link\", \"count\": 2}, {\"model_score\": 0.34, \"ground_truth\": \"True Link\", \"count\": 1}, {\"model_score\": 0.36, \"ground_truth\": \"Not a Link\", \"count\": 1}, {\"model_score\": 0.37, \"ground_truth\": \"Not a Link\", \"count\": 2}, {\"model_score\": 0.37, \"ground_truth\": \"True Link\", \"count\": 2}, {\"model_score\": 0.38, \"ground_truth\": \"Not a Link\", \"count\": 3}, {\"model_score\": 0.38, \"ground_truth\": \"True Link\", \"count\": 5}, {\"model_score\": 0.39, \"ground_truth\": \"Not a Link\", \"count\": 3}, {\"model_score\": 0.39, \"ground_truth\": \"True Link\", \"count\": 2}, {\"model_score\": 0.4, \"ground_truth\": \"True Link\", \"count\": 6}, {\"model_score\": 0.41, \"ground_truth\": \"Not a Link\", \"count\": 2}, {\"model_score\": 0.41, \"ground_truth\": \"True Link\", \"count\": 1}, {\"model_score\": 0.42, \"ground_truth\": \"Not a Link\", \"count\": 1}, {\"model_score\": 0.42, \"ground_truth\": \"True Link\", \"count\": 2}, {\"model_score\": 0.43, \"ground_truth\": \"Not a Link\", \"count\": 1}, {\"model_score\": 0.43, \"ground_truth\": \"True Link\", \"count\": 3}, {\"model_score\": 0.44, \"ground_truth\": \"True Link\", \"count\": 1}, {\"model_score\": 0.45, \"ground_truth\": \"Not a Link\", \"count\": 3}, {\"model_score\": 0.46, \"ground_truth\": \"True Link\", \"count\": 2}, {\"model_score\": 0.47, \"ground_truth\": \"True Link\", \"count\": 1}, {\"model_score\": 0.48, \"ground_truth\": \"Not a Link\", \"count\": 1}, {\"model_score\": 0.48, \"ground_truth\": \"True Link\", \"count\": 1}, {\"model_score\": 0.49, \"ground_truth\": \"Not a Link\", \"count\": 1}, {\"model_score\": 0.49, \"ground_truth\": \"True Link\", \"count\": 1}, {\"model_score\": 0.5, \"ground_truth\": \"Not a Link\", \"count\": 8}, {\"model_score\": 0.51, \"ground_truth\": \"Not a Link\", \"count\": 1}, {\"model_score\": 0.51, \"ground_truth\": \"True Link\", \"count\": 4}, {\"model_score\": 0.52, \"ground_truth\": \"Not a Link\", \"count\": 1}, {\"model_score\": 0.53, \"ground_truth\": \"Not a Link\", \"count\": 2}, {\"model_score\": 0.58, \"ground_truth\": \"True Link\", \"count\": 1}, {\"model_score\": 0.59, \"ground_truth\": \"Not a Link\", \"count\": 1}, {\"model_score\": 0.59, \"ground_truth\": \"True Link\", \"count\": 4}, {\"model_score\": 0.6, \"ground_truth\": \"Not a Link\", \"count\": 1}, {\"model_score\": 0.6, \"ground_truth\": \"True Link\", \"count\": 2}, {\"model_score\": 0.61, \"ground_truth\": \"True Link\", \"count\": 2}, {\"model_score\": 0.63, \"ground_truth\": \"Not a Link\", \"count\": 1}, {\"model_score\": 0.64, \"ground_truth\": \"True Link\", \"count\": 1}, {\"model_score\": 0.65, \"ground_truth\": \"True Link\", \"count\": 1}, {\"model_score\": 0.66, \"ground_truth\": \"Not a Link\", \"count\": 3}, {\"model_score\": 0.68, \"ground_truth\": \"Not a Link\", \"count\": 1}, {\"model_score\": 0.68, \"ground_truth\": \"True Link\", \"count\": 1}, {\"model_score\": 0.69, \"ground_truth\": \"True Link\", \"count\": 3}, {\"model_score\": 0.7, \"ground_truth\": \"True Link\", \"count\": 3}, {\"model_score\": 0.71, \"ground_truth\": \"True Link\", \"count\": 1}, {\"model_score\": 0.72, \"ground_truth\": \"True Link\", \"count\": 6}, {\"model_score\": 0.73, \"ground_truth\": \"Not a Link\", \"count\": 2}, {\"model_score\": 0.73, \"ground_truth\": \"True Link\", \"count\": 1}, {\"model_score\": 0.74, \"ground_truth\": \"Not a Link\", \"count\": 2}, {\"model_score\": 0.75, \"ground_truth\": \"Not a Link\", \"count\": 1}, {\"model_score\": 0.75, \"ground_truth\": \"True Link\", \"count\": 3}, {\"model_score\": 0.76, \"ground_truth\": \"True Link\", \"count\": 5}, {\"model_score\": 0.77, \"ground_truth\": \"Not a Link\", \"count\": 1}, {\"model_score\": 0.77, \"ground_truth\": \"True Link\", \"count\": 1}, {\"model_score\": 0.78, \"ground_truth\": \"Not a Link\", \"count\": 2}, {\"model_score\": 0.79, \"ground_truth\": \"True Link\", \"count\": 1}, {\"model_score\": 0.8, \"ground_truth\": \"True Link\", \"count\": 3}, {\"model_score\": 0.81, \"ground_truth\": \"Not a Link\", \"count\": 1}, {\"model_score\": 0.81, \"ground_truth\": \"True Link\", \"count\": 3}, {\"model_score\": 0.82, \"ground_truth\": \"Not a Link\", \"count\": 13}, {\"model_score\": 0.82, \"ground_truth\": \"True Link\", \"count\": 2}, {\"model_score\": 0.83, \"ground_truth\": \"Not a Link\", \"count\": 2}, {\"model_score\": 0.83, \"ground_truth\": \"True Link\", \"count\": 4}, {\"model_score\": 0.84, \"ground_truth\": \"Not a Link\", \"count\": 1}, {\"model_score\": 0.84, \"ground_truth\": \"True Link\", \"count\": 5}, {\"model_score\": 0.85, \"ground_truth\": \"Not a Link\", \"count\": 4}, {\"model_score\": 0.85, \"ground_truth\": \"True Link\", \"count\": 3}, {\"model_score\": 0.86, \"ground_truth\": \"Not a Link\", \"count\": 5}, {\"model_score\": 0.87, \"ground_truth\": \"True Link\", \"count\": 2}, {\"model_score\": 0.88, \"ground_truth\": \"Not a Link\", \"count\": 3}, {\"model_score\": 0.88, \"ground_truth\": \"True Link\", \"count\": 1}, {\"model_score\": 0.89, \"ground_truth\": \"Not a Link\", \"count\": 3}, {\"model_score\": 0.89, \"ground_truth\": \"True Link\", \"count\": 3}, {\"model_score\": 0.9, \"ground_truth\": \"True Link\", \"count\": 7}, {\"model_score\": 0.91, \"ground_truth\": \"Not a Link\", \"count\": 4}, {\"model_score\": 0.91, \"ground_truth\": \"True Link\", \"count\": 2}, {\"model_score\": 0.92, \"ground_truth\": \"True Link\", \"count\": 10}, {\"model_score\": 0.93, \"ground_truth\": \"Not a Link\", \"count\": 1}, {\"model_score\": 0.93, \"ground_truth\": \"True Link\", \"count\": 9}, {\"model_score\": 0.94, \"ground_truth\": \"Not a Link\", \"count\": 9}, {\"model_score\": 0.94, \"ground_truth\": \"True Link\", \"count\": 5}, {\"model_score\": 0.95, \"ground_truth\": \"Not a Link\", \"count\": 8}, {\"model_score\": 0.95, \"ground_truth\": \"True Link\", \"count\": 10}, {\"model_score\": 0.96, \"ground_truth\": \"Not a Link\", \"count\": 3}, {\"model_score\": 0.96, \"ground_truth\": \"True Link\", \"count\": 8}, {\"model_score\": 0.97, \"ground_truth\": \"Not a Link\", \"count\": 4}, {\"model_score\": 0.97, \"ground_truth\": \"True Link\", \"count\": 19}, {\"model_score\": 0.98, \"ground_truth\": \"Not a Link\", \"count\": 17}, {\"model_score\": 0.98, \"ground_truth\": \"True Link\", \"count\": 20}, {\"model_score\": 0.99, \"ground_truth\": \"Not a Link\", \"count\": 30}, {\"model_score\": 0.99, \"ground_truth\": \"True Link\", \"count\": 209}, {\"model_score\": 1.0, \"ground_truth\": \"Not a Link\", \"count\": 1033}, {\"model_score\": 1.0, \"ground_truth\": \"True Link\", \"count\": 757}]}}, {\"mode\": \"vega-lite\"});\n",
              "</script>"
            ]
          },
          "metadata": {},
          "execution_count": 41
        }
      ]
    },
    {
      "cell_type": "code",
      "metadata": {
        "id": "gdCJEK1xXygU",
        "colab": {
          "base_uri": "https://localhost:8080/",
          "height": 485
        },
        "outputId": "ddcad001-4ac4-4ba1-8b01-43b848b34fdf"
      },
      "source": [
        "df_eval = tutorial.evaluate_linking(\n",
        "    df=df_predictions\n",
        ")\n",
        "\n",
        "tutorial.plot_precision_recall_vs_threshold(df_eval)"
      ],
      "execution_count": 42,
      "outputs": [
        {
          "output_type": "execute_result",
          "data": {
            "text/plain": [
              "alt.LayerChart(...)"
            ],
            "text/html": [
              "\n",
              "<div id=\"altair-viz-55b7ce3f129144eea7da422d65d85c4a\"></div>\n",
              "<script type=\"text/javascript\">\n",
              "  (function(spec, embedOpt){\n",
              "    let outputDiv = document.currentScript.previousElementSibling;\n",
              "    if (outputDiv.id !== \"altair-viz-55b7ce3f129144eea7da422d65d85c4a\") {\n",
              "      outputDiv = document.getElementById(\"altair-viz-55b7ce3f129144eea7da422d65d85c4a\");\n",
              "    }\n",
              "    const paths = {\n",
              "      \"vega\": \"https://cdn.jsdelivr.net/npm//vega@5?noext\",\n",
              "      \"vega-lib\": \"https://cdn.jsdelivr.net/npm//vega-lib?noext\",\n",
              "      \"vega-lite\": \"https://cdn.jsdelivr.net/npm//vega-lite@4.8.1?noext\",\n",
              "      \"vega-embed\": \"https://cdn.jsdelivr.net/npm//vega-embed@6?noext\",\n",
              "    };\n",
              "\n",
              "    function loadScript(lib) {\n",
              "      return new Promise(function(resolve, reject) {\n",
              "        var s = document.createElement('script');\n",
              "        s.src = paths[lib];\n",
              "        s.async = true;\n",
              "        s.onload = () => resolve(paths[lib]);\n",
              "        s.onerror = () => reject(`Error loading script: ${paths[lib]}`);\n",
              "        document.getElementsByTagName(\"head\")[0].appendChild(s);\n",
              "      });\n",
              "    }\n",
              "\n",
              "    function showError(err) {\n",
              "      outputDiv.innerHTML = `<div class=\"error\" style=\"color:red;\">${err}</div>`;\n",
              "      throw err;\n",
              "    }\n",
              "\n",
              "    function displayChart(vegaEmbed) {\n",
              "      vegaEmbed(outputDiv, spec, embedOpt)\n",
              "        .catch(err => showError(`Javascript Error: ${err.message}<br>This usually means there's a typo in your chart specification. See the javascript console for the full traceback.`));\n",
              "    }\n",
              "\n",
              "    if(typeof define === \"function\" && define.amd) {\n",
              "      requirejs.config({paths});\n",
              "      require([\"vega-embed\"], displayChart, err => showError(`Error loading script: ${err.message}`));\n",
              "    } else if (typeof vegaEmbed === \"function\") {\n",
              "      displayChart(vegaEmbed);\n",
              "    } else {\n",
              "      loadScript(\"vega\")\n",
              "        .then(() => loadScript(\"vega-lite\"))\n",
              "        .then(() => loadScript(\"vega-embed\"))\n",
              "        .catch(showError)\n",
              "        .then(() => displayChart(vegaEmbed));\n",
              "    }\n",
              "  })({\"config\": {\"view\": {\"continuousWidth\": 400, \"continuousHeight\": 300}}, \"layer\": [{\"mark\": \"line\", \"encoding\": {\"color\": {\"type\": \"nominal\", \"field\": \"variable\", \"legend\": {\"title\": \"Variable\"}}, \"tooltip\": [{\"type\": \"nominal\", \"field\": \"variable\"}, {\"type\": \"quantitative\", \"field\": \"threshold\"}, {\"type\": \"quantitative\", \"field\": \"value\"}], \"x\": {\"type\": \"quantitative\", \"axis\": {\"title\": \"Model Threshold\"}, \"field\": \"threshold\"}, \"y\": {\"type\": \"quantitative\", \"axis\": {\"title\": \"Precision/Recall Value\"}, \"field\": \"value\", \"scale\": {\"domain\": [0, 1]}}}, \"selection\": {\"selector008\": {\"type\": \"interval\", \"bind\": \"scales\", \"encodings\": [\"x\", \"y\"]}}, \"title\": \"Precision and Recall v.s. Model Threshold\"}, {\"mark\": \"point\", \"encoding\": {\"opacity\": {\"value\": 0}, \"x\": {\"type\": \"quantitative\", \"field\": \"threshold\"}}, \"selection\": {\"selector007\": {\"type\": \"single\", \"nearest\": true, \"on\": \"mouseover\", \"fields\": [\"threshold\"], \"empty\": \"none\"}}}, {\"mark\": \"point\", \"encoding\": {\"color\": {\"type\": \"nominal\", \"field\": \"variable\", \"legend\": {\"title\": \"Variable\"}}, \"opacity\": {\"condition\": {\"value\": 1, \"selection\": \"selector007\"}, \"value\": 0}, \"tooltip\": [{\"type\": \"nominal\", \"field\": \"variable\"}, {\"type\": \"quantitative\", \"field\": \"threshold\"}, {\"type\": \"quantitative\", \"field\": \"value\"}], \"x\": {\"type\": \"quantitative\", \"axis\": {\"title\": \"Model Threshold\"}, \"field\": \"threshold\"}, \"y\": {\"type\": \"quantitative\", \"axis\": {\"title\": \"Precision/Recall Value\"}, \"field\": \"value\", \"scale\": {\"domain\": [0, 1]}}}, \"title\": \"Precision and Recall v.s. Model Threshold\"}, {\"mark\": {\"type\": \"rule\", \"color\": \"gray\"}, \"encoding\": {\"x\": {\"type\": \"quantitative\", \"field\": \"threshold\"}}, \"transform\": [{\"filter\": {\"selection\": \"selector007\"}}]}, {\"mark\": {\"type\": \"text\", \"align\": \"right\", \"dx\": -10, \"dy\": -5, \"fontWeight\": 300, \"lineBreak\": \"\\n\"}, \"encoding\": {\"color\": {\"type\": \"nominal\", \"field\": \"variable\", \"legend\": {\"title\": \"Variable\"}}, \"text\": {\"condition\": {\"type\": \"nominal\", \"field\": \"label\", \"selection\": \"selector007\"}, \"value\": \" \"}, \"tooltip\": [{\"type\": \"nominal\", \"field\": \"variable\"}, {\"type\": \"quantitative\", \"field\": \"threshold\"}, {\"type\": \"quantitative\", \"field\": \"value\"}], \"x\": {\"type\": \"quantitative\", \"axis\": {\"title\": \"Model Threshold\"}, \"field\": \"threshold\"}, \"y\": {\"type\": \"quantitative\", \"axis\": {\"title\": \"Precision/Recall Value\"}, \"field\": \"value\", \"scale\": {\"domain\": [0, 1]}}}, \"title\": \"Precision and Recall v.s. Model Threshold\"}], \"data\": {\"name\": \"data-2b64cdfb8b264b17b264241624e8a744\"}, \"height\": 400, \"width\": 800, \"$schema\": \"https://vega.github.io/schema/vega-lite/v4.8.1.json\", \"datasets\": {\"data-2b64cdfb8b264b17b264241624e8a744\": [{\"threshold\": 0.0, \"label\": \"threshold: 0.0\\nprecision: 0.482\\nrecall: 1.0\", \"variable\": \"recall\", \"value\": 1.0}, {\"threshold\": 0.02040816326530612, \"label\": \"threshold: 0.02\\nprecision: 0.5\\nrecall: 0.929\", \"variable\": \"recall\", \"value\": 0.9285187914517318}, {\"threshold\": 0.04081632653061224, \"label\": \"threshold: 0.041\\nprecision: 0.5\\nrecall: 0.914\", \"variable\": \"recall\", \"value\": 0.9137803979366249}, {\"threshold\": 0.061224489795918366, \"label\": \"threshold: 0.061\\nprecision: 0.499\\nrecall: 0.903\", \"variable\": \"recall\", \"value\": 0.9034635224760501}, {\"threshold\": 0.08163265306122448, \"label\": \"threshold: 0.082\\nprecision: 0.498\\nrecall: 0.894\", \"variable\": \"recall\", \"value\": 0.8938835666912307}, {\"threshold\": 0.1020408163265306, \"label\": \"threshold: 0.102\\nprecision: 0.495\\nrecall: 0.884\", \"variable\": \"recall\", \"value\": 0.8835666912306559}, {\"threshold\": 0.12244897959183673, \"label\": \"threshold: 0.122\\nprecision: 0.495\\nrecall: 0.88\", \"variable\": \"recall\", \"value\": 0.8798820928518791}, {\"threshold\": 0.14285714285714285, \"label\": \"threshold: 0.143\\nprecision: 0.494\\nrecall: 0.875\", \"variable\": \"recall\", \"value\": 0.8747236551215918}, {\"threshold\": 0.16326530612244897, \"label\": \"threshold: 0.163\\nprecision: 0.494\\nrecall: 0.865\", \"variable\": \"recall\", \"value\": 0.8651436993367723}, {\"threshold\": 0.18367346938775508, \"label\": \"threshold: 0.184\\nprecision: 0.494\\nrecall: 0.864\", \"variable\": \"recall\", \"value\": 0.8636698599852616}, {\"threshold\": 0.2040816326530612, \"label\": \"threshold: 0.204\\nprecision: 0.494\\nrecall: 0.861\", \"variable\": \"recall\", \"value\": 0.8614591009579956}, {\"threshold\": 0.22448979591836732, \"label\": \"threshold: 0.224\\nprecision: 0.493\\nrecall: 0.859\", \"variable\": \"recall\", \"value\": 0.8592483419307295}, {\"threshold\": 0.24489795918367346, \"label\": \"threshold: 0.245\\nprecision: 0.492\\nrecall: 0.856\", \"variable\": \"recall\", \"value\": 0.8555637435519529}, {\"threshold\": 0.26530612244897955, \"label\": \"threshold: 0.265\\nprecision: 0.493\\nrecall: 0.855\", \"variable\": \"recall\", \"value\": 0.8548268238761975}, {\"threshold\": 0.2857142857142857, \"label\": \"threshold: 0.286\\nprecision: 0.492\\nrecall: 0.852\", \"variable\": \"recall\", \"value\": 0.8518791451731761}, {\"threshold\": 0.3061224489795918, \"label\": \"threshold: 0.306\\nprecision: 0.492\\nrecall: 0.851\", \"variable\": \"recall\", \"value\": 0.8511422254974208}, {\"threshold\": 0.32653061224489793, \"label\": \"threshold: 0.327\\nprecision: 0.492\\nrecall: 0.849\", \"variable\": \"recall\", \"value\": 0.8489314664701547}, {\"threshold\": 0.3469387755102041, \"label\": \"threshold: 0.347\\nprecision: 0.492\\nrecall: 0.847\", \"variable\": \"recall\", \"value\": 0.8467207074428887}, {\"threshold\": 0.36734693877551017, \"label\": \"threshold: 0.367\\nprecision: 0.492\\nrecall: 0.847\", \"variable\": \"recall\", \"value\": 0.8467207074428887}, {\"threshold\": 0.3877551020408163, \"label\": \"threshold: 0.388\\nprecision: 0.492\\nrecall: 0.841\", \"variable\": \"recall\", \"value\": 0.840825350036846}, {\"threshold\": 0.4081632653061224, \"label\": \"threshold: 0.408\\nprecision: 0.491\\nrecall: 0.836\", \"variable\": \"recall\", \"value\": 0.8356669123065585}, {\"threshold\": 0.42857142857142855, \"label\": \"threshold: 0.429\\nprecision: 0.491\\nrecall: 0.833\", \"variable\": \"recall\", \"value\": 0.8327192336035372}, {\"threshold\": 0.44897959183673464, \"label\": \"threshold: 0.449\\nprecision: 0.49\\nrecall: 0.831\", \"variable\": \"recall\", \"value\": 0.8305084745762712}, {\"threshold\": 0.4693877551020408, \"label\": \"threshold: 0.469\\nprecision: 0.49\\nrecall: 0.829\", \"variable\": \"recall\", \"value\": 0.8290346352247605}, {\"threshold\": 0.4897959183673469, \"label\": \"threshold: 0.49\\nprecision: 0.49\\nrecall: 0.828\", \"variable\": \"recall\", \"value\": 0.8275607958732498}, {\"threshold\": 0.5102040816326531, \"label\": \"threshold: 0.51\\nprecision: 0.491\\nrecall: 0.825\", \"variable\": \"recall\", \"value\": 0.8253500368459837}, {\"threshold\": 0.5306122448979591, \"label\": \"threshold: 0.531\\nprecision: 0.491\\nrecall: 0.824\", \"variable\": \"recall\", \"value\": 0.823876197494473}, {\"threshold\": 0.5510204081632653, \"label\": \"threshold: 0.551\\nprecision: 0.492\\nrecall: 0.824\", \"variable\": \"recall\", \"value\": 0.823876197494473}, {\"threshold\": 0.5714285714285714, \"label\": \"threshold: 0.571\\nprecision: 0.492\\nrecall: 0.824\", \"variable\": \"recall\", \"value\": 0.823876197494473}, {\"threshold\": 0.5918367346938775, \"label\": \"threshold: 0.592\\nprecision: 0.491\\nrecall: 0.821\", \"variable\": \"recall\", \"value\": 0.8209285187914517}, {\"threshold\": 0.6122448979591836, \"label\": \"threshold: 0.612\\nprecision: 0.49\\nrecall: 0.817\", \"variable\": \"recall\", \"value\": 0.817243920412675}, {\"threshold\": 0.6326530612244897, \"label\": \"threshold: 0.633\\nprecision: 0.49\\nrecall: 0.817\", \"variable\": \"recall\", \"value\": 0.817243920412675}, {\"threshold\": 0.6530612244897959, \"label\": \"threshold: 0.653\\nprecision: 0.49\\nrecall: 0.816\", \"variable\": \"recall\", \"value\": 0.8157700810611643}, {\"threshold\": 0.673469387755102, \"label\": \"threshold: 0.673\\nprecision: 0.49\\nrecall: 0.816\", \"variable\": \"recall\", \"value\": 0.8157700810611643}, {\"threshold\": 0.6938775510204082, \"label\": \"threshold: 0.694\\nprecision: 0.49\\nrecall: 0.813\", \"variable\": \"recall\", \"value\": 0.812822402358143}, {\"threshold\": 0.7142857142857142, \"label\": \"threshold: 0.714\\nprecision: 0.489\\nrecall: 0.81\", \"variable\": \"recall\", \"value\": 0.8098747236551216}, {\"threshold\": 0.7346938775510203, \"label\": \"threshold: 0.735\\nprecision: 0.488\\nrecall: 0.805\", \"variable\": \"recall\", \"value\": 0.8047162859248342}, {\"threshold\": 0.7551020408163265, \"label\": \"threshold: 0.755\\nprecision: 0.488\\nrecall: 0.803\", \"variable\": \"recall\", \"value\": 0.8025055268975682}, {\"threshold\": 0.7755102040816326, \"label\": \"threshold: 0.776\\nprecision: 0.487\\nrecall: 0.798\", \"variable\": \"recall\", \"value\": 0.7980840088430361}, {\"threshold\": 0.7959183673469387, \"label\": \"threshold: 0.796\\nprecision: 0.487\\nrecall: 0.797\", \"variable\": \"recall\", \"value\": 0.7973470891672808}, {\"threshold\": 0.8163265306122448, \"label\": \"threshold: 0.816\\nprecision: 0.486\\nrecall: 0.792\", \"variable\": \"recall\", \"value\": 0.7921886514369934}, {\"threshold\": 0.836734693877551, \"label\": \"threshold: 0.837\\nprecision: 0.487\\nrecall: 0.787\", \"variable\": \"recall\", \"value\": 0.787030213706706}, {\"threshold\": 0.8571428571428571, \"label\": \"threshold: 0.857\\nprecision: 0.488\\nrecall: 0.783\", \"variable\": \"recall\", \"value\": 0.782608695652174}, {\"threshold\": 0.8775510204081632, \"label\": \"threshold: 0.878\\nprecision: 0.487\\nrecall: 0.781\", \"variable\": \"recall\", \"value\": 0.7811348563006633}, {\"threshold\": 0.8979591836734693, \"label\": \"threshold: 0.898\\nprecision: 0.488\\nrecall: 0.777\", \"variable\": \"recall\", \"value\": 0.7774502579218865}, {\"threshold\": 0.9183673469387754, \"label\": \"threshold: 0.918\\nprecision: 0.486\\nrecall: 0.769\", \"variable\": \"recall\", \"value\": 0.7693441414885778}, {\"threshold\": 0.9387755102040816, \"label\": \"threshold: 0.939\\nprecision: 0.484\\nrecall: 0.757\", \"variable\": \"recall\", \"value\": 0.7568165070007369}, {\"threshold\": 0.9591836734693877, \"label\": \"threshold: 0.959\\nprecision: 0.482\\nrecall: 0.746\", \"variable\": \"recall\", \"value\": 0.7457627118644068}, {\"threshold\": 0.9795918367346939, \"label\": \"threshold: 0.98\\nprecision: 0.477\\nrecall: 0.721\", \"variable\": \"recall\", \"value\": 0.7214443625644805}, {\"threshold\": 1.0, \"label\": \"threshold: 1.0\\nprecision: 0.111\\nrecall: 0.063\", \"variable\": \"recall\", \"value\": 0.06337509211495947}, {\"threshold\": 0.0, \"label\": \"threshold: 0.0\\nprecision: 0.482\\nrecall: 1.0\", \"variable\": \"precision\", \"value\": 0.48206039076376556}, {\"threshold\": 0.02040816326530612, \"label\": \"threshold: 0.02\\nprecision: 0.5\\nrecall: 0.929\", \"variable\": \"precision\", \"value\": 0.5003971405877681}, {\"threshold\": 0.04081632653061224, \"label\": \"threshold: 0.041\\nprecision: 0.5\\nrecall: 0.914\", \"variable\": \"precision\", \"value\": 0.5}, {\"threshold\": 0.061224489795918366, \"label\": \"threshold: 0.061\\nprecision: 0.499\\nrecall: 0.903\", \"variable\": \"precision\", \"value\": 0.49877949552481693}, {\"threshold\": 0.08163265306122448, \"label\": \"threshold: 0.082\\nprecision: 0.498\\nrecall: 0.894\", \"variable\": \"precision\", \"value\": 0.4975389663658737}, {\"threshold\": 0.1020408163265306, \"label\": \"threshold: 0.102\\nprecision: 0.495\\nrecall: 0.884\", \"variable\": \"precision\", \"value\": 0.4952498967368856}, {\"threshold\": 0.12244897959183673, \"label\": \"threshold: 0.122\\nprecision: 0.495\\nrecall: 0.88\", \"variable\": \"precision\", \"value\": 0.49502487562189057}, {\"threshold\": 0.14285714285714285, \"label\": \"threshold: 0.143\\nprecision: 0.494\\nrecall: 0.875\", \"variable\": \"precision\", \"value\": 0.4941715237302248}, {\"threshold\": 0.16326530612244897, \"label\": \"threshold: 0.163\\nprecision: 0.494\\nrecall: 0.865\", \"variable\": \"precision\", \"value\": 0.49369217830109335}, {\"threshold\": 0.18367346938775508, \"label\": \"threshold: 0.184\\nprecision: 0.494\\nrecall: 0.864\", \"variable\": \"precision\", \"value\": 0.49409780775716694}, {\"threshold\": 0.2040816326530612, \"label\": \"threshold: 0.204\\nprecision: 0.494\\nrecall: 0.861\", \"variable\": \"precision\", \"value\": 0.49387410223912126}, {\"threshold\": 0.22448979591836732, \"label\": \"threshold: 0.224\\nprecision: 0.493\\nrecall: 0.859\", \"variable\": \"precision\", \"value\": 0.49323181049069376}, {\"threshold\": 0.24489795918367346, \"label\": \"threshold: 0.245\\nprecision: 0.492\\nrecall: 0.856\", \"variable\": \"precision\", \"value\": 0.49236641221374045}, {\"threshold\": 0.26530612244897955, \"label\": \"threshold: 0.265\\nprecision: 0.493\\nrecall: 0.855\", \"variable\": \"precision\", \"value\": 0.4927782497875956}, {\"threshold\": 0.2857142857142857, \"label\": \"threshold: 0.286\\nprecision: 0.492\\nrecall: 0.852\", \"variable\": \"precision\", \"value\": 0.49212430821626224}, {\"threshold\": 0.3061224489795918, \"label\": \"threshold: 0.306\\nprecision: 0.492\\nrecall: 0.851\", \"variable\": \"precision\", \"value\": 0.49232736572890023}, {\"threshold\": 0.32653061224489793, \"label\": \"threshold: 0.327\\nprecision: 0.492\\nrecall: 0.849\", \"variable\": \"precision\", \"value\": 0.49230769230769234}, {\"threshold\": 0.3469387755102041, \"label\": \"threshold: 0.347\\nprecision: 0.492\\nrecall: 0.847\", \"variable\": \"precision\", \"value\": 0.49207708779443254}, {\"threshold\": 0.36734693877551017, \"label\": \"threshold: 0.367\\nprecision: 0.492\\nrecall: 0.847\", \"variable\": \"precision\", \"value\": 0.4922879177377892}, {\"threshold\": 0.3877551020408163, \"label\": \"threshold: 0.388\\nprecision: 0.492\\nrecall: 0.841\", \"variable\": \"precision\", \"value\": 0.49223468507333906}, {\"threshold\": 0.4081632653061224, \"label\": \"threshold: 0.408\\nprecision: 0.491\\nrecall: 0.836\", \"variable\": \"precision\", \"value\": 0.4906966681090437}, {\"threshold\": 0.42857142857142855, \"label\": \"threshold: 0.429\\nprecision: 0.491\\nrecall: 0.833\", \"variable\": \"precision\", \"value\": 0.49066435084672166}, {\"threshold\": 0.44897959183673464, \"label\": \"threshold: 0.449\\nprecision: 0.49\\nrecall: 0.831\", \"variable\": \"precision\", \"value\": 0.49}, {\"threshold\": 0.4693877551020408, \"label\": \"threshold: 0.469\\nprecision: 0.49\\nrecall: 0.829\", \"variable\": \"precision\", \"value\": 0.49019607843137253}, {\"threshold\": 0.4897959183673469, \"label\": \"threshold: 0.49\\nprecision: 0.49\\nrecall: 0.828\", \"variable\": \"precision\", \"value\": 0.4899650959860384}, {\"threshold\": 0.5102040816326531, \"label\": \"threshold: 0.51\\nprecision: 0.491\\nrecall: 0.825\", \"variable\": \"precision\", \"value\": 0.49122807017543857}, {\"threshold\": 0.5306122448979591, \"label\": \"threshold: 0.531\\nprecision: 0.491\\nrecall: 0.824\", \"variable\": \"precision\", \"value\": 0.49142857142857144}, {\"threshold\": 0.5510204081632653, \"label\": \"threshold: 0.551\\nprecision: 0.492\\nrecall: 0.824\", \"variable\": \"precision\", \"value\": 0.4916446789797713}, {\"threshold\": 0.5714285714285714, \"label\": \"threshold: 0.571\\nprecision: 0.492\\nrecall: 0.824\", \"variable\": \"precision\", \"value\": 0.4916446789797713}, {\"threshold\": 0.5918367346938775, \"label\": \"threshold: 0.592\\nprecision: 0.491\\nrecall: 0.821\", \"variable\": \"precision\", \"value\": 0.4907488986784141}, {\"threshold\": 0.6122448979591836, \"label\": \"threshold: 0.612\\nprecision: 0.49\\nrecall: 0.817\", \"variable\": \"precision\", \"value\": 0.4900574458683164}, {\"threshold\": 0.6326530612244897, \"label\": \"threshold: 0.633\\nprecision: 0.49\\nrecall: 0.817\", \"variable\": \"precision\", \"value\": 0.4902740937223696}, {\"threshold\": 0.6530612244897959, \"label\": \"threshold: 0.653\\nprecision: 0.49\\nrecall: 0.816\", \"variable\": \"precision\", \"value\": 0.48982300884955754}, {\"threshold\": 0.673469387755102, \"label\": \"threshold: 0.673\\nprecision: 0.49\\nrecall: 0.816\", \"variable\": \"precision\", \"value\": 0.49047408063801506}, {\"threshold\": 0.6938775510204082, \"label\": \"threshold: 0.694\\nprecision: 0.49\\nrecall: 0.813\", \"variable\": \"precision\", \"value\": 0.4897868561278863}, {\"threshold\": 0.7142857142857142, \"label\": \"threshold: 0.714\\nprecision: 0.489\\nrecall: 0.81\", \"variable\": \"precision\", \"value\": 0.4888790035587189}, {\"threshold\": 0.7346938775510203, \"label\": \"threshold: 0.735\\nprecision: 0.488\\nrecall: 0.805\", \"variable\": \"precision\", \"value\": 0.48771773112996875}, {\"threshold\": 0.7551020408163265, \"label\": \"threshold: 0.755\\nprecision: 0.488\\nrecall: 0.803\", \"variable\": \"precision\", \"value\": 0.4876847290640394}, {\"threshold\": 0.7755102040816326, \"label\": \"threshold: 0.776\\nprecision: 0.487\\nrecall: 0.798\", \"variable\": \"precision\", \"value\": 0.4865229110512129}, {\"threshold\": 0.7959183673469387, \"label\": \"threshold: 0.796\\nprecision: 0.487\\nrecall: 0.797\", \"variable\": \"precision\", \"value\": 0.48672964462438145}, {\"threshold\": 0.8163265306122448, \"label\": \"threshold: 0.816\\nprecision: 0.486\\nrecall: 0.792\", \"variable\": \"precision\", \"value\": 0.485546522131888}, {\"threshold\": 0.836734693877551, \"label\": \"threshold: 0.837\\nprecision: 0.487\\nrecall: 0.787\", \"variable\": \"precision\", \"value\": 0.48722627737226276}, {\"threshold\": 0.8571428571428571, \"label\": \"threshold: 0.857\\nprecision: 0.488\\nrecall: 0.783\", \"variable\": \"precision\", \"value\": 0.48760330578512395}, {\"threshold\": 0.8775510204081632, \"label\": \"threshold: 0.878\\nprecision: 0.487\\nrecall: 0.781\", \"variable\": \"precision\", \"value\": 0.48735632183908045}, {\"threshold\": 0.8979591836734693, \"label\": \"threshold: 0.898\\nprecision: 0.488\\nrecall: 0.777\", \"variable\": \"precision\", \"value\": 0.48752310536044363}, {\"threshold\": 0.9183673469387754, \"label\": \"threshold: 0.918\\nprecision: 0.486\\nrecall: 0.769\", \"variable\": \"precision\", \"value\": 0.48580735225686367}, {\"threshold\": 0.9387755102040816, \"label\": \"threshold: 0.939\\nprecision: 0.484\\nrecall: 0.757\", \"variable\": \"precision\", \"value\": 0.4835216572504708}, {\"threshold\": 0.9591836734693877, \"label\": \"threshold: 0.959\\nprecision: 0.482\\nrecall: 0.746\", \"variable\": \"precision\", \"value\": 0.48236415633937085}, {\"threshold\": 0.9795918367346939, \"label\": \"threshold: 0.98\\nprecision: 0.477\\nrecall: 0.721\", \"variable\": \"precision\", \"value\": 0.47663096397273613}, {\"threshold\": 1.0, \"label\": \"threshold: 1.0\\nprecision: 0.111\\nrecall: 0.063\", \"variable\": \"precision\", \"value\": 0.11096774193548387}]}}, {\"mode\": \"vega-lite\"});\n",
              "</script>"
            ]
          },
          "metadata": {},
          "execution_count": 42
        }
      ]
    },
    {
      "cell_type": "code",
      "metadata": {
        "id": "y_5_UQNOXygU"
      },
      "source": [
        ""
      ],
      "execution_count": null,
      "outputs": []
    }
  ]
}